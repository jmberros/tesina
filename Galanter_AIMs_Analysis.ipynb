{
 "cells": [
  {
   "cell_type": "markdown",
   "metadata": {},
   "source": [
    "# General settings and loading of files"
   ]
  },
  {
   "cell_type": "code",
   "execution_count": null,
   "metadata": {
    "collapsed": false
   },
   "outputs": [],
   "source": [
    "import numpy as np\n",
    "import matplotlib as mpl\n",
    "import matplotlib.pyplot as plt\n",
    "import pandas as pd\n",
    "import scipy as sp\n",
    "\n",
    "from IPython.display import display, Math, Latex\n",
    "from matplotlib import cm\n",
    "\n",
    "% matplotlib inline\n",
    "% load_ext autoreload\n",
    "% autoreload 2\n",
    "\n",
    "pd.options.display.max_columns = 40  # Affy csv has 30 fields\n",
    "pd.options.display.mpl_style = 'default'\n",
    "\n",
    "mpl.rc('figure', figsize=(13, 7))\n",
    "mpl.rc('axes', titlesize=17, labelsize=14)\n",
    "mpl.rc('xtick', labelsize=11)\n",
    "mpl.rc('ytick', labelsize=11)\n",
    "mpl.rc('font', family='serif')\n",
    "mpl.rc('legend', fontsize=15)"
   ]
  },
  {
   "cell_type": "code",
   "execution_count": null,
   "metadata": {
    "collapsed": true
   },
   "outputs": [],
   "source": [
    "%run helpers/data_munging_functions.py\n",
    "%run helpers/number_helpers.py"
   ]
  },
  {
   "cell_type": "code",
   "execution_count": null,
   "metadata": {
    "collapsed": false
   },
   "outputs": [],
   "source": [
    "%run discriminate_present_vs_missing.py\n",
    "\n",
    "GALANTER_CSV = '~/tesina/galanter_SNPs.csv'\n",
    "LAT1_CSV = '~/tesina/affy-LAT1/Axiom_GW_LAT.na35.annot.csv'  # 1.1Gb file!\n",
    "# Smaller file for testing:\n",
    "# LAT1_CSV_SMALL = \"affy-LAT1/Axiom_GW_LAT.na35.annot.TRUNCATED.csv\"\n",
    "\n",
    "galanter, present, missing = discriminate_present_vs_missing(\n",
    "    GALANTER_CSV, LAT1_CSV, dumpdir=\"dumpfiles\")"
   ]
  },
  {
   "cell_type": "code",
   "execution_count": null,
   "metadata": {
    "collapsed": false
   },
   "outputs": [],
   "source": [
    "print(\"{} Galanter AIMs\".format(len(galanter)))\n",
    "print(\"{} present in LAT\".format(len(present)))\n",
    "print(\"{} missing in LAT\".format(len(missing)))"
   ]
  },
  {
   "cell_type": "code",
   "execution_count": null,
   "metadata": {
    "collapsed": false
   },
   "outputs": [],
   "source": [
    "HUMAN_GENOME = '/home/juan/tesina/human_genome.txt'\n",
    "genome = pd.read_csv(HUMAN_GENOME, delimiter=\"\\t\")\n",
    "centromere_info = genome['centromere'].apply(lambda e: pd.Series(e.split(',')).astype(int))\n",
    "genome = genome.drop('centromere', axis=1)\n",
    "genome = pd.concat([genome, centromere_info], axis=1)\n",
    "genome = genome.set_index('ID')\n",
    "genome.columns = ['length', 'centromere_start', 'centromere_end']\n",
    "genome = genome.drop(['X', 'Y'])\n",
    "genome.index = genome.index.rename('chr')\n",
    "genome.index = genome.index.astype(int)  # This only works after removing X and Y"
   ]
  },
  {
   "cell_type": "markdown",
   "metadata": {},
   "source": [
    "### Distancias entre los AIMs por cromosoma"
   ]
  },
  {
   "cell_type": "code",
   "execution_count": null,
   "metadata": {
    "collapsed": false
   },
   "outputs": [],
   "source": [
    "% run SNP_distances_plots.py\n",
    "\n",
    "galanter_vs_present_mean_distance_plot(galanter, present, genome)\n",
    "plt.show()"
   ]
  },
  {
   "cell_type": "markdown",
   "metadata": {},
   "source": [
    "#### Discusión\n",
    "\n",
    "* Las distancias medias son mucho mayores en $Galanter_{LAT}$ que en $Galanter_{all}$. En casos extremos, llega a más de 20 Mpb promedio entre AIMs, cuando esas distancias promedio no superan los 8 Mpb en el panel original."
   ]
  },
  {
   "cell_type": "code",
   "execution_count": null,
   "metadata": {
    "collapsed": false
   },
   "outputs": [],
   "source": [
    "% run data_munging/distances.py\n",
    "\n",
    "galanter_vs_present_median_distance_plot(galanter, present, genome)\n",
    "plt.show()"
   ]
  },
  {
   "cell_type": "markdown",
   "metadata": {},
   "source": [
    "### Discusión\n",
    "\n",
    "__Nota__: hay un solo AIM en Galanter para el cromosoma 19, de modo que no se grafican distancias.\n",
    "\n",
    "* En algunos casos extremos, hay hasta 1.4 Mpb (cromosoma 1) y 1 Mpb (cromosoma 8) de distancia entre dos AIMs contiguos."
   ]
  },
  {
   "cell_type": "code",
   "execution_count": null,
   "metadata": {
    "collapsed": false
   },
   "outputs": [],
   "source": [
    "% run data_munging/distances.py\n",
    "\n",
    "ax1 = plt.subplot(211)\n",
    "ax1 = distances_boxplot(present, genome, ax=ax1, showfliers=False, showmeans=True,\n",
    "                        title=r\"Distancia entre AIMs en $Galanter_{IN}$\")\n",
    "\n",
    "ax2 = plt.subplot(212, sharey=ax1)\n",
    "ax2 = distances_boxplot(galanter, genome, ax=ax2, showfliers=False, showmeans=True,\n",
    "                        title=r\"Distancia entre AIMs en $Galanter_{TOTAL}$\")\n",
    "\n",
    "f = ax2.figure\n",
    "f.set_figheight(17)\n",
    "f.set_figwidth(16)\n",
    "\n",
    "plt.show()"
   ]
  },
  {
   "cell_type": "markdown",
   "metadata": {},
   "source": [
    "**DISCUSIÓN**\n",
    "\n",
    "- Hay un incremento evidente en las distancias medias y las medianas de distancias entre AIMs al quitar todos los AIMs ausentes en LAT-1. En general se puede observar que en $GALANTER_{IN}$ casi todas las medianas superan las 10 Mb de distancia entre AIMs, mientras que en $GALANTER_{TOTAL}$ todas se mantienen por debajo de ese valor, rondando más bien las 5 Mb.\n",
    "- Con los outliers (`showfliers=True`) la diferencia se agranda aún más."
   ]
  },
  {
   "cell_type": "code",
   "execution_count": null,
   "metadata": {
    "collapsed": false
   },
   "outputs": [],
   "source": [
    "% run data_munging/distances.py\n",
    "% run stats_tests.py\n",
    "\n",
    "df = snp_distances(galanter, present, genome)\n",
    "t_test(df['mean_distance_galanter'], df['mean_distance_present'])"
   ]
  },
  {
   "cell_type": "code",
   "execution_count": null,
   "metadata": {
    "collapsed": false
   },
   "outputs": [],
   "source": [
    "format_numbers(genome)"
   ]
  },
  {
   "cell_type": "code",
   "execution_count": null,
   "metadata": {
    "collapsed": false
   },
   "outputs": [],
   "source": [
    "% run chromosomes_with_SNPs_plot.py\n",
    "\n",
    "from collections import OrderedDict\n",
    "\n",
    "\n",
    "plot_data = OrderedDict([\n",
    "    ('AIMs de GALANTER-OUT',\n",
    "     {'df': missing, 'marker': 's', 's': 7, 'color': 'tomato'}),\n",
    "        \n",
    "    ('AIMs de AFR en GALANTER-IN',\n",
    "     {'df': present[present.population == \"AFR\"],\n",
    "      'marker': '|', 'color': 'forestGreen', 's': 600}),\n",
    "        \n",
    "    ('AIMs de EUR en GALANTER-IN',\n",
    "     {'df': present[present.population == \"EUR\"],\n",
    "      'marker': '|', 'color': 'forestGreen', 's': 600}),\n",
    "        \n",
    "    ('AIMs de NAM en GALANTER-IN',\n",
    "     {'df': present[present.population == \"NAM\"],\n",
    "      'marker': '|', 'color': 'forestGreen', 's': 600}),\n",
    "])\n",
    "\n",
    "chromosomes_with_SNPs_plot(genome, plot_data)\n",
    "plt.show()"
   ]
  },
  {
   "cell_type": "code",
   "execution_count": null,
   "metadata": {
    "collapsed": false
   },
   "outputs": [],
   "source": [
    "% run chromosomes_with_SNPs_plot.py\n",
    "\n",
    "from collections import OrderedDict\n",
    "\n",
    "\n",
    "plot_data = OrderedDict([\n",
    "    ('AIMs de GALANTER-OUT',\n",
    "     {'df': missing, 'marker': 's', 's': 7, 'color': 'tomato'}),\n",
    "        \n",
    "    ('AIMs de AFR en GALANTER-IN',\n",
    "     {'df': present[present.population == \"AFR\"],\n",
    "      'marker': '|', 'color': 'brown', 's': 600}),\n",
    "        \n",
    "    ('AIMs de EUR en GALANTER-IN',\n",
    "     {'df': present[present.population == \"EUR\"],\n",
    "      'marker': '|', 'color': 'indigo', 's': 600}),\n",
    "        \n",
    "    ('AIMs de NAM en GALANTER-IN',\n",
    "     {'df': present[present.population == \"NAM\"],\n",
    "      'marker': '|', 'color': 'forestGreen', 's': 600}),\n",
    "])\n",
    "\n",
    "chromosomes_with_SNPs_plot(genome, plot_data)\n",
    "plt.show()"
   ]
  },
  {
   "cell_type": "code",
   "execution_count": null,
   "metadata": {
    "collapsed": false
   },
   "outputs": [],
   "source": [
    "def pop_counts(df):\n",
    "    return df.groupby(['chr', 'population']).size().unstack().fillna('>> 0 <<')\n",
    "\n",
    "df = pd.merge(pop_counts(galanter), pop_counts(present),\n",
    "         left_index=True, right_index=True,\n",
    "         suffixes=['_TOTAL', '_IN'])\n",
    "\n",
    "df.columns = pd.MultiIndex.from_product([['$GALANTER_{TOTAL}$', '$GALANTER_{IN}$'],\n",
    "                                         ['AFR', 'EUR', 'NAM']])\n",
    "df"
   ]
  },
  {
   "cell_type": "markdown",
   "metadata": {},
   "source": [
    "**DISCUSIÓN**\n",
    "\n",
    "La reducción de AIMs en GALANTER-IN determina que ciertos cromosomas no tengan ningún AIM de una población determinada:\n",
    "\n",
    "- En el cromosoma 12 se perdieron los 3 AIMs de NAM.\n",
    "- En el cromosoma 20 se perdió el único AIM de AFR.\n",
    "- En el cromosoma 22 se perdieron los 2 AIMs de EUR."
   ]
  },
  {
   "cell_type": "markdown",
   "metadata": {},
   "source": [
    "## Diferenciar por población de referencia, present vs galanter"
   ]
  },
  {
   "cell_type": "code",
   "execution_count": null,
   "metadata": {
    "collapsed": false
   },
   "outputs": [],
   "source": [
    "% run superpopulation_ratios_plot.py\n",
    "\n",
    "superpopulation_ratios_plot(galanter, present)\n",
    "superpopulation_count_plot(present, missing)\n",
    "\n",
    "plt.show()"
   ]
  },
  {
   "cell_type": "markdown",
   "metadata": {},
   "source": [
    "**DISCUSIÓN**\n",
    "\n",
    "* Los AIMs de Galaner presentes en LAT-1 tienen proporciones poblacionales diferentes a las proporciones del total del panel. En $Galanter_{IN}$\n",
    "    - la proporción de AFR es .08 mayor\n",
    "    - la proporción de EUR es .06 menor\n",
    "    - la proporción de NAM es .03 menor\n",
    "* Problema: El hecho de que nos quedemos con más AFR en proporción y menos EUR afectará la predición?"
   ]
  },
  {
   "cell_type": "markdown",
   "metadata": {
    "collapsed": true
   },
   "source": [
    "# Comparar Galanter con la data de 1000Genomes"
   ]
  },
  {
   "cell_type": "code",
   "execution_count": null,
   "metadata": {
    "collapsed": true
   },
   "outputs": [],
   "source": [
    "# %load /home/juan/tesina/1000genomes/ftp_download_1000_genomes.py"
   ]
  },
  {
   "cell_type": "code",
   "execution_count": null,
   "metadata": {
    "collapsed": false
   },
   "outputs": [],
   "source": [
    "% run extract_SNPs_from_vcf_chromosomes.py\n",
    "\n",
    "commands = extract_SNPs_from_vcf(galanter.index.values)\n",
    "\n",
    "# One time only run, to extract the SNPs out of the big chromosome files of 1000genomes:\n",
    "# run_commands(commands, \"/home/juan/tesina/1000genomes\")"
   ]
  },
  {
   "cell_type": "code",
   "execution_count": null,
   "metadata": {
    "collapsed": true
   },
   "outputs": [],
   "source": [
    "# !rm dumpfiles/galanter_at_1000genomes.csv\n",
    "# !rm dumpfiles/galanter_snps_frequencies_in_1000genomes.csv"
   ]
  },
  {
   "cell_type": "code",
   "execution_count": null,
   "metadata": {
    "collapsed": false
   },
   "outputs": [],
   "source": [
    "df_1000genomes.head(5)"
   ]
  },
  {
   "cell_type": "code",
   "execution_count": null,
   "metadata": {
    "collapsed": false
   },
   "outputs": [],
   "source": [
    "samples.head(5)"
   ]
  },
  {
   "cell_type": "code",
   "execution_count": null,
   "metadata": {
    "collapsed": false
   },
   "outputs": [],
   "source": [
    "%run read_1000genomes_data.py\n",
    "%run read_samples_data.py\n",
    "\n",
    "samples_file = \"/home/juan/tesina/1000genomes/integrated_call_samples_v3.20130502.ALL.panel\"\n",
    "samples = read_samples_data(samples_file)\n",
    "\n",
    "dumpfile = \"dumpfiles/galanter_at_1000genomes.csv\"\n",
    "df_1000genomes = get_or_create_1000genomes_df(dumpfile)\n",
    "\n",
    "dumpfile = \"dumpfiles/galanter_snps_frequencies_in_1000genomes.csv\"\n",
    "frequencies_1000g = get_or_create_1000g_frequencies_df(dumpfile, df_1000genomes, samples)"
   ]
  },
  {
   "cell_type": "code",
   "execution_count": null,
   "metadata": {
    "collapsed": false
   },
   "outputs": [],
   "source": [
    "frequencies_1000g.head(5)"
   ]
  },
  {
   "cell_type": "markdown",
   "metadata": {},
   "source": [
    "Ejemplo de la data de subpoblaciones que busco, para rs2585897:\n",
    "\n",
    "http://browser.1000genomes.org/Homo_sapiens/Variation/Population?db=core;r=13:21398479-21399479;v=rs2585897;vdb=variation;vf=2188197"
   ]
  },
  {
   "cell_type": "markdown",
   "metadata": {},
   "source": [
    "### Comparar SNPs"
   ]
  },
  {
   "cell_type": "code",
   "execution_count": null,
   "metadata": {
    "collapsed": false
   },
   "outputs": [],
   "source": [
    "print(\"1000 Genomas:\", len(df_1000genomes))\n",
    "print(\"Galanter panel:\", len(galanter))"
   ]
  },
  {
   "cell_type": "markdown",
   "metadata": {},
   "source": [
    "**NOTA** sobre los 4 SNPs que faltan\n",
    "- un SNP tiene mal el cromosoma en Galanter\n",
    "- en el proceso de leer la data de 1000 genomas estoy dejando afuera tres SNPs, porque tienen más de 2 variantes."
   ]
  },
  {
   "cell_type": "code",
   "execution_count": null,
   "metadata": {
    "collapsed": false
   },
   "outputs": [],
   "source": [
    "missing_in_1000g = set(galanter.index) - set(df_1000genomes.index)\n",
    "galanter.loc[missing_in_1000g]"
   ]
  },
  {
   "cell_type": "markdown",
   "metadata": {
    "collapsed": true
   },
   "source": [
    "### Ver qué subpoblaciones se van en $Galanter_{missing}$ y cuáles quedan"
   ]
  },
  {
   "cell_type": "code",
   "execution_count": null,
   "metadata": {
    "collapsed": false
   },
   "outputs": [],
   "source": [
    "%run population_names.py\n",
    "\n",
    "dumpfile = \"dumpfiles/population_names.csv\"\n",
    "population_names = create_population_names_df(dumpfile)"
   ]
  },
  {
   "cell_type": "code",
   "execution_count": null,
   "metadata": {
    "collapsed": false
   },
   "outputs": [],
   "source": [
    "population_names.columns"
   ]
  },
  {
   "cell_type": "code",
   "execution_count": null,
   "metadata": {
    "collapsed": false,
    "scrolled": false
   },
   "outputs": [],
   "source": [
    "population_names[population_names.index.str.startswith('A')]"
   ]
  },
  {
   "cell_type": "code",
   "execution_count": null,
   "metadata": {
    "collapsed": false
   },
   "outputs": [],
   "source": [
    "def whois(pop_code):\n",
    "    return population_names.loc[pop_code]['Population Description']\n",
    "\n",
    "whois('ACB')"
   ]
  },
  {
   "cell_type": "code",
   "execution_count": null,
   "metadata": {
    "collapsed": false
   },
   "outputs": [],
   "source": [
    "df_1000genomes.REF.value_counts() #.loc['rs6685064':'rs6685064']"
   ]
  },
  {
   "cell_type": "code",
   "execution_count": null,
   "metadata": {
    "collapsed": false
   },
   "outputs": [],
   "source": [
    "galanter.join(frequencies_1000g)[list(populations_to_plot)].loc['rs6685064':'rs6685064']"
   ]
  },
  {
   "cell_type": "code",
   "execution_count": null,
   "metadata": {
    "collapsed": false
   },
   "outputs": [],
   "source": [
    "present[present.population == 'NAM']"
   ]
  },
  {
   "cell_type": "code",
   "execution_count": null,
   "metadata": {
    "collapsed": false
   },
   "outputs": [],
   "source": [
    "% run analyze_populations_in_galanter.py\n",
    "\n",
    "populations_to_plot = set(samples.population.unique()) | \\\n",
    "                      set(samples.super_population.unique())\n",
    "    \n",
    "# dfs = {'$Galanter_{OUT}$': missing,\n",
    "dfs = {'$Galanter_{IN}$': present,\n",
    "       '$Galanter_{TOTAL}$': galanter}\n",
    "\n",
    "for name, df in dfs.items():\n",
    "    ax = boxplot_freqs_by_populations(\n",
    "        df.join(frequencies_1000g), populations_to_plot,\n",
    "        title=\"Promedio de frecuencias alélicas en {}, por población\".format(name),\n",
    "    )\n",
    "    ax.tick_params(axis='both', which='major', labelsize=14)\n",
    "\n",
    "    [bar.set_color('coral') for bar in ax.patches[-5:]]\n",
    "    plt.show()"
   ]
  },
  {
   "cell_type": "markdown",
   "metadata": {},
   "source": [
    "#### Discusión\n",
    "\n",
    "**NOTA**: Los promedios de las superpoblaciones AFR, AMR, EUR, según 1000 Genomas para estos SNPs no coinciden con los mismos promedios de las frecuencias que figuran en Galanter.\n",
    "\n",
    "* El panel completo $Galanter_{TOTAL}$ está balanceado en cuanto a frecuencias alélicas por población: la mayoría se ubica en un promedio de alrededor de 0.57, para cada subpoblación, con un desvío muy bajo: 0.013.\n",
    "* Ninguna subpoblación parece haber sido afectada en particular por la subselección de SNPs en $Galanter_{IN}$. Todas las frecuencias alélicas se mantienen entre 0.5 y 0.6, rango que incluye también a todas las frecuencias por subpoblación del panel original.\n",
    "\n",
    "* **DUDA**: no entiendo por qué si todas las frecuencias de subpoblaciones son ~.56, las frecuencias continentales son más bajas, ~.45"
   ]
  },
  {
   "cell_type": "code",
   "execution_count": null,
   "metadata": {
    "collapsed": false
   },
   "outputs": [],
   "source": [
    "fig, axes = plt.subplots(1, 2, sharey=False)\n",
    "titles = (\"$Galanter_{TOTAL}$\", \"$Galanter_{IN}$\" )\n",
    "\n",
    "for i, df in enumerate([galanter, present]):\n",
    "    ax = axes[i]\n",
    "    df[['NAM_AF', 'EUR_AF', 'AFR_AF']].boxplot(ax=ax, rot=0, showmeans=True)\n",
    "    ax = axes[i]\n",
    "    ax.set_title(titles[i])\n",
    "    ax.set_ylim([-0.01, 1.01])\n",
    "    ax.axhline(0.5, color='salmon', linestyle='--')\n",
    "\n",
    "fig.set_figheight(5)\n",
    "plt.show()"
   ]
  },
  {
   "cell_type": "markdown",
   "metadata": {},
   "source": [
    "**DISCUSIÓN**\n",
    "\n",
    "- Si bien la frecuencia de los AIMs africanos es mayor en IN que en TOTAL, no parece haber cambios significativos entre ambos paneles.\n",
    "- Se evidencia una propiedad del panel de Galanter en general, que afecta también al subconjunto GALANTER-IN: todos los AIMs etiquetados como NAM tienen frecuencias bajas."
   ]
  },
  {
   "cell_type": "code",
   "execution_count": null,
   "metadata": {
    "collapsed": false
   },
   "outputs": [],
   "source": [
    "% run helpers/text_helpers.py\n",
    "\n",
    "populations_to_plot = set(samples.population.unique()) | \\\n",
    "                      set(samples.super_population.unique())\n",
    "    \n",
    "get_freqs = lambda df: df.join(frequencies_1000g)[list(populations_to_plot)]\n",
    "\n",
    "chart_width = 5\n",
    "chart_height = 5\n",
    "fig_rows = 18\n",
    "fig_cols = 3\n",
    "\n",
    "fig = plt.figure(figsize=(fig_cols * chart_height, fig_rows * chart_width))\n",
    "\n",
    "for i, population in enumerate(frequencies_1000g.columns[:-6]):\n",
    "    df = pd.DataFrame({'$TOTAL$': get_freqs(galanter)[population],\n",
    "                       '$IN$': get_freqs(present)[population],\n",
    "                       '$OUT$': get_freqs(missing)[population]})\n",
    "\n",
    "    ax = plt.subplot(fig_rows, fig_cols, i+1)\n",
    "    pop_description = population_names.loc[population]['Population Description']\n",
    "    ax.set_title(population + \"\\n\" + trunc_text(pop_description, 30), y=1.05, fontsize=15)    \n",
    "    df.boxplot(ax=ax, showmeans=True, return_type='both')\n",
    "\n",
    "plt.show()"
   ]
  },
  {
   "cell_type": "code",
   "execution_count": null,
   "metadata": {
    "collapsed": true
   },
   "outputs": [],
   "source": []
  },
  {
   "cell_type": "markdown",
   "metadata": {},
   "source": [
    "**DISCUSIÓN**\n",
    "\n",
    "- Las diferencias principales parecen estar en subpoblaciones africanas: YRI, MSL, LWK, GWD, ESN, ACB. En todos los casos mencionados, las frecuencias en GALANTER-IN son menores que en GALANTER-TOTAL."
   ]
  },
  {
   "cell_type": "code",
   "execution_count": null,
   "metadata": {
    "collapsed": false
   },
   "outputs": [],
   "source": [
    "% run stats_tests.py\n",
    "\n",
    "d = {}\n",
    "\n",
    "for i, population in enumerate(frequencies_1000g.columns[:-6]):\n",
    "    df = pd.DataFrame({'$TOTAL$': get_freqs(galanter)[population],\n",
    "                       '$IN$': get_freqs(present)[population],\n",
    "                       '$OUT$': get_freqs(missing)[population]})\n",
    "    \n",
    "    t, p = t_test(df['$TOTAL$'], df['$IN$'])\n",
    "    d[population] = {'t': t, 'p': p}\n",
    "\n",
    "t_tests = pd.DataFrame(d).transpose()\n",
    "t_tests"
   ]
  },
  {
   "cell_type": "markdown",
   "metadata": {},
   "source": [
    "#### t test para comparar las dos series"
   ]
  },
  {
   "cell_type": "code",
   "execution_count": null,
   "metadata": {
    "collapsed": true
   },
   "outputs": [],
   "source": [
    "mean_frequencies = lambda df: frequencies_1000g.loc[df.index].mean()\n",
    "std_frequencies = lambda df: frequencies_1000g.loc[df.index].std()"
   ]
  },
  {
   "cell_type": "code",
   "execution_count": null,
   "metadata": {
    "collapsed": false
   },
   "outputs": [],
   "source": [
    "% run stats_tests.py\n",
    "\n",
    "m(\"$Galanter_{IN}$\")\n",
    "m(n_test(mean_frequencies(present)))\n",
    "print()\n",
    "m(\"$Galanter_{TOTAL}$\")\n",
    "m(n_test(mean_frequencies(galanter)))"
   ]
  },
  {
   "cell_type": "markdown",
   "metadata": {},
   "source": [
    ">the farther away the observed or measured sample mean is from the hypothesized mean, the lower the probability (i.e., the p-value) that the null hypothesis is true.\n",
    "\n",
    "* (?) $Galanter_{total}$ tiene un p-value bajo (0.003), de modo que la $H_0$ no parece verdadera. Es decir, $Galanter_{total}$ no estaría normalmente distribuido.\n",
    "* (?) $Galanter_{missing}$, por otro lado, tiene un p-value más alto (0.08), pero no tanto, de modo que al menos con una confianza del 90% podemos decir que no está normalmente distribuido. (Está bien esto?)\n",
    "* Lo que no entiendo del todo es qué implicaría que sí (o que no) esté normalmente distribuido para el panel de Galanter. La selección de SNPs no es azarosa, por qué habríamos de esperar eso?"
   ]
  },
  {
   "cell_type": "code",
   "execution_count": null,
   "metadata": {
    "collapsed": false
   },
   "outputs": [],
   "source": [
    "% run stats_tests.py\n",
    "\n",
    "# t-test assumes equal variances between the two sets?\n",
    "# se asumen distribuciones normales??\n",
    "\n",
    "for txt in t_test(mean_frequencies(galanter), mean_frequencies(present)):\n",
    "    m(str(txt))"
   ]
  },
  {
   "cell_type": "markdown",
   "metadata": {},
   "source": [
    "$p > t$\n",
    "\n",
    "Si la $H_0$ es que ambas medias son estadíticamente iguales, entonces se confirmó?"
   ]
  },
  {
   "cell_type": "code",
   "execution_count": null,
   "metadata": {
    "collapsed": false
   },
   "outputs": [],
   "source": [
    "from collections import OrderedDict\n",
    "\n",
    "pd.DataFrame(OrderedDict([\n",
    "    ('$Galanter_{TOTAL}$ mean', mean_frequencies(present)),\n",
    "    ('$Galanter_{IN}$ mean', mean_frequencies(galanter)),\n",
    "    ('$Galanter_{TOTAL}$ std', std_frequencies(present)),\n",
    "    ('$Galanter_{IN}$ std', std_frequencies(galanter))\n",
    "]))"
   ]
  },
  {
   "cell_type": "code",
   "execution_count": null,
   "metadata": {
    "collapsed": false
   },
   "outputs": [],
   "source": [
    "ax = plt.subplot(111)\n",
    "ax.hist(mean_frequencies(galanter), 10, zorder=0, color='steelblue')\n",
    "ax.hist(mean_frequencies(present), 10, ec='k', linewidth=2, alpha=.3,\n",
    "        zorder=1, color='limegreen')\n",
    "ax.legend([\"$Galanter_{TOTAL}$\", \"$Galanter_{IN}$\"], loc='best')\n",
    "ax.figure.set_figheight(4)\n",
    "ax.figure.set_figwidth(7)\n",
    "ax.set_title(\"Histograma de las frecuencias promedio por población\", y=1.05)\n",
    "plt.show()"
   ]
  },
  {
   "cell_type": "markdown",
   "metadata": {},
   "source": [
    "**DISCUSIÓN**\n",
    "\n",
    "* La distribución de frecuencias $Galanter_{IN}$ y $Galanter_{TOTAL}$ parece (_visualmente_) similar.\n",
    "* Además, la diferencia entre las frecuencias promedio por población parece mínima, con excepciones no demasiado alarmantes (siempre menores a $\\pm 0.06$)"
   ]
  },
  {
   "cell_type": "code",
   "execution_count": null,
   "metadata": {
    "collapsed": false
   },
   "outputs": [],
   "source": [
    "import numpy as np\n",
    "from collections import OrderedDict\n",
    "\n",
    "df = pd.DataFrame(OrderedDict([\n",
    "    ('$Galanter_{TOTAL}$', mean_frequencies(galanter)),\n",
    "    ('$Galanter_{IN}$', mean_frequencies(present)),\n",
    "    ('freq_diff', mean_frequencies(galanter) - mean_frequencies(present)),\n",
    "])).sort('$Galanter_{TOTAL}$', ascending=False)\n",
    "\n",
    "df = df.applymap(lambda n: round(n, 2))\n",
    "freq_diff = df.join(population_names[['Population Description', 'Super Population Code']]).fillna('')\n",
    "freq_diff[np.absolute(freq_diff.freq_diff.values) > .05]"
   ]
  },
  {
   "cell_type": "markdown",
   "metadata": {},
   "source": [
    "**DISCUSIÓN**\n",
    "\n",
    "Unas pocas subpoblaciones tienen una diferencia leve entre sus frequencias en GALANTER-TOTAL y GALANTER-IN. Son las de la tabla [33], todas tienen un valor $\\pm 6$ en G-IN respecto de G-TOTAL."
   ]
  },
  {
   "cell_type": "markdown",
   "metadata": {},
   "source": [
    "### Comparar posiciones (Galanter las tiene desplazadas)"
   ]
  },
  {
   "cell_type": "code",
   "execution_count": null,
   "metadata": {
    "collapsed": false
   },
   "outputs": [],
   "source": [
    "positions = galanter[['chr', 'position']].join(df_1000genomes[['CHROM', 'POS']])\n",
    "positions.columns = ['chr_galanter', 'pos_galanter', 'chr_1000g', 'pos_1000g']\n",
    "positions['pos_diff'] = positions['pos_galanter'] - positions['pos_1000g']\n",
    "positions = positions.dropna(axis=0, how='any')\n",
    "positions = positions.applymap(lambda n: int(n))\n",
    "format_numbers(positions.head())"
   ]
  },
  {
   "cell_type": "markdown",
   "metadata": {},
   "source": [
    "**DISCUSIÓN**\n",
    "\n",
    "Las posiciones de la tabla de Galanter para cada SNP difiere del mismo dato obtenido de 1000Genomas, con desplazamientos repetidos para SNPs cercanos y una diferencia que cambia (crece) cada intervalos irregulares. Pareciera que se agregaron nuevas secuencias de \"genoma\" al genoma humano?"
   ]
  },
  {
   "cell_type": "markdown",
   "metadata": {},
   "source": [
    "### Comparación de la \"heterocigosidad\""
   ]
  },
  {
   "cell_type": "code",
   "execution_count": null,
   "metadata": {
    "collapsed": false
   },
   "outputs": [],
   "source": [
    "galanter_heter = galanter.join(df_1000genomes, rsuffix='_').heterozygosity\n",
    "missing_heter = missing.join(df_1000genomes, rsuffix='_').heterozygosity\n",
    "\n",
    "plt.figure(figsize=(5, 5))\n",
    "ax = plt.subplot(111)\n",
    "ax.boxplot([galanter_heter, missing_heter])\n",
    "ax.set_xticklabels(['$Galanter_{TOTAL}$', '$Galanetr_{IN}$'])\n",
    "ax.set_ylim([0, 1])\n",
    "plt.show()"
   ]
  },
  {
   "cell_type": "markdown",
   "metadata": {},
   "source": [
    "**DISCUSIÓN**\n",
    "\n",
    "Los datos de 1000Genomes incluyen un valor de heterozigosidad. La distribución de esta métrica parece muy similar en ambos paneles."
   ]
  },
  {
   "cell_type": "markdown",
   "metadata": {
    "collapsed": true
   },
   "source": [
    "## Dot plot de frecuencias por población"
   ]
  },
  {
   "cell_type": "code",
   "execution_count": null,
   "metadata": {
    "collapsed": false
   },
   "outputs": [],
   "source": [
    "galanter"
   ]
  },
  {
   "cell_type": "code",
   "execution_count": null,
   "metadata": {
    "collapsed": false
   },
   "outputs": [],
   "source": [
    "import itertools\n",
    "\n",
    "height = 6\n",
    "\n",
    "panels = {'GALANTER-TOTAL': galanter, 'GALANTER-IN': present}\n",
    "populations = ['NAM_AF', 'AFR_AF', 'EUR_AF']\n",
    "colors = {'AFR': 'k', 'EUR': 'b', 'NAM': 'g'}\n",
    "fig = plt.figure(figsize=(17, height * len(panels)))\n",
    "axes = [plt.subplot(2, 3, n+1) for n in range(6)]\n",
    "\n",
    "for panel_label, df in panels.items():\n",
    "    for pop1, pop2 in itertools.combinations(populations, 2):\n",
    "        ax = axes.pop()\n",
    "        ax.scatter(df[pop1], df[pop2], color=[colors[p] for p in df.population])\n",
    "        ax.set_ylim([0, 1])\n",
    "        ax.set_xlim([0, 1])\n",
    "        ax.set_xlabel(pop1.replace('_AF', ''))\n",
    "        ax.set_ylabel(pop2.replace('_AF', ''))\n",
    "        if len(axes) in [4, 1]:\n",
    "            ax.set_title(panel_label, y=1.1)\n",
    "        ax.grid()\n",
    "        ax.axvline(0.5, linestyle='--')\n",
    "        ax.axhline(0.5, linestyle='--')"
   ]
  },
  {
   "cell_type": "markdown",
   "metadata": {},
   "source": [
    "**DISCUSIÓN**:\n",
    "\n",
    "- Los SNPs utilizados para inferir ancestría AFR y EUR son 'excluyentes': cuando un SNP tiene alta frecuencia en poblaciones africanas, tiene baja frecuencia en europeos, y viceversa.\n",
    "- Con respecto a los SNPs utilizados para inferir ancestría NAM, tienen una particularidad: son de alta frecuencia tanto en poblaciones africanas como europeas. Del todo el panel, parecen destacarse por tener altas frecuencias en esas dos poblaciones simultáneamente.\n",
    "- Con respecto a GALANTER-TOTAL vs GALANTER-IN, las distribuciones parecen mantenerse."
   ]
  },
  {
   "cell_type": "code",
   "execution_count": null,
   "metadata": {
    "collapsed": true
   },
   "outputs": [],
   "source": []
  },
  {
   "cell_type": "code",
   "execution_count": null,
   "metadata": {
    "collapsed": true
   },
   "outputs": [],
   "source": []
  },
  {
   "cell_type": "code",
   "execution_count": null,
   "metadata": {
    "collapsed": true
   },
   "outputs": [],
   "source": []
  },
  {
   "cell_type": "code",
   "execution_count": null,
   "metadata": {
    "collapsed": true
   },
   "outputs": [],
   "source": []
  },
  {
   "cell_type": "code",
   "execution_count": null,
   "metadata": {
    "collapsed": true
   },
   "outputs": [],
   "source": []
  },
  {
   "cell_type": "code",
   "execution_count": null,
   "metadata": {
    "collapsed": true
   },
   "outputs": [],
   "source": []
  },
  {
   "cell_type": "code",
   "execution_count": null,
   "metadata": {
    "collapsed": true
   },
   "outputs": [],
   "source": []
  },
  {
   "cell_type": "code",
   "execution_count": null,
   "metadata": {
    "collapsed": true
   },
   "outputs": [],
   "source": []
  },
  {
   "cell_type": "code",
   "execution_count": null,
   "metadata": {
    "collapsed": true
   },
   "outputs": [],
   "source": []
  },
  {
   "cell_type": "code",
   "execution_count": null,
   "metadata": {
    "collapsed": true
   },
   "outputs": [],
   "source": []
  },
  {
   "cell_type": "code",
   "execution_count": null,
   "metadata": {
    "collapsed": true
   },
   "outputs": [],
   "source": []
  },
  {
   "cell_type": "code",
   "execution_count": null,
   "metadata": {
    "collapsed": true
   },
   "outputs": [],
   "source": []
  },
  {
   "cell_type": "code",
   "execution_count": null,
   "metadata": {
    "collapsed": true
   },
   "outputs": [],
   "source": []
  },
  {
   "cell_type": "code",
   "execution_count": null,
   "metadata": {
    "collapsed": true
   },
   "outputs": [],
   "source": []
  },
  {
   "cell_type": "code",
   "execution_count": null,
   "metadata": {
    "collapsed": true
   },
   "outputs": [],
   "source": []
  },
  {
   "cell_type": "code",
   "execution_count": null,
   "metadata": {
    "collapsed": true
   },
   "outputs": [],
   "source": []
  },
  {
   "cell_type": "code",
   "execution_count": null,
   "metadata": {
    "collapsed": true
   },
   "outputs": [],
   "source": []
  }
 ],
 "metadata": {
  "kernelspec": {
   "display_name": "Python 3",
   "language": "python",
   "name": "python3"
  },
  "language_info": {
   "codemirror_mode": {
    "name": "ipython",
    "version": 3
   },
   "file_extension": ".py",
   "mimetype": "text/x-python",
   "name": "python",
   "nbconvert_exporter": "python",
   "pygments_lexer": "ipython3",
   "version": "3.4.0"
  }
 },
 "nbformat": 4,
 "nbformat_minor": 0
}
