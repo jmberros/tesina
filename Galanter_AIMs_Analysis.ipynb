{
 "cells": [
  {
   "cell_type": "code",
   "execution_count": 4,
   "metadata": {
    "collapsed": false
   },
   "outputs": [
    {
     "data": {
      "application/json": {
       "cell": {
        "!": "OSMagics",
        "HTML": "Other",
        "SVG": "Other",
        "bash": "Other",
        "capture": "ExecutionMagics",
        "debug": "ExecutionMagics",
        "file": "Other",
        "html": "DisplayMagics",
        "javascript": "DisplayMagics",
        "latex": "DisplayMagics",
        "perl": "Other",
        "prun": "ExecutionMagics",
        "pypy": "Other",
        "python": "Other",
        "python2": "Other",
        "python3": "Other",
        "ruby": "Other",
        "script": "ScriptMagics",
        "sh": "Other",
        "svg": "DisplayMagics",
        "sx": "OSMagics",
        "system": "OSMagics",
        "time": "ExecutionMagics",
        "timeit": "ExecutionMagics",
        "writefile": "OSMagics"
       },
       "line": {
        "alias": "OSMagics",
        "alias_magic": "BasicMagics",
        "autocall": "AutoMagics",
        "automagic": "AutoMagics",
        "autosave": "KernelMagics",
        "bookmark": "OSMagics",
        "cat": "Other",
        "cd": "OSMagics",
        "clear": "KernelMagics",
        "colors": "BasicMagics",
        "config": "ConfigMagics",
        "connect_info": "KernelMagics",
        "cp": "Other",
        "debug": "ExecutionMagics",
        "dhist": "OSMagics",
        "dirs": "OSMagics",
        "doctest_mode": "BasicMagics",
        "ed": "Other",
        "edit": "KernelMagics",
        "env": "OSMagics",
        "gui": "BasicMagics",
        "hist": "Other",
        "history": "HistoryMagics",
        "install_default_config": "DeprecatedMagics",
        "install_ext": "ExtensionMagics",
        "install_profiles": "DeprecatedMagics",
        "killbgscripts": "ScriptMagics",
        "ldir": "Other",
        "less": "KernelMagics",
        "lf": "Other",
        "lk": "Other",
        "ll": "Other",
        "load": "CodeMagics",
        "load_ext": "ExtensionMagics",
        "loadpy": "CodeMagics",
        "logoff": "LoggingMagics",
        "logon": "LoggingMagics",
        "logstart": "LoggingMagics",
        "logstate": "LoggingMagics",
        "logstop": "LoggingMagics",
        "ls": "Other",
        "lsmagic": "BasicMagics",
        "lx": "Other",
        "macro": "ExecutionMagics",
        "magic": "BasicMagics",
        "man": "KernelMagics",
        "matplotlib": "PylabMagics",
        "mkdir": "Other",
        "more": "KernelMagics",
        "mv": "Other",
        "notebook": "BasicMagics",
        "page": "BasicMagics",
        "pastebin": "CodeMagics",
        "pdb": "ExecutionMagics",
        "pdef": "NamespaceMagics",
        "pdoc": "NamespaceMagics",
        "pfile": "NamespaceMagics",
        "pinfo": "NamespaceMagics",
        "pinfo2": "NamespaceMagics",
        "popd": "OSMagics",
        "pprint": "BasicMagics",
        "precision": "BasicMagics",
        "profile": "BasicMagics",
        "prun": "ExecutionMagics",
        "psearch": "NamespaceMagics",
        "psource": "NamespaceMagics",
        "pushd": "OSMagics",
        "pwd": "OSMagics",
        "pycat": "OSMagics",
        "pylab": "PylabMagics",
        "qtconsole": "KernelMagics",
        "quickref": "BasicMagics",
        "recall": "HistoryMagics",
        "rehashx": "OSMagics",
        "reload_ext": "ExtensionMagics",
        "rep": "Other",
        "rerun": "HistoryMagics",
        "reset": "NamespaceMagics",
        "reset_selective": "NamespaceMagics",
        "rm": "Other",
        "rmdir": "Other",
        "run": "ExecutionMagics",
        "save": "CodeMagics",
        "sc": "OSMagics",
        "set_env": "OSMagics",
        "store": "StoreMagics",
        "sx": "OSMagics",
        "system": "OSMagics",
        "tb": "ExecutionMagics",
        "time": "ExecutionMagics",
        "timeit": "ExecutionMagics",
        "unalias": "OSMagics",
        "unload_ext": "ExtensionMagics",
        "who": "NamespaceMagics",
        "who_ls": "NamespaceMagics",
        "whos": "NamespaceMagics",
        "xdel": "NamespaceMagics",
        "xmode": "BasicMagics"
       }
      },
      "text/plain": [
       "Available line magics:\n",
       "%alias  %alias_magic  %autocall  %automagic  %autosave  %bookmark  %cat  %cd  %clear  %colors  %config  %connect_info  %cp  %debug  %dhist  %dirs  %doctest_mode  %ed  %edit  %env  %gui  %hist  %history  %install_default_config  %install_ext  %install_profiles  %killbgscripts  %ldir  %less  %lf  %lk  %ll  %load  %load_ext  %loadpy  %logoff  %logon  %logstart  %logstate  %logstop  %ls  %lsmagic  %lx  %macro  %magic  %man  %matplotlib  %mkdir  %more  %mv  %notebook  %page  %pastebin  %pdb  %pdef  %pdoc  %pfile  %pinfo  %pinfo2  %popd  %pprint  %precision  %profile  %prun  %psearch  %psource  %pushd  %pwd  %pycat  %pylab  %qtconsole  %quickref  %recall  %rehashx  %reload_ext  %rep  %rerun  %reset  %reset_selective  %rm  %rmdir  %run  %save  %sc  %set_env  %store  %sx  %system  %tb  %time  %timeit  %unalias  %unload_ext  %who  %who_ls  %whos  %xdel  %xmode\n",
       "\n",
       "Available cell magics:\n",
       "%%!  %%HTML  %%SVG  %%bash  %%capture  %%debug  %%file  %%html  %%javascript  %%latex  %%perl  %%prun  %%pypy  %%python  %%python2  %%python3  %%ruby  %%script  %%sh  %%svg  %%sx  %%system  %%time  %%timeit  %%writefile\n",
       "\n",
       "Automagic is ON, % prefix IS NOT needed for line magics."
      ]
     },
     "execution_count": 4,
     "metadata": {},
     "output_type": "execute_result"
    }
   ],
   "source": [
    "%lsmagic"
   ]
  },
  {
   "cell_type": "code",
   "execution_count": 60,
   "metadata": {
    "collapsed": false
   },
   "outputs": [
    {
     "name": "stdout",
     "output_type": "stream",
     "text": [
      "I can ruby!!!!\n"
     ]
    }
   ],
   "source": [
    "%%ruby\n",
    "\n",
    "puts \"I can ruby!!!!\""
   ]
  },
  {
   "cell_type": "code",
   "execution_count": 79,
   "metadata": {
    "collapsed": false
   },
   "outputs": [
    {
     "name": "stdout",
     "output_type": "stream",
     "text": [
      "downloading https://rawgithub.com/minrk/ipython_extensions/master/nbextensions/gist.js to /tmp/tmpfvcwiplh/gist.js\n",
      "copying /tmp/tmpfvcwiplh/gist.js -> /home/juan/.local/share/jupyter/nbextensions/gist.js\n"
     ]
    }
   ],
   "source": [
    "import notebook.nbextensions\n",
    "\n",
    "notebook.nbextensions.install_nbextension(\n",
    "    'https://rawgithub.com/minrk/ipython_extensions/master/nbextensions/gist.js',\n",
    "    user=True\n",
    ")"
   ]
  },
  {
   "cell_type": "code",
   "execution_count": 81,
   "metadata": {
    "collapsed": false
   },
   "outputs": [
    {
     "data": {
      "application/javascript": [
       "\n",
       "Jupyter.utils.load_extensions('gist')"
      ],
      "text/plain": [
       "<IPython.core.display.Javascript object>"
      ]
     },
     "metadata": {},
     "output_type": "display_data"
    }
   ],
   "source": [
    "%%javascript\n",
    "\n",
    "Jupyter.utils.load_extensions('gist')"
   ]
  },
  {
   "cell_type": "markdown",
   "metadata": {},
   "source": [
    "# General settings and loading of files"
   ]
  },
  {
   "cell_type": "code",
   "execution_count": 62,
   "metadata": {
    "collapsed": false
   },
   "outputs": [
    {
     "name": "stdout",
     "output_type": "stream",
     "text": [
      "The autoreload extension is already loaded. To reload it, use:\n",
      "  %reload_ext autoreload\n"
     ]
    }
   ],
   "source": [
    "import numpy as np\n",
    "import matplotlib as mpl\n",
    "import matplotlib.pyplot as plt\n",
    "import pandas as pd\n",
    "import scipy as sp\n",
    "\n",
    "from IPython.display import display, Math, Latex\n",
    "from matplotlib import cm\n",
    "\n",
    "% matplotlib inline\n",
    "% load_ext autoreload\n",
    "% autoreload 2\n",
    "% load_ext pep8_magic\n",
    "\n",
    "pd.options.display.max_columns = 40  # Affy csv has 30 fields\n",
    "# pd.options.display.mpl_style = 'default' # Old version of matplotlib\n",
    "# mpl.style.use('default')\n",
    "\n",
    "mpl.rc('figure', figsize=(13, 7), facecolor=\"white\")\n",
    "mpl.rc('axes', titlesize=17, labelsize=14)\n",
    "mpl.rc('xtick', labelsize=11)\n",
    "mpl.rc('ytick', labelsize=11)\n",
    "mpl.rc('font', family='serif')\n",
    "mpl.rc('legend', fontsize=15)"
   ]
  },
  {
   "cell_type": "code",
   "execution_count": 6,
   "metadata": {
    "collapsed": true
   },
   "outputs": [],
   "source": [
    "%run helpers/data_munging_functions.py\n",
    "%run helpers/number_helpers.py"
   ]
  },
  {
   "cell_type": "code",
   "execution_count": 7,
   "metadata": {
    "collapsed": false
   },
   "outputs": [],
   "source": [
    "%run discriminate_present_vs_missing.py\n",
    "\n",
    "GALANTER_CSV = '~/tesina/galanter_SNPs.csv'\n",
    "LAT1_CSV = '~/tesina/affy-LAT1/Axiom_GW_LAT.na35.annot.csv'  # 1.1Gb file!\n",
    "# Smaller file for testing:\n",
    "# LAT1_CSV_SMALL = \"affy-LAT1/Axiom_GW_LAT.na35.annot.TRUNCATED.csv\"\n",
    "\n",
    "# lat = _create_Affymetrix_df(LAT1_CSV)\n",
    "\n",
    "galanter, present, missing = discriminate_present_vs_missing(\n",
    "    GALANTER_CSV, LAT1_CSV, dumpdir=\"dumpfiles\")"
   ]
  },
  {
   "cell_type": "code",
   "execution_count": 8,
   "metadata": {
    "collapsed": false,
    "scrolled": true
   },
   "outputs": [
    {
     "name": "stdout",
     "output_type": "stream",
     "text": [
      "446 Galanter AIMs\n",
      "180 present in LAT\n",
      "266 missing in LAT\n"
     ]
    }
   ],
   "source": [
    "print(\"{} Galanter AIMs\".format(len(galanter)))\n",
    "print(\"{} present in LAT\".format(len(present)))\n",
    "print(\"{} missing in LAT\".format(len(missing)))"
   ]
  },
  {
   "cell_type": "code",
   "execution_count": 9,
   "metadata": {
    "collapsed": false
   },
   "outputs": [
    {
     "data": {
      "image/png": "[encoded data removed]",
      "text/plain": [
       "<matplotlib.figure.Figure at 0x7f1efab457f0>"
      ]
     },
     "metadata": {},
     "output_type": "display_data"
    }
   ],
   "source": [
    "labels = [\n",
    "    \"GAL SNPs missing in LAT 1 \\n %s\" % len(missing),\n",
    "    \"GAL SNPs present in LAT 1 \\n %s\" % len(present)\n",
    "]\n",
    "snp_counts = pd.Series([len(missing), len(present)],\n",
    "                       index=labels)\n",
    "\n",
    "\n",
    "ax = snp_counts.plot('pie', figsize=(3,3), labeldistance=1.25, fontsize=14)\n",
    "ax.set_ylabel(\"\")\n",
    "plt.show()"
   ]
  },
  {
   "cell_type": "markdown",
   "metadata": {},
   "source": [
    "## Comparar Galanter.bed con Galanter de PLoS"
   ]
  },
  {
   "cell_type": "code",
   "execution_count": 10,
   "metadata": {
    "collapsed": false
   },
   "outputs": [],
   "source": [
    "galanter_updated = pd.read_csv(\"../galanter.bed\", sep=\"\\t\", skiprows=1, \n",
    "                               names=['chr', 'pos', 'pos_to', 'id'],\n",
    "                               usecols=['chr', 'pos', 'pos_to', 'id'])\n",
    "galanter_updated['chr'] = galanter_updated['chr'].str.replace(\"chr\", \"\").astype(int)\n",
    "galanter_updated = galanter_updated.set_index('id')"
   ]
  },
  {
   "cell_type": "code",
   "execution_count": 11,
   "metadata": {
    "collapsed": false
   },
   "outputs": [],
   "source": [
    "galanter_plos = galanter[['chr', 'position']]"
   ]
  },
  {
   "cell_type": "code",
   "execution_count": 12,
   "metadata": {
    "collapsed": false
   },
   "outputs": [],
   "source": [
    "import re\n",
    "\n",
    "galanter_dbSNP = pd.read_csv(\"../galanter_rsIDs_dbSNP\", names=['id', 'source', 'chr', 'pos', 'pos_to'], skiprows=1).set_index('id')\n",
    "take_these_out = galanter_dbSNP.chr.str.contains('HSCHR')\n",
    "galanter_dbSNP = galanter_dbSNP[~take_these_out]\n",
    "galanter_dbSNP['chr'] = galanter_dbSNP['chr'].astype(int)\n",
    "galanter_dbSNP = galanter_dbSNP.drop_duplicates()"
   ]
  },
  {
   "cell_type": "code",
   "execution_count": 13,
   "metadata": {
    "collapsed": false
   },
   "outputs": [
    {
     "data": {
      "text/plain": [
       "Index(['rs5748014', 'rs8081410'], dtype='object')"
      ]
     },
     "execution_count": 13,
     "metadata": {},
     "output_type": "execute_result"
    }
   ],
   "source": [
    "galanter_plos.index.difference(galanter_dbSNP.index)"
   ]
  },
  {
   "cell_type": "code",
   "execution_count": 14,
   "metadata": {
    "collapsed": false
   },
   "outputs": [
    {
     "data": {
      "text/plain": [
       "Index([], dtype='object')"
      ]
     },
     "execution_count": 14,
     "metadata": {},
     "output_type": "execute_result"
    }
   ],
   "source": [
    "galanter_dbSNP.index.difference(galanter_plos.index)"
   ]
  },
  {
   "cell_type": "code",
   "execution_count": 15,
   "metadata": {
    "collapsed": false
   },
   "outputs": [
    {
     "data": {
      "text/html": [
       "<div>\n",
       "<table border=\"1\" class=\"dataframe\">\n",
       "  <thead>\n",
       "    <tr style=\"text-align: right;\">\n",
       "      <th></th>\n",
       "      <th>chr_PLOS</th>\n",
       "      <th>position</th>\n",
       "      <th>source</th>\n",
       "      <th>chr</th>\n",
       "      <th>pos</th>\n",
       "      <th>pos_to</th>\n",
       "    </tr>\n",
       "    <tr>\n",
       "      <th>SNP rsID</th>\n",
       "      <th></th>\n",
       "      <th></th>\n",
       "      <th></th>\n",
       "      <th></th>\n",
       "      <th></th>\n",
       "      <th></th>\n",
       "    </tr>\n",
       "  </thead>\n",
       "  <tbody>\n",
       "    <tr>\n",
       "      <th>rs6685064</th>\n",
       "      <td>1</td>\n",
       "      <td>1201155</td>\n",
       "      <td>dbSNP</td>\n",
       "      <td>1</td>\n",
       "      <td>1275912</td>\n",
       "      <td>1275912</td>\n",
       "    </tr>\n",
       "    <tr>\n",
       "      <th>rs12085319</th>\n",
       "      <td>1</td>\n",
       "      <td>10952065</td>\n",
       "      <td>dbSNP</td>\n",
       "      <td>1</td>\n",
       "      <td>10969421</td>\n",
       "      <td>10969421</td>\n",
       "    </tr>\n",
       "    <tr>\n",
       "      <th>rs2745285</th>\n",
       "      <td>1</td>\n",
       "      <td>11549445</td>\n",
       "      <td>dbSNP</td>\n",
       "      <td>1</td>\n",
       "      <td>11566801</td>\n",
       "      <td>11566801</td>\n",
       "    </tr>\n",
       "    <tr>\n",
       "      <th>rs4920310</th>\n",
       "      <td>1</td>\n",
       "      <td>18436476</td>\n",
       "      <td>dbSNP</td>\n",
       "      <td>1</td>\n",
       "      <td>18237395</td>\n",
       "      <td>18237395</td>\n",
       "    </tr>\n",
       "    <tr>\n",
       "      <th>rs6684063</th>\n",
       "      <td>1</td>\n",
       "      <td>30471927</td>\n",
       "      <td>dbSNP</td>\n",
       "      <td>1</td>\n",
       "      <td>30226493</td>\n",
       "      <td>30226493</td>\n",
       "    </tr>\n",
       "  </tbody>\n",
       "</table>\n",
       "</div>"
      ],
      "text/plain": [
       "            chr_PLOS  position source  chr       pos    pos_to\n",
       "SNP rsID                                                      \n",
       "rs6685064          1   1201155  dbSNP    1   1275912   1275912\n",
       "rs12085319         1  10952065  dbSNP    1  10969421  10969421\n",
       "rs2745285          1  11549445  dbSNP    1  11566801  11566801\n",
       "rs4920310          1  18436476  dbSNP    1  18237395  18237395\n",
       "rs6684063          1  30471927  dbSNP    1  30226493  30226493"
      ]
     },
     "execution_count": 15,
     "metadata": {},
     "output_type": "execute_result"
    }
   ],
   "source": [
    "comparison = galanter_plos.join(galanter_dbSNP, lsuffix='_PLOS')\n",
    "diff_position = abs(comparison.position - comparison.pos) > 2\n",
    "diff_chromosome = comparison.chr_PLOS - comparison.chr > 0\n",
    "comparison.head()"
   ]
  },
  {
   "cell_type": "markdown",
   "metadata": {},
   "source": [
    "# I should be using info form HG last build! #FIXME\n",
    "ftp://ftp.ncbi.nlm.nih.gov/genomes/all/GCA_000001405.15_GRCh38/GCA_000001405.15_GRCh38_assembly_stats.txt"
   ]
  },
  {
   "cell_type": "code",
   "execution_count": 16,
   "metadata": {
    "collapsed": false
   },
   "outputs": [],
   "source": [
    "# Temporary. I'd better look for the numbers of the same build of the HG as in Galanter and HGP\n",
    "\n",
    "HUMAN_GENOME = '/home/juan/tesina/human_genome.txt'  # Chromosome lenghts and centromeres\n",
    "genome = pd.read_csv(HUMAN_GENOME, delimiter=\"\\t\")\n",
    "centromere_info = genome['centromere'].apply(lambda e: pd.Series(e.split(',')).astype(int))\n",
    "genome = genome.drop('centromere', axis=1)\n",
    "genome = pd.concat([genome, centromere_info], axis=1)\n",
    "genome = genome.set_index('ID')\n",
    "genome.columns = ['length', 'centromere_start', 'centromere_end']\n",
    "genome = genome.drop(['X', 'Y'])\n",
    "genome.index = genome.index.rename('chr')\n",
    "genome.index = genome.index.astype(int)  # This only works after removing X and Y"
   ]
  },
  {
   "cell_type": "markdown",
   "metadata": {},
   "source": [
    "### Distancias entre los AIMs por cromosoma"
   ]
  },
  {
   "cell_type": "code",
   "execution_count": 17,
   "metadata": {
    "collapsed": false
   },
   "outputs": [
    {
     "data": {
      "image/png": "[encoded data removed]",
      "text/plain": [
       "<matplotlib.figure.Figure at 0x7f1ef8aa3240>"
      ]
     },
     "metadata": {},
     "output_type": "display_data"
    }
   ],
   "source": [
    "% run data_munging/distances.py\n",
    "% run SNP_distances_plots.py\n",
    "\n",
    "ax1 = plt.subplot(211)\n",
    "ax1 = distances_boxplot(galanter, genome, ax=ax1, showfliers=False, showmeans=True,\n",
    "                        title=r\"Distancia entre AIMs en $Galanter_{TOTAL}$\")\n",
    "\n",
    "ax2 = plt.subplot(212, sharey=ax1)\n",
    "ax2 = distances_boxplot(present, genome, ax=ax2, showfliers=False, showmeans=True,\n",
    "                        title=r\"Distancia entre AIMs en $Galanter_{IN}$\")\n",
    "\n",
    "ax1.grid()\n",
    "ax2.grid()\n",
    "\n",
    "f = ax2.figure\n",
    "f.set_figheight(17)\n",
    "f.set_figwidth(16)\n",
    "\n",
    "plt.show()"
   ]
  },
  {
   "cell_type": "code",
   "execution_count": 18,
   "metadata": {
    "collapsed": false
   },
   "outputs": [
    {
     "data": {
      "image/png": "[encoded data removed]",
      "text/plain": [
       "<matplotlib.figure.Figure at 0x7f1ef7948470>"
      ]
     },
     "metadata": {},
     "output_type": "display_data"
    }
   ],
   "source": [
    "% run chromosomes_with_SNPs_plot.py\n",
    "\n",
    "from collections import OrderedDict\n",
    "\n",
    "\n",
    "plot_data = OrderedDict([\n",
    "    ('AIMs de GALANTER-OUT',\n",
    "     {'df': missing, 'marker': 's', 's': 7, 'color': 'tomato'}),\n",
    "        \n",
    "    ('AIMs de AFR en GALANTER-IN',\n",
    "     {'df': present[present.population == \"AFR\"],\n",
    "      'marker': '|', 'color': 'forestGreen', 's': 600}),\n",
    "        \n",
    "    ('AIMs de EUR en GALANTER-IN',\n",
    "     {'df': present[present.population == \"EUR\"],\n",
    "      'marker': '|', 'color': 'forestGreen', 's': 600}),\n",
    "        \n",
    "    ('AIMs de NAM en GALANTER-IN',\n",
    "     {'df': present[present.population == \"NAM\"],\n",
    "      'marker': '|', 'color': 'forestGreen', 's': 600}),\n",
    "])\n",
    "\n",
    "chromosomes_with_SNPs_plot(genome, plot_data)\n",
    "plt.show()"
   ]
  },
  {
   "cell_type": "code",
   "execution_count": 19,
   "metadata": {
    "collapsed": false
   },
   "outputs": [
    {
     "data": {
      "image/png": "[encoded data removed]",
      "text/plain": [
       "<matplotlib.figure.Figure at 0x7f1ef7dbadd8>"
      ]
     },
     "metadata": {},
     "output_type": "display_data"
    }
   ],
   "source": [
    "% run chromosomes_with_SNPs_plot.py\n",
    "\n",
    "from collections import OrderedDict\n",
    "\n",
    "\n",
    "plot_data = OrderedDict([\n",
    "        \n",
    "    ('AIMs de AFR en GALANTER-TOTAL',\n",
    "     {'df': galanter[galanter.population == \"AFR\"],\n",
    "      'marker': 's', 'color': 'brown', 's': 7}),\n",
    "        \n",
    "    ('AIMs de EUR en GALANTER-TOTAL',\n",
    "     {'df': galanter[galanter.population == \"EUR\"],\n",
    "      'marker': 's', 'color': 'indigo', 's': 7}),\n",
    "        \n",
    "    ('AIMs de NAM en GALANTER-TOTAL',\n",
    "     {'df': galanter[galanter.population == \"NAM\"],\n",
    "      'marker': 's', 'color': 'lime', 's': 7}),\n",
    "        \n",
    "    ('AIMs de AFR en GALANTER-IN',\n",
    "     {'df': present[present.population == \"AFR\"],\n",
    "      'marker': '|', 'color': 'brown', 's': 600}),\n",
    "        \n",
    "    ('AIMs de EUR en GALANTER-IN',\n",
    "     {'df': present[present.population == \"EUR\"],\n",
    "      'marker': '|', 'color': 'indigo', 's': 600}),\n",
    "        \n",
    "    ('AIMs de NAM en GALANTER-IN',\n",
    "     {'df': present[present.population == \"NAM\"],\n",
    "      'marker': '|', 'color': 'forestGreen', 's': 600}),\n",
    "])\n",
    "\n",
    "chromosomes_with_SNPs_plot(genome, plot_data)\n",
    "plt.show()"
   ]
  },
  {
   "cell_type": "code",
   "execution_count": 20,
   "metadata": {
    "collapsed": false
   },
   "outputs": [
    {
     "data": {
      "text/html": [
       "<div>\n",
       "<table border=\"1\" class=\"dataframe\">\n",
       "  <thead>\n",
       "    <tr>\n",
       "      <th></th>\n",
       "      <th colspan=\"3\" halign=\"left\">$GALANTER_{TOTAL}$</th>\n",
       "      <th colspan=\"3\" halign=\"left\">$GALANTER_{IN}$</th>\n",
       "    </tr>\n",
       "    <tr>\n",
       "      <th></th>\n",
       "      <th>AFR</th>\n",
       "      <th>EUR</th>\n",
       "      <th>NAM</th>\n",
       "      <th>AFR</th>\n",
       "      <th>EUR</th>\n",
       "      <th>NAM</th>\n",
       "    </tr>\n",
       "    <tr>\n",
       "      <th>chr</th>\n",
       "      <th></th>\n",
       "      <th></th>\n",
       "      <th></th>\n",
       "      <th></th>\n",
       "      <th></th>\n",
       "      <th></th>\n",
       "    </tr>\n",
       "  </thead>\n",
       "  <tbody>\n",
       "    <tr>\n",
       "      <th>1</th>\n",
       "      <td>8</td>\n",
       "      <td>15</td>\n",
       "      <td>4</td>\n",
       "      <td>5</td>\n",
       "      <td>4</td>\n",
       "      <td>2</td>\n",
       "    </tr>\n",
       "    <tr>\n",
       "      <th>2</th>\n",
       "      <td>11</td>\n",
       "      <td>21</td>\n",
       "      <td>12</td>\n",
       "      <td>7</td>\n",
       "      <td>9</td>\n",
       "      <td>4</td>\n",
       "    </tr>\n",
       "    <tr>\n",
       "      <th>3</th>\n",
       "      <td>7</td>\n",
       "      <td>16</td>\n",
       "      <td>12</td>\n",
       "      <td>2</td>\n",
       "      <td>4</td>\n",
       "      <td>3</td>\n",
       "    </tr>\n",
       "    <tr>\n",
       "      <th>4</th>\n",
       "      <td>8</td>\n",
       "      <td>12</td>\n",
       "      <td>7</td>\n",
       "      <td>5</td>\n",
       "      <td>5</td>\n",
       "      <td>2</td>\n",
       "    </tr>\n",
       "    <tr>\n",
       "      <th>5</th>\n",
       "      <td>8</td>\n",
       "      <td>8</td>\n",
       "      <td>9</td>\n",
       "      <td>5</td>\n",
       "      <td>1</td>\n",
       "      <td>2</td>\n",
       "    </tr>\n",
       "    <tr>\n",
       "      <th>6</th>\n",
       "      <td>7</td>\n",
       "      <td>7</td>\n",
       "      <td>7</td>\n",
       "      <td>5</td>\n",
       "      <td>1</td>\n",
       "      <td>1</td>\n",
       "    </tr>\n",
       "    <tr>\n",
       "      <th>7</th>\n",
       "      <td>7</td>\n",
       "      <td>10</td>\n",
       "      <td>4</td>\n",
       "      <td>5</td>\n",
       "      <td>2</td>\n",
       "      <td>3</td>\n",
       "    </tr>\n",
       "    <tr>\n",
       "      <th>8</th>\n",
       "      <td>5</td>\n",
       "      <td>10</td>\n",
       "      <td>8</td>\n",
       "      <td>2</td>\n",
       "      <td>3</td>\n",
       "      <td>3</td>\n",
       "    </tr>\n",
       "    <tr>\n",
       "      <th>9</th>\n",
       "      <td>1</td>\n",
       "      <td>11</td>\n",
       "      <td>7</td>\n",
       "      <td>1</td>\n",
       "      <td>6</td>\n",
       "      <td>1</td>\n",
       "    </tr>\n",
       "    <tr>\n",
       "      <th>10</th>\n",
       "      <td>6</td>\n",
       "      <td>13</td>\n",
       "      <td>8</td>\n",
       "      <td>3</td>\n",
       "      <td>5</td>\n",
       "      <td>3</td>\n",
       "    </tr>\n",
       "    <tr>\n",
       "      <th>11</th>\n",
       "      <td>9</td>\n",
       "      <td>12</td>\n",
       "      <td>7</td>\n",
       "      <td>6</td>\n",
       "      <td>3</td>\n",
       "      <td>4</td>\n",
       "    </tr>\n",
       "    <tr>\n",
       "      <th>12</th>\n",
       "      <td>6</td>\n",
       "      <td>13</td>\n",
       "      <td>3</td>\n",
       "      <td>2</td>\n",
       "      <td>3</td>\n",
       "      <td>&gt;&gt; 0 &lt;&lt;</td>\n",
       "    </tr>\n",
       "    <tr>\n",
       "      <th>13</th>\n",
       "      <td>4</td>\n",
       "      <td>8</td>\n",
       "      <td>5</td>\n",
       "      <td>1</td>\n",
       "      <td>3</td>\n",
       "      <td>1</td>\n",
       "    </tr>\n",
       "    <tr>\n",
       "      <th>14</th>\n",
       "      <td>7</td>\n",
       "      <td>6</td>\n",
       "      <td>9</td>\n",
       "      <td>3</td>\n",
       "      <td>3</td>\n",
       "      <td>2</td>\n",
       "    </tr>\n",
       "    <tr>\n",
       "      <th>15</th>\n",
       "      <td>4</td>\n",
       "      <td>12</td>\n",
       "      <td>4</td>\n",
       "      <td>3</td>\n",
       "      <td>7</td>\n",
       "      <td>2</td>\n",
       "    </tr>\n",
       "    <tr>\n",
       "      <th>16</th>\n",
       "      <td>6</td>\n",
       "      <td>8</td>\n",
       "      <td>2</td>\n",
       "      <td>3</td>\n",
       "      <td>4</td>\n",
       "      <td>1</td>\n",
       "    </tr>\n",
       "    <tr>\n",
       "      <th>17</th>\n",
       "      <td>5</td>\n",
       "      <td>5</td>\n",
       "      <td>2</td>\n",
       "      <td>1</td>\n",
       "      <td>3</td>\n",
       "      <td>1</td>\n",
       "    </tr>\n",
       "    <tr>\n",
       "      <th>18</th>\n",
       "      <td>&gt;&gt; 0 &lt;&lt;</td>\n",
       "      <td>5</td>\n",
       "      <td>3</td>\n",
       "      <td>&gt;&gt; 0 &lt;&lt;</td>\n",
       "      <td>2</td>\n",
       "      <td>2</td>\n",
       "    </tr>\n",
       "    <tr>\n",
       "      <th>20</th>\n",
       "      <td>1</td>\n",
       "      <td>5</td>\n",
       "      <td>7</td>\n",
       "      <td>&gt;&gt; 0 &lt;&lt;</td>\n",
       "      <td>2</td>\n",
       "      <td>4</td>\n",
       "    </tr>\n",
       "    <tr>\n",
       "      <th>21</th>\n",
       "      <td>4</td>\n",
       "      <td>2</td>\n",
       "      <td>3</td>\n",
       "      <td>2</td>\n",
       "      <td>1</td>\n",
       "      <td>3</td>\n",
       "    </tr>\n",
       "    <tr>\n",
       "      <th>22</th>\n",
       "      <td>1</td>\n",
       "      <td>2</td>\n",
       "      <td>6</td>\n",
       "      <td>1</td>\n",
       "      <td>&gt;&gt; 0 &lt;&lt;</td>\n",
       "      <td>3</td>\n",
       "    </tr>\n",
       "  </tbody>\n",
       "</table>\n",
       "</div>"
      ],
      "text/plain": [
       "    $GALANTER_{TOTAL}$         $GALANTER_{IN}$                  \n",
       "                   AFR EUR NAM             AFR      EUR      NAM\n",
       "chr                                                             \n",
       "1                    8  15   4               5        4        2\n",
       "2                   11  21  12               7        9        4\n",
       "3                    7  16  12               2        4        3\n",
       "4                    8  12   7               5        5        2\n",
       "5                    8   8   9               5        1        2\n",
       "6                    7   7   7               5        1        1\n",
       "7                    7  10   4               5        2        3\n",
       "8                    5  10   8               2        3        3\n",
       "9                    1  11   7               1        6        1\n",
       "10                   6  13   8               3        5        3\n",
       "11                   9  12   7               6        3        4\n",
       "12                   6  13   3               2        3  >> 0 <<\n",
       "13                   4   8   5               1        3        1\n",
       "14                   7   6   9               3        3        2\n",
       "15                   4  12   4               3        7        2\n",
       "16                   6   8   2               3        4        1\n",
       "17                   5   5   2               1        3        1\n",
       "18             >> 0 <<   5   3         >> 0 <<        2        2\n",
       "20                   1   5   7         >> 0 <<        2        4\n",
       "21                   4   2   3               2        1        3\n",
       "22                   1   2   6               1  >> 0 <<        3"
      ]
     },
     "execution_count": 20,
     "metadata": {},
     "output_type": "execute_result"
    }
   ],
   "source": [
    "def pop_counts(df):\n",
    "    return df.groupby(['chr', 'population']).size().unstack().fillna('>> 0 <<')\n",
    "\n",
    "df = pd.merge(pop_counts(galanter), pop_counts(present),\n",
    "         left_index=True, right_index=True,\n",
    "         suffixes=['_TOTAL', '_IN'])\n",
    "\n",
    "df.columns = pd.MultiIndex.from_product([['$GALANTER_{TOTAL}$', '$GALANTER_{IN}$'],\n",
    "                                         ['AFR', 'EUR', 'NAM']])\n",
    "df"
   ]
  },
  {
   "cell_type": "markdown",
   "metadata": {},
   "source": [
    "**DISCUSIÓN**\n",
    "\n",
    "La reducción de AIMs en GALANTER-IN determina que ciertos cromosomas no tengan ningún AIM de una población determinada:\n",
    "\n",
    "- En el cromosoma 12 se perdieron los 3 AIMs de NAM.\n",
    "- En el cromosoma 20 se perdió el único AIM de AFR.\n",
    "- En el cromosoma 22 se perdieron los 2 AIMs de EUR."
   ]
  },
  {
   "cell_type": "markdown",
   "metadata": {},
   "source": [
    "# Generate a CONTROL PANEL of random SNPs\n",
    "Extract the **same amount** of SNPs per chromosome as Galanter has, with some min space between them."
   ]
  },
  {
   "cell_type": "code",
   "execution_count": 21,
   "metadata": {
    "collapsed": false
   },
   "outputs": [],
   "source": [
    "galanter.groupby(\"chr\").size().to_csv(\"data/chr_SNP_count_in_galanter\")"
   ]
  },
  {
   "cell_type": "code",
   "execution_count": 22,
   "metadata": {
    "collapsed": true
   },
   "outputs": [],
   "source": [
    "# The script \"./thin_N_SNPs_from_chromosome_Q.sh\" randomlyt selects the SNPs using PLINK\n",
    "# Then the results are merged with plink --merge-list"
   ]
  },
  {
   "cell_type": "code",
   "execution_count": null,
   "metadata": {
    "collapsed": true
   },
   "outputs": [],
   "source": []
  },
  {
   "cell_type": "code",
   "execution_count": null,
   "metadata": {
    "collapsed": true
   },
   "outputs": [],
   "source": []
  },
  {
   "cell_type": "code",
   "execution_count": null,
   "metadata": {
    "collapsed": true
   },
   "outputs": [],
   "source": []
  },
  {
   "cell_type": "markdown",
   "metadata": {
    "collapsed": true
   },
   "source": [
    "# Traer la data de 1000Genomes para estos SNPs"
   ]
  },
  {
   "cell_type": "code",
   "execution_count": 23,
   "metadata": {
    "collapsed": true
   },
   "outputs": [],
   "source": [
    "# %load /home/juan/tesina/1000genomes/ftp_download_1000_genomes.py"
   ]
  },
  {
   "cell_type": "code",
   "execution_count": 24,
   "metadata": {
    "collapsed": false
   },
   "outputs": [],
   "source": [
    "# % run extract_SNPs_from_vcf_chromosomes.py\n",
    "\n",
    "# commands = extract_SNPs_from_vcf(galanter.index.values)\n",
    "\n",
    "# ^ One time only run, to extract the SNPs out of the big files of 1000genomes:\n",
    "# run_commands(commands, \"/home/juan/tesina/1000genomes\")"
   ]
  },
  {
   "cell_type": "code",
   "execution_count": 25,
   "metadata": {
    "collapsed": false
   },
   "outputs": [],
   "source": [
    "%run read_samples_data.py\n",
    "\n",
    "sample_populations_file = \"/home/juan/tesina/1000Genomes_data/integrated_call_samples_v3.20130502.ALL.panel\"\n",
    "df_1000G_sample_populations = read_samples_data(sample_populations_file)"
   ]
  },
  {
   "cell_type": "code",
   "execution_count": 26,
   "metadata": {
    "collapsed": false
   },
   "outputs": [],
   "source": [
    "%run read_1000genomes_data.py\n",
    "%run helpers/data_munging_functions.py\n",
    "\n",
    "import itertools\n",
    "# from glob import glob\n",
    "from os.path import isfile\n",
    "\n",
    "\n",
    "# vcf_filenames = glob(\"/home/juan/tesina/1000G_analysis/galanter_1000Genomes.vcf\")\n",
    "vcf_filename = \"/home/juan/tesina/1000G_analysis/galanter_1000Genomes.vcf\"\n",
    "df_1000G_SNPs_dumpfile = \"dumpfiles/1000G_SNPinfo_dataframe.csv\"\n",
    "df_1000G_genotypes_dumpfile = \"dumpfiles/1000G_genotypes_dataframe.csv\"\n",
    "\n",
    "if not isfile(df_1000G_SNPs_dumpfile):\n",
    "    # records = [_vcf_records(vcf_filename) for vcf_filename in vcf_filenames]\n",
    "    records = _vcf_records(vcf_filename)\n",
    "    # records = itertools.chain.from_iterable(records)  # Flattens list of lists\n",
    "    records_as_dictionaries = [_vcf_record_to_dict(r) for r in records]\n",
    "\n",
    "    # Clean up 1000genomes data\n",
    "    df_1000G_SNPs = pd.DataFrame(records_as_dictionaries).set_index('ID')\n",
    "    df_1000G_SNPs = df_1000G_SNPs.dropna(axis=1)\n",
    "    df_1000G_SNPs = df_1000G_SNPs.drop(['FILTER', 'alleles'], axis=1)\n",
    "    df_1000G_SNPs = remove_unkown_snp_subtypes(df_1000G_SNPs)\n",
    "    df_1000G_SNPs = remove_unnecessary_lists_from_df(df_1000G_SNPs)\n",
    "\n",
    "    # Get sample genotypes\n",
    "    frames = [pd.DataFrame(dict(genotypes), index=[rs])\n",
    "              for rs, genotypes in df_1000G_SNPs['sample_genotypes'].iteritems()]\n",
    "    df_1000G_genotypes = pd.concat(frames).transpose()\n",
    "    df_1000G_genotypes.to_csv(df_1000G_genotypes_dumpfile)\n",
    "\n",
    "    # Remove big unnecessary field after exporting its data to 'samples_genotypes'\n",
    "    df_1000G_SNPs = df_1000G_SNPs.drop('sample_genotypes', axis=1)\n",
    "    df_1000G_SNPs.to_csv(df_1000G_SNPs_dumpfile)\n",
    "\n",
    "df_1000G_SNPs = pd.read_csv(df_1000G_SNPs_dumpfile, index_col='ID')\n",
    "df_1000G_genotypes = pd.read_csv(df_1000G_genotypes_dumpfile, index_col=0)"
   ]
  },
  {
   "cell_type": "code",
   "execution_count": 27,
   "metadata": {
    "collapsed": false,
    "scrolled": true
   },
   "outputs": [
    {
     "data": {
      "text/html": [
       "<div>\n",
       "<table border=\"1\" class=\"dataframe\">\n",
       "  <thead>\n",
       "    <tr style=\"text-align: right;\">\n",
       "      <th></th>\n",
       "      <th>AA</th>\n",
       "      <th>AC</th>\n",
       "      <th>AF</th>\n",
       "      <th>AFR_AF</th>\n",
       "      <th>ALT</th>\n",
       "      <th>AMR_AF</th>\n",
       "      <th>AN</th>\n",
       "      <th>CHROM</th>\n",
       "      <th>DP</th>\n",
       "      <th>EAS_AF</th>\n",
       "      <th>EUR_AF</th>\n",
       "      <th>FORMAT</th>\n",
       "      <th>NS</th>\n",
       "      <th>POS</th>\n",
       "      <th>QUAL</th>\n",
       "      <th>REF</th>\n",
       "      <th>SAS_AF</th>\n",
       "      <th>VT</th>\n",
       "      <th>call_rate</th>\n",
       "      <th>heterozygosity</th>\n",
       "      <th>is_transition</th>\n",
       "      <th>var_subtype</th>\n",
       "      <th>var_type</th>\n",
       "    </tr>\n",
       "    <tr>\n",
       "      <th>ID</th>\n",
       "      <th></th>\n",
       "      <th></th>\n",
       "      <th></th>\n",
       "      <th></th>\n",
       "      <th></th>\n",
       "      <th></th>\n",
       "      <th></th>\n",
       "      <th></th>\n",
       "      <th></th>\n",
       "      <th></th>\n",
       "      <th></th>\n",
       "      <th></th>\n",
       "      <th></th>\n",
       "      <th></th>\n",
       "      <th></th>\n",
       "      <th></th>\n",
       "      <th></th>\n",
       "      <th></th>\n",
       "      <th></th>\n",
       "      <th></th>\n",
       "      <th></th>\n",
       "      <th></th>\n",
       "      <th></th>\n",
       "    </tr>\n",
       "  </thead>\n",
       "  <tbody>\n",
       "    <tr>\n",
       "      <th>rs10751867</th>\n",
       "      <td>C|||</td>\n",
       "      <td>2866</td>\n",
       "      <td>0.572284</td>\n",
       "      <td>0.2625</td>\n",
       "      <td>T</td>\n",
       "      <td>0.6210</td>\n",
       "      <td>5008</td>\n",
       "      <td>10</td>\n",
       "      <td>19271</td>\n",
       "      <td>0.4494</td>\n",
       "      <td>0.9066</td>\n",
       "      <td>GT</td>\n",
       "      <td>2504</td>\n",
       "      <td>2349064</td>\n",
       "      <td>100</td>\n",
       "      <td>C</td>\n",
       "      <td>0.7393</td>\n",
       "      <td>SNP</td>\n",
       "      <td>1</td>\n",
       "      <td>0.489550</td>\n",
       "      <td>True</td>\n",
       "      <td>ts</td>\n",
       "      <td>snp</td>\n",
       "    </tr>\n",
       "    <tr>\n",
       "      <th>rs4881046</th>\n",
       "      <td>T|||</td>\n",
       "      <td>3422</td>\n",
       "      <td>0.683307</td>\n",
       "      <td>0.1649</td>\n",
       "      <td>A</td>\n",
       "      <td>0.8458</td>\n",
       "      <td>5008</td>\n",
       "      <td>10</td>\n",
       "      <td>18768</td>\n",
       "      <td>0.9335</td>\n",
       "      <td>0.8926</td>\n",
       "      <td>GT</td>\n",
       "      <td>2504</td>\n",
       "      <td>3033127</td>\n",
       "      <td>100</td>\n",
       "      <td>T</td>\n",
       "      <td>0.7955</td>\n",
       "      <td>SNP</td>\n",
       "      <td>1</td>\n",
       "      <td>0.432797</td>\n",
       "      <td>False</td>\n",
       "      <td>tv</td>\n",
       "      <td>snp</td>\n",
       "    </tr>\n",
       "  </tbody>\n",
       "</table>\n",
       "</div>"
      ],
      "text/plain": [
       "              AA    AC        AF  AFR_AF ALT  AMR_AF    AN  CHROM     DP  \\\n",
       "ID                                                                         \n",
       "rs10751867  C|||  2866  0.572284  0.2625   T  0.6210  5008     10  19271   \n",
       "rs4881046   T|||  3422  0.683307  0.1649   A  0.8458  5008     10  18768   \n",
       "\n",
       "            EAS_AF  EUR_AF FORMAT    NS      POS  QUAL REF  SAS_AF   VT  \\\n",
       "ID                                                                        \n",
       "rs10751867  0.4494  0.9066     GT  2504  2349064   100   C  0.7393  SNP   \n",
       "rs4881046   0.9335  0.8926     GT  2504  3033127   100   T  0.7955  SNP   \n",
       "\n",
       "            call_rate  heterozygosity is_transition var_subtype var_type  \n",
       "ID                                                                        \n",
       "rs10751867          1        0.489550          True          ts      snp  \n",
       "rs4881046           1        0.432797         False          tv      snp  "
      ]
     },
     "execution_count": 27,
     "metadata": {},
     "output_type": "execute_result"
    }
   ],
   "source": [
    "df_1000G_SNPs.head(2)"
   ]
  },
  {
   "cell_type": "code",
   "execution_count": 28,
   "metadata": {
    "collapsed": true
   },
   "outputs": [],
   "source": [
    "%run population_names.py\n",
    "\n",
    "dumpfile = \"dumpfiles/population_names.csv\"\n",
    "df_1000G_population_names = create_population_names_df(dumpfile)"
   ]
  },
  {
   "cell_type": "code",
   "execution_count": 29,
   "metadata": {
    "collapsed": false
   },
   "outputs": [],
   "source": [
    "ceu_description = 'Utah Residents (CEPH) with Northern ' + \\\n",
    "                  'and Western European Ancestry'\n",
    "df_1000G_population_names = df_1000G_population_names.set_value('CEU', 'Population Description',\n",
    "                                                                ceu_description)"
   ]
  },
  {
   "cell_type": "code",
   "execution_count": 30,
   "metadata": {
    "collapsed": false
   },
   "outputs": [
    {
     "data": {
      "text/plain": [
       "'African Caribbeans in Barbados'"
      ]
     },
     "execution_count": 30,
     "metadata": {},
     "output_type": "execute_result"
    }
   ],
   "source": [
    "def whois(pop_code):\n",
    "    return df_1000G_population_names.loc[pop_code]['Population Description']\n",
    "\n",
    "whois('ACB')"
   ]
  },
  {
   "cell_type": "code",
   "execution_count": 31,
   "metadata": {
    "collapsed": false
   },
   "outputs": [
    {
     "data": {
      "text/html": [
       "<div>\n",
       "<table border=\"1\" class=\"dataframe\">\n",
       "  <thead>\n",
       "    <tr style=\"text-align: right;\">\n",
       "      <th></th>\n",
       "      <th>rs10751867</th>\n",
       "      <th>rs4881046</th>\n",
       "      <th>rs907687</th>\n",
       "      <th>rs4747860</th>\n",
       "      <th>rs1326207</th>\n",
       "      <th>rs4749305</th>\n",
       "      <th>rs3123687</th>\n",
       "      <th>rs4948800</th>\n",
       "      <th>rs709616</th>\n",
       "      <th>rs3810947</th>\n",
       "      <th>rs2795918</th>\n",
       "      <th>rs7911953</th>\n",
       "      <th>rs10997469</th>\n",
       "      <th>rs11000445</th>\n",
       "      <th>rs7080350</th>\n",
       "      <th>rs7097617</th>\n",
       "      <th>rs7902158</th>\n",
       "      <th>rs2245251</th>\n",
       "      <th>rs11186960</th>\n",
       "      <th>rs4244304</th>\n",
       "      <th>...</th>\n",
       "      <th>rs10111852</th>\n",
       "      <th>rs7048037</th>\n",
       "      <th>rs1500318</th>\n",
       "      <th>rs1535661</th>\n",
       "      <th>rs10756267</th>\n",
       "      <th>rs791654</th>\n",
       "      <th>rs10810942</th>\n",
       "      <th>rs10811305</th>\n",
       "      <th>rs3780827</th>\n",
       "      <th>rs7864029</th>\n",
       "      <th>rs1231375</th>\n",
       "      <th>rs12380601</th>\n",
       "      <th>rs7851160</th>\n",
       "      <th>rs4146171</th>\n",
       "      <th>rs4877824</th>\n",
       "      <th>rs10746839</th>\n",
       "      <th>rs1980889</th>\n",
       "      <th>rs3001115</th>\n",
       "      <th>rs10981899</th>\n",
       "      <th>rs2809393</th>\n",
       "    </tr>\n",
       "  </thead>\n",
       "  <tbody>\n",
       "    <tr>\n",
       "      <th>HG00096</th>\n",
       "      <td>TT</td>\n",
       "      <td>TA</td>\n",
       "      <td>TT</td>\n",
       "      <td>CT</td>\n",
       "      <td>AA</td>\n",
       "      <td>AA</td>\n",
       "      <td>CG</td>\n",
       "      <td>CC</td>\n",
       "      <td>GG</td>\n",
       "      <td>GG</td>\n",
       "      <td>TT</td>\n",
       "      <td>TT</td>\n",
       "      <td>CT</td>\n",
       "      <td>TT</td>\n",
       "      <td>GA</td>\n",
       "      <td>AG</td>\n",
       "      <td>AG</td>\n",
       "      <td>CT</td>\n",
       "      <td>CA</td>\n",
       "      <td>CT</td>\n",
       "      <td>...</td>\n",
       "      <td>CC</td>\n",
       "      <td>GG</td>\n",
       "      <td>CC</td>\n",
       "      <td>AA</td>\n",
       "      <td>GG</td>\n",
       "      <td>AA</td>\n",
       "      <td>GA</td>\n",
       "      <td>GC</td>\n",
       "      <td>CC</td>\n",
       "      <td>GG</td>\n",
       "      <td>CC</td>\n",
       "      <td>GA</td>\n",
       "      <td>AA</td>\n",
       "      <td>TC</td>\n",
       "      <td>AG</td>\n",
       "      <td>GG</td>\n",
       "      <td>TT</td>\n",
       "      <td>CC</td>\n",
       "      <td>GG</td>\n",
       "      <td>TC</td>\n",
       "    </tr>\n",
       "    <tr>\n",
       "      <th>HG00097</th>\n",
       "      <td>CT</td>\n",
       "      <td>AA</td>\n",
       "      <td>TT</td>\n",
       "      <td>CC</td>\n",
       "      <td>AA</td>\n",
       "      <td>AA</td>\n",
       "      <td>GG</td>\n",
       "      <td>CC</td>\n",
       "      <td>GG</td>\n",
       "      <td>GA</td>\n",
       "      <td>TT</td>\n",
       "      <td>TT</td>\n",
       "      <td>CC</td>\n",
       "      <td>TT</td>\n",
       "      <td>AA</td>\n",
       "      <td>AG</td>\n",
       "      <td>AG</td>\n",
       "      <td>CT</td>\n",
       "      <td>CA</td>\n",
       "      <td>CC</td>\n",
       "      <td>...</td>\n",
       "      <td>TT</td>\n",
       "      <td>GG</td>\n",
       "      <td>CC</td>\n",
       "      <td>AA</td>\n",
       "      <td>GG</td>\n",
       "      <td>AA</td>\n",
       "      <td>GG</td>\n",
       "      <td>GG</td>\n",
       "      <td>CG</td>\n",
       "      <td>GG</td>\n",
       "      <td>CC</td>\n",
       "      <td>AA</td>\n",
       "      <td>AA</td>\n",
       "      <td>CC</td>\n",
       "      <td>AG</td>\n",
       "      <td>GG</td>\n",
       "      <td>TC</td>\n",
       "      <td>TC</td>\n",
       "      <td>GG</td>\n",
       "      <td>CC</td>\n",
       "    </tr>\n",
       "  </tbody>\n",
       "</table>\n",
       "<p>2 rows × 442 columns</p>\n",
       "</div>"
      ],
      "text/plain": [
       "        rs10751867 rs4881046 rs907687 rs4747860 rs1326207 rs4749305 rs3123687  \\\n",
       "HG00096         TT        TA       TT        CT        AA        AA        CG   \n",
       "HG00097         CT        AA       TT        CC        AA        AA        GG   \n",
       "\n",
       "        rs4948800 rs709616 rs3810947 rs2795918 rs7911953 rs10997469  \\\n",
       "HG00096        CC       GG        GG        TT        TT         CT   \n",
       "HG00097        CC       GG        GA        TT        TT         CC   \n",
       "\n",
       "        rs11000445 rs7080350 rs7097617 rs7902158 rs2245251 rs11186960  \\\n",
       "HG00096         TT        GA        AG        AG        CT         CA   \n",
       "HG00097         TT        AA        AG        AG        CT         CA   \n",
       "\n",
       "        rs4244304    ...    rs10111852 rs7048037 rs1500318 rs1535661  \\\n",
       "HG00096        CT    ...            CC        GG        CC        AA   \n",
       "HG00097        CC    ...            TT        GG        CC        AA   \n",
       "\n",
       "        rs10756267 rs791654 rs10810942 rs10811305 rs3780827 rs7864029  \\\n",
       "HG00096         GG       AA         GA         GC        CC        GG   \n",
       "HG00097         GG       AA         GG         GG        CG        GG   \n",
       "\n",
       "        rs1231375 rs12380601 rs7851160 rs4146171 rs4877824 rs10746839  \\\n",
       "HG00096        CC         GA        AA        TC        AG         GG   \n",
       "HG00097        CC         AA        AA        CC        AG         GG   \n",
       "\n",
       "        rs1980889 rs3001115 rs10981899 rs2809393  \n",
       "HG00096        TT        CC         GG        TC  \n",
       "HG00097        TC        TC         GG        CC  \n",
       "\n",
       "[2 rows x 442 columns]"
      ]
     },
     "execution_count": 31,
     "metadata": {},
     "output_type": "execute_result"
    }
   ],
   "source": [
    "from os.path import isfile\n",
    "\n",
    "df = df_1000G_genotypes\n",
    "df2 = pd.DataFrame(index=df.index)\n",
    "\n",
    "alleles_dumpfile = 'dumpfiles/1000G_genotypes_alleles_dataframe'\n",
    "\n",
    "if not isfile(alleles_dumpfile):\n",
    "    def genotype_code_to_alleles(code, ref, alt):\n",
    "        if code == 0:\n",
    "            alleles = (ref, ref)\n",
    "        elif code == 1:\n",
    "            alleles = (ref, alt)\n",
    "        elif code == 2:\n",
    "            alleles = (alt, alt)\n",
    "        else:\n",
    "            raise ValueError(\"I don't know genotype '{}'\".format(code))\n",
    "\n",
    "        return ''.join(alleles)\n",
    "\n",
    "    for i, (rs, genotypes) in enumerate(df.iteritems()):\n",
    "        ref, alt = df_1000G_SNPs.loc[rs][['REF', 'ALT']]\n",
    "        df2[rs] = genotypes.apply(genotype_code_to_alleles, args=(ref, alt))\n",
    "\n",
    "    df2.to_csv(alleles_dumpfile)\n",
    "\n",
    "df_1000G_genotypes_alleles = pd.read_csv(alleles_dumpfile, index_col=0)\n",
    "df_1000G_genotypes_alleles.head(2)"
   ]
  },
  {
   "cell_type": "markdown",
   "metadata": {},
   "source": [
    "## Compare SNP position 1000Genomes vs. dbSNP"
   ]
  },
  {
   "cell_type": "code",
   "execution_count": 32,
   "metadata": {
    "collapsed": false
   },
   "outputs": [
    {
     "data": {
      "text/html": [
       "<div>\n",
       "<table border=\"1\" class=\"dataframe\">\n",
       "  <thead>\n",
       "    <tr style=\"text-align: right;\">\n",
       "      <th></th>\n",
       "      <th>CHROM</th>\n",
       "      <th>POS</th>\n",
       "      <th>source</th>\n",
       "      <th>chr</th>\n",
       "      <th>pos</th>\n",
       "      <th>pos_to</th>\n",
       "    </tr>\n",
       "    <tr>\n",
       "      <th>ID</th>\n",
       "      <th></th>\n",
       "      <th></th>\n",
       "      <th></th>\n",
       "      <th></th>\n",
       "      <th></th>\n",
       "      <th></th>\n",
       "    </tr>\n",
       "  </thead>\n",
       "  <tbody>\n",
       "    <tr>\n",
       "      <th>rs10751867</th>\n",
       "      <td>10</td>\n",
       "      <td>2349064</td>\n",
       "      <td>dbSNP</td>\n",
       "      <td>10</td>\n",
       "      <td>2306870</td>\n",
       "      <td>2306870</td>\n",
       "    </tr>\n",
       "    <tr>\n",
       "      <th>rs4881046</th>\n",
       "      <td>10</td>\n",
       "      <td>3033127</td>\n",
       "      <td>dbSNP</td>\n",
       "      <td>10</td>\n",
       "      <td>2990935</td>\n",
       "      <td>2990935</td>\n",
       "    </tr>\n",
       "    <tr>\n",
       "      <th>rs907687</th>\n",
       "      <td>10</td>\n",
       "      <td>5900762</td>\n",
       "      <td>dbSNP</td>\n",
       "      <td>10</td>\n",
       "      <td>5858799</td>\n",
       "      <td>5858799</td>\n",
       "    </tr>\n",
       "    <tr>\n",
       "      <th>rs4747860</th>\n",
       "      <td>10</td>\n",
       "      <td>10540164</td>\n",
       "      <td>dbSNP</td>\n",
       "      <td>10</td>\n",
       "      <td>10498201</td>\n",
       "      <td>10498201</td>\n",
       "    </tr>\n",
       "    <tr>\n",
       "      <th>rs1326207</th>\n",
       "      <td>10</td>\n",
       "      <td>15166905</td>\n",
       "      <td>dbSNP</td>\n",
       "      <td>10</td>\n",
       "      <td>15124906</td>\n",
       "      <td>15124906</td>\n",
       "    </tr>\n",
       "  </tbody>\n",
       "</table>\n",
       "</div>"
      ],
      "text/plain": [
       "            CHROM       POS source  chr       pos    pos_to\n",
       "ID                                                         \n",
       "rs10751867     10   2349064  dbSNP   10   2306870   2306870\n",
       "rs4881046      10   3033127  dbSNP   10   2990935   2990935\n",
       "rs907687       10   5900762  dbSNP   10   5858799   5858799\n",
       "rs4747860      10  10540164  dbSNP   10  10498201  10498201\n",
       "rs1326207      10  15166905  dbSNP   10  15124906  15124906"
      ]
     },
     "execution_count": 32,
     "metadata": {},
     "output_type": "execute_result"
    }
   ],
   "source": [
    "comparison = df_1000G_SNPs[['CHROM', 'POS']].join(galanter_dbSNP)\n",
    "diff_pos = abs(comparison['CHROM'] - comparison['pos']) > 2\n",
    "comparison[diff_pos].head()"
   ]
  },
  {
   "cell_type": "code",
   "execution_count": 33,
   "metadata": {
    "collapsed": false
   },
   "outputs": [],
   "source": [
    "def maf_by_population_from_genotypes(df_genotypes, df_populations, dumpfile):\n",
    "\n",
    "    if not isfile(dumpfile):\n",
    "        freq_by_population = defaultdict(dict)\n",
    "\n",
    "        for rs, genotypes in df_genotypes.iteritems():\n",
    "            ref_alleles_count = defaultdict(lambda: 0)\n",
    "            total_alleles_count = defaultdict(lambda: 0)\n",
    "            ref = df_genotypes.iloc[1, 1][0]  # Arbitrarily pick a ref allele for the count\n",
    "\n",
    "            for sample, genotype in genotypes.iteritems():\n",
    "                # genotype is a 'TT' or 'TC' like string, transform it to a number of ref_alleles\n",
    "                ref_count = genotype.count(ref)\n",
    "                try:\n",
    "                    population = df_populations.loc[sample].population\n",
    "                    super_population = df_populations.loc[sample].super_population\n",
    "                except KeyError:\n",
    "                    continue\n",
    "                ref_alleles_count[population] += ref_count\n",
    "                ref_alleles_count[super_population] += ref_count\n",
    "                total_alleles_count[population] += 2\n",
    "                total_alleles_count[super_population] += 2\n",
    "\n",
    "            for population, ref_alleles in ref_alleles_count.items():\n",
    "                freq_by_population[rs][population] = ref_alleles / total_alleles_count[population]\n",
    "\n",
    "        freqs = pd.DataFrame(dict(freq_by_population)).transpose()\n",
    "        mafs = freqs.applymap(lambda freq: min(freq, 1 - freq))\n",
    "        mafs.to_csv(dumpfile)\n",
    "\n",
    "    return pd.read_csv(dumpfile, index_col=0)"
   ]
  },
  {
   "cell_type": "code",
   "execution_count": 34,
   "metadata": {
    "collapsed": false
   },
   "outputs": [],
   "source": [
    "# !rm dumpfiles/HGDP_MAF_per_population.csv\n",
    "\n",
    "# maf_HGDP = maf_by_population_from_genotypes(\n",
    "#     hgdp_genotypes_alleles, hgdp_populations,\n",
    "#     \"dumpfiles/HGDP_MAF_per_population.csv\"\n",
    "# )\n",
    "# maf_HGDP.head(2)"
   ]
  },
  {
   "cell_type": "code",
   "execution_count": 35,
   "metadata": {
    "collapsed": false
   },
   "outputs": [
    {
     "data": {
      "text/html": [
       "<div>\n",
       "<table border=\"1\" class=\"dataframe\">\n",
       "  <thead>\n",
       "    <tr style=\"text-align: right;\">\n",
       "      <th></th>\n",
       "      <th>ACB</th>\n",
       "      <th>AFR</th>\n",
       "      <th>AMR</th>\n",
       "      <th>ASW</th>\n",
       "      <th>BEB</th>\n",
       "      <th>CDX</th>\n",
       "      <th>CEU</th>\n",
       "      <th>CHB</th>\n",
       "      <th>CHS</th>\n",
       "      <th>CLM</th>\n",
       "      <th>EAS</th>\n",
       "      <th>ESN</th>\n",
       "      <th>EUR</th>\n",
       "      <th>FIN</th>\n",
       "      <th>GBR</th>\n",
       "      <th>GIH</th>\n",
       "      <th>GWD</th>\n",
       "      <th>IBS</th>\n",
       "      <th>ITU</th>\n",
       "      <th>JPT</th>\n",
       "      <th>KHV</th>\n",
       "      <th>LWK</th>\n",
       "      <th>MSL</th>\n",
       "      <th>MXL</th>\n",
       "      <th>PEL</th>\n",
       "      <th>PJL</th>\n",
       "      <th>PUR</th>\n",
       "      <th>SAS</th>\n",
       "      <th>STU</th>\n",
       "      <th>TSI</th>\n",
       "      <th>YRI</th>\n",
       "    </tr>\n",
       "  </thead>\n",
       "  <tbody>\n",
       "    <tr>\n",
       "      <th>rs10026397</th>\n",
       "      <td>0.145833</td>\n",
       "      <td>0.080938</td>\n",
       "      <td>0.180115</td>\n",
       "      <td>0.237705</td>\n",
       "      <td>0.395349</td>\n",
       "      <td>0.123656</td>\n",
       "      <td>0.191919</td>\n",
       "      <td>0.135922</td>\n",
       "      <td>0.080952</td>\n",
       "      <td>0.18617</td>\n",
       "      <td>0.117063</td>\n",
       "      <td>0.055556</td>\n",
       "      <td>0.16998</td>\n",
       "      <td>0.156566</td>\n",
       "      <td>0.159341</td>\n",
       "      <td>0.42233</td>\n",
       "      <td>0.026549</td>\n",
       "      <td>0.149533</td>\n",
       "      <td>0.416667</td>\n",
       "      <td>0.100962</td>\n",
       "      <td>0.146465</td>\n",
       "      <td>0.060606</td>\n",
       "      <td>0.058824</td>\n",
       "      <td>0.125</td>\n",
       "      <td>0.117647</td>\n",
       "      <td>0.354167</td>\n",
       "      <td>0.259615</td>\n",
       "      <td>0.404908</td>\n",
       "      <td>0.431373</td>\n",
       "      <td>0.191589</td>\n",
       "      <td>0.050926</td>\n",
       "    </tr>\n",
       "    <tr>\n",
       "      <th>rs10042283</th>\n",
       "      <td>0.000000</td>\n",
       "      <td>0.000000</td>\n",
       "      <td>0.000000</td>\n",
       "      <td>0.000000</td>\n",
       "      <td>0.000000</td>\n",
       "      <td>0.000000</td>\n",
       "      <td>0.000000</td>\n",
       "      <td>0.000000</td>\n",
       "      <td>0.000000</td>\n",
       "      <td>0.00000</td>\n",
       "      <td>0.000000</td>\n",
       "      <td>0.000000</td>\n",
       "      <td>0.00000</td>\n",
       "      <td>0.000000</td>\n",
       "      <td>0.000000</td>\n",
       "      <td>0.00000</td>\n",
       "      <td>0.000000</td>\n",
       "      <td>0.000000</td>\n",
       "      <td>0.000000</td>\n",
       "      <td>0.000000</td>\n",
       "      <td>0.000000</td>\n",
       "      <td>0.000000</td>\n",
       "      <td>0.000000</td>\n",
       "      <td>0.000</td>\n",
       "      <td>0.000000</td>\n",
       "      <td>0.000000</td>\n",
       "      <td>0.000000</td>\n",
       "      <td>0.000000</td>\n",
       "      <td>0.000000</td>\n",
       "      <td>0.000000</td>\n",
       "      <td>0.000000</td>\n",
       "    </tr>\n",
       "  </tbody>\n",
       "</table>\n",
       "</div>"
      ],
      "text/plain": [
       "                 ACB       AFR       AMR       ASW       BEB       CDX  \\\n",
       "rs10026397  0.145833  0.080938  0.180115  0.237705  0.395349  0.123656   \n",
       "rs10042283  0.000000  0.000000  0.000000  0.000000  0.000000  0.000000   \n",
       "\n",
       "                 CEU       CHB       CHS      CLM       EAS       ESN  \\\n",
       "rs10026397  0.191919  0.135922  0.080952  0.18617  0.117063  0.055556   \n",
       "rs10042283  0.000000  0.000000  0.000000  0.00000  0.000000  0.000000   \n",
       "\n",
       "                EUR       FIN       GBR      GIH       GWD       IBS  \\\n",
       "rs10026397  0.16998  0.156566  0.159341  0.42233  0.026549  0.149533   \n",
       "rs10042283  0.00000  0.000000  0.000000  0.00000  0.000000  0.000000   \n",
       "\n",
       "                 ITU       JPT       KHV       LWK       MSL    MXL       PEL  \\\n",
       "rs10026397  0.416667  0.100962  0.146465  0.060606  0.058824  0.125  0.117647   \n",
       "rs10042283  0.000000  0.000000  0.000000  0.000000  0.000000  0.000  0.000000   \n",
       "\n",
       "                 PJL       PUR       SAS       STU       TSI       YRI  \n",
       "rs10026397  0.354167  0.259615  0.404908  0.431373  0.191589  0.050926  \n",
       "rs10042283  0.000000  0.000000  0.000000  0.000000  0.000000  0.000000  "
      ]
     },
     "execution_count": 35,
     "metadata": {},
     "output_type": "execute_result"
    }
   ],
   "source": [
    "# !rm dumpfiles/1000G_MAF_per_population.csv\n",
    "\n",
    "maf_1000G = maf_by_population_from_genotypes(\n",
    "    df_1000G_genotypes_alleles, df_1000G_sample_populations,\n",
    "    \"dumpfiles/1000G_MAF_per_population.csv\"\n",
    ")\n",
    "maf_1000G.head(2)"
   ]
  },
  {
   "cell_type": "markdown",
   "metadata": {},
   "source": [
    "### Comparar SNPs"
   ]
  },
  {
   "cell_type": "code",
   "execution_count": 36,
   "metadata": {
    "collapsed": false
   },
   "outputs": [
    {
     "name": "stdout",
     "output_type": "stream",
     "text": [
      "1000 Genomas: 442\n",
      "Galanter panel: 446\n"
     ]
    }
   ],
   "source": [
    "print(\"1000 Genomas:\", len(df_1000G_SNPs))\n",
    "print(\"Galanter panel:\", len(galanter))"
   ]
  },
  {
   "cell_type": "markdown",
   "metadata": {},
   "source": [
    "**NOTA** sobre los 4 SNPs que faltan\n",
    "- un SNP tiene mal el cromosoma en Galanter\n",
    "- en el proceso de leer la data de 1000 genomas estoy dejando afuera tres SNPs, porque tienen más de 2 variantes."
   ]
  },
  {
   "cell_type": "code",
   "execution_count": 37,
   "metadata": {
    "collapsed": false
   },
   "outputs": [
    {
     "data": {
      "text/html": [
       "<div>\n",
       "<table border=\"1\" class=\"dataframe\">\n",
       "  <thead>\n",
       "    <tr style=\"text-align: right;\">\n",
       "      <th></th>\n",
       "      <th>chr</th>\n",
       "      <th>position</th>\n",
       "      <th>A1</th>\n",
       "      <th>A2</th>\n",
       "      <th>NAM_AF</th>\n",
       "      <th>EUR_AF</th>\n",
       "      <th>AFR_AF</th>\n",
       "      <th>population</th>\n",
       "      <th>LSBL(Fst)</th>\n",
       "      <th>LSBL(In)</th>\n",
       "    </tr>\n",
       "    <tr>\n",
       "      <th>SNP rsID</th>\n",
       "      <th></th>\n",
       "      <th></th>\n",
       "      <th></th>\n",
       "      <th></th>\n",
       "      <th></th>\n",
       "      <th></th>\n",
       "      <th></th>\n",
       "      <th></th>\n",
       "      <th></th>\n",
       "      <th></th>\n",
       "    </tr>\n",
       "  </thead>\n",
       "  <tbody>\n",
       "    <tr>\n",
       "      <th>rs10071261</th>\n",
       "      <td>5</td>\n",
       "      <td>1066694</td>\n",
       "      <td>T</td>\n",
       "      <td>C</td>\n",
       "      <td>0.107</td>\n",
       "      <td>0.086</td>\n",
       "      <td>0.903</td>\n",
       "      <td>AFR</td>\n",
       "      <td>0.650</td>\n",
       "      <td>0.375</td>\n",
       "    </tr>\n",
       "    <tr>\n",
       "      <th>rs12065716</th>\n",
       "      <td>1</td>\n",
       "      <td>116575568</td>\n",
       "      <td>G</td>\n",
       "      <td>C</td>\n",
       "      <td>0.389</td>\n",
       "      <td>0.885</td>\n",
       "      <td>0.136</td>\n",
       "      <td>EUR</td>\n",
       "      <td>0.372</td>\n",
       "      <td>0.207</td>\n",
       "    </tr>\n",
       "    <tr>\n",
       "      <th>rs2242865</th>\n",
       "      <td>21</td>\n",
       "      <td>15948902</td>\n",
       "      <td>G</td>\n",
       "      <td>T</td>\n",
       "      <td>0.011</td>\n",
       "      <td>0.156</td>\n",
       "      <td>0.932</td>\n",
       "      <td>AFR</td>\n",
       "      <td>0.695</td>\n",
       "      <td>0.422</td>\n",
       "    </tr>\n",
       "    <tr>\n",
       "      <th>rs2510719</th>\n",
       "      <td>11</td>\n",
       "      <td>126511001</td>\n",
       "      <td>A</td>\n",
       "      <td>C</td>\n",
       "      <td>0.034</td>\n",
       "      <td>0.574</td>\n",
       "      <td>0.039</td>\n",
       "      <td>EUR</td>\n",
       "      <td>0.341</td>\n",
       "      <td>0.196</td>\n",
       "    </tr>\n",
       "  </tbody>\n",
       "</table>\n",
       "</div>"
      ],
      "text/plain": [
       "            chr   position A1 A2  NAM_AF  EUR_AF  AFR_AF population  \\\n",
       "SNP rsID                                                              \n",
       "rs10071261    5    1066694  T  C   0.107   0.086   0.903        AFR   \n",
       "rs12065716    1  116575568  G  C   0.389   0.885   0.136        EUR   \n",
       "rs2242865    21   15948902  G  T   0.011   0.156   0.932        AFR   \n",
       "rs2510719    11  126511001  A  C   0.034   0.574   0.039        EUR   \n",
       "\n",
       "            LSBL(Fst)  LSBL(In)  \n",
       "SNP rsID                         \n",
       "rs10071261      0.650     0.375  \n",
       "rs12065716      0.372     0.207  \n",
       "rs2242865       0.695     0.422  \n",
       "rs2510719       0.341     0.196  "
      ]
     },
     "execution_count": 37,
     "metadata": {},
     "output_type": "execute_result"
    }
   ],
   "source": [
    "missing_in_1000g = set(galanter.index) - set(df_1000G_SNPs.index)\n",
    "galanter.loc[missing_in_1000g]"
   ]
  },
  {
   "cell_type": "code",
   "execution_count": 38,
   "metadata": {
    "collapsed": false
   },
   "outputs": [
    {
     "data": {
      "text/plain": [
       "A1    C\n",
       "A2    T\n",
       "Name: rs3911610, dtype: object"
      ]
     },
     "execution_count": 38,
     "metadata": {},
     "output_type": "execute_result"
    }
   ],
   "source": [
    "galanter.loc['rs3911610'][['A1', 'A2']]"
   ]
  },
  {
   "cell_type": "markdown",
   "metadata": {},
   "source": [
    "### Crear listas de SNPs ya filtradas para GAL total y GAL parcial"
   ]
  },
  {
   "cell_type": "code",
   "execution_count": 39,
   "metadata": {
    "collapsed": true
   },
   "outputs": [],
   "source": [
    "df_1000G_SNPs.index.values.tofile(\n",
    "    \"../admixture/galT.snps\", sep=\"\\n\", format=\"%s\"\n",
    ")\n",
    "df_1000G_SNPs.index.intersection(present.index).values.tofile(\n",
    "    \"../admixture/galP.snps\", sep=\"\\n\", format=\"%s\"\n",
    ")"
   ]
  },
  {
   "cell_type": "markdown",
   "metadata": {
    "collapsed": true
   },
   "source": [
    "### Ver qué subpoblaciones se van en $Galanter_{IN}$ y cuáles quedan"
   ]
  },
  {
   "cell_type": "code",
   "execution_count": 50,
   "metadata": {
    "collapsed": false
   },
   "outputs": [
    {
     "name": "stderr",
     "output_type": "stream",
     "text": [
      "/home/juan/Dropbox/bio/tesina/notebook/analyze_populations_in_galanter.py:9: FutureWarning: \n",
      "The default value for 'return_type' will change to 'axes' in a future release.\n",
      " To use the future behavior now, set return_type='axes'.\n",
      " To keep the previous behavior and silence this warning, set return_type='dict'.\n",
      "  df.boxplot(rot=90, showmeans=True)\n"
     ]
    },
    {
     "data": {
      "image/png": "[encoded data removed]",
      "text/plain": [
       "<matplotlib.figure.Figure at 0x7f1ef438fa20>"
      ]
     },
     "metadata": {},
     "output_type": "display_data"
    },
    {
     "data": {
      "image/png": "[encoded data removed]",
      "text/plain": [
       "<matplotlib.figure.Figure at 0x7f1eeffb0ac8>"
      ]
     },
     "metadata": {},
     "output_type": "display_data"
    }
   ],
   "source": [
    "% run analyze_populations_in_galanter.py\n",
    "\n",
    "populations_to_plot = []\n",
    "\n",
    "for superpop in ['AFR', 'EUR', 'SAS', 'EAS', 'AMR']:\n",
    "    pops = df_1000G_sample_populations[df_1000G_sample_populations.super_population == superpop].population.unique()\n",
    "    populations_to_plot += list(pops)\n",
    "\n",
    "dfs = {'$Galanter_{IN}$': present,\n",
    "       '$Galanter_{TOTAL}$': galanter}\n",
    "\n",
    "for name, df in dfs.items():\n",
    "    df = df.join(maf_1000G).filter(regex='|'.join(populations_to_plot))\n",
    "    df = df[populations_to_plot]\n",
    "    \n",
    "    ax = boxplot_freqs_by_populations(\n",
    "        df, populations_to_plot,\n",
    "        title=\"Promedio de frecuencias alélicas en {}, por población\".format(name),\n",
    "    )\n",
    "    ax.set_ylim((0, 0.5))\n",
    "    ax.tick_params(axis='both', which='major', labelsize=14)\n",
    "    plt.show()"
   ]
  },
  {
   "cell_type": "code",
   "execution_count": 47,
   "metadata": {
    "collapsed": false
   },
   "outputs": [
    {
     "data": {
      "image/png": "[encoded data removed]",
      "text/plain": [
       "<matplotlib.figure.Figure at 0x7f1ef7f3e6d8>"
      ]
     },
     "metadata": {},
     "output_type": "display_data"
    }
   ],
   "source": [
    "fig, axes = plt.subplots(1, 2, sharey=False)\n",
    "titles = (\"MAF por continente en $GAL_{Total}$\",\n",
    "          \"MAF por continente en $GAL_{Parcial}$\" )\n",
    "\n",
    "for i, df in enumerate([galanter, present]):\n",
    "    ax = axes[i]\n",
    "    df = df.join(maf_1000G).filter(['AFR', 'EUR', 'SAS', 'EAS', 'AMR'])\n",
    "    df.boxplot(ax=ax, rot=0, showmeans=True, return_type='axes')\n",
    "    ax = axes[i]\n",
    "    ax.set_title(titles[i])\n",
    "    ax.set_ylim((0, 0.5))\n",
    "    ax.axhline(0.5, color='salmon', linestyle='--')\n",
    "\n",
    "fig.set_figheight(5)\n",
    "plt.show()"
   ]
  },
  {
   "cell_type": "code",
   "execution_count": 51,
   "metadata": {
    "collapsed": false
   },
   "outputs": [
    {
     "data": {
      "image/png": "[encoded data removed]",
      "text/plain": [
       "<matplotlib.figure.Figure at 0x7f1ef47b02b0>"
      ]
     },
     "metadata": {},
     "output_type": "display_data"
    }
   ],
   "source": [
    "% run helpers/text_helpers.py\n",
    "\n",
    "populations_to_plot = [p for p in df_1000G_sample_populations.sort_values('super_population')['population'].unique()]\n",
    "\n",
    "get_freqs = lambda df: df.join(maf_1000G)[populations_to_plot]\n",
    "\n",
    "chart_width = 4\n",
    "chart_height = 4\n",
    "fig_rows = 6\n",
    "fig_cols = 5\n",
    "\n",
    "fig = plt.figure(figsize=(fig_cols * chart_height, fig_rows * chart_width))\n",
    "\n",
    "for i, population in enumerate(populations_to_plot):\n",
    "    df = pd.DataFrame({'$GAL_{Parcial}$': get_freqs(present)[population],\n",
    "                       '$GAL_{Total}$': get_freqs(galanter)[population]})\n",
    "\n",
    "    ax = plt.subplot(fig_rows, fig_cols, i+1)\n",
    "    pop_description = df_1000G_population_names.loc[population]['Population Description']\n",
    "    ax.set_title(population + \"\\n\" + trunc_text(pop_description, 30), y=1.05, fontsize=15)    \n",
    "    df.boxplot(ax=ax, showmeans=True, return_type='both')\n",
    "    ax.set_ylim((0, 0.55))\n",
    "\n",
    "plt.tight_layout()\n",
    "plt.show()"
   ]
  },
  {
   "cell_type": "code",
   "execution_count": 43,
   "metadata": {
    "collapsed": true
   },
   "outputs": [],
   "source": [
    "mean_frequencies = lambda df: maf_1000G.loc[df.index].mean()\n",
    "std_frequencies = lambda df: maf_1000G.loc[df.index].std()"
   ]
  },
  {
   "cell_type": "code",
   "execution_count": 44,
   "metadata": {
    "collapsed": false
   },
   "outputs": [],
   "source": [
    "import numpy as np\n",
    "from collections import OrderedDict\n",
    "\n",
    "df = pd.DataFrame(OrderedDict([\n",
    "    ('$GAL_{Total}$', mean_frequencies(galanter)),\n",
    "    ('$GAL_{Parcial}$', mean_frequencies(present)),\n",
    "    ('Freq. Diff.', mean_frequencies(galanter) - mean_frequencies(present)),\n",
    "]))\n",
    "\n",
    "df = df.applymap(lambda n: round(n, 2))\n",
    "freq_diff = df.join(df_1000G_population_names[['Population Description', 'Super Population Code']]).fillna('')\n",
    "freq_diff = freq_diff.rename(columns={'Population Description': 'Population'})\n",
    "freq_diff = freq_diff.drop('Super Population Code', axis=1)\n",
    "freq_diff = freq_diff[freq_diff['Population'] != '']  # Removes superpopulations\n",
    "freq_diff.sort_values(by='Freq. Diff.', ascending=False, inplace=True)"
   ]
  },
  {
   "cell_type": "markdown",
   "metadata": {},
   "source": [
    "### Comparación de la \"heterocigosidad\""
   ]
  },
  {
   "cell_type": "code",
   "execution_count": 45,
   "metadata": {
    "collapsed": false
   },
   "outputs": [],
   "source": [
    "# galanter_heter = galanter.join(df_1000G_SNPs, rsuffix='_').heterozygosity\n",
    "# present_heter = present.join(df_1000G_SNPs, rsuffix='_').heterozygosity\n",
    "\n",
    "# plt.figure(figsize=(5, 5))\n",
    "# ax = plt.subplot(111)\n",
    "# ax.boxplot([galanter_heter, present_heter])\n",
    "# # ax.set_xticklabels(['$Galanter_{TOTAL}$', '$Galanetr_{IN}$'])\n",
    "# # ax.set_ylim([0, .55])\n",
    "# plt.show()"
   ]
  },
  {
   "cell_type": "markdown",
   "metadata": {},
   "source": [
    "# Read the Control Random-Panels"
   ]
  },
  {
   "cell_type": "code",
   "execution_count": 52,
   "metadata": {
    "collapsed": false
   },
   "outputs": [],
   "source": [
    "fn = \"../1000Genomes_data/control-panel-factor1/controlx1.parsed.traw\"\n",
    "control_genotypes = pd.read_csv(fn, sep=\"\\t\", index_col=\"SNP\").transpose()\n",
    "control_genotypes.index = [sample.split(\"_\")[0] for sample in control_genotypes.index]"
   ]
  },
  {
   "cell_type": "code",
   "execution_count": 53,
   "metadata": {
    "collapsed": false
   },
   "outputs": [],
   "source": [
    "fn = \"../1000Genomes_data/control-panel-factor10/controlx10.parsed.traw\"\n",
    "control_2_genotypes = pd.read_csv(fn, sep=\"\\t\", index_col=\"SNP\").transpose()\n",
    "control_2_genotypes.index = [sample.split(\"_\")[0] for sample in control_2_genotypes.index]"
   ]
  },
  {
   "cell_type": "code",
   "execution_count": 55,
   "metadata": {
    "collapsed": true
   },
   "outputs": [],
   "source": [
    "# fn = \"../1000Genomes_data/control-panel-factor100/controlx100.parsed.traw\"\n",
    "# control_3_genotypes = pd.read_csv(fn, sep=\"\\t\", index_col=\"SNP\").transpose()\n",
    "# control_3_genotypes.index = [sample.split(\"_\")[0] for sample in control_3_genotypes.index]"
   ]
  },
  {
   "cell_type": "markdown",
   "metadata": {
    "collapsed": true
   },
   "source": [
    "# Preparar datos para PCA y ADMIXTURE"
   ]
  },
  {
   "cell_type": "code",
   "execution_count": 56,
   "metadata": {
    "collapsed": true
   },
   "outputs": [],
   "source": [
    "panel_indices = OrderedDict()\n",
    "panel_indices[\"GAL Total\"] = galanter.index\n",
    "panel_indices[\"GAL Parcial\"] = present.index\n",
    "panel_indices[\"Panel Aleatorio x$10^1$ (432 SNPs)\"] = control_genotypes.columns\n",
    "panel_indices[\"Panel Aleatorio x$10^2$ (4.078 SNPs)\"] = control_2_genotypes.columns\n",
    "# panel_indices[\"Panel Aleatorio x$10^3$ (40.728 SNPs)\"] = control_3_genotypes.columns"
   ]
  },
  {
   "cell_type": "markdown",
   "metadata": {},
   "source": [
    "# PCA"
   ]
  },
  {
   "cell_type": "code",
   "execution_count": 57,
   "metadata": {
    "collapsed": false
   },
   "outputs": [],
   "source": [
    "import yaml\n",
    "\n",
    "plot_colors = yaml.load(open(\"data/plot_colors.yml\", \"r\"))\n",
    "plot_markers = yaml.load(open(\"data/plot_markers.yml\", \"r\"))"
   ]
  },
  {
   "cell_type": "markdown",
   "metadata": {},
   "source": [
    "## Preparar datasets de muestras elegidas"
   ]
  },
  {
   "cell_type": "code",
   "execution_count": 77,
   "metadata": {
    "collapsed": false
   },
   "outputs": [],
   "source": [
    "from collections import OrderedDict\n",
    "\n",
    "samples = df_1000G_sample_populations\n",
    "\n",
    "def merge_dicts(*dict_args):\n",
    "    result = {}\n",
    "    for dictionary in dict_args:\n",
    "        result.update(dictionary)\n",
    "    return result\n",
    "\n",
    "def indices(pop_dict):  \n",
    "    populations = []\n",
    "    for label, pop_list in pop_dict.items():\n",
    "        mask = samples.population.isin(pop_list)\n",
    "        populations.append(samples[mask])\n",
    "\n",
    "    return pd.concat(populations).index\n",
    "\n",
    "datasets_general = OrderedDict()\n",
    "datasets_by_pop = OrderedDict()\n",
    "\n",
    "all_latinos = {'latinos': ['PEL', 'MXL', 'CLM', 'PUR']}\n",
    "e = {'europeans': ['IBS', 'TSI']}\n",
    "ea = merge_dicts(e, {'africans': ['YRI', 'LWK']})\n",
    "eac = merge_dicts(ea, {'east_asians': ['CHB', 'CHS']})\n",
    "eaci = merge_dicts(eac, {'south_asians': ['GIH']})\n",
    "\n",
    "datasets_general['Latinos'] = all_latinos\n",
    "datasets_general['Latinos, Europeos'] = merge_dicts(e, all_latinos)\n",
    "datasets_general['Latinos, Europeos, Africanos'] = merge_dicts(ea, all_latinos)\n",
    "datasets_general['Latinos, Europeos, Africanos, Chinos'] = merge_dicts(eac, all_latinos)\n",
    "datasets_general['Latinos, Europeos, Africanos, Chinos, Indios'] = merge_dicts(eaci, all_latinos)\n",
    "\n",
    "# Transform population codes into dataframe indices (sample IDs)\n",
    "# And write the sample IDs list to a file with the dataset name\n",
    "for dataset_group in [datasets_general, datasets_by_pop]:\n",
    "    for label, pop_dict in dataset_group.items():\n",
    "        dataset_group[label] = indices(pop_dict)\n",
    "        filename = \"_\".join(label.replace(\"\\n\", \" \").split(\", \")).lower()\n",
    "        dataset_group[label].values.tofile(\"../dataset_dumps/\" + filename,\n",
    "                                           sep=\"\\n\", format=\"%s\")"
   ]
  },
  {
   "cell_type": "code",
   "execution_count": 59,
   "metadata": {
    "collapsed": false
   },
   "outputs": [
    {
     "ename": "NameError",
     "evalue": "name 'control_3_genotypes' is not defined",
     "output_type": "error",
     "traceback": [
      "\u001b[1;31m---------------------------------------------------------------------------\u001b[0m",
      "\u001b[1;31mNameError\u001b[0m                                 Traceback (most recent call last)",
      "\u001b[1;32m<ipython-input-59-c6196c3bb389>\u001b[0m in \u001b[0;36m<module>\u001b[1;34m()\u001b[0m\n\u001b[1;32m----> 1\u001b[1;33m \u001b[0mall_controls\u001b[0m \u001b[1;33m=\u001b[0m \u001b[0mcontrol_genotypes\u001b[0m\u001b[1;33m.\u001b[0m\u001b[0mcombine_first\u001b[0m\u001b[1;33m(\u001b[0m\u001b[0mcontrol_2_genotypes\u001b[0m\u001b[1;33m)\u001b[0m\u001b[1;33m.\u001b[0m\u001b[0mcombine_first\u001b[0m\u001b[1;33m(\u001b[0m\u001b[0mcontrol_3_genotypes\u001b[0m\u001b[1;33m)\u001b[0m\u001b[1;33m\u001b[0m\u001b[0m\n\u001b[0m\u001b[0;32m      2\u001b[0m \u001b[0mall_controls\u001b[0m\u001b[1;33m.\u001b[0m\u001b[0mshape\u001b[0m\u001b[1;33m\u001b[0m\u001b[0m\n",
      "\u001b[1;31mNameError\u001b[0m: name 'control_3_genotypes' is not defined"
     ]
    }
   ],
   "source": [
    "all_controls = control_genotypes.combine_first(control_2_genotypes).combine_first(control_3_genotypes)\n",
    "all_controls.shape"
   ]
  },
  {
   "cell_type": "code",
   "execution_count": null,
   "metadata": {
    "collapsed": false
   },
   "outputs": [],
   "source": [
    "%run plot_PCAs.py\n",
    "\n",
    "all_genotypes = df_1000G_genotypes.combine_first(all_controls)\n",
    "\n",
    "for dataset_label, indices in datasets_general.items():\n",
    "    genotypes = all_genotypes.loc[indices, :]\n",
    "    \n",
    "    pca = plot_PCAs(dataset_label, panel_indices, genotypes,\n",
    "                    df_1000G_sample_populations,\n",
    "                    plot_markers, plot_colors)"
   ]
  },
  {
   "cell_type": "markdown",
   "metadata": {},
   "source": [
    "# Correr ADMIXTURE"
   ]
  },
  {
   "cell_type": "code",
   "execution_count": null,
   "metadata": {
    "collapsed": false
   },
   "outputs": [],
   "source": [
    "# panels_indices = {\n",
    "#     \"galT\": galanter.index,\n",
    "#     \"galP\": present.index,\n",
    "#     \"controlx1\": control_genotypes.columns,\n",
    "#     \"controlx10\": control_2_genotypes.columns,\n",
    "#     \"controlx100\": control_3_genotypes.columns,\n",
    "# }\n",
    "\n",
    "# for panel_tag, panel_indices in panels_.items():\n",
    "#     df_1000G_SNPs.index.intersection(panel_indices).values.tofile(\n",
    "#         \"../admixture/{}.snps\".format(panel_tag), sep=\"\\n\", format=\"%s\"\n",
    "#     )"
   ]
  },
  {
   "cell_type": "markdown",
   "metadata": {},
   "source": [
    "* En `../admixture/` están los archivos `*.samples` con los sample IDs de 1000Genomas de cada dataset (`L`, `LE`, `LEA` ...).\n",
    "* En el mismo directorio copié los bfiles (`.bed`, `.bim` ...) de PLINK de cada panel (`galT`, `galP`, `controlx1`, `controlx10`)\n",
    "* Ahí mismo corrí `./create_datasets_run_admixture.sh <nombre-de-panel> <nombre-de-panel-2> ..`\n",
    "* -> Se crean automáticamente directorios por cada combineta de dataset + panel con los archivos `*.P`"
   ]
  },
  {
   "cell_type": "markdown",
   "metadata": {},
   "source": [
    "#### **TODO**: Pasar lo que hace ese script ^ a una celda %%bash"
   ]
  },
  {
   "cell_type": "code",
   "execution_count": null,
   "metadata": {
    "collapsed": true
   },
   "outputs": [],
   "source": [
    "%%bash\n",
    "\n",
    "# PANELS=( \"$@\" )\n",
    "\n",
    "# for PANEL in ${PANELS[@]}; do\n",
    "#     for DATASET in L LE LEA LEAC LEACI; do\n",
    "\n",
    "#         RUN_TAG=${DATASET}_${PANEL}\n",
    "#         NEWDIR=${DATASET}_${PANEL}\n",
    "\n",
    "#         rm -rf $NEWDIR\n",
    "#         mkdir $NEWDIR\n",
    "#         cp ${DATASET}.samples $NEWDIR\n",
    "#         cd $NEWDIR\n",
    "\n",
    "#         # plink --tfile ../$PANEL --keep-fam ${DATASET}.samples --make-bed --out $RUN_TAG\n",
    "#         plink --bfile ../$PANEL --keep-fam ${DATASET}.samples --make-bed --out $RUN_TAG\n",
    "\n",
    "#         for K in {2..10}; do\n",
    "\n",
    "#             echo \"\"\n",
    "#             echo \"running dataset\" $RUN_TAG \"with K =\" $K\n",
    "#             admixture --cv ${RUN_TAG}.bed $K -j4 | tee ${RUN_TAG}.${K}.log\n",
    "\n",
    "#         done\n",
    "\n",
    "#         cd ..\n",
    "\n",
    "#     done\n",
    "# done\n"
   ]
  },
  {
   "cell_type": "markdown",
   "metadata": {},
   "source": [
    "# Leer resultados de ADMIXTURE"
   ]
  },
  {
   "cell_type": "markdown",
   "metadata": {},
   "source": [
    "## Plot CV Errors for different K values"
   ]
  },
  {
   "cell_type": "markdown",
   "metadata": {},
   "source": [
    "Para generar el `CV_error_summary` que leo en la siguiente celda, me paré en `../admixture` y corrí:\n",
    "```\n",
    "grep CV */*.log > CV_error_summary\n",
    "cat CV_error_summary | sed s'#[/:)]#,#g' | sed s'/CV error (K=//g' | awk -F, '{OFS=\",\"; print $1, $3, $5}' | sed s'/, /,/g' > CV_error_summary.clean\n",
    "```\n",
    "\n"
   ]
  },
  {
   "cell_type": "code",
   "execution_count": null,
   "metadata": {
    "collapsed": true
   },
   "outputs": [],
   "source": [
    "dataset_names = {\n",
    "    \"L\": \"Latinos\",\n",
    "    \"LE\": \"Latinos, Europeos\",\n",
    "    \"LEA\": \"Latinos, Europeos, Africanos\",\n",
    "    \"LEAC\": \"Latinos, Europeos,\\nAfricanos, Chinos\",\n",
    "    \"LEACI\": \"Latinos, Europeos,\\nAfricanos, Chinos, Indios\"\n",
    "}\n",
    "\n",
    "panel_names = {\n",
    "    \"galP\": \"GAL Parcial\",\n",
    "    \"galT\": \"GAL Total\",\n",
    "    \"controlx1\": \"Panel Aleatorio x$10^0$ (432 SNPs)\",\n",
    "    \"controlx10\": \"Panel Aleatorio x$10^1$ (4.078 SNPs)\",\n",
    "    \"controlx100\": \"Panel Aleatorio x$10^2$ (40.728 SNPs)\",\n",
    "}"
   ]
  },
  {
   "cell_type": "code",
   "execution_count": null,
   "metadata": {
    "collapsed": false
   },
   "outputs": [],
   "source": [
    "from itertools import product\n",
    "\n",
    "! grep CV ../admixture/*/*.log > \"CV_error_summary\"\n",
    "! cat \"../admixture/CV_error_summary\" | sed s'#[/:)]#,#g' | sed s'/CV error (K=//g' | awk -F, '{OFS=\",\"; print $1, $3, $5}' | sed s'/, /,/g' > \"../admixture/CV_error_summary.clean\"\n",
    "\n",
    "plot_panel_colors = {\n",
    "    \"galP\": \"Tomato\",\n",
    "    \"galT\": \"CornflowerBlue\",\n",
    "    \"controlx1\": \"#555555\",\n",
    "    \"controlx10\": \"#666666\",\n",
    "    \"controlx100\": \"#777777\",\n",
    "}\n",
    "\n",
    "cv_errors = pd.read_csv(\"../admixture/CV_error_summary.clean\",\n",
    "                        names=['dataset_panel', 'K', 'CV_error'])\n",
    "\n",
    "cv_errors['dataset'] = cv_errors['dataset_panel'].apply(lambda x: x.split(\"_\")[0])\n",
    "cv_errors['panel'] = cv_errors['dataset_panel'].apply(lambda x: x.split(\"_\")[1])\n",
    "cv_errors = cv_errors.drop('dataset_panel', axis=1)\n",
    "cv_errors = cv_errors.set_index(['dataset', 'panel', 'K']).sort_index()\n",
    "\n",
    "\n",
    "Ks = cv_errors.index.get_level_values('K').unique()\n",
    "\n",
    "width, height = (5, 3)\n",
    "cols, rows = (2, 3)\n",
    "fig = plt.figure(figsize=(width * cols, height * rows))\n",
    "axes = list(np.arange(cols * rows) + 1)\n",
    "axes.reverse()\n",
    "\n",
    "datasets = cv_errors.index.get_level_values('dataset').unique()\n",
    "for dataset in datasets:\n",
    "    \n",
    "    ax1 = plt.subplot(rows, cols, axes.pop())\n",
    "    ax2 = ax.twinx()  # Needed to plot the control panels in a different Y axis scale\n",
    "    lines = []\n",
    "    \n",
    "    panels = cv_errors.loc[dataset].index.get_level_values('panel').unique()\n",
    "    for panel in panels:\n",
    "        ax = ax2 if \"control\" in panel else ax1\n",
    "\n",
    "        data = cv_errors.loc[(dataset, panel)]            \n",
    "        data.plot(ax=ax, marker=\".\", color=plot_panel_colors[panel], zorder=1)\n",
    "        \n",
    "        x_min = data['CV_error'].idxmin()\n",
    "        y_min = data['CV_error'].min()\n",
    "        min_marker = ax.scatter(x_min, y_min, marker=\"v\", color=\"DarkGreen\", zorder=2, s=35)\n",
    "        \n",
    "        # TODO: Add a special mark at the minimum y value\n",
    "    \n",
    "    lines, labels = ax1.get_legend_handles_labels()\n",
    "    panel_labels = [panel_names[panel] for panel in panels]\n",
    "    ax1.set_title(\"Dataset: \" + dataset_names[dataset], fontsize=12)\n",
    "    ax1.set_ylabel(\"CV Error\", fontsize=11)\n",
    "    ax1.set_xlabel(\"K\", fontsize=11)\n",
    "    \n",
    "    for ax_ in [ax1, ax2]:\n",
    "        ax_.legend().set_visible(False)\n",
    "\n",
    "# Ugly hack to get the legend in a separate subplot slot\n",
    "ax = plt.subplot(rows, cols, axes.pop())\n",
    "ax.legend(lines + [min_marker], panel_labels + ['Valor óptimo de K'],\n",
    "          fontsize=13, loc='upper left', fancybox=True, scatterpoints=1)\n",
    "ax.set_xticklabels([])\n",
    "ax.set_yticklabels([])\n",
    "ax.set_xticks([])\n",
    "ax.set_yticks([])\n",
    "for loc in ['top', 'bottom', 'left', 'right']:\n",
    "    ax.spines[loc].set_visible(False)\n",
    "\n",
    "plt.tight_layout()\n",
    "plt.show()"
   ]
  },
  {
   "cell_type": "markdown",
   "metadata": {},
   "source": [
    "## Plot ADMIXTURE ancestry ratios per individual"
   ]
  },
  {
   "cell_type": "code",
   "execution_count": null,
   "metadata": {
    "collapsed": true
   },
   "outputs": [],
   "source": [
    "from collections import OrderedDict\n",
    "from collections import defaultdict\n",
    "\n",
    "\n",
    "dataset_Ks = OrderedDict([(\"L\", 3), (\"LE\", 3), (\"LEA\", 3), (\"LEAC\", 4), (\"LEACI\", 5)])\n",
    "panels = [\"galT\", \"galP\"]\n",
    "admixture_results = defaultdict(OrderedDict)\n",
    "ancestral_components = {0: 'EUR', 1: 'NAM', 2: 'AFR', 3: 'EAS', 4: 'SAS'}\n",
    "\n",
    "population_groups = OrderedDict([\n",
    "    ('Latinos',   ['CLM', 'MXL', 'PEL', 'PUR']),\n",
    "    ('Europeos',  ['TSI', 'IBS']),\n",
    "    ('Africanos', ['LWK', 'YRI']),\n",
    "    ('Chinos',    ['CHS', 'CHB']),\n",
    "    ('Indios',    ['GIH'])\n",
    "])"
   ]
  },
  {
   "cell_type": "code",
   "execution_count": null,
   "metadata": {
    "collapsed": false
   },
   "outputs": [],
   "source": [
    "for dataset_tag, optimal_K in dataset_Ks.items():\n",
    "    for panel_tag in panels:\n",
    "        fdir = \"../admixture/{}_{}/\".format(dataset_tag, panel_tag)\n",
    "        filename = \"{}_{}.{}.Q\".format(dataset_tag, panel_tag, optimal_K)\n",
    "        samples_filename = \"{}_{}.fam\".format(dataset_tag, panel_tag)\n",
    "        ancestry_values = pd.read_csv(fdir + filename, sep=\"\\s+\",\n",
    "                                      names=list(range(optimal_K)))\n",
    "        sample_ids = pd.read_csv(fdir + samples_filename, sep=\"\\s+\",\n",
    "                                 index_col=0, usecols=[0], names=['sample_id'])\n",
    "        ancestry_values['sample_id'] = sample_ids.index\n",
    "        populations = df_1000G_sample_populations.loc[sample_ids.index]['population']\n",
    "        ancestry_values['population'] = populations.values\n",
    "        ancestry_values['super_population'] = [df_1000G_population_names.loc[population]['Super Population Code']\n",
    "                                               for population in populations.values]\n",
    "\n",
    "        # Reorder ancestry columns to always have the same ancestral populations\n",
    "        # in the same positions (and then the same order and colors in the plots).\n",
    "        # This is almost necessarily hardcoded after visual inspection of the plots.\n",
    "        fixed_columns = ['sample_id', 'population', 'super_population']\n",
    "        if panel_tag == \"galT\":\n",
    "            if dataset_tag == \"L\":\n",
    "                ancestry_values = ancestry_values[[2, 0, 1] + fixed_columns]\n",
    "            if dataset_tag == \"LE\":\n",
    "                ancestry_values = ancestry_values[[2, 0, 1] + fixed_columns]\n",
    "            if dataset_tag == \"LEA\":\n",
    "                ancestry_values = ancestry_values[[2, 1, 0] + fixed_columns]\n",
    "            if dataset_tag == \"LEAC\":\n",
    "                ancestry_values = ancestry_values[[1, 3, 2, 0] + fixed_columns]\n",
    "            if dataset_tag == \"LEACI\":\n",
    "                ancestry_values = ancestry_values[[3, 0, 2, 1, 4] + fixed_columns]\n",
    "        if panel_tag == \"galP\":\n",
    "            if dataset_tag == \"L\":\n",
    "                ancestry_values = ancestry_values[[2, 0, 1] + fixed_columns]\n",
    "            if dataset_tag == \"LE\":\n",
    "                ancestry_values = ancestry_values[[2, 1, 0] + fixed_columns]\n",
    "            if dataset_tag == \"LEA\":\n",
    "                ancestry_values = ancestry_values[[1, 2, 0] + fixed_columns]\n",
    "            if dataset_tag == \"LEAC\":\n",
    "                ancestry_values = ancestry_values[[3, 1, 0, 2] + fixed_columns]\n",
    "            if dataset_tag == \"LEACI\":\n",
    "                ancestry_values = ancestry_values[[3, 0, 2, 1, 4] + fixed_columns]\n",
    "\n",
    "        # Reassign the column numbers\n",
    "        columns_renumbered = list(range(len(ancestry_values.columns) - len(fixed_columns)))\n",
    "        ancestry_values.columns = (columns_renumbered + fixed_columns)\n",
    "        \n",
    "        # Replace the numbers with the continental population codes\n",
    "        # This naming of the ancestry columns only makes sense with the previous ordering,\n",
    "        # which placed the components in the same order as the one in \"ancestral_components\"\n",
    "        renamed_columns = [ancestral_components[n] for n in ancestry_values.columns\n",
    "                          if n not in fixed_columns]\n",
    "        ancestry_values.columns = renamed_columns + fixed_columns\n",
    "        \n",
    "        # Reorder the named columns\n",
    "        ancestral_components_ordered = list(ancestral_components.values())[:len(renamed_columns)]\n",
    "        ancestry_values = ancestry_values[ancestral_components_ordered + fixed_columns]\n",
    "\n",
    "        # Sort the samples\n",
    "        ancestry_values = ancestry_values.sort_values(['super_population', 'population', 'EUR'])\n",
    "        ancestry_values = ancestry_values.reset_index(drop=True)\n",
    "\n",
    "        admixture_results[dataset_tag][panel_tag] = ancestry_values"
   ]
  },
  {
   "cell_type": "code",
   "execution_count": null,
   "metadata": {
    "collapsed": false
   },
   "outputs": [],
   "source": [
    "from collections import OrderedDict\n",
    "\n",
    "\n",
    "def config_admixture_plot(ax, df, ylabel_on=True):\n",
    "    ax.set_title(panel_name, fontsize=13, position=(0.5, 1.25))\n",
    "    \n",
    "    ax.spines[\"top\"].set_visible(False)\n",
    "    ax.spines[\"right\"].set_visible(False)\n",
    "    \n",
    "    # Set population names on the xticks\n",
    "    indices_by_population = [df[df['population'] == population].index.values\n",
    "                             for population in df['population'].unique()]\n",
    "    xtick_positions = [np.median(indices) for indices in indices_by_population]\n",
    "    ax.set_xticks(xtick_positions)\n",
    "    ax.set_xticklabels(df['population'].unique(), rotation=0)\n",
    "    ax.xaxis.set_ticks_position(\"top\")\n",
    "\n",
    "    # Separate the populations with a line\n",
    "    \n",
    "    separation_lines = [max(indices) for indices in indices_by_population]\n",
    "    [plt.axvline(x=x, color=\"k\", lw=1) for x in separation_lines[:-1]]\n",
    "\n",
    "    if ylabel_on:\n",
    "        ax.set_ylabel(\"Proporción de\\nancestrías\", fontsize=11)\n",
    "        \n",
    "    ax.set_ylim((0, 1))\n",
    "    ax.set_yticks([])\n",
    "    ax.set_frame_on(False)\n",
    "    ax.legend().set_visible(False)\n",
    "\n",
    "    return ax\n",
    "\n",
    "for dataset_tag, panel_results in admixture_results.items():\n",
    "    K = dataset_Ks[dataset_tag]\n",
    "    dataset_name = dataset_names[dataset_tag].replace(\"\\n\", \" \")\n",
    "        \n",
    "    # One figure per panel per dataset on top\n",
    "    \n",
    "    rows = len(panels)\n",
    "    fig = plt.figure(figsize=(12, 2 * rows))\n",
    "    axes = (np.arange(len(panels)) + 1).tolist()[::-1]\n",
    "    \n",
    "    for panel_tag, df in panel_results.items():\n",
    "        panel_name = panel_names[panel_tag]\n",
    "        ax = plt.subplot(rows, 1, axes.pop())\n",
    "        df.plot(ax=ax, kind=\"bar\", stacked=True, width=1, linewidth=0)\n",
    "        ax = config_admixture_plot(ax, df)\n",
    "    \n",
    "    plt.tight_layout()\n",
    "    \n",
    "    title = \"Dataset: {} ($K={}$)\".format(dataset_name, K)\n",
    "    fig.suptitle(title, fontsize=22, fontweight=\"ultralight\", variant=\"small-caps\")\n",
    "    plt.subplots_adjust(top=(0.65))\n",
    "    \n",
    "    plt.show()\n",
    "    \n",
    "    # Detail plots for each population group\n",
    "    \n",
    "    # Detail plots dimensions and subplot number generation\n",
    "    width, height = (6, 2)\n",
    "    \n",
    "    # Hacky! Dataset tags are acronyms of the population groups\n",
    "    # So I'm inferring the number of population group from the length of the tag.\n",
    "    cols, rows = (2, len(dataset_tag))  # One row of plots per population group\n",
    "    \n",
    "    if dataset_tag == \"L\":\n",
    "        rows = len(population_groups[\"Latinos\"])\n",
    "    \n",
    "    fig = plt.figure(figsize=(width * cols, height * rows))\n",
    "\n",
    "    odd_subplots = [n for n in np.arange(rows * cols) + 1 if n % 2 != 0]\n",
    "    even_subplots = list(np.array(odd_subplots) + 1)\n",
    "    axes = {\"galT\": odd_subplots[::-1], \"galP\": even_subplots[::-1]}\n",
    "\n",
    "    sorted_index = []  # Hack. See (1) below.\n",
    "\n",
    "    # One subplot per population group per panel in the dataset\n",
    "    for panel_tag, df in panel_results.items():\n",
    "        panel_name = panel_names[panel_tag]\n",
    "        \n",
    "        if dataset_tag == \"L\":\n",
    "            # Hack to get one plot per latino population in this dataset\n",
    "            pg = dict([(p, [p]) for p in population_groups[\"Latinos\"]])\n",
    "        else:\n",
    "            pg = population_groups\n",
    "            \n",
    "        for population_group_name, population_group in pg.items():\n",
    "            mask = df['population'].isin(population_group)\n",
    "            df_pop = df[mask].dropna()\n",
    "            if len(df_pop) == 0:\n",
    "                continue\n",
    "    \n",
    "            # (1) Hack to get the same sample order in both columns of plots\n",
    "            if panel_tag == \"galT\":\n",
    "                sorted_index = [df_pop.index] + sorted_index\n",
    "            elif panel_tag == \"galP\":\n",
    "                df_pop = df_pop.loc[sorted_index.pop()]\n",
    "\n",
    "            # I need consecutive indices for the xtick labels position calculation later:\n",
    "            df_pop = df_pop.reset_index(drop=True)\n",
    "            \n",
    "            ax_id = axes[panel_tag].pop()\n",
    "            ax = plt.subplot(rows, cols, ax_id)\n",
    "            df_pop.plot(ax=ax, kind=\"bar\", stacked=True, width=1, linewidth=0)\n",
    "            \n",
    "            ylabel_on = (ax_id % 2 != 0)  # Y-axis label only on plots on the left (odd plots)\n",
    "            title_on = (ax_id in [1, 2])  # Only top plots carry the panel_name as title\n",
    "\n",
    "            ax = config_admixture_plot(ax, df_pop, ylabel_on=ylabel_on)\n",
    "\n",
    "    plt.tight_layout()\n",
    "    plt.show()"
   ]
  },
  {
   "cell_type": "code",
   "execution_count": null,
   "metadata": {
    "collapsed": false
   },
   "outputs": [],
   "source": [
    "def get_superpop_from_poptag(tag):\n",
    "    ref = df_1000G_population_names\n",
    "\n",
    "    if tag not in ref.index:\n",
    "        return tag\n",
    "    \n",
    "    return ref.loc[tag]['Super Population Code']\n",
    "\n",
    "def config_admixture_mean_plot(ax, df, title=None, ylabel_on=True):\n",
    "    if title:\n",
    "        ax.set_title(title, fontsize=12.5)\n",
    "\n",
    "    if ylabel_on:\n",
    "        ax.set_ylabel(\"Proporción de\\nancestrías\", fontsize=11)\n",
    "\n",
    "    ax.set_ylim((-0.05, 1.05))\n",
    "    ax.set_yticks([])\n",
    "    \n",
    "    xticklabels = plt.xticks()[1]\n",
    "    xticks_rot = 0 if len(xticklabels) < 10 else 90\n",
    "    ax.set_xticklabels(xticklabels, rotation=xticks_rot)\n",
    "    ax.xaxis.set_ticks_position('bottom')\n",
    "    ax.set_xlabel(\"\")\n",
    "    ax.set_frame_on(False)\n",
    "    ax.legend(loc=\"center left\", fontsize=10).set_visible(False)\n",
    "\n",
    "    return ax\n",
    "\n",
    "\n",
    "for dataset_tag, panel_results in admixture_results.items():\n",
    "    K = dataset_Ks[dataset_tag]\n",
    "    dataset_name = dataset_names[dataset_tag].replace(\"\\n\", \" \")\n",
    "    \n",
    "    rows, cols = 1, len(panels)\n",
    "    width, height = 5, 2.5\n",
    "    fig = plt.figure(figsize=(cols * width, rows * height))\n",
    "    axes = (np.arange(rows * cols) + 1).tolist()[::-1]\n",
    "    \n",
    "    for panel_tag, df in panel_results.items():\n",
    "        \n",
    "        panel_name = panel_names[panel_tag]\n",
    "        ax_id = axes.pop()\n",
    "        ax = plt.subplot(rows, cols, ax_id)\n",
    "        \n",
    "        by_population = df.groupby(\"population\").mean()\n",
    "        # by_superpopulation = df.groupby(\"super_population\").mean()\n",
    "        # both = pd.concat([by_population, by_superpopulation])\n",
    "\n",
    "        by_population[\"superpop\"] = [get_superpop_from_poptag(ix)\n",
    "                                     for ix in by_population.index.values]\n",
    "        by_population = by_population.sort_values([\"superpop\", \"EUR\"])\n",
    "        \n",
    "        by_population.plot(ax=ax, kind=\"bar\", stacked=True, width=1, lw=0.35, rot=0)\n",
    "        config_admixture_mean_plot(ax, by_population, title=panel_name,\n",
    "                                   ylabel_on=(ax_id % 2 != 0))\n",
    "    \n",
    "    figtitle = \"{} (K={})\".format(dataset_name, K)\n",
    "    fig.suptitle(figtitle, fontsize=14, fontweight=\"bold\")\n",
    "    plt.tight_layout()\n",
    "    plt.subplots_adjust(top=(0.70))\n",
    "    plt.show()"
   ]
  },
  {
   "cell_type": "markdown",
   "metadata": {
    "collapsed": true
   },
   "source": [
    "## Triangular plot or 3D plot with the K=3 values"
   ]
  },
  {
   "cell_type": "code",
   "execution_count": null,
   "metadata": {
    "collapsed": false
   },
   "outputs": [],
   "source": [
    "import ternary\n",
    "\n",
    "\n",
    "for dataset_tag, panel_results in admixture_results.items():\n",
    "    if len(dataset_tag) > 3:\n",
    "        continue\n",
    "    \n",
    "    K = dataset_Ks[dataset_tag]\n",
    "    dataset_name = dataset_names[dataset_tag].replace(\"\\n\", \" \")\n",
    "    \n",
    "    rows, cols = 1, len(panels)\n",
    "    width, height = 10, 8\n",
    "    fig = plt.figure(figsize=(cols * width, rows * height))\n",
    "\n",
    "    axes = (np.arange(rows * cols) + 1).tolist()[::-1]\n",
    "    \n",
    "    for panel_tag, df in panel_results.items():\n",
    "        panel_name = panel_names[panel_tag]\n",
    "            \n",
    "        ax_id = axes.pop()\n",
    "        ax = plt.subplot(rows, cols, ax_id)\n",
    "        ax.axis(\"off\")\n",
    "        fig, tax = ternary.figure(scale=1, ax=ax)\n",
    "\n",
    "        for population in df['population'].unique():\n",
    "            mask = df['population'] == population\n",
    "            tax.scatter(df[mask].iloc[:, :3].as_matrix(), label=population,\n",
    "                        color=plot_colors[population], marker=plot_markers[population])\n",
    "\n",
    "        tax.set_title(\"Dataset: {}\\n{}\".format(dataset_name, panel_name),\n",
    "                      position=(0.5, 1.05))\n",
    "\n",
    "        tax.boundary(linewidth=1)\n",
    "\n",
    "        fontsize = 15\n",
    "        tax.left_axis_label(df.columns[2], fontsize=fontsize)\n",
    "        tax.bottom_axis_label(df.columns[0], fontsize=fontsize)\n",
    "        tax.right_axis_label(df.columns[1], fontsize=fontsize)\n",
    "\n",
    "        tax.ticks(axis=\"lbr\", linewidth=1, multiple=0.1)\n",
    "        tax.gridlines(multiple=0.1)\n",
    "        tax.legend(frameon=False, fontsize=12, scatterpoints=1)\n",
    "\n",
    "        tax.clear_matplotlib_ticks()\n",
    "\n",
    "    plt.show()"
   ]
  },
  {
   "cell_type": "markdown",
   "metadata": {
    "collapsed": true
   },
   "source": [
    "# Read HDGP markers"
   ]
  },
  {
   "cell_type": "markdown",
   "metadata": {
    "collapsed": true
   },
   "source": [
    "Para descargar los datos de HGDP usé ftp_download_HGDP.py"
   ]
  },
  {
   "cell_type": "markdown",
   "metadata": {},
   "source": [
    "## CEPH dataset"
   ]
  },
  {
   "cell_type": "code",
   "execution_count": null,
   "metadata": {
    "collapsed": false
   },
   "outputs": [],
   "source": [
    "fn = \"../HGDP_data/dataset_1_HGDP-CEPH_v3/hgdp-ceph-marker.out\"\n",
    "hgdp_ceph_markers = pd.read_csv(fn, sep=\"\\t\")\n",
    "hgdp_ceph_markers = hgdp_ceph_markers.rename(columns={\"chrom\": \"chr\", \"physical_pos\": \"pos\"})\n",
    "mask = hgdp_ceph_markers[\"type_marker\"].isin([\"SNP\", \"snp\"])\n",
    "hgdp_ceph_markers = hgdp_ceph_markers[mask].reset_index(drop=True)"
   ]
  },
  {
   "cell_type": "code",
   "execution_count": null,
   "metadata": {
    "collapsed": false
   },
   "outputs": [],
   "source": [
    "fn = \"../HGDP_data/dataset_1_HGDP-CEPH_v3/hgdp-ceph-geno.out\"\n",
    "# Filter only biallelic SNPs!\n",
    "hgdp_ceph_genotypes = pd.read_csv(fn, sep=\"\\t\", index_col=\"hgdp_id\")\n",
    "hgdp_ceph_genotypes.head(2)"
   ]
  },
  {
   "cell_type": "code",
   "execution_count": null,
   "metadata": {
    "collapsed": true
   },
   "outputs": [],
   "source": [
    "# Filtrar esos 5,4 M de genotipos por el mkr_ceph_id de los rs de galanter\n",
    "# ojo con la RAM!"
   ]
  },
  {
   "cell_type": "markdown",
   "metadata": {},
   "source": [
    "## Stanford dataset"
   ]
  },
  {
   "cell_type": "code",
   "execution_count": null,
   "metadata": {
    "collapsed": false
   },
   "outputs": [],
   "source": [
    "fn = \"../HGDP_data/dataset_2_supp1_Stanford/hgdp/HGDP_Map.txt\"\n",
    "hgdp_stanford_markers = pd.read_csv(fn, sep=\"\\t\", names=[\"dbsnp_id\", \"chr\", \"pos\"],\n",
    "                                    index_col=\"dbsnp_id\")"
   ]
  },
  {
   "cell_type": "markdown",
   "metadata": {},
   "source": [
    "## Uni of Michigan dataset"
   ]
  },
  {
   "cell_type": "code",
   "execution_count": null,
   "metadata": {
    "collapsed": false
   },
   "outputs": [],
   "source": [
    "from glob import glob\n",
    "from os.path import isfile\n",
    "\n",
    "dumpfile = \"./dumpfiles/HGDP_michigan_markers.csv\"\n",
    "\n",
    "if isfile(dumpfile):\n",
    "    dtypes = {\"dbsnp_id\": str, \"chr\": str, \"pos_build_36\": int, \"pos_build_35\": int}\n",
    "    hgdp_michigan_markers = pd.read_csv(dumpfile, index_col=\"dbsnp_id\", dtype=dtypes)\n",
    "else:    \n",
    "    markers_per_chr = []\n",
    "    \n",
    "    # The *.map files were generated with \"parse_HGDP_UMichigan_data.sh\"\n",
    "    for fn in glob(\"../HGDP_data/dataset_3_supp2_UMichigan/GENO/chr*.map\"):\n",
    "        markers_per_chr.append(pd.read_csv(fn, sep=\"\\s+\").transpose())\n",
    "\n",
    "    hgdp_michigan_markers = pd.concat(markers_per_chr).drop(0, axis=1)\n",
    "    hgdp_michigan_markers.columns = [\"chr\", \"pos_build_36\", \"pos_build_35\"]\n",
    "    hgdp_michigan_markers[\"pos\"] = hgdp_michigan_markers[\"pos_build_36\"]\n",
    "    hgdp_michigan_markers.index.name = \"dbsnp_id\"\n",
    "    hgdp_michigan_markers.to_csv(dumpfile)"
   ]
  },
  {
   "cell_type": "markdown",
   "metadata": {},
   "source": [
    "## Max Plank Institute datset"
   ]
  },
  {
   "cell_type": "code",
   "execution_count": null,
   "metadata": {
    "collapsed": false
   },
   "outputs": [],
   "source": [
    "fn = \"../HGDP_data/dataset_4_supp3_MPlank/hgdpceph.affy500k.map.gz\"\n",
    "hgdp_maxplank_markers = pd.read_csv(fn, sep=\"\\t\", names=[\"chr\", \"dbsnp_id\", \"?\", \"pos\"],\n",
    "                                    usecols=[\"chr\", \"dbsnp_id\", \"pos\"], index_col=\"dbsnp_id\")"
   ]
  },
  {
   "cell_type": "markdown",
   "metadata": {},
   "source": [
    "## Harvard dataset"
   ]
  },
  {
   "cell_type": "code",
   "execution_count": null,
   "metadata": {
    "collapsed": false
   },
   "outputs": [],
   "source": [
    "fn = \"../HGDP_data/dataset_11_supp10_Harvard/Harvard_HGDP-CEPH/all_snp.map.gz\"\n",
    "hgdp_harvard_markers = pd.read_csv(fn, sep=\"\\t\", names=[\"chr\", \"Affy SNP ID\", \"?\", \"pos\"],\n",
    "                                   usecols=[\"chr\", \"Affy SNP ID\", \"pos\"])\n",
    "\n",
    "fn = \"../HGDP_data/dataset_11_supp10_Harvard/Axiom_GW_HuOrigin.na35.annot.csv.tar.gz\"\n",
    "affy_human_origins = pd.read_csv(fn, comment=\"#\", skiprows=1, index_col=\"Affy SNP ID\",\n",
    "                                 usecols=[\"Affy SNP ID\", \"dbSNP RS ID\"])\n",
    "\n",
    "hgdp_harvard_markers = hgdp_harvard_markers.set_index(\"Affy SNP ID\")\n",
    "hgdp_harvard_markers = hgdp_harvard_markers.join(affy_human_origins)\n",
    "hgdp_harvard_markers = hgdp_harvard_markers.rename(columns={\"dbSNP RS ID\": \"dbsnp_id\"})"
   ]
  },
  {
   "cell_type": "markdown",
   "metadata": {},
   "source": [
    "## UCLA dataset"
   ]
  },
  {
   "cell_type": "code",
   "execution_count": null,
   "metadata": {
    "collapsed": false
   },
   "outputs": [],
   "source": [
    "fn = \"../HGDP_data/dataset_15_supp15_UCLA/snp_info.csv\"\n",
    "hgdp_ucla_markers = pd.read_csv(fn, names=[\"_\", \"_\", \"chr\", \"pos\", \"dbsnp_id\"],\n",
    "                                usecols=[\"chr\", \"pos\", \"dbsnp_id\"], skiprows=1).dropna()"
   ]
  },
  {
   "cell_type": "markdown",
   "metadata": {},
   "source": [
    "## Intersection GAL x HGDP"
   ]
  },
  {
   "cell_type": "code",
   "execution_count": null,
   "metadata": {
    "collapsed": true
   },
   "outputs": [],
   "source": [
    "hgdp_panels = {\n",
    "    \"CEPH\": hgdp_ceph_markers,\n",
    "    \"Stanford\": hgdp_stanford_markers,\n",
    "    \"MaxPlank\": hgdp_maxplank_markers,\n",
    "    \"Harvard\": hgdp_harvard_markers,\n",
    "    \"UCLA\": hgdp_ucla_markers,\n",
    "    \"UMichigan\": hgdp_michigan_markers,\n",
    "}"
   ]
  },
  {
   "cell_type": "code",
   "execution_count": null,
   "metadata": {
    "collapsed": false
   },
   "outputs": [],
   "source": [
    "galanter_HGDP_matches = pd.DataFrame({\"dbsnp_id\": galanter.index})\n",
    "galanter_HGDP_matches = galanter_HGDP_matches.set_index(\"dbsnp_id\")\n",
    "\n",
    "for panel_name, markers in hgdp_panels.items():\n",
    "    print(panel_name, len(markers))\n",
    "    galanter_HGDP_matches[panel_name] = \\\n",
    "        galanter_HGDP_matches.index.map(lambda x: x in markers.index.values)\n",
    "\n",
    "galanter_HGDP_matches[\"hits\"] = galanter_HGDP_matches.sum(axis=1)"
   ]
  },
  {
   "cell_type": "code",
   "execution_count": null,
   "metadata": {
    "collapsed": false
   },
   "outputs": [],
   "source": [
    "galanter_hgdp_indices = {}\n",
    "\n",
    "print(\"Galanter Matches in HGDP panels:\")\n",
    "for hgdp_panel_name, markers in hgdp_panels.items():\n",
    "    matches = galanter_HGDP_matches[hgdp_panel_name]\n",
    "    intersection_count = len(matches[matches])\n",
    "    \n",
    "    if intersection_count > 0:\n",
    "        galanter_hgdp_indices[hgdp_panel_name] = {}\n",
    "        galanter_hgdp_indices[hgdp_panel_name][\"galT\"] = galanter_HGDP_matches[matches].index\n",
    "        galanter_hgdp_indices[hgdp_panel_name][\"galP\"] = \\\n",
    "            galanter_HGDP_matches[matches].loc[present.index].dropna(axis=0).index\n",
    "        \n",
    "        print(\"-\")\n",
    "        print(hgdp_panel_name, \"galT ->\",\n",
    "              len(galanter_hgdp_indices[hgdp_panel_name][\"galT\"]))\n",
    "        print(hgdp_panel_name, \"galP ->\",\n",
    "              len(galanter_hgdp_indices[hgdp_panel_name][\"galP\"]))"
   ]
  },
  {
   "cell_type": "markdown",
   "metadata": {},
   "source": [
    "# HGDP populations"
   ]
  },
  {
   "cell_type": "code",
   "execution_count": null,
   "metadata": {
    "collapsed": true
   },
   "outputs": [],
   "source": [
    "hgdp_continents = {\n",
    "    \"Asia\": \"ASN\",\n",
    "    \"Subsaharian Africa\": \"AFR\",\n",
    "    \"Oceania\": \"EAS\",\n",
    "    \"Europe\": \"EUR\",\n",
    "    \"Middle Est\": \"WAS\",\n",
    "    \"America\": \"AMR\",\n",
    "    \"North Africa\": \"AFR\",\n",
    "}"
   ]
  },
  {
   "cell_type": "markdown",
   "metadata": {},
   "source": [
    "### CEPH populations"
   ]
  },
  {
   "cell_type": "code",
   "execution_count": null,
   "metadata": {
    "collapsed": false
   },
   "outputs": [],
   "source": [
    "fn = \"../HGDP_data/dataset_1_HGDP-CEPH_v3/hgdp-ceph-pop.out\"\n",
    "usecols = [\"population_name\", \"population_id\", \"nickname\"]\n",
    "hgdp_populations_detail = pd.read_csv(fn, sep=\"\\t\", usecols=usecols)\n",
    "hgdp_populations_detail.set_index(\"population_name\", inplace=True)"
   ]
  },
  {
   "cell_type": "code",
   "execution_count": null,
   "metadata": {
    "collapsed": false
   },
   "outputs": [],
   "source": [
    "popcodes = dict(zip(hgdp_populations_detail.index.values,\n",
    "                    hgdp_populations_detail[\"nickname\"].values))"
   ]
  },
  {
   "cell_type": "code",
   "execution_count": null,
   "metadata": {
    "collapsed": false
   },
   "outputs": [],
   "source": [
    "fn = \"../HGDP_data/dataset_1_HGDP-CEPH_v3/hgdp-ceph-unrelated.out\"\n",
    "hgdp_samples = pd.read_csv(fn, sep=\"\\t\", index_col=\"hgdp_id\")\n",
    "hgdp_samples[\"continent\"] = hgdp_samples[\"Region\"].map(hgdp_continents)\n",
    "hgdp_samples[\"population_name\"] = hgdp_samples[\"population\"]\n",
    "hgdp_samples[\"population\"] = hgdp_samples[\"population_name\"].map(popcodes)"
   ]
  },
  {
   "cell_type": "code",
   "execution_count": null,
   "metadata": {
    "collapsed": false
   },
   "outputs": [],
   "source": [
    "regions = dict(zip(hgdp_samples[\"population_name\"],\n",
    "                   hgdp_samples[\"Region\"]))\n",
    "continents = dict(zip(hgdp_samples[\"population_name\"],\n",
    "                      hgdp_samples[\"continent\"]))"
   ]
  },
  {
   "cell_type": "code",
   "execution_count": null,
   "metadata": {
    "collapsed": false
   },
   "outputs": [],
   "source": [
    "hgdp_populations_detail[\"continent\"] = \\\n",
    "    hgdp_populations_detail.index.map(lambda x: continents[x])\n",
    "hgdp_populations_detail[\"region\"] = \\\n",
    "    hgdp_populations_detail.index.map(lambda x: regions[x])"
   ]
  },
  {
   "cell_type": "markdown",
   "metadata": {},
   "source": [
    "### MaxPlank populations"
   ]
  },
  {
   "cell_type": "code",
   "execution_count": null,
   "metadata": {
    "collapsed": false
   },
   "outputs": [],
   "source": [
    "corrections = {\n",
    "    \"Colombian\": \"Colombians\",\n",
    "    \"Cambodian\": \"Cambodians\",\n",
    "    \"MbutiPygmy\": \"Mbuti_Pygmies\",\n",
    "    \"NewGuinea\": \"Papuan\",\n",
    "}\n",
    "\n",
    "superpops = {\n",
    "    \"Nasioi\": \"EAS\",\n",
    "    \"BiakaPygmy\": \"AFR\",\n",
    "    \"Bantu\": \"AFR\",\n",
    "    \"Basque\": \"EUR\",\n",
    "    \"Bergamo\": \"EUR\",\n",
    "}\n",
    "\n",
    "def fix_popnames(popname):\n",
    "    if popname not in corrections.keys():\n",
    "        return popname\n",
    "    \n",
    "    return corrections[popname]\n",
    "\n",
    "def get_superpop(popname):\n",
    "    if popname in hgdp_populations_detail.index:\n",
    "        return hgdp_populations_detail.loc[popname][\"continent\"]\n",
    "\n",
    "    if popname in superpops.keys():\n",
    "        return superpops[popname]\n",
    "    \n",
    "    return \"Unknown\""
   ]
  },
  {
   "cell_type": "code",
   "execution_count": null,
   "metadata": {
    "collapsed": false
   },
   "outputs": [],
   "source": [
    "fn = \"../HGDP_data/dataset_4_supp3_MPlank/hgdpceph.affy500k.pedind\"\n",
    "mplank_populations = pd.read_csv(fn, sep=\"\\s+\",\n",
    "                                 names=[\".\", \"sample\", \".\", \".\", \".\", \"population\"],\n",
    "                                 usecols=[\"sample\", \"population\"])\n",
    "mplank_populations.set_index(\"sample\", inplace=True)\n",
    "mplank_populations[\"population\"] = mplank_populations[\"population\"].map(fix_popnames)\n",
    "mplank_populations[\"continent\"] = mplank_populations[\"population\"].map(get_superpop)"
   ]
  },
  {
   "cell_type": "markdown",
   "metadata": {},
   "source": [
    "# HGDP genotypes and populations read"
   ]
  },
  {
   "cell_type": "code",
   "execution_count": null,
   "metadata": {
    "collapsed": true
   },
   "outputs": [],
   "source": [
    "hgdp_genotypes = defaultdict(OrderedDict)"
   ]
  },
  {
   "cell_type": "markdown",
   "metadata": {},
   "source": [
    "## MaxPlank dataset"
   ]
  },
  {
   "cell_type": "code",
   "execution_count": null,
   "metadata": {
    "collapsed": false
   },
   "outputs": [],
   "source": [
    "fn = \"../HGDP_data/dataset_4_supp3_MPlank/hgdpceph.affy500k.AT.traw.parsed\"\n",
    "df = pd.read_csv(fn, sep=\"\\s+\")\n",
    "renamed_columns = [s.split(\"_\")[-1] for s in df.columns]\n",
    "df.columns = renamed_columns\n",
    "df.rename(columns={\"SNP\": \"dbsnp_id\"}, inplace=True)\n",
    "df.set_index(\"dbsnp_id\", inplace=True)\n",
    "\n",
    "for panel_name in panels:\n",
    "    indices = galanter_hgdp_indices[\"MaxPlank\"][panel_name]\n",
    "    hgdp_genotypes[\"MaxPlank\"][panel_name] = df.loc[indices]\n",
    "\n",
    "df = None # Hope this cleans the big dataframe from memory?"
   ]
  },
  {
   "cell_type": "code",
   "execution_count": null,
   "metadata": {
    "collapsed": false
   },
   "outputs": [],
   "source": [
    "latinos = ['Colombians', 'Karitiana', 'Maya', 'Surui', 'Pima']\n",
    "europeans = ['Basque', 'Bergamo', 'French']\n",
    "africans = ['BiakaPygmy' 'Bantu', 'Mandenka']\n",
    "middle_eastern = ['Balochi', 'Bedouin', 'Brahui', 'Mongola']\n",
    "oceania = ['Papuan']\n",
    "east_asian = ['Dai']\n",
    "\n",
    "LEA_populations = latinos + africans + europeans\n",
    "world_populations = LEA_populations + middle_eastern + oceania\n",
    "\n",
    "datasets_mplank = OrderedDict()\n",
    "dataset_definitions = {\n",
    "    \"MaxPlank LEA\": LEA_populations,\n",
    "    \"MaxPlank World\": world_populations,\n",
    "}\n",
    "\n",
    "for dataset_label, population_list in dataset_definitions.items():\n",
    "    mask = mplank_populations[\"population\"].isin(population_list)\n",
    "    sample_indices = mplank_populations[mask].index\n",
    "    dataset = hgdp_genotypes[\"MaxPlank\"][\"galT\"].loc[:, sample_indices].transpose()\n",
    "    datasets_mplank[dataset_label] = dataset"
   ]
  },
  {
   "cell_type": "code",
   "execution_count": null,
   "metadata": {
    "collapsed": false
   },
   "outputs": [],
   "source": [
    "% run plot_PCAs.py\n",
    "\n",
    "hgdp_panel_name = \"MaxPlank\"\n",
    "\n",
    "panel_indices = OrderedDict()\n",
    "panel_indices['GAL Total'] = galanter.index\n",
    "panel_indices['GAL Parcial'] = present.index\n",
    "\n",
    "for dataset_label, dataset in datasets_mplank.items():\n",
    "    pca = plot_PCAs(dataset_label, panel_indices, dataset,\n",
    "                    mplank_populations, plot_markers, plot_colors)"
   ]
  },
  {
   "cell_type": "code",
   "execution_count": null,
   "metadata": {
    "collapsed": false
   },
   "outputs": [],
   "source": []
  },
  {
   "cell_type": "code",
   "execution_count": null,
   "metadata": {
    "collapsed": true
   },
   "outputs": [],
   "source": [
    "\n",
    "\n"
   ]
  },
  {
   "cell_type": "code",
   "execution_count": null,
   "metadata": {
    "collapsed": true
   },
   "outputs": [],
   "source": []
  },
  {
   "cell_type": "code",
   "execution_count": null,
   "metadata": {
    "collapsed": true
   },
   "outputs": [],
   "source": []
  },
  {
   "cell_type": "code",
   "execution_count": null,
   "metadata": {
    "collapsed": true
   },
   "outputs": [],
   "source": []
  },
  {
   "cell_type": "code",
   "execution_count": null,
   "metadata": {
    "collapsed": true
   },
   "outputs": [],
   "source": []
  },
  {
   "cell_type": "code",
   "execution_count": null,
   "metadata": {
    "collapsed": true
   },
   "outputs": [],
   "source": []
  },
  {
   "cell_type": "code",
   "execution_count": null,
   "metadata": {
    "collapsed": true
   },
   "outputs": [],
   "source": []
  },
  {
   "cell_type": "code",
   "execution_count": null,
   "metadata": {
    "collapsed": true
   },
   "outputs": [],
   "source": []
  },
  {
   "cell_type": "code",
   "execution_count": null,
   "metadata": {
    "collapsed": true
   },
   "outputs": [],
   "source": []
  },
  {
   "cell_type": "code",
   "execution_count": null,
   "metadata": {
    "collapsed": true
   },
   "outputs": [],
   "source": []
  },
  {
   "cell_type": "code",
   "execution_count": null,
   "metadata": {
    "collapsed": true
   },
   "outputs": [],
   "source": []
  },
  {
   "cell_type": "code",
   "execution_count": null,
   "metadata": {
    "collapsed": true
   },
   "outputs": [],
   "source": []
  },
  {
   "cell_type": "code",
   "execution_count": null,
   "metadata": {
    "collapsed": true
   },
   "outputs": [],
   "source": []
  },
  {
   "cell_type": "code",
   "execution_count": null,
   "metadata": {
    "collapsed": true
   },
   "outputs": [],
   "source": []
  },
  {
   "cell_type": "code",
   "execution_count": null,
   "metadata": {
    "collapsed": true
   },
   "outputs": [],
   "source": []
  },
  {
   "cell_type": "code",
   "execution_count": null,
   "metadata": {
    "collapsed": true
   },
   "outputs": [],
   "source": []
  },
  {
   "cell_type": "code",
   "execution_count": null,
   "metadata": {
    "collapsed": true
   },
   "outputs": [],
   "source": []
  },
  {
   "cell_type": "code",
   "execution_count": null,
   "metadata": {
    "collapsed": true
   },
   "outputs": [],
   "source": [
    "\n"
   ]
  }
 ],
 "metadata": {
  "kernelspec": {
   "display_name": "Python 3",
   "language": "python",
   "name": "python3"
  },
  "language_info": {
   "codemirror_mode": {
    "name": "ipython",
    "version": 3
   },
   "file_extension": ".py",
   "mimetype": "text/x-python",
   "name": "python",
   "nbconvert_exporter": "python",
   "pygments_lexer": "ipython3",
   "version": "3.5.1"
  }
 },
 "nbformat": 4,
 "nbformat_minor": 0
}
