{
 "cells": [
  {
   "cell_type": "markdown",
   "metadata": {},
   "source": [
    "# ADMIXTURE"
   ]
  },
  {
   "cell_type": "markdown",
   "metadata": {},
   "source": [
    "## General Settings"
   ]
  },
  {
   "cell_type": "code",
   "execution_count": 1,
   "metadata": {
    "collapsed": false
   },
   "outputs": [
    {
     "name": "stdout",
     "output_type": "stream",
     "text": [
      "[21:14:32] 'panels' dict\n",
      "[21:14:32] 'galanter', 'present', 'missing' dataframes\n",
      "[21:14:32] 'panel_labels'\n",
      "[21:14:32] 'panel_names' dict\n",
      "[21:14:32] 'panel_rsIDs' dict\n",
      "[21:14:32] 'genome' dataframe\n",
      "[21:14:37] 'lat' dataframe\n",
      "[21:14:51] 'control_genotypes' huge datagrame\n",
      "[21:14:51] 'control_rsIDs' dict to filter it ^\n",
      "[21:14:51] 'cp_factors' list\n",
      "[21:14:51] 'control_names' dict\n",
      "[21:14:51] 'df_1000G_samples'\n",
      "[21:14:51] 'df_1000G_SNPs'\n",
      "[21:14:51] 'df_1000G_genotypes'\n",
      "[21:14:51] 'df_1000G_populations'\n",
      "[21:14:51] 'df_1000G_genotypes_alleles'"
     ]
    },
    {
     "name": "stderr",
     "output_type": "stream",
     "text": [
      "/home/juan/repos/tesina/settings/genome.py:16: SettingWithCopyWarning: \n",
      "A value is trying to be set on a copy of a slice from a DataFrame.\n",
      "Try using .loc[row_indexer,col_indexer] = value instead\n",
      "\n",
      "See the caveats in the documentation: http://pandas.pydata.org/pandas-docs/stable/indexing.html#indexing-view-versus-copy\n",
      "  centromers[\"chromosome\"] = [i.replace(\"CEN\", \"\") for i in centromers.index]\n",
      "/home/juan/anaconda3/lib/python3.5/site-packages/pandas/io/parsers.py:1572: FutureWarning: split() requires a non-empty pattern match.\n",
      "  yield pat.split(line.strip())\n"
     ]
    },
    {
     "name": "stdout",
     "output_type": "stream",
     "text": [
      "\n",
      "[21:14:51] 'mafs' dataframe\n"
     ]
    },
    {
     "name": "stderr",
     "output_type": "stream",
     "text": [
      "/home/juan/anaconda3/lib/python3.5/site-packages/pandas/io/parsers.py:1574: FutureWarning: split() requires a non-empty pattern match.\n",
      "  yield pat.split(line.strip())\n"
     ]
    }
   ],
   "source": [
    "% matplotlib inline\n",
    "% load_ext autoreload\n",
    "% autoreload 2\n",
    "\n",
    "% run general_settings.py\n",
    "# ^ Takes ~20s to run if it finds the dumpfiles\n",
    "# ^ WARNING: It will hog ~2.02 Gb RAM"
   ]
  },
  {
   "cell_type": "code",
   "execution_count": null,
   "metadata": {
    "collapsed": true
   },
   "outputs": [],
   "source": [
    "# panels_indices = {\n",
    "#     \"galT\": galanter.index,\n",
    "#     \"galP\": present.index,\n",
    "#     \"controlx1\": control_genotypes.columns,\n",
    "#     \"controlx10\": control_2_genotypes.columns,\n",
    "#     \"controlx100\": control_3_genotypes.columns,\n",
    "# }\n",
    "\n",
    "# for panel_tag, panel_indices in panels_.items():\n",
    "#     df_1000G_SNPs.index.intersection(panel_indices).values.tofile(\n",
    "#         \"~/tesina/admixture/{}.snps\".format(panel_tag), sep=\"\\n\", format=\"%s\"\n",
    "#     )"
   ]
  },
  {
   "cell_type": "markdown",
   "metadata": {},
   "source": [
    "## Plot CV Errors"
   ]
  },
  {
   "cell_type": "code",
   "execution_count": 10,
   "metadata": {
    "collapsed": false
   },
   "outputs": [],
   "source": [
    "%%bash\n",
    "\n",
    "# Generar el `CV_error_summary` que leo para los gráficos siguientes:\n",
    "\n",
    "location=`pwd`\n",
    "cd /home/juan/tesina/admixture\n",
    "grep CV */*.log > CV_error_summary\n",
    "cat CV_error_summary | sed s'#[/:)]#,#g' | sed s'/CV error (K=//g' | awk -F, '{OFS=\",\"; print $1, $3, $5}' | sed s'/, /,/g' > CV_error_summary.clean\n",
    "cd $location"
   ]
  },
  {
   "cell_type": "code",
   "execution_count": 13,
   "metadata": {
    "collapsed": false
   },
   "outputs": [
    {
     "ename": "KeyError",
     "evalue": "'galP'",
     "output_type": "error",
     "traceback": [
      "\u001b[1;31m---------------------------------------------------------------------------\u001b[0m",
      "\u001b[1;31mKeyError\u001b[0m                                  Traceback (most recent call last)",
      "\u001b[1;32m<ipython-input-13-d306305fbfc0>\u001b[0m in \u001b[0;36m<module>\u001b[1;34m()\u001b[0m\n\u001b[0;32m     29\u001b[0m     \u001b[1;32mfor\u001b[0m \u001b[0mpanel\u001b[0m \u001b[1;32min\u001b[0m \u001b[0mpanels\u001b[0m\u001b[1;33m:\u001b[0m\u001b[1;33m\u001b[0m\u001b[0m\n\u001b[0;32m     30\u001b[0m         \u001b[0mdata\u001b[0m \u001b[1;33m=\u001b[0m \u001b[0mcv_errors\u001b[0m\u001b[1;33m.\u001b[0m\u001b[0mloc\u001b[0m\u001b[1;33m[\u001b[0m\u001b[1;33m(\u001b[0m\u001b[0mdataset\u001b[0m\u001b[1;33m,\u001b[0m \u001b[0mpanel\u001b[0m\u001b[1;33m)\u001b[0m\u001b[1;33m]\u001b[0m\u001b[1;33m\u001b[0m\u001b[0m\n\u001b[1;32m---> 31\u001b[1;33m         \u001b[0mdata\u001b[0m\u001b[1;33m.\u001b[0m\u001b[0mplot\u001b[0m\u001b[1;33m(\u001b[0m\u001b[0max\u001b[0m\u001b[1;33m=\u001b[0m\u001b[0max\u001b[0m\u001b[1;33m,\u001b[0m \u001b[0mmarker\u001b[0m\u001b[1;33m=\u001b[0m\u001b[1;34m\".\"\u001b[0m\u001b[1;33m,\u001b[0m \u001b[0mcolor\u001b[0m\u001b[1;33m=\u001b[0m\u001b[0mpopulation_colors\u001b[0m\u001b[1;33m(\u001b[0m\u001b[0mpanel\u001b[0m\u001b[1;33m)\u001b[0m\u001b[1;33m,\u001b[0m \u001b[0mzorder\u001b[0m\u001b[1;33m=\u001b[0m\u001b[1;36m1\u001b[0m\u001b[1;33m)\u001b[0m\u001b[1;33m\u001b[0m\u001b[0m\n\u001b[0m\u001b[0;32m     32\u001b[0m \u001b[1;33m\u001b[0m\u001b[0m\n\u001b[0;32m     33\u001b[0m         \u001b[0mx_min\u001b[0m \u001b[1;33m=\u001b[0m \u001b[0mdata\u001b[0m\u001b[1;33m[\u001b[0m\u001b[1;34m'CV_error'\u001b[0m\u001b[1;33m]\u001b[0m\u001b[1;33m.\u001b[0m\u001b[0midxmin\u001b[0m\u001b[1;33m(\u001b[0m\u001b[1;33m)\u001b[0m\u001b[1;33m\u001b[0m\u001b[0m\n",
      "\u001b[1;32m/home/juan/repos/tesina/helpers/plot_helpers.py\u001b[0m in \u001b[0;36mpopulation_colors\u001b[1;34m(population_code)\u001b[0m\n\u001b[0;32m     25\u001b[0m \u001b[1;33m\u001b[0m\u001b[0m\n\u001b[0;32m     26\u001b[0m \u001b[1;32mdef\u001b[0m \u001b[0mpopulation_colors\u001b[0m\u001b[1;33m(\u001b[0m\u001b[0mpopulation_code\u001b[0m\u001b[1;33m)\u001b[0m\u001b[1;33m:\u001b[0m\u001b[1;33m\u001b[0m\u001b[0m\n\u001b[1;32m---> 27\u001b[1;33m     \u001b[1;32mreturn\u001b[0m \u001b[0mload_yaml\u001b[0m\u001b[1;33m(\u001b[0m\u001b[1;34m\"./settings/population_colors.yml\"\u001b[0m\u001b[1;33m)\u001b[0m\u001b[1;33m[\u001b[0m\u001b[0mpopulation_code\u001b[0m\u001b[1;33m]\u001b[0m\u001b[1;33m\u001b[0m\u001b[0m\n\u001b[0m\u001b[0;32m     28\u001b[0m \u001b[1;33m\u001b[0m\u001b[0m\n\u001b[0;32m     29\u001b[0m \u001b[1;33m\u001b[0m\u001b[0m\n",
      "\u001b[1;31mKeyError\u001b[0m: 'galP'"
     ]
    },
    {
     "data": {
      "image/png": "[encoded data removed]",
      "text/plain": [
       "<matplotlib.figure.Figure at 0x7f3f49622ef0>"
      ]
     },
     "metadata": {},
     "output_type": "display_data"
    }
   ],
   "source": [
    "from itertools import product\n",
    "from helpers.plot_helpers import population_colors\n",
    "\n",
    "cv_errors = pd.read_csv(\"~/tesina/admixture/CV_error_summary.clean\",\n",
    "                        names=['dataset_panel', 'K', 'CV_error'])\n",
    "\n",
    "cv_errors['dataset'] = cv_errors['dataset_panel'].apply(lambda x: x.split(\"_\")[0])\n",
    "cv_errors['panel'] = cv_errors['dataset_panel'].apply(lambda x: x.split(\"_\")[1])\n",
    "cv_errors = cv_errors.drop('dataset_panel', axis=1)\n",
    "cv_errors = cv_errors.set_index(['dataset', 'panel', 'K']).sort_index()\n",
    "\n",
    "\n",
    "Ks = cv_errors.index.get_level_values('K').unique()\n",
    "\n",
    "width, height = (5, 3)\n",
    "cols, rows = (2, 3)\n",
    "fig = plt.figure(figsize=(width * cols, height * rows))\n",
    "axes = list(np.arange(cols * rows) + 1)\n",
    "axes.reverse()\n",
    "\n",
    "datasets = cv_errors.index.get_level_values('dataset').unique()\n",
    "for dataset in datasets:\n",
    "    \n",
    "    ax = plt.subplot(rows, cols, axes.pop())\n",
    "    lines = []\n",
    "    \n",
    "    panels = cv_errors.loc[dataset].index.get_level_values('panel').unique()\n",
    "    panels = [panel for panel in panels if \"gal\" in panel]  # Filter out the control panels for this chart\n",
    "    for panel in panels:\n",
    "        data = cv_errors.loc[(dataset, panel)]            \n",
    "        data.plot(ax=ax, marker=\".\", color=population_colors(panel), zorder=1)\n",
    "        \n",
    "        x_min = data['CV_error'].idxmin()\n",
    "        y_min = data['CV_error'].min()\n",
    "        min_marker = ax.scatter(x_min, y_min, marker=\"v\", color=\"DarkGreen\", zorder=2, s=35)\n",
    "        \n",
    "        # TODO: Add a special mark at the minimum y value\n",
    "    \n",
    "    lines, labels = ax.get_legend_handles_labels()\n",
    "    panel_labels = [panel_names[panel] for panel in panels]\n",
    "    ax.set_title(\"Dataset: \" + dataset_names[dataset], fontsize=12)\n",
    "    ax.set_ylabel(\"CV Error\", fontsize=11)\n",
    "    ax.set_xlabel(\"K\", fontsize=11)\n",
    "    ax.legend_.remove()\n",
    "\n",
    "# Ugly hack to get the legend in a separate subplot slot\n",
    "ax = plt.subplot(rows, cols, axes.pop())\n",
    "ax.legend(lines + [min_marker], panel_labels + ['Valor óptimo de K'],\n",
    "          fontsize=13, loc='upper left', fancybox=True, scatterpoints=1)\n",
    "ax.set_xticklabels([])\n",
    "ax.set_yticklabels([])\n",
    "ax.set_xticks([])\n",
    "ax.set_yticks([])\n",
    "for loc in ['top', 'bottom', 'left', 'right']:\n",
    "    ax.spines[loc].set_visible(False)\n",
    "\n",
    "plt.tight_layout()\n",
    "plt.show()"
   ]
  },
  {
   "cell_type": "markdown",
   "metadata": {},
   "source": [
    "## Plot ADMIXTURE ancestry ratios per individual"
   ]
  },
  {
   "cell_type": "code",
   "execution_count": null,
   "metadata": {
    "collapsed": true
   },
   "outputs": [],
   "source": [
    "from collections import OrderedDict\n",
    "from collections import defaultdict\n",
    "\n",
    "\n",
    "dataset_Ks = OrderedDict([(\"L\", 3), (\"LE\", 3), (\"LEA\", 3), (\"LEAC\", 4), (\"LEACI\", 5)])\n",
    "panels = [\"galT\", \"galP\", \"controlx1\", \"controlx10\", \"controlx100\"]\n",
    "admixture_results = defaultdict(OrderedDict)\n",
    "ancestral_components = {0: 'EUR', 1: 'NAM', 2: 'AFR', 3: 'EAS', 4: 'SAS'}\n",
    "\n",
    "population_groups = OrderedDict([\n",
    "    ('Latinos',   ['CLM', 'MXL', 'PEL', 'PUR']),\n",
    "    ('Europeos',  ['TSI', 'IBS']),\n",
    "    ('Africanos', ['LWK', 'YRI']),\n",
    "    ('Chinos',    ['CHS', 'CHB']),\n",
    "    ('Indios',    ['GIH'])\n",
    "])"
   ]
  },
  {
   "cell_type": "code",
   "execution_count": null,
   "metadata": {
    "collapsed": true
   },
   "outputs": [],
   "source": [
    "for dataset_tag, optimal_K in dataset_Ks.items():\n",
    "    for panel_tag in panels:\n",
    "        fdir = \"~/tesina/admixture/{}_{}/\".format(dataset_tag, panel_tag)\n",
    "        filename = \"{}_{}.{}.Q\".format(dataset_tag, panel_tag, optimal_K)\n",
    "        samples_filename = \"{}_{}.fam\".format(dataset_tag, panel_tag)\n",
    "        ancestry_values = pd.read_csv(fdir + filename, sep=\"\\s+\",\n",
    "                                      names=list(range(optimal_K)))\n",
    "        sample_ids = pd.read_csv(fdir + samples_filename, sep=\"\\s+\",\n",
    "                                 index_col=0, usecols=[0], names=['sample_id'])\n",
    "        ancestry_values['sample_id'] = sample_ids.index\n",
    "        populations = df_1000G_sample_populations.loc[sample_ids.index]['population']\n",
    "        ancestry_values['population'] = populations.values\n",
    "        ancestry_values['super_population'] = [df_1000G_population_names.loc[population]['Super Population Code']\n",
    "                                               for population in populations.values]\n",
    "\n",
    "        # Reorder ancestry columns to always have the same ancestral populations\n",
    "        # in the same positions (and then the same order and colors in the plots).\n",
    "        # Desired order: European, Amerindian, African, Chinese, Indian\n",
    "        # This is necessarily hardcoded after visual inspection of the plots.\n",
    "        fixed_columns = ['sample_id', 'population', 'super_population']\n",
    "        if panel_tag == \"galT\":\n",
    "            if dataset_tag == \"L\":\n",
    "                ancestry_values = ancestry_values[[2, 0, 1] + fixed_columns]\n",
    "            if dataset_tag == \"LE\":\n",
    "                ancestry_values = ancestry_values[[2, 0, 1] + fixed_columns]\n",
    "            if dataset_tag == \"LEA\":\n",
    "                ancestry_values = ancestry_values[[2, 1, 0] + fixed_columns]\n",
    "            if dataset_tag == \"LEAC\":\n",
    "                ancestry_values = ancestry_values[[1, 3, 2, 0] + fixed_columns]\n",
    "            if dataset_tag == \"LEACI\":\n",
    "                ancestry_values = ancestry_values[[3, 0, 2, 1, 4] + fixed_columns]\n",
    "        if panel_tag == \"galP\":\n",
    "            if dataset_tag == \"L\":\n",
    "                ancestry_values = ancestry_values[[2, 0, 1] + fixed_columns]\n",
    "            if dataset_tag == \"LE\":\n",
    "                ancestry_values = ancestry_values[[2, 1, 0] + fixed_columns]\n",
    "            if dataset_tag == \"LEA\":\n",
    "                ancestry_values = ancestry_values[[1, 2, 0] + fixed_columns]\n",
    "            if dataset_tag == \"LEAC\":\n",
    "                ancestry_values = ancestry_values[[3, 1, 0, 2] + fixed_columns]\n",
    "            if dataset_tag == \"LEACI\":\n",
    "                ancestry_values = ancestry_values[[3, 0, 2, 1, 4] + fixed_columns]\n",
    "        if panel_tag == \"controlx1\":\n",
    "            if dataset_tag == \"L\":\n",
    "                ancestry_values = ancestry_values[[1, 2, 0] + fixed_columns]\n",
    "            if dataset_tag == \"LE\":\n",
    "                ancestry_values = ancestry_values[[1, 0, 2] + fixed_columns]\n",
    "            if dataset_tag == \"LEA\":\n",
    "                ancestry_values = ancestry_values[[1, 2, 0] + fixed_columns]\n",
    "            if dataset_tag == \"LEAC\":\n",
    "                ancestry_values = ancestry_values[[3, 0, 2, 1] + fixed_columns]\n",
    "            if dataset_tag == \"LEACI\":\n",
    "                ancestry_values = ancestry_values[[4, 0, 2, 3, 1] + fixed_columns]\n",
    "        if panel_tag == \"controlx10\":\n",
    "            if dataset_tag == \"L\":\n",
    "                ancestry_values = ancestry_values[[2, 0, 1] + fixed_columns]\n",
    "            if dataset_tag == \"LE\":\n",
    "                ancestry_values = ancestry_values[[2, 0, 1] + fixed_columns]\n",
    "            if dataset_tag == \"LEA\":\n",
    "                ancestry_values = ancestry_values[[2, 1, 0] + fixed_columns]\n",
    "            if dataset_tag == \"LEAC\":\n",
    "                ancestry_values = ancestry_values[[3, 0, 2, 1] + fixed_columns]\n",
    "            if dataset_tag == \"LEACI\":\n",
    "                ancestry_values = ancestry_values[[4, 0, 2, 3, 1] + fixed_columns]\n",
    "        if panel_tag == \"controlx100\":\n",
    "            if dataset_tag == \"L\":\n",
    "                ancestry_values = ancestry_values[[2, 0, 1] + fixed_columns]\n",
    "            if dataset_tag == \"LE\":\n",
    "                ancestry_values = ancestry_values[[1, 0, 2] + fixed_columns]\n",
    "            if dataset_tag == \"LEA\":\n",
    "                ancestry_values = ancestry_values[[2, 1, 0] + fixed_columns]\n",
    "            if dataset_tag == \"LEAC\":\n",
    "                ancestry_values = ancestry_values[[3, 0, 2, 1] + fixed_columns]\n",
    "            if dataset_tag == \"LEACI\":\n",
    "                ancestry_values = ancestry_values[[4, 0, 2, 3, 1] + fixed_columns]\n",
    "                \n",
    "        # Reassign the column numbers\n",
    "        columns_renumbered = list(range(len(ancestry_values.columns) - len(fixed_columns)))\n",
    "        ancestry_values.columns = (columns_renumbered + fixed_columns)\n",
    "        \n",
    "        # Replace the numbers with the continental population codes\n",
    "        # This naming of the ancestry columns only makes sense with the previous ordering,\n",
    "        # which placed the components in the same order as the one in \"ancestral_components\"\n",
    "        renamed_columns = [ancestral_components[n] for n in ancestry_values.columns\n",
    "                          if n not in fixed_columns]\n",
    "        ancestry_values.columns = renamed_columns + fixed_columns\n",
    "        \n",
    "        # Reorder the named columns\n",
    "        ancestral_components_ordered = list(ancestral_components.values())[:len(renamed_columns)]\n",
    "        ancestry_values = ancestry_values[ancestral_components_ordered + fixed_columns]\n",
    "\n",
    "        # Sort the samples\n",
    "        ancestry_values = ancestry_values.sort_values(['super_population', 'population', 'EUR'])\n",
    "        ancestry_values = ancestry_values.reset_index(drop=True)\n",
    "\n",
    "        admixture_results[dataset_tag][panel_tag] = ancestry_values"
   ]
  },
  {
   "cell_type": "code",
   "execution_count": null,
   "metadata": {
    "collapsed": true
   },
   "outputs": [],
   "source": [
    "from collections import OrderedDict\n",
    "\n",
    "\n",
    "def config_admixture_plot(ax, df, ylabel_on=True):\n",
    "    ax.set_title(panel_name, fontsize=14, position=(0.5, 1.4))\n",
    "    \n",
    "    ax.spines[\"top\"].set_visible(False)\n",
    "    ax.spines[\"right\"].set_visible(False)\n",
    "    \n",
    "    # Set population names on the xticks\n",
    "    indices_by_population = [df[df['population'] == population].index.values\n",
    "                             for population in df['population'].unique()]\n",
    "    xtick_positions = [np.median(indices) for indices in indices_by_population]\n",
    "    ax.set_xticks(xtick_positions)\n",
    "    ax.set_xticklabels(df['population'].unique(), rotation=0)\n",
    "    ax.xaxis.set_ticks_position(\"top\")\n",
    "\n",
    "    # Separate the populations with a line\n",
    "    \n",
    "    separation_lines = [max(indices) for indices in indices_by_population]\n",
    "    [plt.axvline(x=x, color=\"k\", lw=1) for x in separation_lines[:-1]]\n",
    "\n",
    "    if ylabel_on:\n",
    "        ax.set_ylabel(\"Proporción de\\nancestrías\", fontsize=11)\n",
    "        \n",
    "    ax.set_ylim((0, 1))\n",
    "    ax.set_yticks([])\n",
    "    ax.set_frame_on(False)\n",
    "    ax.legend().set_visible(False)\n",
    "\n",
    "    return ax\n",
    "\n",
    "for dataset_tag, panel_results in admixture_results.items():\n",
    "    K = dataset_Ks[dataset_tag]\n",
    "    dataset_name = dataset_names[dataset_tag].replace(\"\\n\", \" \")\n",
    "        \n",
    "    # One figure per panel per dataset on top\n",
    "    \n",
    "    rows = len(panels)\n",
    "    fig = plt.figure(figsize=(12, 2 * rows))\n",
    "    axes = (np.arange(len(panels)) + 1).tolist()[::-1]\n",
    "    \n",
    "    for panel_tag, df in panel_results.items():\n",
    "        panel_name = panel_names[panel_tag]\n",
    "        ax = plt.subplot(rows, 1, axes.pop())\n",
    "        df.plot(ax=ax, kind=\"bar\", stacked=True, width=1, linewidth=0)\n",
    "        ax = config_admixture_plot(ax, df)\n",
    "    \n",
    "    plt.tight_layout()\n",
    "    \n",
    "    title = \"Dataset: {} ($K={}$)\".format(dataset_name, K)\n",
    "    fig.suptitle(title, fontsize=17)\n",
    "    plt.subplots_adjust(top=(0.75))  # Make space for the fig.suptitle\n",
    "    \n",
    "    plt.show()\n",
    "    \n",
    "#     # Detail plots for each population group\n",
    "    \n",
    "#     # Detail plots dimensions and subplot number generation\n",
    "#     width, height = (6, 2)\n",
    "    \n",
    "#     # Hacky! Dataset tags are acronyms of the population groups\n",
    "#     # So I'm inferring the number of population group from the length of the tag.\n",
    "#     cols, rows = (2, len(dataset_tag))  # One row of plots per population group\n",
    "    \n",
    "#     if dataset_tag == \"L\":\n",
    "#         rows = len(population_groups[\"Latinos\"])\n",
    "    \n",
    "#     fig = plt.figure(figsize=(width * cols, height * rows))\n",
    "\n",
    "#     odd_subplots = [n for n in np.arange(rows * cols) + 1 if n % 2 != 0]\n",
    "#     even_subplots = list(np.array(odd_subplots) + 1)\n",
    "#     axes = {\"galT\": odd_subplots[::-1], \"galP\": even_subplots[::-1]}\n",
    "\n",
    "#     sorted_index = []  # Hack. See (1) below.\n",
    "\n",
    "#     # One subplot per population group per panel in the dataset\n",
    "#     for panel_tag, df in panel_results.items():\n",
    "#         panel_name = panel_names[panel_tag]\n",
    "        \n",
    "#         if dataset_tag == \"L\":\n",
    "#             # Hack to get one plot per latino population in this dataset\n",
    "#             pg = dict([(p, [p]) for p in population_groups[\"Latinos\"]])\n",
    "#         else:\n",
    "#             pg = population_groups\n",
    "            \n",
    "#         for population_group_name, population_group in pg.items():\n",
    "#             mask = df['population'].isin(population_group)\n",
    "#             df_pop = df[mask].dropna()\n",
    "#             if len(df_pop) == 0:\n",
    "#                 continue\n",
    "    \n",
    "#             # (1) Hack to get the same sample order in both columns of plots\n",
    "#             if panel_tag == \"galT\":\n",
    "#                 sorted_index = [df_pop.index] + sorted_index\n",
    "#             elif panel_tag == \"galP\":\n",
    "#                 df_pop = df_pop.loc[sorted_index.pop()]\n",
    "\n",
    "#             # I need consecutive indices for the xtick labels position calculation later:\n",
    "#             df_pop = df_pop.reset_index(drop=True)\n",
    "            \n",
    "#             ax_id = axes[panel_tag].pop()\n",
    "#             ax = plt.subplot(rows, cols, ax_id)\n",
    "#             df_pop.plot(ax=ax, kind=\"bar\", stacked=True, width=1, linewidth=0)\n",
    "            \n",
    "#             ylabel_on = (ax_id % 2 != 0)  # Y-axis label only on plots on the left (odd plots)\n",
    "#             title_on = (ax_id in [1, 2])  # Only top plots carry the panel_name as title\n",
    "\n",
    "#             ax = config_admixture_plot(ax, df_pop, ylabel_on=ylabel_on)\n",
    "\n",
    "#     plt.tight_layout()\n",
    "#     plt.show()"
   ]
  },
  {
   "cell_type": "code",
   "execution_count": null,
   "metadata": {
    "collapsed": true
   },
   "outputs": [],
   "source": [
    "def get_superpop_from_poptag(tag):\n",
    "    ref = df_1000G_population_names\n",
    "\n",
    "    if tag not in ref.index:\n",
    "        return tag\n",
    "    \n",
    "    return ref.loc[tag]['Super Population Code']\n",
    "\n",
    "def config_admixture_mean_plot(ax, df, title=None, ylabel_on=True):\n",
    "    if title:\n",
    "        ax.set_title(title, fontsize=12.5, fontweight=\"bold\")\n",
    "\n",
    "#     if ylabel_on:\n",
    "#         ax.set_ylabel(\"Proporción de\\nancestrías\", fontsize=11)\n",
    "\n",
    "    ax.set_ylim((-0.05, 1.05))\n",
    "    ax.set_yticks([])\n",
    "    \n",
    "    xticklabels = plt.xticks()[1]\n",
    "    xticks_rot = 0 if len(xticklabels) < 10 else 45\n",
    "    ax.set_xticklabels(xticklabels, rotation=xticks_rot)\n",
    "    ax.xaxis.set_ticks_position('bottom')\n",
    "    ax.set_xlabel(\"\")\n",
    "    ax.set_frame_on(False)\n",
    "    ax.legend_.remove()\n",
    "\n",
    "    return ax\n",
    "\n",
    "\n",
    "for dataset_tag, panel_results in admixture_results.items():\n",
    "    K = dataset_Ks[dataset_tag]\n",
    "    dataset_name = dataset_names[dataset_tag].replace(\"\\n\", \" \")\n",
    "    \n",
    "    rows, cols = len(panel_results.keys()), 1\n",
    "    fig = plt.figure(figsize=(cols * width, rows * height))\n",
    "    axes = (np.arange(rows * cols) + 1).tolist()[::-1]\n",
    "    \n",
    "    for panel_tag, df in panel_results.items():\n",
    "        \n",
    "        panel_name = panel_names[panel_tag]\n",
    "        ax_id = axes.pop()\n",
    "        ax = plt.subplot(rows, cols, ax_id)\n",
    "        \n",
    "        by_population = df.groupby(\"population\").mean()\n",
    "        # by_superpopulation = df.groupby(\"super_population\").mean()\n",
    "        # both = pd.concat([by_population, by_superpopulation])\n",
    "\n",
    "        by_population[\"superpop\"] = [get_superpop_from_poptag(ix)\n",
    "                                     for ix in by_population.index.values]\n",
    "        by_population = by_population.sort_values([\"superpop\", \"EUR\"])\n",
    "        \n",
    "        by_population.plot(ax=ax, kind=\"bar\", stacked=True, width=1, lw=0.35, rot=0)\n",
    "        config_admixture_mean_plot(ax, by_population, title=panel_name, ylabel_on=True)\n",
    "    \n",
    "    figtitle = \"{} (K={})\".format(dataset_name, K)\n",
    "    fig.suptitle(figtitle, fontsize=14, fontweight=\"bold\")\n",
    "    plt.tight_layout()\n",
    "    plt.subplots_adjust(top=(0.90))\n",
    "    plt.show()"
   ]
  },
  {
   "cell_type": "code",
   "execution_count": null,
   "metadata": {
    "collapsed": true
   },
   "outputs": [],
   "source": []
  },
  {
   "cell_type": "code",
   "execution_count": null,
   "metadata": {
    "collapsed": true
   },
   "outputs": [],
   "source": []
  },
  {
   "cell_type": "code",
   "execution_count": null,
   "metadata": {
    "collapsed": true
   },
   "outputs": [],
   "source": []
  },
  {
   "cell_type": "code",
   "execution_count": null,
   "metadata": {
    "collapsed": true
   },
   "outputs": [],
   "source": []
  },
  {
   "cell_type": "code",
   "execution_count": null,
   "metadata": {
    "collapsed": true
   },
   "outputs": [],
   "source": []
  },
  {
   "cell_type": "code",
   "execution_count": null,
   "metadata": {
    "collapsed": true
   },
   "outputs": [],
   "source": []
  },
  {
   "cell_type": "code",
   "execution_count": null,
   "metadata": {
    "collapsed": true
   },
   "outputs": [],
   "source": []
  },
  {
   "cell_type": "code",
   "execution_count": null,
   "metadata": {
    "collapsed": true
   },
   "outputs": [],
   "source": []
  },
  {
   "cell_type": "code",
   "execution_count": null,
   "metadata": {
    "collapsed": true
   },
   "outputs": [],
   "source": []
  },
  {
   "cell_type": "code",
   "execution_count": null,
   "metadata": {
    "collapsed": true
   },
   "outputs": [],
   "source": []
  },
  {
   "cell_type": "code",
   "execution_count": null,
   "metadata": {
    "collapsed": true
   },
   "outputs": [],
   "source": []
  }
 ],
 "metadata": {
  "kernelspec": {
   "display_name": "Python 3",
   "language": "python",
   "name": "python3"
  },
  "language_info": {
   "codemirror_mode": {
    "name": "ipython",
    "version": 3
   },
   "file_extension": ".py",
   "mimetype": "text/x-python",
   "name": "python",
   "nbconvert_exporter": "python",
   "pygments_lexer": "ipython3",
   "version": "3.5.1"
  }
 },
 "nbformat": 4,
 "nbformat_minor": 0
}
