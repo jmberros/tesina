{
 "cells": [
  {
   "cell_type": "markdown",
   "metadata": {},
   "source": [
    "# PCA Plots"
   ]
  },
  {
   "cell_type": "markdown",
   "metadata": {},
   "source": [
    "## General settings and loading files"
   ]
  },
  {
   "cell_type": "code",
   "execution_count": null,
   "metadata": {
    "collapsed": true
   },
   "outputs": [],
   "source": [
    "% load_ext autoreload\n",
    "% autoreload 2"
   ]
  },
  {
   "cell_type": "code",
   "execution_count": null,
   "metadata": {
    "collapsed": false
   },
   "outputs": [],
   "source": [
    "%%time\n",
    "\n",
    "% matplotlib inline\n",
    "% load_ext autoreload\n",
    "% autoreload 2\n",
    "\n",
    "% run general_settings.py\n",
    "# ^ Takes ~20s to run if it finds the dumpfiles\n",
    "# ^ WARNING: It will hog ~2.02 Gb RAM\n",
    "\n",
    "% run datasets_settings.py\n",
    "\n",
    "! echo; wc -l /home/juan/tesina/dataset_dumps/*.samples | grep -v total"
   ]
  },
  {
   "cell_type": "markdown",
   "metadata": {},
   "source": [
    "## Create the datasets\n",
    "Lists of sample IDs of chosen populations to later filter 1000 Genomes data."
   ]
  },
  {
   "cell_type": "markdown",
   "metadata": {},
   "source": [
    "## PCA plots"
   ]
  },
  {
   "cell_type": "code",
   "execution_count": null,
   "metadata": {
    "collapsed": false
   },
   "outputs": [],
   "source": [
    "# %%time\n",
    "\n",
    "# == WARNING ==\n",
    "# This cell will take ~4m to execute\n",
    "\n",
    "from plotters.pca_plotter import PCAPlotter\n",
    "\n",
    "pca_plotter = PCAPlotter()\n",
    "components_to_compare = [(\"PC1\", \"PC2\")]\n",
    "\n",
    "def make_filename(dataset_label, panel_labels, components_to_compare):\n",
    "    return \"{}__{}__PCx{}\".format(dataset_label,\n",
    "                                \"_\".join(panel_labels),\n",
    "                             len(components_to_compare) * 2)\n",
    "\n",
    "for dataset_label, sample_ids in dataset_samples.items():\n",
    "    \n",
    "    \n",
    "    fig_title = \"Dataset: {}\".format(dataset_names[dataset_label])\n",
    "\n",
    "    # GAL Panles\n",
    "    dataset_genotypes = df_1000G_genotypes.loc[sample_ids, :]\n",
    "    filename = make_filename(dataset_label, panel_labels, components_to_compare)\n",
    "    populations_to_plot = dataset_populations[dataset_label]  # Order to the plot!\n",
    "    pca_plotter.plot(fig_title, panel_rsIDs, dataset_genotypes, df_1000G_samples,\n",
    "                     components_to_compare, panel_names, filename,\n",
    "                     populations_to_plot)\n",
    "    \n",
    "    # Control Panels\n",
    "    dataset_genotypes = control_genotypes.loc[sample_ids, :]\n",
    "    filename = make_filename(dataset_label, control_labels, components_to_compare)\n",
    "    populations_to_plot = dataset_populations[dataset_label]  # Order to the plot!\n",
    "    pca_plotter.plot(fig_title, control_rsIDs, dataset_genotypes, df_1000G_samples,\n",
    "                     components_to_compare, control_names, filename,\n",
    "                     populations_to_plot)\n",
    "    \n",
    "    # Control Panels - Extra components\n",
    "    only_big_cp = {\"CPx100\": control_rsIDs[\"CPx100\"]}\n",
    "    more_components_to_compare = [(\"PC3\", \"PC4\"), (\"PC5\", \"PC6\"),\n",
    "                                  (\"PC7\", \"PC8\")]\n",
    "    dataset_genotypes = control_genotypes.loc[sample_ids, :]\n",
    "    populations_to_plot = dataset_populations[dataset_label]  # Order to the plot!\n",
    "    filename = make_filename(dataset_label, [\"100\"], more_components_to_compare)\n",
    "    pca_plotter.plot(fig_title, only_big_cp, dataset_genotypes, df_1000G_samples,\n",
    "                     more_components_to_compare, control_names, filename,\n",
    "                     populations_to_plot)"
   ]
  },
  {
   "cell_type": "markdown",
   "metadata": {},
   "source": [
    "# Testing refactoring of PCA classes"
   ]
  },
  {
   "cell_type": "code",
   "execution_count": 1,
   "metadata": {
    "collapsed": false
   },
   "outputs": [
    {
     "name": "stdout",
     "output_type": "stream",
     "text": [
      "CPU times: user 6.04 s, sys: 320 ms, total: 6.36 s\n",
      "Wall time: 6.35 s\n"
     ]
    }
   ],
   "source": [
    "%%time\n",
    "\n",
    "%load_ext autoreload\n",
    "%autoreload 2\n",
    "\n",
    "from datasets.dataset import Dataset\n",
    "from panels.panel_creator import PanelCreator\n",
    "\n",
    "panels = PanelCreator().read_AIMs_panels()\n",
    "datasets = Dataset.all_datasets()"
   ]
  },
  {
   "cell_type": "code",
   "execution_count": 3,
   "metadata": {
    "collapsed": false
   },
   "outputs": [
    {
     "name": "stdout",
     "output_type": "stream",
     "text": [
      "<\"GAL_Completo\" with 446 SNPs>\n",
      "<Dataset L of 4 populations, 347 samples>\n",
      "<Dataset LE of 6 populations, 545 samples>\n",
      "<Dataset LEA of 8 populations, 752 samples>\n",
      "<Dataset LEAC of 10 populations, 960 samples>\n",
      "<Dataset LEACI of 11 populations, 1063 samples>\n",
      "<\"GAL_Affy\" with 180 SNPs>\n",
      "<Dataset L of 4 populations, 347 samples>\n",
      "<Dataset LE of 6 populations, 545 samples>\n",
      "<Dataset LEA of 8 populations, 752 samples>\n",
      "<Dataset LEAC of 10 populations, 960 samples>\n",
      "<Dataset LEACI of 11 populations, 1063 samples>\n",
      "<\"GAL_Faltantes\" with 266 SNPs>\n",
      "<Dataset L of 4 populations, 347 samples>\n",
      "<Dataset LE of 6 populations, 545 samples>\n",
      "<Dataset LEA of 8 populations, 752 samples>\n",
      "<Dataset LEAC of 10 populations, 960 samples>\n",
      "<Dataset LEACI of 11 populations, 1063 samples>\n"
     ]
    }
   ],
   "source": [
    "from pca.pca_generator import PCAGenerator\n",
    "\n",
    "\n",
    "pca_generator = PCAGenerator()\n",
    "\n",
    "for panel_label, panel in panels.items():  # markers\n",
    "    print(panel)\n",
    "    for dataset in datasets:\n",
    "        print(dataset)\n",
    "        genotypes = panel.genotypes(dataset=dataset)\n",
    "        pcs = pca_generator.principal_components(genotypes)"
   ]
  },
  {
   "cell_type": "code",
   "execution_count": null,
   "metadata": {
    "collapsed": true
   },
   "outputs": [],
   "source": []
  },
  {
   "cell_type": "code",
   "execution_count": null,
   "metadata": {
    "collapsed": true
   },
   "outputs": [],
   "source": []
  },
  {
   "cell_type": "code",
   "execution_count": null,
   "metadata": {
    "collapsed": true
   },
   "outputs": [],
   "source": []
  },
  {
   "cell_type": "code",
   "execution_count": null,
   "metadata": {
    "collapsed": true
   },
   "outputs": [],
   "source": []
  },
  {
   "cell_type": "code",
   "execution_count": null,
   "metadata": {
    "collapsed": true
   },
   "outputs": [],
   "source": []
  },
  {
   "cell_type": "code",
   "execution_count": null,
   "metadata": {
    "collapsed": true
   },
   "outputs": [],
   "source": []
  },
  {
   "cell_type": "code",
   "execution_count": null,
   "metadata": {
    "collapsed": true
   },
   "outputs": [],
   "source": []
  },
  {
   "cell_type": "code",
   "execution_count": null,
   "metadata": {
    "collapsed": true
   },
   "outputs": [],
   "source": []
  },
  {
   "cell_type": "code",
   "execution_count": null,
   "metadata": {
    "collapsed": true
   },
   "outputs": [],
   "source": []
  },
  {
   "cell_type": "code",
   "execution_count": null,
   "metadata": {
    "collapsed": true
   },
   "outputs": [],
   "source": []
  },
  {
   "cell_type": "code",
   "execution_count": null,
   "metadata": {
    "collapsed": true
   },
   "outputs": [],
   "source": []
  },
  {
   "cell_type": "code",
   "execution_count": null,
   "metadata": {
    "collapsed": true
   },
   "outputs": [],
   "source": []
  },
  {
   "cell_type": "code",
   "execution_count": null,
   "metadata": {
    "collapsed": true
   },
   "outputs": [],
   "source": []
  },
  {
   "cell_type": "code",
   "execution_count": null,
   "metadata": {
    "collapsed": true
   },
   "outputs": [],
   "source": []
  },
  {
   "cell_type": "code",
   "execution_count": null,
   "metadata": {
    "collapsed": true
   },
   "outputs": [],
   "source": []
  },
  {
   "cell_type": "code",
   "execution_count": null,
   "metadata": {
    "collapsed": true
   },
   "outputs": [],
   "source": []
  },
  {
   "cell_type": "code",
   "execution_count": null,
   "metadata": {
    "collapsed": true
   },
   "outputs": [],
   "source": []
  }
 ],
 "metadata": {
  "kernelspec": {
   "display_name": "Python 3",
   "language": "python",
   "name": "python3"
  },
  "language_info": {
   "codemirror_mode": {
    "name": "ipython",
    "version": 3
   },
   "file_extension": ".py",
   "mimetype": "text/x-python",
   "name": "python",
   "nbconvert_exporter": "python",
   "pygments_lexer": "ipython3",
   "version": "3.5.1"
  }
 },
 "nbformat": 4,
 "nbformat_minor": 0
}
