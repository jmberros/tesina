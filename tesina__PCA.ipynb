{
 "cells": [
  {
   "cell_type": "markdown",
   "metadata": {},
   "source": [
    "# PCA Plots"
   ]
  },
  {
   "cell_type": "markdown",
   "metadata": {},
   "source": [
    "## General settings and loading files"
   ]
  },
  {
   "cell_type": "code",
   "execution_count": null,
   "metadata": {
    "collapsed": true
   },
   "outputs": [],
   "source": [
    "% load_ext autoreload\n",
    "% autoreload 2"
   ]
  },
  {
   "cell_type": "code",
   "execution_count": null,
   "metadata": {
    "collapsed": false
   },
   "outputs": [],
   "source": [
    "%%time\n",
    "\n",
    "% matplotlib inline\n",
    "% load_ext autoreload\n",
    "% autoreload 2\n",
    "\n",
    "% run general_settings.py\n",
    "# ^ Takes ~20s to run if it finds the dumpfiles\n",
    "# ^ WARNING: It will hog ~2.02 Gb RAM\n",
    "\n",
    "% run datasets_settings.py\n",
    "\n",
    "! echo; wc -l /home/juan/tesina/dataset_dumps/*.samples | grep -v total"
   ]
  },
  {
   "cell_type": "markdown",
   "metadata": {},
   "source": [
    "## Create the datasets\n",
    "Lists of sample IDs of chosen populations to later filter 1000 Genomes data."
   ]
  },
  {
   "cell_type": "markdown",
   "metadata": {},
   "source": [
    "## PCA plots"
   ]
  },
  {
   "cell_type": "code",
   "execution_count": null,
   "metadata": {
    "collapsed": false
   },
   "outputs": [],
   "source": [
    "# %%time\n",
    "\n",
    "# == WARNING ==\n",
    "# This cell will take ~4m to execute\n",
    "\n",
    "from plotters.pca_plotter import PCAPlotter\n",
    "\n",
    "pca_plotter = PCAPlotter()\n",
    "components_to_compare = [(\"PC1\", \"PC2\")]\n",
    "\n",
    "def make_filename(dataset_label, panel_labels, components_to_compare):\n",
    "    return \"{}__{}__PCx{}\".format(dataset_label,\n",
    "                                \"_\".join(panel_labels),\n",
    "                             len(components_to_compare) * 2)\n",
    "\n",
    "for dataset_label, sample_ids in dataset_samples.items():\n",
    "    \n",
    "    \n",
    "    fig_title = \"Dataset: {}\".format(dataset_names[dataset_label])\n",
    "\n",
    "    # GAL Panles\n",
    "    dataset_genotypes = df_1000G_genotypes.loc[sample_ids, :]\n",
    "    filename = make_filename(dataset_label, panel_labels, components_to_compare)\n",
    "    populations_to_plot = dataset_populations[dataset_label]  # Order to the plot!\n",
    "    pca_plotter.plot(fig_title, panel_rsIDs, dataset_genotypes, df_1000G_samples,\n",
    "                     components_to_compare, panel_names, filename,\n",
    "                     populations_to_plot)\n",
    "    \n",
    "    # Control Panels\n",
    "    dataset_genotypes = control_genotypes.loc[sample_ids, :]\n",
    "    filename = make_filename(dataset_label, control_labels, components_to_compare)\n",
    "    populations_to_plot = dataset_populations[dataset_label]  # Order to the plot!\n",
    "    pca_plotter.plot(fig_title, control_rsIDs, dataset_genotypes, df_1000G_samples,\n",
    "                     components_to_compare, control_names, filename,\n",
    "                     populations_to_plot)\n",
    "    \n",
    "    # Control Panels - Extra components\n",
    "    only_big_cp = {\"CPx100\": control_rsIDs[\"CPx100\"]}\n",
    "    more_components_to_compare = [(\"PC3\", \"PC4\"), (\"PC5\", \"PC6\"),\n",
    "                                  (\"PC7\", \"PC8\")]\n",
    "    dataset_genotypes = control_genotypes.loc[sample_ids, :]\n",
    "    populations_to_plot = dataset_populations[dataset_label]  # Order to the plot!\n",
    "    filename = make_filename(dataset_label, [\"100\"], more_components_to_compare)\n",
    "    pca_plotter.plot(fig_title, only_big_cp, dataset_genotypes, df_1000G_samples,\n",
    "                     more_components_to_compare, control_names, filename,\n",
    "                     populations_to_plot)"
   ]
  },
  {
   "cell_type": "markdown",
   "metadata": {},
   "source": [
    "# Testing refactoring of PCA classes"
   ]
  },
  {
   "cell_type": "code",
   "execution_count": 10,
   "metadata": {
    "collapsed": false
   },
   "outputs": [
    {
     "name": "stdout",
     "output_type": "stream",
     "text": [
      "CPU times: user 5.68 s, sys: 256 ms, total: 5.93 s\n",
      "Wall time: 5.94 s\n"
     ]
    }
   ],
   "source": [
    "%%time\n",
    "\n",
    "%load_ext autoreload\n",
    "%autoreload 2\n",
    "\n",
    "from datasets.dataset import Dataset\n",
    "from panels.panel_creator import PanelCreator\n",
    "\n",
    "panels = PanelCreator().read_AIMs_panels()\n",
    "datasets = Dataset.all_datasets()"
   ]
  },
  {
   "cell_type": "code",
   "execution_count": 11,
   "metadata": {
    "collapsed": false
   },
   "outputs": [
    {
     "name": "stdout",
     "output_type": "stream",
     "text": [
      "<\"GAL_Completo\" with 446 SNPs>\n"
     ]
    },
    {
     "ename": "TypeError",
     "evalue": "genotypes() got an unexpected keyword argument 'dataset'",
     "output_type": "error",
     "traceback": [
      "\u001b[1;31m---------------------------------------------------------------------------\u001b[0m",
      "\u001b[1;31mTypeError\u001b[0m                                 Traceback (most recent call last)",
      "\u001b[1;32m<ipython-input-11-d48c8ea6d99e>\u001b[0m in \u001b[0;36m<module>\u001b[1;34m()\u001b[0m\n\u001b[0;32m      7\u001b[0m     \u001b[0mprint\u001b[0m\u001b[1;33m(\u001b[0m\u001b[0mpanel\u001b[0m\u001b[1;33m)\u001b[0m\u001b[1;33m\u001b[0m\u001b[0m\n\u001b[0;32m      8\u001b[0m     \u001b[1;32mfor\u001b[0m \u001b[0mdataset\u001b[0m \u001b[1;32min\u001b[0m \u001b[0mdatasets\u001b[0m\u001b[1;33m:\u001b[0m\u001b[1;33m\u001b[0m\u001b[0m\n\u001b[1;32m----> 9\u001b[1;33m         \u001b[0mprint\u001b[0m\u001b[1;33m(\u001b[0m\u001b[0mpanel\u001b[0m\u001b[1;33m.\u001b[0m\u001b[0mgenotypes\u001b[0m\u001b[1;33m(\u001b[0m\u001b[0mdataset\u001b[0m\u001b[1;33m=\u001b[0m\u001b[0mdataset\u001b[0m\u001b[1;33m)\u001b[0m\u001b[1;33m.\u001b[0m\u001b[0mshape\u001b[0m\u001b[1;33m)\u001b[0m\u001b[1;33m\u001b[0m\u001b[0m\n\u001b[0m\u001b[0;32m     10\u001b[0m \u001b[1;33m\u001b[0m\u001b[0m\n\u001b[0;32m     11\u001b[0m \u001b[1;31m#         pcs = pca_generator.principal_components(panel.genotypes().)\u001b[0m\u001b[1;33m\u001b[0m\u001b[1;33m\u001b[0m\u001b[0m\n",
      "\u001b[1;31mTypeError\u001b[0m: genotypes() got an unexpected keyword argument 'dataset'"
     ]
    }
   ],
   "source": [
    "from pca.pca_generator import PCAGenerator\n",
    "\n",
    "\n",
    "pca_generator = PCAGenerator()\n",
    "\n",
    "for panel_label, panel in panels.items():  # markers\n",
    "    print(panel)\n",
    "    for dataset in datasets:\n",
    "        print(panel.genotypes(dataset=dataset).shape)\n",
    "        \n",
    "#         pcs = pca_generator.principal_components(panel.genotypes().)"
   ]
  },
  {
   "cell_type": "code",
   "execution_count": null,
   "metadata": {
    "collapsed": true
   },
   "outputs": [],
   "source": []
  },
  {
   "cell_type": "code",
   "execution_count": null,
   "metadata": {
    "collapsed": true
   },
   "outputs": [],
   "source": []
  },
  {
   "cell_type": "code",
   "execution_count": null,
   "metadata": {
    "collapsed": true
   },
   "outputs": [],
   "source": []
  },
  {
   "cell_type": "code",
   "execution_count": null,
   "metadata": {
    "collapsed": true
   },
   "outputs": [],
   "source": []
  },
  {
   "cell_type": "code",
   "execution_count": null,
   "metadata": {
    "collapsed": true
   },
   "outputs": [],
   "source": []
  },
  {
   "cell_type": "code",
   "execution_count": null,
   "metadata": {
    "collapsed": true
   },
   "outputs": [],
   "source": []
  },
  {
   "cell_type": "code",
   "execution_count": null,
   "metadata": {
    "collapsed": true
   },
   "outputs": [],
   "source": []
  },
  {
   "cell_type": "code",
   "execution_count": null,
   "metadata": {
    "collapsed": true
   },
   "outputs": [],
   "source": []
  },
  {
   "cell_type": "code",
   "execution_count": null,
   "metadata": {
    "collapsed": true
   },
   "outputs": [],
   "source": []
  },
  {
   "cell_type": "code",
   "execution_count": null,
   "metadata": {
    "collapsed": true
   },
   "outputs": [],
   "source": []
  },
  {
   "cell_type": "code",
   "execution_count": null,
   "metadata": {
    "collapsed": true
   },
   "outputs": [],
   "source": []
  },
  {
   "cell_type": "code",
   "execution_count": null,
   "metadata": {
    "collapsed": true
   },
   "outputs": [],
   "source": []
  },
  {
   "cell_type": "code",
   "execution_count": null,
   "metadata": {
    "collapsed": true
   },
   "outputs": [],
   "source": []
  },
  {
   "cell_type": "code",
   "execution_count": null,
   "metadata": {
    "collapsed": true
   },
   "outputs": [],
   "source": []
  },
  {
   "cell_type": "code",
   "execution_count": null,
   "metadata": {
    "collapsed": true
   },
   "outputs": [],
   "source": []
  },
  {
   "cell_type": "code",
   "execution_count": null,
   "metadata": {
    "collapsed": true
   },
   "outputs": [],
   "source": []
  },
  {
   "cell_type": "code",
   "execution_count": null,
   "metadata": {
    "collapsed": true
   },
   "outputs": [],
   "source": []
  }
 ],
 "metadata": {
  "kernelspec": {
   "display_name": "Python 3",
   "language": "python",
   "name": "python3"
  },
  "language_info": {
   "codemirror_mode": {
    "name": "ipython",
    "version": 3
   },
   "file_extension": ".py",
   "mimetype": "text/x-python",
   "name": "python",
   "nbconvert_exporter": "python",
   "pygments_lexer": "ipython3",
   "version": "3.5.1"
  }
 },
 "nbformat": 4,
 "nbformat_minor": 0
}
