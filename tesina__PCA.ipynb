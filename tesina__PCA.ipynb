{
 "cells": [
  {
   "cell_type": "markdown",
   "metadata": {},
   "source": [
    "# PCA Plots"
   ]
  },
  {
   "cell_type": "markdown",
   "metadata": {},
   "source": [
    "## General settings and loading files"
   ]
  },
  {
   "cell_type": "code",
   "execution_count": 1,
   "metadata": {
    "collapsed": false
   },
   "outputs": [
    {
     "name": "stdout",
     "output_type": "stream",
     "text": [
      "[00:37:40] 'panels' dict\n",
      "[00:37:40] 'galanter', 'present', 'missing' dataframes\n",
      "[00:37:40] 'panel_labels'\n",
      "[00:37:40] 'panel_names' dict\n",
      "[00:37:40] 'panel_rsIDs' dict\n",
      "[00:37:40] 'genome' dataframe\n",
      "[00:37:47] 'lat' dataframe\n",
      "[00:38:00] 'control_genotypes' huge datagrame\n",
      "[00:38:00] 'control_rsIDs' dict to filter it ^\n",
      "[00:38:00] 'cp_factors' list\n",
      "[00:38:00] 'control_names' dict\n",
      "[00:38:00] 'df_1000G_samples'\n",
      "[00:38:00] 'df_1000G_SNPs'\n",
      "[00:38:00] 'df_1000G_genotypes'\n",
      "[00:38:00] 'df_1000G_populations'\n",
      "[00:38:00] 'df_1000G_genotypes_alleles'"
     ]
    },
    {
     "name": "stderr",
     "output_type": "stream",
     "text": [
      "/home/juan/repos/tesina/settings/genome.py:16: SettingWithCopyWarning: \n",
      "A value is trying to be set on a copy of a slice from a DataFrame.\n",
      "Try using .loc[row_indexer,col_indexer] = value instead\n",
      "\n",
      "See the caveats in the documentation: http://pandas.pydata.org/pandas-docs/stable/indexing.html#indexing-view-versus-copy\n",
      "  centromers[\"chromosome\"] = [i.replace(\"CEN\", \"\") for i in centromers.index]\n",
      "/home/juan/anaconda3/lib/python3.5/site-packages/pandas/io/parsers.py:1572: FutureWarning: split() requires a non-empty pattern match.\n",
      "  yield pat.split(line.strip())\n"
     ]
    },
    {
     "name": "stdout",
     "output_type": "stream",
     "text": [
      "\n",
      "[00:38:01] 'mafs' dataframe\n",
      "CPU times: user 16.7 s, sys: 3.29 s, total: 20 s\n",
      "Wall time: 21.7 s\n"
     ]
    },
    {
     "name": "stderr",
     "output_type": "stream",
     "text": [
      "/home/juan/anaconda3/lib/python3.5/site-packages/pandas/io/parsers.py:1574: FutureWarning: split() requires a non-empty pattern match.\n",
      "  yield pat.split(line.strip())\n"
     ]
    }
   ],
   "source": [
    "%%time\n",
    "\n",
    "% matplotlib notebook\n",
    "% load_ext autoreload\n",
    "% autoreload 2\n",
    "\n",
    "% run general_settings.py\n",
    "# ^ Takes ~20s to run if it finds the dumpfiles\n",
    "# ^ WARNING: It will hog ~2.02 Gb RAM\n"
   ]
  },
  {
   "cell_type": "markdown",
   "metadata": {},
   "source": [
    "## Create the datasets\n",
    "Lists of sample IDs of chosen populations to later filter 1000 Genomes data."
   ]
  },
  {
   "cell_type": "code",
   "execution_count": 23,
   "metadata": {
    "collapsed": false
   },
   "outputs": [
    {
     "name": "stdout",
     "output_type": "stream",
     "text": [
      "[00:59:51] 'dataset_names'\n",
      "[00:59:51] 'dataset_populations'\n",
      "[00:59:51] 'dataset_samples' created and written to files\n",
      "\r\n",
      "  346 /home/juan/tesina/dataset_dumps/L.samples\r\n",
      "  437 /home/juan/tesina/dataset_dumps/LE.samples\r\n",
      "  644 /home/juan/tesina/dataset_dumps/LEA.samples\r\n",
      "  852 /home/juan/tesina/dataset_dumps/LEAC.samples\r\n",
      "  955 /home/juan/tesina/dataset_dumps/LEACI.samples\r\n",
      " 3234 total\r\n"
     ]
    }
   ],
   "source": [
    "% run datasets_settings.py\n",
    "\n",
    "! echo; wc -l /home/juan/tesina/dataset_dumps/*.samples"
   ]
  },
  {
   "cell_type": "markdown",
   "metadata": {},
   "source": [
    "## PCA plots"
   ]
  },
  {
   "cell_type": "code",
   "execution_count": null,
   "metadata": {
    "collapsed": false
   },
   "outputs": [],
   "source": [
    "%%time\n",
    "\n",
    "# == WARNING ==\n",
    "# This cell will take ~4m to execute\n",
    "# And it will take ~500 Mb RAM, I think\n",
    "\n",
    "from plotters.pca import PCAPlotter\n",
    "\n",
    "pca_plotter = PCAPlotter()\n",
    "components_to_compare = [(0, 1)]\n",
    "\n",
    "def make_filename(dataset_label, panel_labels, components_to_compare):\n",
    "    return \"{}_{}_PCx{}\".format(dataset_label, \"_\".join(panel_labels).lower(),\n",
    "                                len(components_to_compare) * 2)\n",
    "\n",
    "for dataset_label, sample_ids in dataset_samples.items():\n",
    "    fig_title = \"Dataset: {}\".format(dataset_names[dataset_label])\n",
    "    \n",
    "    # GAL Panles\n",
    "    dataset_genotypes = df_1000G_genotypes.loc[sample_ids, :]\n",
    "    filename = make_filename(dataset_label, panel_labels, components_to_compare)\n",
    "    pca_plotter.plot(fig_title, panel_rsIDs, dataset_genotypes, df_1000G_samples,\n",
    "                     components_to_compare, panel_names, filename)\n",
    "    \n",
    "    # Control Panels\n",
    "    dataset_genotypes = control_genotypes.loc[sample_ids, :]\n",
    "    filename = make_filename(dataset_label, control_labels, components_to_compare)\n",
    "    pca_plotter.plot(fig_title, control_rsIDs, dataset_genotypes, df_1000G_samples,\n",
    "                     components_to_compare, control_names, filename)\n",
    "    \n",
    "    # Control Panels - Extra components\n",
    "    only_big_cp = {\"100\": control_rsIDs[\"100\"]}\n",
    "    more_components_to_compare = [(2, 3), (4, 5), (6, 7)]\n",
    "    dataset_genotypes = control_genotypes.loc[sample_ids, :]\n",
    "    filename = make_filename(dataset_label, [\"100\"], more_components_to_compare)\n",
    "    pca_plotter.plot(fig_title, only_big_cp, dataset_genotypes, df_1000G_samples,\n",
    "                     more_components_to_compare, control_names, filename)"
   ]
  },
  {
   "cell_type": "code",
   "execution_count": null,
   "metadata": {
    "collapsed": true
   },
   "outputs": [],
   "source": []
  },
  {
   "cell_type": "code",
   "execution_count": null,
   "metadata": {
    "collapsed": true
   },
   "outputs": [],
   "source": []
  },
  {
   "cell_type": "code",
   "execution_count": null,
   "metadata": {
    "collapsed": true
   },
   "outputs": [],
   "source": []
  },
  {
   "cell_type": "code",
   "execution_count": null,
   "metadata": {
    "collapsed": true
   },
   "outputs": [],
   "source": []
  },
  {
   "cell_type": "code",
   "execution_count": null,
   "metadata": {
    "collapsed": true
   },
   "outputs": [],
   "source": []
  },
  {
   "cell_type": "code",
   "execution_count": null,
   "metadata": {
    "collapsed": true
   },
   "outputs": [],
   "source": []
  },
  {
   "cell_type": "code",
   "execution_count": null,
   "metadata": {
    "collapsed": true
   },
   "outputs": [],
   "source": []
  },
  {
   "cell_type": "code",
   "execution_count": null,
   "metadata": {
    "collapsed": true
   },
   "outputs": [],
   "source": []
  },
  {
   "cell_type": "code",
   "execution_count": null,
   "metadata": {
    "collapsed": true
   },
   "outputs": [],
   "source": []
  },
  {
   "cell_type": "code",
   "execution_count": null,
   "metadata": {
    "collapsed": true
   },
   "outputs": [],
   "source": []
  },
  {
   "cell_type": "code",
   "execution_count": null,
   "metadata": {
    "collapsed": true
   },
   "outputs": [],
   "source": []
  },
  {
   "cell_type": "code",
   "execution_count": null,
   "metadata": {
    "collapsed": true
   },
   "outputs": [],
   "source": []
  }
 ],
 "metadata": {
  "kernelspec": {
   "display_name": "Python 3",
   "language": "python",
   "name": "python3"
  },
  "language_info": {
   "codemirror_mode": {
    "name": "ipython",
    "version": 3
   },
   "file_extension": ".py",
   "mimetype": "text/x-python",
   "name": "python",
   "nbconvert_exporter": "python",
   "pygments_lexer": "ipython3",
   "version": "3.5.1"
  }
 },
 "nbformat": 4,
 "nbformat_minor": 0
}
