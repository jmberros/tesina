{
 "cells": [
  {
   "cell_type": "markdown",
   "metadata": {},
   "source": [
    "# PCA Plots"
   ]
  },
  {
   "cell_type": "markdown",
   "metadata": {},
   "source": [
    "## General settings and loading files"
   ]
  },
  {
   "cell_type": "code",
   "execution_count": 8,
   "metadata": {
    "collapsed": false
   },
   "outputs": [
    {
     "name": "stdout",
     "output_type": "stream",
     "text": [
      "The autoreload extension is already loaded. To reload it, use:\n",
      "  %reload_ext autoreload\n",
      "[23:25:59] 'panels' dict\n",
      "[23:25:59] 'galanter', 'present', 'missing' dataframes\n",
      "[23:25:59] 'panel_labels'\n",
      "[23:25:59] 'panel_names' dict\n",
      "[23:25:59] 'genome' dataframe\n",
      "[23:26:10] 'lat' dataframe\n",
      "[23:26:28] 'control_genotypes' dict of dataframes\n",
      "[23:26:28] 'cp_factors' list\n",
      "[23:26:28] 'control_names' dict\n",
      "[23:26:28] 'df_1000G_sample_populations'\n",
      "[23:26:28] 'df_1000G_SNPs'\n",
      "[23:26:28] 'df_1000G_genotypes'\n",
      "[23:26:28] 'df_1000G_population_names'\n",
      "[23:26:28] 'df_1000G_genotypes_alleles'"
     ]
    },
    {
     "name": "stderr",
     "output_type": "stream",
     "text": [
      "/home/juan/repos/tesina/settings/genome.py:16: SettingWithCopyWarning: \n",
      "A value is trying to be set on a copy of a slice from a DataFrame.\n",
      "Try using .loc[row_indexer,col_indexer] = value instead\n",
      "\n",
      "See the caveats in the documentation: http://pandas.pydata.org/pandas-docs/stable/indexing.html#indexing-view-versus-copy\n",
      "  centromers[\"chromosome\"] = [i.replace(\"CEN\", \"\") for i in centromers.index]\n",
      "/home/juan/miniconda3/lib/python3.5/site-packages/pandas/io/parsers.py:1572: FutureWarning: split() requires a non-empty pattern match.\n",
      "  yield pat.split(line.strip())\n"
     ]
    },
    {
     "name": "stdout",
     "output_type": "stream",
     "text": [
      "\n",
      "[23:26:29] 'mafs' dataframe\n",
      "=> You should check your RAM! <=\n"
     ]
    },
    {
     "name": "stderr",
     "output_type": "stream",
     "text": [
      "/home/juan/miniconda3/lib/python3.5/site-packages/pandas/io/parsers.py:1574: FutureWarning: split() requires a non-empty pattern match.\n",
      "  yield pat.split(line.strip())\n"
     ]
    }
   ],
   "source": [
    "% matplotlib inline\n",
    "% load_ext autoreload\n",
    "% autoreload 2\n",
    "\n",
    "%run helpers/data_munging_functions.py\n",
    "%run helpers/number_helpers.py\n",
    "%run general_settings.py"
   ]
  },
  {
   "cell_type": "markdown",
   "metadata": {},
   "source": [
    "# Create the Datasets"
   ]
  },
  {
   "cell_type": "code",
   "execution_count": null,
   "metadata": {
    "collapsed": true
   },
   "outputs": [],
   "source": [
    "import yaml\n",
    "\n",
    "plot_colors = yaml.load(open(\"data/plot_colors.yml\", \"r\"))\n",
    "plot_markers = yaml.load(open(\"data/plot_markers.yml\", \"r\"))"
   ]
  },
  {
   "cell_type": "code",
   "execution_count": 16,
   "metadata": {
    "collapsed": false
   },
   "outputs": [],
   "source": [
    "indices_per_panel = OrderedDict()\n",
    "\n",
    "for panel_label, panel in panels.items():\n",
    "    name = panel_names[panel_label]\n",
    "    indices_per_panel[name] = panel.index\n",
    "\n",
    "for factor in cp_factors:\n",
    "    name = control_names[factor]\n",
    "    indices_per_panel[name] = control_genotypes[factor].columns"
   ]
  },
  {
   "cell_type": "code",
   "execution_count": 19,
   "metadata": {
    "collapsed": true
   },
   "outputs": [],
   "source": []
  },
  {
   "cell_type": "code",
   "execution_count": 23,
   "metadata": {
    "collapsed": false
   },
   "outputs": [
    {
     "ename": "AttributeError",
     "evalue": "module 'os' has no attribute 'join'",
     "output_type": "error",
     "traceback": [
      "\u001b[1;31m---------------------------------------------------------------------------\u001b[0m",
      "\u001b[1;31mAttributeError\u001b[0m                            Traceback (most recent call last)",
      "\u001b[1;32m<ipython-input-23-569e25343704>\u001b[0m in \u001b[0;36m<module>\u001b[1;34m()\u001b[0m\n\u001b[0;32m     41\u001b[0m \u001b[1;32mfor\u001b[0m \u001b[0mdataset_label\u001b[0m\u001b[1;33m,\u001b[0m \u001b[0mpop_dict\u001b[0m \u001b[1;32min\u001b[0m \u001b[0mdatasets\u001b[0m\u001b[1;33m.\u001b[0m\u001b[0mitems\u001b[0m\u001b[1;33m(\u001b[0m\u001b[1;33m)\u001b[0m\u001b[1;33m:\u001b[0m\u001b[1;33m\u001b[0m\u001b[0m\n\u001b[0;32m     42\u001b[0m     \u001b[0mdatasets\u001b[0m\u001b[1;33m[\u001b[0m\u001b[0mlabel\u001b[0m\u001b[1;33m]\u001b[0m \u001b[1;33m=\u001b[0m \u001b[0msample_IDs_from_popcode\u001b[0m\u001b[1;33m(\u001b[0m\u001b[0mpop_dict\u001b[0m\u001b[1;33m)\u001b[0m\u001b[1;33m\u001b[0m\u001b[0m\n\u001b[1;32m---> 43\u001b[1;33m     \u001b[0mfilename\u001b[0m \u001b[1;33m=\u001b[0m \u001b[0mos\u001b[0m\u001b[1;33m.\u001b[0m\u001b[0mjoin\u001b[0m\u001b[1;33m(\u001b[0m\u001b[0mDATASETS_DIR\u001b[0m\u001b[1;33m,\u001b[0m \u001b[0mlabel\u001b[0m\u001b[1;33m.\u001b[0m\u001b[0mlower\u001b[0m\u001b[1;33m(\u001b[0m\u001b[1;33m)\u001b[0m\u001b[1;33m)\u001b[0m\u001b[1;33m\u001b[0m\u001b[0m\n\u001b[0m\u001b[0;32m     44\u001b[0m     \u001b[0mdatasets\u001b[0m\u001b[1;33m[\u001b[0m\u001b[0mlabel\u001b[0m\u001b[1;33m]\u001b[0m\u001b[1;33m.\u001b[0m\u001b[0mvalues\u001b[0m\u001b[1;33m.\u001b[0m\u001b[0mtofile\u001b[0m\u001b[1;33m(\u001b[0m\u001b[0mfilename\u001b[0m\u001b[1;33m,\u001b[0m \u001b[0msep\u001b[0m\u001b[1;33m=\u001b[0m\u001b[1;34m\"\\n\"\u001b[0m\u001b[1;33m,\u001b[0m \u001b[0mformat\u001b[0m\u001b[1;33m=\u001b[0m\u001b[1;34m\"%s\"\u001b[0m\u001b[1;33m)\u001b[0m\u001b[1;33m\u001b[0m\u001b[0m\n\u001b[0;32m     45\u001b[0m \u001b[1;33m\u001b[0m\u001b[0m\n",
      "\u001b[1;31mAttributeError\u001b[0m: module 'os' has no attribute 'join'"
     ]
    }
   ],
   "source": [
    "import os\n",
    "\n",
    "from collections import OrderedDict\n",
    "from os.path import join\n",
    "\n",
    "DATASETS_DIR = \"/home/juan/tesina/dataset_dumps/\"\n",
    "\n",
    "\n",
    "def sample_IDs_from_popcode(pop_dict):  \n",
    "    populations = []\n",
    "    for label, pop_list in pop_dict.items():\n",
    "        mask = df_1000G_sample_populations.population.isin(pop_list)\n",
    "        populations.append(samples[mask])\n",
    "\n",
    "    return pd.concat(populations).index\n",
    "\n",
    "dataset_names = {\n",
    "    \"L\": \"Latinos\",\n",
    "    \"LE\": \"Latinos, Europeos\",\n",
    "    \"LEA\": \"Latinos, Europeos, Africanos\",\n",
    "    \"LEAC\": \"Latinos, Europeos, Africanos, Chinos\",\n",
    "    \"LEACI\": \"Latinos, Europeos, Africanos, Chinos, Indios\",\n",
    "}\n",
    "\n",
    "datasets = OrderedDict()\n",
    "\n",
    "all_latinos = {'latinos': ['PEL', 'MXL', 'CLM', 'PUR']}\n",
    "e = {'europeans': ['IBS', 'TSI']}\n",
    "ea = {**e, **{'africans': ['YRI', 'LWK']}}\n",
    "eac = {**ea, **{'east_asians': ['CHB', 'CHS']}}\n",
    "eaci = {**eac, **{'south_asians': ['GIH']}}\n",
    "\n",
    "datasets[\"L\"] = all_latinos\n",
    "datasets[\"LE\"] = {**e, **all_latinos}\n",
    "datasets[\"LEA\"] = {**ea, **all_latinos}\n",
    "datasets[\"LEAC\"] = {**eac, **all_latinos}\n",
    "datasets[\"LEACI\"] = {**eaci, **all_latinos}\n",
    "\n",
    "# Transform population codes into 1000 Genome sample IDs\n",
    "# And write the sample IDs list to a file with the dataset name\n",
    "for dataset_label, pop_dict in datasets.items():\n",
    "    datasets[label] = sample_IDs_from_popcode(pop_dict)\n",
    "    filename = os.join(DATASETS_DIR, label.lower())\n",
    "    datasets[label].values.tofile(filename, sep=\"\\n\", format=\"%s\")\n",
    "\n",
    "datasets"
   ]
  },
  {
   "cell_type": "code",
   "execution_count": null,
   "metadata": {
    "collapsed": true
   },
   "outputs": [],
   "source": []
  },
  {
   "cell_type": "code",
   "execution_count": null,
   "metadata": {
    "collapsed": true
   },
   "outputs": [],
   "source": []
  },
  {
   "cell_type": "code",
   "execution_count": null,
   "metadata": {
    "collapsed": true
   },
   "outputs": [],
   "source": []
  },
  {
   "cell_type": "code",
   "execution_count": null,
   "metadata": {
    "collapsed": true
   },
   "outputs": [],
   "source": []
  },
  {
   "cell_type": "code",
   "execution_count": null,
   "metadata": {
    "collapsed": true
   },
   "outputs": [],
   "source": []
  },
  {
   "cell_type": "code",
   "execution_count": null,
   "metadata": {
    "collapsed": true
   },
   "outputs": [],
   "source": []
  },
  {
   "cell_type": "code",
   "execution_count": null,
   "metadata": {
    "collapsed": true
   },
   "outputs": [],
   "source": []
  },
  {
   "cell_type": "code",
   "execution_count": null,
   "metadata": {
    "collapsed": true
   },
   "outputs": [],
   "source": []
  },
  {
   "cell_type": "code",
   "execution_count": null,
   "metadata": {
    "collapsed": true
   },
   "outputs": [],
   "source": []
  },
  {
   "cell_type": "code",
   "execution_count": null,
   "metadata": {
    "collapsed": true
   },
   "outputs": [],
   "source": []
  },
  {
   "cell_type": "code",
   "execution_count": null,
   "metadata": {
    "collapsed": true
   },
   "outputs": [],
   "source": []
  },
  {
   "cell_type": "code",
   "execution_count": null,
   "metadata": {
    "collapsed": true
   },
   "outputs": [],
   "source": []
  },
  {
   "cell_type": "code",
   "execution_count": null,
   "metadata": {
    "collapsed": true
   },
   "outputs": [],
   "source": []
  }
 ],
 "metadata": {
  "kernelspec": {
   "display_name": "Python 3",
   "language": "python",
   "name": "python3"
  },
  "language_info": {
   "codemirror_mode": {
    "name": "ipython",
    "version": 3
   },
   "file_extension": ".py",
   "mimetype": "text/x-python",
   "name": "python",
   "nbconvert_exporter": "python",
   "pygments_lexer": "ipython3",
   "version": "3.5.1"
  }
 },
 "nbformat": 4,
 "nbformat_minor": 0
}
