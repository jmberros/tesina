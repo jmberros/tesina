{
 "cells": [
  {
   "cell_type": "markdown",
   "metadata": {},
   "source": [
    "# PCA Plots"
   ]
  },
  {
   "cell_type": "markdown",
   "metadata": {},
   "source": [
    "## General settings and loading files"
   ]
  },
  {
   "cell_type": "code",
   "execution_count": 1,
   "metadata": {
    "collapsed": false
   },
   "outputs": [
    {
     "name": "stdout",
     "output_type": "stream",
     "text": [
      "[12:52:55] 'panels' dict\n",
      "[12:52:55] 'galanter', 'present', 'missing' dataframes\n",
      "[12:52:55] 'panel_labels'\n",
      "[12:52:55] 'panel_names' dict\n",
      "[12:52:55] 'genome' dataframe\n",
      "[12:53:00] 'lat' dataframe\n",
      "[12:53:12] 'control_genotypes' huge datagrame\n",
      "[12:53:12] 'control_rsIDs' dict to filter it ^\n",
      "[12:53:12] 'cp_factors' list\n",
      "[12:53:12] 'control_names' dict\n",
      "[12:53:12] 'df_1000G_samples'\n",
      "[12:53:12] 'df_1000G_SNPs'\n",
      "[12:53:12] 'df_1000G_genotypes'\n",
      "[12:53:12] 'df_1000G_populations'\n",
      "[12:53:12] 'df_1000G_genotypes_alleles'"
     ]
    },
    {
     "name": "stderr",
     "output_type": "stream",
     "text": [
      "/home/juan/repos/tesina/settings/genome.py:16: SettingWithCopyWarning: \n",
      "A value is trying to be set on a copy of a slice from a DataFrame.\n",
      "Try using .loc[row_indexer,col_indexer] = value instead\n",
      "\n",
      "See the caveats in the documentation: http://pandas.pydata.org/pandas-docs/stable/indexing.html#indexing-view-versus-copy\n",
      "  centromers[\"chromosome\"] = [i.replace(\"CEN\", \"\") for i in centromers.index]\n",
      "/home/juan/anaconda3/lib/python3.5/site-packages/pandas/io/parsers.py:1572: FutureWarning: split() requires a non-empty pattern match.\n",
      "  yield pat.split(line.strip())\n"
     ]
    },
    {
     "name": "stdout",
     "output_type": "stream",
     "text": [
      "\n",
      "[12:53:13] 'mafs' dataframe\n",
      "=> You should check your RAM! <=\n"
     ]
    },
    {
     "name": "stderr",
     "output_type": "stream",
     "text": [
      "/home/juan/anaconda3/lib/python3.5/site-packages/pandas/io/parsers.py:1574: FutureWarning: split() requires a non-empty pattern match.\n",
      "  yield pat.split(line.strip())\n"
     ]
    }
   ],
   "source": [
    "% matplotlib inline\n",
    "% load_ext autoreload\n",
    "% autoreload 2\n",
    "\n",
    "% run general_settings.py\n",
    "# ^ Takes ~20s to run if it finds the dumpfiles\n",
    "# ^ WARNING: It will hog ~2.02 Gb RAM\n"
   ]
  },
  {
   "cell_type": "markdown",
   "metadata": {},
   "source": [
    "## Create the datasets\n",
    "Lists of sample IDs of chosen populations to later filter 1000 Genomes data."
   ]
  },
  {
   "cell_type": "code",
   "execution_count": null,
   "metadata": {
    "collapsed": false
   },
   "outputs": [],
   "source": [
    "from collections import OrderedDict\n",
    "from os.path import join\n",
    "\n",
    "DATASETS_DIR = \"/home/juan/tesina/dataset_dumps/\"\n",
    "\n",
    "\n",
    "def sample_IDs_from_popcode(pop_dict):  \n",
    "    populations = []\n",
    "    for label, pop_list in pop_dict.items():\n",
    "        mask = df_1000G_samples.population.isin(pop_list)\n",
    "        populations.append(df_1000G_samples[mask])\n",
    "\n",
    "    return pd.concat(populations).index\n",
    "\n",
    "dataset_names = {\n",
    "    \"L\": \"Latinos\",\n",
    "    \"LE\": \"Latinos, Europeos\",\n",
    "    \"LEA\": \"Latinos, Europeos, Africanos\",\n",
    "    \"LEAC\": \"Latinos, Europeos, Africanos, Chinos\",\n",
    "    \"LEACI\": \"Latinos, Europeos, Africanos, Chinos, Indios\",\n",
    "}\n",
    "\n",
    "# I could export some of these to .yaml ?\n",
    "\n",
    "latinos = {'latinos': ['PEL', 'MXL', 'CLM', 'PUR']}\n",
    "e = {'europeans': ['IBS', 'GBR']}\n",
    "ea = {**e, **{'africans': ['YRI', 'LWK']}}\n",
    "eac = {**ea, **{'east_asians': ['CHB', 'CHS']}}\n",
    "eaci = {**eac, **{'south_asians': ['GIH']}}\n",
    "\n",
    "samples = OrderedDict()\n",
    "samples[\"L\"] = latinos\n",
    "samples[\"LE\"] = {**e, **latinos}\n",
    "samples[\"LEA\"] = {**ea, **latinos}\n",
    "samples[\"LEAC\"] = {**eac, **latinos}\n",
    "samples[\"LEACI\"] = {**eaci, **latinos}\n",
    "\n",
    "# Transform population codes into 1000 Genome sample IDs\n",
    "# And write the sample IDs list to a file with the dataset name\n",
    "for dataset_label, pop_dict in samples.items():\n",
    "    samples[dataset_label] = sample_IDs_from_popcode(pop_dict)\n",
    "    filename = join(DATASETS_DIR, dataset_label) + \".samples\"\n",
    "    samples[dataset_label].values.tofile(filename, sep=\"\\n\", format=\"%s\")"
   ]
  },
  {
   "cell_type": "markdown",
   "metadata": {},
   "source": [
    "## Plot settings"
   ]
  },
  {
   "cell_type": "code",
   "execution_count": null,
   "metadata": {
    "collapsed": true
   },
   "outputs": [],
   "source": [
    "import yaml\n",
    "\n",
    "plot_colors = yaml.load(open(\"./settings/plot_colors.yml\", \"r\"))\n",
    "plot_markers = yaml.load(open(\"./settings/plot_markers.yml\", \"r\"))"
   ]
  },
  {
   "cell_type": "code",
   "execution_count": null,
   "metadata": {
    "collapsed": false
   },
   "outputs": [],
   "source": [
    "rsIDs_per_panel = OrderedDict()\n",
    "\n",
    "for panel_label, panel in panels.items():\n",
    "    name = panel_names[panel_label]\n",
    "    rsIDs_per_panel[name] = panel.index\n",
    "\n",
    "# I already have control_rsIDs !\n",
    "# for factor in cp_factors:\n",
    "#     name = control_names[factor]\n",
    "#     rsIDs_per_panel[name] = control_genotypes[factor].columns"
   ]
  },
  {
   "cell_type": "markdown",
   "metadata": {},
   "source": [
    "## PCA plots"
   ]
  },
  {
   "cell_type": "code",
   "execution_count": null,
   "metadata": {
    "collapsed": false
   },
   "outputs": [],
   "source": [
    "from plotters.pca import PCAPlotter\n",
    "\n",
    "pca_plotter = PCAPlotter()\n",
    "\n",
    "for dataset_label, sample_ids in samples.items():\n",
    "    # GAL Panels\n",
    "    dataset_genotypes = df_1000G_genotypes.loc[sample_ids, :]  # \":\" gets all rows, all the SNPs\n",
    "\n",
    "    fig_title = \"Dataset: {}\".format(dataset_names[dataset_label])\n",
    "    pca_plotter.plot(fig_title, rsIDs_per_panel, dataset_genotypes, df_1000G_samples,\n",
    "                     plot_markers, plot_colors)\n",
    "    \n",
    "    # Control Panels\n",
    "    dataset_genotypes = control_genotypes.loc[sample_ids, :]  # \":\" gets all rows, all the SNPs\n",
    "    pca_plotter.plot()\n",
    "    \n",
    "# Save 'em directly to disk, not manually you chipmunk"
   ]
  },
  {
   "cell_type": "code",
   "execution_count": null,
   "metadata": {
    "collapsed": true
   },
   "outputs": [],
   "source": []
  },
  {
   "cell_type": "code",
   "execution_count": null,
   "metadata": {
    "collapsed": true
   },
   "outputs": [],
   "source": []
  },
  {
   "cell_type": "code",
   "execution_count": null,
   "metadata": {
    "collapsed": true
   },
   "outputs": [],
   "source": []
  },
  {
   "cell_type": "code",
   "execution_count": null,
   "metadata": {
    "collapsed": true
   },
   "outputs": [],
   "source": []
  },
  {
   "cell_type": "code",
   "execution_count": null,
   "metadata": {
    "collapsed": true
   },
   "outputs": [],
   "source": []
  },
  {
   "cell_type": "code",
   "execution_count": null,
   "metadata": {
    "collapsed": true
   },
   "outputs": [],
   "source": []
  },
  {
   "cell_type": "code",
   "execution_count": null,
   "metadata": {
    "collapsed": true
   },
   "outputs": [],
   "source": []
  },
  {
   "cell_type": "code",
   "execution_count": null,
   "metadata": {
    "collapsed": true
   },
   "outputs": [],
   "source": []
  },
  {
   "cell_type": "code",
   "execution_count": null,
   "metadata": {
    "collapsed": true
   },
   "outputs": [],
   "source": []
  },
  {
   "cell_type": "code",
   "execution_count": null,
   "metadata": {
    "collapsed": true
   },
   "outputs": [],
   "source": []
  },
  {
   "cell_type": "code",
   "execution_count": null,
   "metadata": {
    "collapsed": true
   },
   "outputs": [],
   "source": []
  }
 ],
 "metadata": {
  "kernelspec": {
   "display_name": "Python 3",
   "language": "python",
   "name": "python3"
  },
  "language_info": {
   "codemirror_mode": {
    "name": "ipython",
    "version": 3
   },
   "file_extension": ".py",
   "mimetype": "text/x-python",
   "name": "python",
   "nbconvert_exporter": "python",
   "pygments_lexer": "ipython3",
   "version": "3.5.1"
  }
 },
 "nbformat": 4,
 "nbformat_minor": 0
}
