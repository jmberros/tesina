{
 "cells": [
  {
   "cell_type": "markdown",
   "metadata": {},
   "source": [
    "# HGDP Max Plank dataset"
   ]
  },
  {
   "cell_type": "code",
   "execution_count": null,
   "metadata": {
    "collapsed": true
   },
   "outputs": [],
   "source": [
    "fn = \"~/tesina/HGDP_data/dataset_4_supp3_MPlank/hgdpceph.affy500k.pedind\"\n",
    "mplank_populations = pd.read_csv(fn, sep=\"\\s+\",\n",
    "                                 names=[\".\", \"sample\", \".\", \".\", \".\", \"population\"],\n",
    "                                 usecols=[\"sample\", \"population\"])\n",
    "mplank_populations.set_index(\"sample\", inplace=True)\n",
    "mplank_populations[\"population\"] = mplank_populations[\"population\"].map(fix_popname)\n",
    "mplank_populations[\"continent\"] = mplank_populations[\"population\"].map(continent)"
   ]
  },
  {
   "cell_type": "code",
   "execution_count": null,
   "metadata": {
    "collapsed": true
   },
   "outputs": [],
   "source": []
  },
  {
   "cell_type": "code",
   "execution_count": null,
   "metadata": {
    "collapsed": true
   },
   "outputs": [],
   "source": []
  },
  {
   "cell_type": "code",
   "execution_count": null,
   "metadata": {
    "collapsed": true
   },
   "outputs": [],
   "source": []
  },
  {
   "cell_type": "code",
   "execution_count": 6,
   "metadata": {
    "collapsed": false
   },
   "outputs": [
    {
     "name": "stdout",
     "output_type": "stream",
     "text": [
      "The autoreload extension is already loaded. To reload it, use:\n",
      "  %reload_ext autoreload\n"
     ]
    },
    {
     "data": {
      "text/html": [
       "<div>\n",
       "<table border=\"1\" class=\"dataframe\">\n",
       "  <thead>\n",
       "    <tr style=\"text-align: right;\">\n",
       "      <th></th>\n",
       "      <th>Population</th>\n",
       "      <th>Continent</th>\n",
       "      <th>Country</th>\n",
       "      <th>Region</th>\n",
       "    </tr>\n",
       "  </thead>\n",
       "  <tbody>\n",
       "    <tr>\n",
       "      <th>0</th>\n",
       "      <td>Adygei</td>\n",
       "      <td>Europe</td>\n",
       "      <td>Russia</td>\n",
       "      <td>NaN</td>\n",
       "    </tr>\n",
       "    <tr>\n",
       "      <th>1</th>\n",
       "      <td>Balochi</td>\n",
       "      <td>Asia</td>\n",
       "      <td>Pakistan</td>\n",
       "      <td>NaN</td>\n",
       "    </tr>\n",
       "    <tr>\n",
       "      <th>2</th>\n",
       "      <td>Bantu</td>\n",
       "      <td>Africa</td>\n",
       "      <td>NaN</td>\n",
       "      <td>Subsaharian</td>\n",
       "    </tr>\n",
       "    <tr>\n",
       "      <th>3</th>\n",
       "      <td>Basque</td>\n",
       "      <td>Europe</td>\n",
       "      <td>NaN</td>\n",
       "      <td>NaN</td>\n",
       "    </tr>\n",
       "    <tr>\n",
       "      <th>4</th>\n",
       "      <td>Bedouin</td>\n",
       "      <td>Middle East</td>\n",
       "      <td>NaN</td>\n",
       "      <td>NaN</td>\n",
       "    </tr>\n",
       "    <tr>\n",
       "      <th>5</th>\n",
       "      <td>Bergamo</td>\n",
       "      <td>Europe</td>\n",
       "      <td>North Italy</td>\n",
       "      <td>NaN</td>\n",
       "    </tr>\n",
       "    <tr>\n",
       "      <th>6</th>\n",
       "      <td>BiakaPygmy</td>\n",
       "      <td>Africa</td>\n",
       "      <td>NaN</td>\n",
       "      <td>Subsaharian</td>\n",
       "    </tr>\n",
       "    <tr>\n",
       "      <th>7</th>\n",
       "      <td>Brahui</td>\n",
       "      <td>Asia</td>\n",
       "      <td>Pakistan</td>\n",
       "      <td>NaN</td>\n",
       "    </tr>\n",
       "    <tr>\n",
       "      <th>8</th>\n",
       "      <td>Burusho</td>\n",
       "      <td>Asia</td>\n",
       "      <td>Pakistan</td>\n",
       "      <td>NaN</td>\n",
       "    </tr>\n",
       "    <tr>\n",
       "      <th>9</th>\n",
       "      <td>Cambodian</td>\n",
       "      <td>Asia</td>\n",
       "      <td>Cambodia</td>\n",
       "      <td>NaN</td>\n",
       "    </tr>\n",
       "    <tr>\n",
       "      <th>10</th>\n",
       "      <td>Colombian</td>\n",
       "      <td>America</td>\n",
       "      <td>Colombia</td>\n",
       "      <td>NaN</td>\n",
       "    </tr>\n",
       "    <tr>\n",
       "      <th>11</th>\n",
       "      <td>Dai</td>\n",
       "      <td>Asia</td>\n",
       "      <td>China</td>\n",
       "      <td>NaN</td>\n",
       "    </tr>\n",
       "    <tr>\n",
       "      <th>12</th>\n",
       "      <td>DaurAsia</td>\n",
       "      <td>China</td>\n",
       "      <td>NaN</td>\n",
       "      <td>NaN</td>\n",
       "    </tr>\n",
       "    <tr>\n",
       "      <th>13</th>\n",
       "      <td>Druze</td>\n",
       "      <td>Middle East</td>\n",
       "      <td>NaN</td>\n",
       "      <td>NaN</td>\n",
       "    </tr>\n",
       "    <tr>\n",
       "      <th>14</th>\n",
       "      <td>French</td>\n",
       "      <td>Europe</td>\n",
       "      <td>France</td>\n",
       "      <td>NaN</td>\n",
       "    </tr>\n",
       "    <tr>\n",
       "      <th>15</th>\n",
       "      <td>Han</td>\n",
       "      <td>Asia</td>\n",
       "      <td>China</td>\n",
       "      <td>NaN</td>\n",
       "    </tr>\n",
       "    <tr>\n",
       "      <th>16</th>\n",
       "      <td>Hazara</td>\n",
       "      <td>Asia</td>\n",
       "      <td>Pakistan</td>\n",
       "      <td>NaN</td>\n",
       "    </tr>\n",
       "    <tr>\n",
       "      <th>17</th>\n",
       "      <td>Hezhen</td>\n",
       "      <td>Asia</td>\n",
       "      <td>China</td>\n",
       "      <td>NaN</td>\n",
       "    </tr>\n",
       "    <tr>\n",
       "      <th>18</th>\n",
       "      <td>Japanese</td>\n",
       "      <td>Asia</td>\n",
       "      <td>Japan</td>\n",
       "      <td>NaN</td>\n",
       "    </tr>\n",
       "    <tr>\n",
       "      <th>19</th>\n",
       "      <td>Kalash</td>\n",
       "      <td>Asia</td>\n",
       "      <td>Pakistan</td>\n",
       "      <td>NaN</td>\n",
       "    </tr>\n",
       "    <tr>\n",
       "      <th>20</th>\n",
       "      <td>Karitiana</td>\n",
       "      <td>America</td>\n",
       "      <td>Brazil</td>\n",
       "      <td>NaN</td>\n",
       "    </tr>\n",
       "    <tr>\n",
       "      <th>21</th>\n",
       "      <td>Lahu</td>\n",
       "      <td>Asia</td>\n",
       "      <td>China</td>\n",
       "      <td>NaN</td>\n",
       "    </tr>\n",
       "    <tr>\n",
       "      <th>22</th>\n",
       "      <td>Makrani</td>\n",
       "      <td>Asia</td>\n",
       "      <td>Pakistan</td>\n",
       "      <td>NaN</td>\n",
       "    </tr>\n",
       "    <tr>\n",
       "      <th>23</th>\n",
       "      <td>Mandenka</td>\n",
       "      <td>Africa</td>\n",
       "      <td>Senegal</td>\n",
       "      <td>Subsaharian</td>\n",
       "    </tr>\n",
       "    <tr>\n",
       "      <th>24</th>\n",
       "      <td>Maya</td>\n",
       "      <td>America</td>\n",
       "      <td>Mexico</td>\n",
       "      <td>NaN</td>\n",
       "    </tr>\n",
       "    <tr>\n",
       "      <th>25</th>\n",
       "      <td>MbutiPygmy</td>\n",
       "      <td>Africa</td>\n",
       "      <td>Democratic Republic of Congo</td>\n",
       "      <td>Subsaharian</td>\n",
       "    </tr>\n",
       "    <tr>\n",
       "      <th>26</th>\n",
       "      <td>Miaozu</td>\n",
       "      <td>China</td>\n",
       "      <td>Asia</td>\n",
       "      <td>NaN</td>\n",
       "    </tr>\n",
       "    <tr>\n",
       "      <th>27</th>\n",
       "      <td>Mongola</td>\n",
       "      <td>China</td>\n",
       "      <td>Asia</td>\n",
       "      <td>NaN</td>\n",
       "    </tr>\n",
       "    <tr>\n",
       "      <th>28</th>\n",
       "      <td>Mozabite</td>\n",
       "      <td>Africa</td>\n",
       "      <td>Algeria</td>\n",
       "      <td>North Africa</td>\n",
       "    </tr>\n",
       "    <tr>\n",
       "      <th>29</th>\n",
       "      <td>Nasioi</td>\n",
       "      <td>NaN</td>\n",
       "      <td>NaN</td>\n",
       "      <td>NaN</td>\n",
       "    </tr>\n",
       "    <tr>\n",
       "      <th>30</th>\n",
       "      <td>Naxi</td>\n",
       "      <td>Asia</td>\n",
       "      <td>China</td>\n",
       "      <td>NaN</td>\n",
       "    </tr>\n",
       "    <tr>\n",
       "      <th>31</th>\n",
       "      <td>NewGuinea</td>\n",
       "      <td>Oceania</td>\n",
       "      <td>NewGuinea</td>\n",
       "      <td>NaN</td>\n",
       "    </tr>\n",
       "    <tr>\n",
       "      <th>32</th>\n",
       "      <td>Orcadian</td>\n",
       "      <td>Europe</td>\n",
       "      <td>Orkney Islands</td>\n",
       "      <td>NaN</td>\n",
       "    </tr>\n",
       "    <tr>\n",
       "      <th>33</th>\n",
       "      <td>Oroqen</td>\n",
       "      <td>Asia</td>\n",
       "      <td>China</td>\n",
       "      <td>NaN</td>\n",
       "    </tr>\n",
       "    <tr>\n",
       "      <th>34</th>\n",
       "      <td>Palestinian</td>\n",
       "      <td>Middle East</td>\n",
       "      <td>Israel</td>\n",
       "      <td>NaN</td>\n",
       "    </tr>\n",
       "    <tr>\n",
       "      <th>35</th>\n",
       "      <td>Pathan</td>\n",
       "      <td>Asia</td>\n",
       "      <td>Pakistan</td>\n",
       "      <td>NaN</td>\n",
       "    </tr>\n",
       "    <tr>\n",
       "      <th>36</th>\n",
       "      <td>Pima</td>\n",
       "      <td>America</td>\n",
       "      <td>Mexico</td>\n",
       "      <td>NaN</td>\n",
       "    </tr>\n",
       "    <tr>\n",
       "      <th>37</th>\n",
       "      <td>Russian</td>\n",
       "      <td>Europe</td>\n",
       "      <td>Russia</td>\n",
       "      <td>NaN</td>\n",
       "    </tr>\n",
       "    <tr>\n",
       "      <th>38</th>\n",
       "      <td>San</td>\n",
       "      <td>Africa</td>\n",
       "      <td>Namibia</td>\n",
       "      <td>Subsaharian</td>\n",
       "    </tr>\n",
       "    <tr>\n",
       "      <th>39</th>\n",
       "      <td>Sardinian</td>\n",
       "      <td>Europe</td>\n",
       "      <td>Italy</td>\n",
       "      <td>NaN</td>\n",
       "    </tr>\n",
       "    <tr>\n",
       "      <th>40</th>\n",
       "      <td>She</td>\n",
       "      <td>Asia</td>\n",
       "      <td>China</td>\n",
       "      <td>NaN</td>\n",
       "    </tr>\n",
       "    <tr>\n",
       "      <th>41</th>\n",
       "      <td>Sindhi</td>\n",
       "      <td>Asia</td>\n",
       "      <td>Pakistan</td>\n",
       "      <td>NaN</td>\n",
       "    </tr>\n",
       "    <tr>\n",
       "      <th>42</th>\n",
       "      <td>Surui</td>\n",
       "      <td>America</td>\n",
       "      <td>Brazil</td>\n",
       "      <td>NaN</td>\n",
       "    </tr>\n",
       "    <tr>\n",
       "      <th>43</th>\n",
       "      <td>Tu</td>\n",
       "      <td>Asia</td>\n",
       "      <td>China</td>\n",
       "      <td>NaN</td>\n",
       "    </tr>\n",
       "    <tr>\n",
       "      <th>44</th>\n",
       "      <td>Tujia</td>\n",
       "      <td>Asia</td>\n",
       "      <td>China</td>\n",
       "      <td>NaN</td>\n",
       "    </tr>\n",
       "    <tr>\n",
       "      <th>45</th>\n",
       "      <td>Tuscan</td>\n",
       "      <td>Europe</td>\n",
       "      <td>Italy</td>\n",
       "      <td>NaN</td>\n",
       "    </tr>\n",
       "    <tr>\n",
       "      <th>46</th>\n",
       "      <td>Unknown</td>\n",
       "      <td>NaN</td>\n",
       "      <td>NaN</td>\n",
       "      <td>NaN</td>\n",
       "    </tr>\n",
       "    <tr>\n",
       "      <th>47</th>\n",
       "      <td>Uygur</td>\n",
       "      <td>Asia</td>\n",
       "      <td>China</td>\n",
       "      <td>NaN</td>\n",
       "    </tr>\n",
       "    <tr>\n",
       "      <th>48</th>\n",
       "      <td>Xibo</td>\n",
       "      <td>Asia</td>\n",
       "      <td>China</td>\n",
       "      <td>NaN</td>\n",
       "    </tr>\n",
       "    <tr>\n",
       "      <th>49</th>\n",
       "      <td>Yakut</td>\n",
       "      <td>Asia</td>\n",
       "      <td>Siberia</td>\n",
       "      <td>NaN</td>\n",
       "    </tr>\n",
       "    <tr>\n",
       "      <th>50</th>\n",
       "      <td>Yizu</td>\n",
       "      <td>Asia</td>\n",
       "      <td>China</td>\n",
       "      <td>NaN</td>\n",
       "    </tr>\n",
       "    <tr>\n",
       "      <th>51</th>\n",
       "      <td>Yoruba</td>\n",
       "      <td>Africa</td>\n",
       "      <td>Nigeria</td>\n",
       "      <td>Subsaharian</td>\n",
       "    </tr>\n",
       "  </tbody>\n",
       "</table>\n",
       "</div>"
      ],
      "text/plain": [
       "     Population    Continent                       Country        Region\n",
       "0        Adygei       Europe                        Russia           NaN\n",
       "1       Balochi         Asia                      Pakistan           NaN\n",
       "2         Bantu       Africa                           NaN   Subsaharian\n",
       "3        Basque       Europe                           NaN           NaN\n",
       "4       Bedouin  Middle East                           NaN           NaN\n",
       "5       Bergamo       Europe                   North Italy           NaN\n",
       "6    BiakaPygmy       Africa                           NaN   Subsaharian\n",
       "7        Brahui         Asia                      Pakistan           NaN\n",
       "8       Burusho         Asia                      Pakistan           NaN\n",
       "9     Cambodian         Asia                      Cambodia           NaN\n",
       "10    Colombian      America                      Colombia           NaN\n",
       "11          Dai         Asia                         China           NaN\n",
       "12     DaurAsia        China                           NaN           NaN\n",
       "13        Druze  Middle East                           NaN           NaN\n",
       "14       French       Europe                        France           NaN\n",
       "15          Han         Asia                         China           NaN\n",
       "16       Hazara         Asia                      Pakistan           NaN\n",
       "17       Hezhen         Asia                         China           NaN\n",
       "18     Japanese         Asia                         Japan           NaN\n",
       "19       Kalash         Asia                      Pakistan           NaN\n",
       "20    Karitiana      America                        Brazil           NaN\n",
       "21         Lahu         Asia                         China           NaN\n",
       "22      Makrani         Asia                      Pakistan           NaN\n",
       "23     Mandenka       Africa                       Senegal   Subsaharian\n",
       "24         Maya      America                        Mexico           NaN\n",
       "25   MbutiPygmy       Africa  Democratic Republic of Congo   Subsaharian\n",
       "26       Miaozu        China                          Asia           NaN\n",
       "27      Mongola        China                          Asia           NaN\n",
       "28     Mozabite       Africa                       Algeria  North Africa\n",
       "29       Nasioi          NaN                           NaN           NaN\n",
       "30         Naxi         Asia                         China           NaN\n",
       "31    NewGuinea      Oceania                     NewGuinea           NaN\n",
       "32     Orcadian       Europe                Orkney Islands           NaN\n",
       "33       Oroqen         Asia                         China           NaN\n",
       "34  Palestinian  Middle East                        Israel           NaN\n",
       "35       Pathan         Asia                      Pakistan           NaN\n",
       "36         Pima      America                        Mexico           NaN\n",
       "37      Russian       Europe                        Russia           NaN\n",
       "38          San       Africa                       Namibia   Subsaharian\n",
       "39    Sardinian       Europe                         Italy           NaN\n",
       "40          She         Asia                         China           NaN\n",
       "41       Sindhi         Asia                      Pakistan           NaN\n",
       "42        Surui      America                        Brazil           NaN\n",
       "43           Tu         Asia                         China           NaN\n",
       "44        Tujia         Asia                         China           NaN\n",
       "45       Tuscan       Europe                         Italy           NaN\n",
       "46      Unknown          NaN                           NaN           NaN\n",
       "47        Uygur         Asia                         China           NaN\n",
       "48         Xibo         Asia                         China           NaN\n",
       "49        Yakut         Asia                       Siberia           NaN\n",
       "50         Yizu         Asia                         China           NaN\n",
       "51       Yoruba       Africa                       Nigeria   Subsaharian"
      ]
     },
     "execution_count": 6,
     "metadata": {},
     "output_type": "execute_result"
    }
   ],
   "source": [
    "%load_ext autoreload\n",
    "%autoreload 2\n",
    "\n",
    "import pandas as pd\n",
    "\n",
    "from subprocess import call\n",
    "from os.path import join\n",
    "\n",
    "from sources.max_plank import MaxPlank\n",
    "from components.panel import Panel\n",
    "\n",
    "\n",
    "WORKDIR = MaxPlank.BASE_DIR\n",
    "\n",
    "# for panel in Panel.all_panels_and_subpanels() + Panel.all_control_panels():\n",
    "    \n",
    "#     snps_filename = panel.write_snps_file(WORKDIR)\n",
    "    \n",
    "#     command = [\"plink\",\n",
    "#         \"--bfile\", MaxPlank.ALL_GENOTYPES_BFILE,\n",
    "#         \"--extract\", snps_filename,\n",
    "#         \"--make-bed\", \"--out\", join(WORKDIR, panel.label)\n",
    "#     ]\n",
    "    \n",
    "#     call(command)\n",
    "\n",
    "MaxPlank.all_samples()"
   ]
  },
  {
   "cell_type": "code",
   "execution_count": null,
   "metadata": {
    "collapsed": true
   },
   "outputs": [],
   "source": []
  },
  {
   "cell_type": "code",
   "execution_count": null,
   "metadata": {
    "collapsed": true
   },
   "outputs": [],
   "source": []
  },
  {
   "cell_type": "code",
   "execution_count": 8,
   "metadata": {
    "collapsed": false
   },
   "outputs": [
    {
     "name": "stdout",
     "output_type": "stream",
     "text": [
      "The autoreload extension is already loaded. To reload it, use:\n",
      "  %reload_ext autoreload\n"
     ]
    },
    {
     "ename": "OSError",
     "evalue": "File b'/home/juan/tesina/HGDP/MaxPlank_04/GAL_Faltantes.traw' does not exist",
     "output_type": "error",
     "traceback": [
      "\u001b[1;31m---------------------------------------------------------------------------\u001b[0m",
      "\u001b[1;31mOSError\u001b[0m                                   Traceback (most recent call last)",
      "\u001b[1;32m<ipython-input-8-e114776fde88>\u001b[0m in \u001b[0;36m<module>\u001b[1;34m()\u001b[0m\n\u001b[0;32m     10\u001b[0m \u001b[0mpanel\u001b[0m \u001b[1;33m=\u001b[0m \u001b[0mPanel\u001b[0m\u001b[1;33m(\u001b[0m\u001b[1;34m\"GAL_Faltantes\"\u001b[0m\u001b[1;33m)\u001b[0m\u001b[1;33m\u001b[0m\u001b[0m\n\u001b[0;32m     11\u001b[0m \u001b[1;33m\u001b[0m\u001b[0m\n\u001b[1;32m---> 12\u001b[1;33m \u001b[0mpanel\u001b[0m\u001b[1;33m.\u001b[0m\u001b[0mgenotypes\u001b[0m\u001b[1;33m(\u001b[0m\u001b[1;34m\"MaxPlank\"\u001b[0m\u001b[1;33m)\u001b[0m\u001b[1;33m\u001b[0m\u001b[0m\n\u001b[0m",
      "\u001b[1;32m/home/juan/repos/tesina/components/panel.py\u001b[0m in \u001b[0;36mgenotypes\u001b[1;34m(self, source_label, dataset)\u001b[0m\n\u001b[0;32m     49\u001b[0m             \u001b[0msource_class\u001b[0m \u001b[1;33m=\u001b[0m \u001b[0mself\u001b[0m\u001b[1;33m.\u001b[0m\u001b[0mSOURCES\u001b[0m\u001b[1;33m[\u001b[0m\u001b[0msource_label\u001b[0m\u001b[1;33m]\u001b[0m\u001b[1;33m\u001b[0m\u001b[0m\n\u001b[0;32m     50\u001b[0m             \u001b[0mself\u001b[0m\u001b[1;33m.\u001b[0m\u001b[0mgenotypes_cache\u001b[0m\u001b[1;33m[\u001b[0m\u001b[0msource_label\u001b[0m\u001b[1;33m]\u001b[0m \u001b[1;33m=\u001b[0m\u001b[0;31m \u001b[0m\u001b[0;31m\\\u001b[0m\u001b[1;33m\u001b[0m\u001b[0m\n\u001b[1;32m---> 51\u001b[1;33m                 \u001b[0msource_class\u001b[0m\u001b[1;33m(\u001b[0m\u001b[1;33m)\u001b[0m\u001b[1;33m.\u001b[0m\u001b[0mread_panel_traw\u001b[0m\u001b[1;33m(\u001b[0m\u001b[0mself\u001b[0m\u001b[1;33m.\u001b[0m\u001b[0mlabel\u001b[0m\u001b[1;33m)\u001b[0m\u001b[1;33m\u001b[0m\u001b[0m\n\u001b[0m\u001b[0;32m     52\u001b[0m \u001b[1;33m\u001b[0m\u001b[0m\n\u001b[0;32m     53\u001b[0m         \u001b[1;32mif\u001b[0m \u001b[0mdataset\u001b[0m \u001b[1;32mis\u001b[0m \u001b[1;32mNone\u001b[0m\u001b[1;33m:\u001b[0m\u001b[1;33m\u001b[0m\u001b[0m\n",
      "\u001b[1;32m/home/juan/repos/tesina/components/source.py\u001b[0m in \u001b[0;36mread_panel_traw\u001b[1;34m(self, label)\u001b[0m\n\u001b[0;32m     11\u001b[0m     \u001b[1;32mdef\u001b[0m \u001b[0mread_panel_traw\u001b[0m\u001b[1;33m(\u001b[0m\u001b[0mself\u001b[0m\u001b[1;33m,\u001b[0m \u001b[0mlabel\u001b[0m\u001b[1;33m)\u001b[0m\u001b[1;33m:\u001b[0m\u001b[1;33m\u001b[0m\u001b[0m\n\u001b[0;32m     12\u001b[0m         \u001b[0mfilename\u001b[0m \u001b[1;33m=\u001b[0m \u001b[0mself\u001b[0m\u001b[1;33m.\u001b[0m\u001b[0m_traw_filepath\u001b[0m\u001b[1;33m(\u001b[0m\u001b[0mlabel\u001b[0m\u001b[1;33m)\u001b[0m\u001b[1;33m\u001b[0m\u001b[0m\n\u001b[1;32m---> 13\u001b[1;33m         \u001b[0mdf\u001b[0m \u001b[1;33m=\u001b[0m \u001b[0mpd\u001b[0m\u001b[1;33m.\u001b[0m\u001b[0mread_table\u001b[0m\u001b[1;33m(\u001b[0m\u001b[0mfilename\u001b[0m\u001b[1;33m,\u001b[0m \u001b[0mindex_col\u001b[0m\u001b[1;33m=\u001b[0m\u001b[1;34m\"SNP\"\u001b[0m\u001b[1;33m)\u001b[0m\u001b[1;33m\u001b[0m\u001b[0m\n\u001b[0m\u001b[0;32m     14\u001b[0m         \u001b[0mdf\u001b[0m\u001b[1;33m.\u001b[0m\u001b[0mdrop\u001b[0m\u001b[1;33m(\u001b[0m\u001b[1;33m[\u001b[0m\u001b[1;34m\"CHR\"\u001b[0m\u001b[1;33m,\u001b[0m \u001b[1;34m\"(C)M\"\u001b[0m\u001b[1;33m,\u001b[0m \u001b[1;34m\"POS\"\u001b[0m\u001b[1;33m,\u001b[0m \u001b[1;34m\"COUNTED\"\u001b[0m\u001b[1;33m,\u001b[0m \u001b[1;34m\"ALT\"\u001b[0m\u001b[1;33m]\u001b[0m\u001b[1;33m,\u001b[0m \u001b[0maxis\u001b[0m\u001b[1;33m=\u001b[0m\u001b[1;36m1\u001b[0m\u001b[1;33m,\u001b[0m \u001b[0minplace\u001b[0m\u001b[1;33m=\u001b[0m\u001b[1;32mTrue\u001b[0m\u001b[1;33m)\u001b[0m\u001b[1;33m\u001b[0m\u001b[0m\n\u001b[0;32m     15\u001b[0m         \u001b[0mdf\u001b[0m\u001b[1;33m.\u001b[0m\u001b[0mcolumns\u001b[0m \u001b[1;33m=\u001b[0m \u001b[1;33m[\u001b[0m\u001b[0miid_fid\u001b[0m\u001b[1;33m.\u001b[0m\u001b[0msplit\u001b[0m\u001b[1;33m(\u001b[0m\u001b[1;34m\"_\"\u001b[0m\u001b[1;33m)\u001b[0m\u001b[1;33m[\u001b[0m\u001b[1;36m0\u001b[0m\u001b[1;33m]\u001b[0m \u001b[1;32mfor\u001b[0m \u001b[0miid_fid\u001b[0m \u001b[1;32min\u001b[0m \u001b[0mdf\u001b[0m\u001b[1;33m.\u001b[0m\u001b[0mcolumns\u001b[0m\u001b[1;33m]\u001b[0m\u001b[1;33m\u001b[0m\u001b[0m\n",
      "\u001b[1;32m/home/juan/anaconda3/lib/python3.5/site-packages/pandas/io/parsers.py\u001b[0m in \u001b[0;36mparser_f\u001b[1;34m(filepath_or_buffer, sep, delimiter, header, names, index_col, usecols, squeeze, prefix, mangle_dupe_cols, dtype, engine, converters, true_values, false_values, skipinitialspace, skiprows, skipfooter, nrows, na_values, keep_default_na, na_filter, verbose, skip_blank_lines, parse_dates, infer_datetime_format, keep_date_col, date_parser, dayfirst, iterator, chunksize, compression, thousands, decimal, lineterminator, quotechar, quoting, escapechar, comment, encoding, dialect, tupleize_cols, error_bad_lines, warn_bad_lines, skip_footer, doublequote, delim_whitespace, as_recarray, compact_ints, use_unsigned, low_memory, buffer_lines, memory_map, float_precision)\u001b[0m\n\u001b[0;32m    527\u001b[0m                     skip_blank_lines=skip_blank_lines)\n\u001b[0;32m    528\u001b[0m \u001b[1;33m\u001b[0m\u001b[0m\n\u001b[1;32m--> 529\u001b[1;33m         \u001b[1;32mreturn\u001b[0m \u001b[0m_read\u001b[0m\u001b[1;33m(\u001b[0m\u001b[0mfilepath_or_buffer\u001b[0m\u001b[1;33m,\u001b[0m \u001b[0mkwds\u001b[0m\u001b[1;33m)\u001b[0m\u001b[1;33m\u001b[0m\u001b[0m\n\u001b[0m\u001b[0;32m    530\u001b[0m \u001b[1;33m\u001b[0m\u001b[0m\n\u001b[0;32m    531\u001b[0m     \u001b[0mparser_f\u001b[0m\u001b[1;33m.\u001b[0m\u001b[0m__name__\u001b[0m \u001b[1;33m=\u001b[0m \u001b[0mname\u001b[0m\u001b[1;33m\u001b[0m\u001b[0m\n",
      "\u001b[1;32m/home/juan/anaconda3/lib/python3.5/site-packages/pandas/io/parsers.py\u001b[0m in \u001b[0;36m_read\u001b[1;34m(filepath_or_buffer, kwds)\u001b[0m\n\u001b[0;32m    293\u001b[0m \u001b[1;33m\u001b[0m\u001b[0m\n\u001b[0;32m    294\u001b[0m     \u001b[1;31m# Create the parser.\u001b[0m\u001b[1;33m\u001b[0m\u001b[1;33m\u001b[0m\u001b[0m\n\u001b[1;32m--> 295\u001b[1;33m     \u001b[0mparser\u001b[0m \u001b[1;33m=\u001b[0m \u001b[0mTextFileReader\u001b[0m\u001b[1;33m(\u001b[0m\u001b[0mfilepath_or_buffer\u001b[0m\u001b[1;33m,\u001b[0m \u001b[1;33m**\u001b[0m\u001b[0mkwds\u001b[0m\u001b[1;33m)\u001b[0m\u001b[1;33m\u001b[0m\u001b[0m\n\u001b[0m\u001b[0;32m    296\u001b[0m \u001b[1;33m\u001b[0m\u001b[0m\n\u001b[0;32m    297\u001b[0m     \u001b[1;32mif\u001b[0m \u001b[1;33m(\u001b[0m\u001b[0mnrows\u001b[0m \u001b[1;32mis\u001b[0m \u001b[1;32mnot\u001b[0m \u001b[1;32mNone\u001b[0m\u001b[1;33m)\u001b[0m \u001b[1;32mand\u001b[0m \u001b[1;33m(\u001b[0m\u001b[0mchunksize\u001b[0m \u001b[1;32mis\u001b[0m \u001b[1;32mnot\u001b[0m \u001b[1;32mNone\u001b[0m\u001b[1;33m)\u001b[0m\u001b[1;33m:\u001b[0m\u001b[1;33m\u001b[0m\u001b[0m\n",
      "\u001b[1;32m/home/juan/anaconda3/lib/python3.5/site-packages/pandas/io/parsers.py\u001b[0m in \u001b[0;36m__init__\u001b[1;34m(self, f, engine, **kwds)\u001b[0m\n\u001b[0;32m    610\u001b[0m             \u001b[0mself\u001b[0m\u001b[1;33m.\u001b[0m\u001b[0moptions\u001b[0m\u001b[1;33m[\u001b[0m\u001b[1;34m'has_index_names'\u001b[0m\u001b[1;33m]\u001b[0m \u001b[1;33m=\u001b[0m \u001b[0mkwds\u001b[0m\u001b[1;33m[\u001b[0m\u001b[1;34m'has_index_names'\u001b[0m\u001b[1;33m]\u001b[0m\u001b[1;33m\u001b[0m\u001b[0m\n\u001b[0;32m    611\u001b[0m \u001b[1;33m\u001b[0m\u001b[0m\n\u001b[1;32m--> 612\u001b[1;33m         \u001b[0mself\u001b[0m\u001b[1;33m.\u001b[0m\u001b[0m_make_engine\u001b[0m\u001b[1;33m(\u001b[0m\u001b[0mself\u001b[0m\u001b[1;33m.\u001b[0m\u001b[0mengine\u001b[0m\u001b[1;33m)\u001b[0m\u001b[1;33m\u001b[0m\u001b[0m\n\u001b[0m\u001b[0;32m    613\u001b[0m \u001b[1;33m\u001b[0m\u001b[0m\n\u001b[0;32m    614\u001b[0m     \u001b[1;32mdef\u001b[0m \u001b[0m_get_options_with_defaults\u001b[0m\u001b[1;33m(\u001b[0m\u001b[0mself\u001b[0m\u001b[1;33m,\u001b[0m \u001b[0mengine\u001b[0m\u001b[1;33m)\u001b[0m\u001b[1;33m:\u001b[0m\u001b[1;33m\u001b[0m\u001b[0m\n",
      "\u001b[1;32m/home/juan/anaconda3/lib/python3.5/site-packages/pandas/io/parsers.py\u001b[0m in \u001b[0;36m_make_engine\u001b[1;34m(self, engine)\u001b[0m\n\u001b[0;32m    745\u001b[0m     \u001b[1;32mdef\u001b[0m \u001b[0m_make_engine\u001b[0m\u001b[1;33m(\u001b[0m\u001b[0mself\u001b[0m\u001b[1;33m,\u001b[0m \u001b[0mengine\u001b[0m\u001b[1;33m=\u001b[0m\u001b[1;34m'c'\u001b[0m\u001b[1;33m)\u001b[0m\u001b[1;33m:\u001b[0m\u001b[1;33m\u001b[0m\u001b[0m\n\u001b[0;32m    746\u001b[0m         \u001b[1;32mif\u001b[0m \u001b[0mengine\u001b[0m \u001b[1;33m==\u001b[0m \u001b[1;34m'c'\u001b[0m\u001b[1;33m:\u001b[0m\u001b[1;33m\u001b[0m\u001b[0m\n\u001b[1;32m--> 747\u001b[1;33m             \u001b[0mself\u001b[0m\u001b[1;33m.\u001b[0m\u001b[0m_engine\u001b[0m \u001b[1;33m=\u001b[0m \u001b[0mCParserWrapper\u001b[0m\u001b[1;33m(\u001b[0m\u001b[0mself\u001b[0m\u001b[1;33m.\u001b[0m\u001b[0mf\u001b[0m\u001b[1;33m,\u001b[0m \u001b[1;33m**\u001b[0m\u001b[0mself\u001b[0m\u001b[1;33m.\u001b[0m\u001b[0moptions\u001b[0m\u001b[1;33m)\u001b[0m\u001b[1;33m\u001b[0m\u001b[0m\n\u001b[0m\u001b[0;32m    748\u001b[0m         \u001b[1;32melse\u001b[0m\u001b[1;33m:\u001b[0m\u001b[1;33m\u001b[0m\u001b[0m\n\u001b[0;32m    749\u001b[0m             \u001b[1;32mif\u001b[0m \u001b[0mengine\u001b[0m \u001b[1;33m==\u001b[0m \u001b[1;34m'python'\u001b[0m\u001b[1;33m:\u001b[0m\u001b[1;33m\u001b[0m\u001b[0m\n",
      "\u001b[1;32m/home/juan/anaconda3/lib/python3.5/site-packages/pandas/io/parsers.py\u001b[0m in \u001b[0;36m__init__\u001b[1;34m(self, src, **kwds)\u001b[0m\n\u001b[0;32m   1117\u001b[0m         \u001b[0mkwds\u001b[0m\u001b[1;33m[\u001b[0m\u001b[1;34m'allow_leading_cols'\u001b[0m\u001b[1;33m]\u001b[0m \u001b[1;33m=\u001b[0m \u001b[0mself\u001b[0m\u001b[1;33m.\u001b[0m\u001b[0mindex_col\u001b[0m \u001b[1;32mis\u001b[0m \u001b[1;32mnot\u001b[0m \u001b[1;32mFalse\u001b[0m\u001b[1;33m\u001b[0m\u001b[0m\n\u001b[0;32m   1118\u001b[0m \u001b[1;33m\u001b[0m\u001b[0m\n\u001b[1;32m-> 1119\u001b[1;33m         \u001b[0mself\u001b[0m\u001b[1;33m.\u001b[0m\u001b[0m_reader\u001b[0m \u001b[1;33m=\u001b[0m \u001b[0m_parser\u001b[0m\u001b[1;33m.\u001b[0m\u001b[0mTextReader\u001b[0m\u001b[1;33m(\u001b[0m\u001b[0msrc\u001b[0m\u001b[1;33m,\u001b[0m \u001b[1;33m**\u001b[0m\u001b[0mkwds\u001b[0m\u001b[1;33m)\u001b[0m\u001b[1;33m\u001b[0m\u001b[0m\n\u001b[0m\u001b[0;32m   1120\u001b[0m \u001b[1;33m\u001b[0m\u001b[0m\n\u001b[0;32m   1121\u001b[0m         \u001b[1;31m# XXX\u001b[0m\u001b[1;33m\u001b[0m\u001b[1;33m\u001b[0m\u001b[0m\n",
      "\u001b[1;32mpandas/parser.pyx\u001b[0m in \u001b[0;36mpandas.parser.TextReader.__cinit__ (pandas/parser.c:3246)\u001b[1;34m()\u001b[0m\n",
      "\u001b[1;32mpandas/parser.pyx\u001b[0m in \u001b[0;36mpandas.parser.TextReader._setup_parser_source (pandas/parser.c:6111)\u001b[1;34m()\u001b[0m\n",
      "\u001b[1;31mOSError\u001b[0m: File b'/home/juan/tesina/HGDP/MaxPlank_04/GAL_Faltantes.traw' does not exist"
     ]
    }
   ],
   "source": [
    "\n",
    "tg = ThousandGenomes()\n",
    "panel = Panel(\"GAL_Faltantes\")\n",
    "\n",
    "panel.genotypes(\"MaxPlank\")"
   ]
  },
  {
   "cell_type": "code",
   "execution_count": null,
   "metadata": {
    "collapsed": true
   },
   "outputs": [],
   "source": []
  },
  {
   "cell_type": "code",
   "execution_count": null,
   "metadata": {
    "collapsed": true
   },
   "outputs": [],
   "source": []
  },
  {
   "cell_type": "code",
   "execution_count": null,
   "metadata": {
    "collapsed": true
   },
   "outputs": [],
   "source": []
  },
  {
   "cell_type": "code",
   "execution_count": null,
   "metadata": {
    "collapsed": true
   },
   "outputs": [],
   "source": []
  },
  {
   "cell_type": "code",
   "execution_count": null,
   "metadata": {
    "collapsed": true
   },
   "outputs": [],
   "source": []
  },
  {
   "cell_type": "code",
   "execution_count": null,
   "metadata": {
    "collapsed": true
   },
   "outputs": [],
   "source": []
  },
  {
   "cell_type": "markdown",
   "metadata": {},
   "source": [
    "# Read HDGP markers"
   ]
  },
  {
   "cell_type": "markdown",
   "metadata": {},
   "source": [
    "Para descargar los datos de HGDP usé ftp_download_HGDP.py"
   ]
  },
  {
   "cell_type": "markdown",
   "metadata": {},
   "source": [
    "# Create a .traw file for each Panel\n",
    "\n",
    "* Para cada panel, crear un `.traw` extrayendo los SNPs del archivo `.bed` general de (cada dataset de) HGDP.\n",
    "* `HGDP` lee esos `.traw` por panel!"
   ]
  },
  {
   "cell_type": "code",
   "execution_count": null,
   "metadata": {
    "collapsed": true
   },
   "outputs": [],
   "source": []
  },
  {
   "cell_type": "code",
   "execution_count": null,
   "metadata": {
    "collapsed": true
   },
   "outputs": [],
   "source": []
  },
  {
   "cell_type": "code",
   "execution_count": null,
   "metadata": {
    "collapsed": true
   },
   "outputs": [],
   "source": []
  },
  {
   "cell_type": "code",
   "execution_count": null,
   "metadata": {
    "collapsed": true
   },
   "outputs": [],
   "source": []
  },
  {
   "cell_type": "code",
   "execution_count": null,
   "metadata": {
    "collapsed": true
   },
   "outputs": [],
   "source": []
  },
  {
   "cell_type": "code",
   "execution_count": null,
   "metadata": {
    "collapsed": true
   },
   "outputs": [],
   "source": []
  },
  {
   "cell_type": "code",
   "execution_count": null,
   "metadata": {
    "collapsed": true
   },
   "outputs": [],
   "source": []
  },
  {
   "cell_type": "markdown",
   "metadata": {},
   "source": [
    "## CEPH dataset"
   ]
  },
  {
   "cell_type": "code",
   "execution_count": null,
   "metadata": {
    "collapsed": true
   },
   "outputs": [],
   "source": [
    "fn = \"~/tesina/HGDP_data/dataset_1_HGDP-CEPH_v3/hgdp-ceph-marker.out\"\n",
    "hgdp_ceph_markers = pd.read_csv(fn, sep=\"\\t\")\n",
    "hgdp_ceph_markers = hgdp_ceph_markers.rename(columns={\"chrom\": \"chr\", \"physical_pos\": \"pos\"})\n",
    "mask = hgdp_ceph_markers[\"type_marker\"].isin([\"SNP\", \"snp\"])\n",
    "hgdp_ceph_markers = hgdp_ceph_markers[mask].reset_index(drop=True)"
   ]
  },
  {
   "cell_type": "code",
   "execution_count": null,
   "metadata": {
    "collapsed": true
   },
   "outputs": [],
   "source": [
    "fn = \"~/tesina/HGDP_data/dataset_1_HGDP-CEPH_v3/hgdp-ceph-geno.out\"\n",
    "# Filter only biallelic SNPs!\n",
    "hgdp_ceph_genotypes = pd.read_csv(fn, sep=\"\\t\", index_col=\"hgdp_id\")\n",
    "hgdp_ceph_genotypes.head(2)"
   ]
  },
  {
   "cell_type": "code",
   "execution_count": null,
   "metadata": {
    "collapsed": true
   },
   "outputs": [],
   "source": [
    "# Filtrar esos 5,4 M de genotipos por el mkr_ceph_id de los rs de galanter\n",
    "# ojo con la RAM!"
   ]
  },
  {
   "cell_type": "markdown",
   "metadata": {},
   "source": [
    "## Stanford dataset"
   ]
  },
  {
   "cell_type": "code",
   "execution_count": null,
   "metadata": {
    "collapsed": true
   },
   "outputs": [],
   "source": [
    "fn = \"~/tesina/HGDP_data/dataset_2_supp1_Stanford/hgdp/HGDP_Map.txt\"\n",
    "hgdp_stanford_markers = pd.read_csv(fn, sep=\"\\t\", names=[\"dbsnp_id\", \"chr\", \"pos\"],\n",
    "                                    index_col=\"dbsnp_id\")"
   ]
  },
  {
   "cell_type": "markdown",
   "metadata": {},
   "source": [
    "## Uni of Michigan dataset"
   ]
  },
  {
   "cell_type": "code",
   "execution_count": null,
   "metadata": {
    "collapsed": true
   },
   "outputs": [],
   "source": [
    "from glob import glob\n",
    "from os.path import isfile\n",
    "\n",
    "dumpfile = \"./dumpfiles/HGDP_michigan_markers.csv\"\n",
    "\n",
    "if isfile(dumpfile):\n",
    "    dtypes = {\"dbsnp_id\": str, \"chr\": str, \"pos_build_36\": int, \"pos_build_35\": int}\n",
    "    hgdp_michigan_markers = pd.read_csv(dumpfile, index_col=\"dbsnp_id\", dtype=dtypes)\n",
    "else:    \n",
    "    markers_per_chr = []\n",
    "    \n",
    "    # The *.map files were generated with \"parse_HGDP_UMichigan_data.sh\"\n",
    "    for fn in glob(\"~/tesina/HGDP_data/dataset_3_supp2_UMichigan/GENO/chr*.map\"):\n",
    "        markers_per_chr.append(pd.read_csv(fn, sep=\"\\s+\").transpose())\n",
    "\n",
    "    hgdp_michigan_markers = pd.concat(markers_per_chr).drop(0, axis=1)\n",
    "    hgdp_michigan_markers.columns = [\"chr\", \"pos_build_36\", \"pos_build_35\"]\n",
    "    hgdp_michigan_markers[\"pos\"] = hgdp_michigan_markers[\"pos_build_36\"]\n",
    "    hgdp_michigan_markers.index.name = \"dbsnp_id\"\n",
    "    hgdp_michigan_markers.to_csv(dumpfile)"
   ]
  },
  {
   "cell_type": "markdown",
   "metadata": {},
   "source": [
    "## Max Plank Institute datset"
   ]
  },
  {
   "cell_type": "code",
   "execution_count": null,
   "metadata": {
    "collapsed": true
   },
   "outputs": [],
   "source": [
    "fn = \"~/tesina/HGDP_data/dataset_4_supp3_MPlank/hgdpceph.affy500k.map.gz\"\n",
    "hgdp_maxplank_markers = pd.read_csv(fn, sep=\"\\t\", names=[\"chr\", \"dbsnp_id\", \"?\", \"pos\"],\n",
    "                                    usecols=[\"chr\", \"dbsnp_id\", \"pos\"], index_col=\"dbsnp_id\")"
   ]
  },
  {
   "cell_type": "markdown",
   "metadata": {},
   "source": [
    "## Harvard dataset"
   ]
  },
  {
   "cell_type": "code",
   "execution_count": null,
   "metadata": {
    "collapsed": true
   },
   "outputs": [],
   "source": [
    "fn = \"~/tesina/HGDP_data/dataset_11_supp10_Harvard/Harvard_HGDP-CEPH/all_snp.map.gz\"\n",
    "hgdp_harvard_markers = pd.read_csv(fn, sep=\"\\t\", names=[\"chr\", \"Affy SNP ID\", \"?\", \"pos\"],\n",
    "                                   usecols=[\"chr\", \"Affy SNP ID\", \"pos\"])\n",
    "\n",
    "fn = \"~/tesina/HGDP_data/dataset_11_supp10_Harvard/Axiom_GW_HuOrigin.na35.annot.csv.tar.gz\"\n",
    "affy_human_origins = pd.read_csv(fn, comment=\"#\", skiprows=1, index_col=\"Affy SNP ID\",\n",
    "                                 usecols=[\"Affy SNP ID\", \"dbSNP RS ID\"])\n",
    "\n",
    "hgdp_harvard_markers = hgdp_harvard_markers.set_index(\"Affy SNP ID\")\n",
    "hgdp_harvard_markers = hgdp_harvard_markers.join(affy_human_origins)\n",
    "hgdp_harvard_markers = hgdp_harvard_markers.rename(columns={\"dbSNP RS ID\": \"dbsnp_id\"})"
   ]
  },
  {
   "cell_type": "markdown",
   "metadata": {},
   "source": [
    "## UCLA dataset"
   ]
  },
  {
   "cell_type": "code",
   "execution_count": null,
   "metadata": {
    "collapsed": true
   },
   "outputs": [],
   "source": [
    "fn = \"~/tesina/HGDP_data/dataset_15_supp15_UCLA/snp_info.csv\"\n",
    "hgdp_ucla_markers = pd.read_csv(fn, names=[\"_\", \"_\", \"chr\", \"pos\", \"dbsnp_id\"],\n",
    "                                usecols=[\"chr\", \"pos\", \"dbsnp_id\"], skiprows=1).dropna()"
   ]
  },
  {
   "cell_type": "markdown",
   "metadata": {},
   "source": [
    "## Intersection GAL x HGDP"
   ]
  },
  {
   "cell_type": "code",
   "execution_count": null,
   "metadata": {
    "collapsed": true
   },
   "outputs": [],
   "source": [
    "hgdp_panels = {\n",
    "    \"CEPH\": hgdp_ceph_markers,\n",
    "    \"Stanford\": hgdp_stanford_markers,\n",
    "    \"MaxPlank\": hgdp_maxplank_markers,\n",
    "    \"Harvard\": hgdp_harvard_markers,\n",
    "    \"UCLA\": hgdp_ucla_markers,\n",
    "    \"UMichigan\": hgdp_michigan_markers,\n",
    "}"
   ]
  },
  {
   "cell_type": "code",
   "execution_count": null,
   "metadata": {
    "collapsed": true
   },
   "outputs": [],
   "source": [
    "galanter_HGDP_matches = pd.DataFrame({\"dbsnp_id\": galanter.index})\n",
    "galanter_HGDP_matches = galanter_HGDP_matches.set_index(\"dbsnp_id\")\n",
    "\n",
    "for panel_name, markers in hgdp_panels.items():\n",
    "    print(panel_name, len(markers))\n",
    "    galanter_HGDP_matches[panel_name] = \\\n",
    "        galanter_HGDP_matches.index.map(lambda x: x in markers.index.values)\n",
    "\n",
    "galanter_HGDP_matches[\"hits\"] = galanter_HGDP_matches.sum(axis=1)"
   ]
  },
  {
   "cell_type": "code",
   "execution_count": null,
   "metadata": {
    "collapsed": true
   },
   "outputs": [],
   "source": [
    "galanter_hgdp_indices = {}\n",
    "\n",
    "print(\"Galanter Matches in HGDP panels:\")\n",
    "for hgdp_panel_name, markers in hgdp_panels.items():\n",
    "    matches = galanter_HGDP_matches[hgdp_panel_name]\n",
    "    intersection_count = len(matches[matches])\n",
    "    \n",
    "    if intersection_count > 0:\n",
    "        galanter_hgdp_indices[hgdp_panel_name] = {}\n",
    "        galanter_hgdp_indices[hgdp_panel_name][\"galT\"] = galanter_HGDP_matches[matches].index\n",
    "        galanter_hgdp_indices[hgdp_panel_name][\"galP\"] = \\\n",
    "            galanter_HGDP_matches[matches].loc[present.index].dropna(axis=0).index\n",
    "        \n",
    "        print(\"-\")\n",
    "        print(hgdp_panel_name, \"galT ->\",\n",
    "              len(galanter_hgdp_indices[hgdp_panel_name][\"galT\"]))\n",
    "        print(hgdp_panel_name, \"galP ->\",\n",
    "              len(galanter_hgdp_indices[hgdp_panel_name][\"galP\"]))"
   ]
  },
  {
   "cell_type": "markdown",
   "metadata": {},
   "source": [
    "# HGDP populations"
   ]
  },
  {
   "cell_type": "markdown",
   "metadata": {},
   "source": [
    "### CEPH populations"
   ]
  },
  {
   "cell_type": "code",
   "execution_count": null,
   "metadata": {
    "collapsed": true
   },
   "outputs": [],
   "source": [
    "fn = \"~/tesina/HGDP_data/dataset_1_HGDP-CEPH_v3/hgdp-ceph-pop.out\"\n",
    "usecols = [\"population_name\", \"population_id\", \"nickname\"]\n",
    "hgdp_populations_detail = pd.read_csv(fn, sep=\"\\t\", usecols=usecols)\n",
    "hgdp_populations_detail.set_index(\"population_name\", inplace=True)"
   ]
  },
  {
   "cell_type": "code",
   "execution_count": null,
   "metadata": {
    "collapsed": true
   },
   "outputs": [],
   "source": [
    "popcodes = dict(zip(hgdp_populations_detail.index.values,\n",
    "                    hgdp_populations_detail[\"nickname\"].values))"
   ]
  },
  {
   "cell_type": "code",
   "execution_count": null,
   "metadata": {
    "collapsed": true
   },
   "outputs": [],
   "source": [
    "fn = \"~/tesina/HGDP_data/dataset_1_HGDP-CEPH_v3/hgdp-ceph-unrelated.out\"\n",
    "hgdp_samples = pd.read_csv(fn, sep=\"\\t\", index_col=\"hgdp_id\")\n",
    "hgdp_samples[\"continent\"] = hgdp_samples[\"Region\"].map(hgdp_continents)\n",
    "hgdp_samples[\"population_name\"] = hgdp_samples[\"population\"]\n",
    "hgdp_samples[\"population\"] = hgdp_samples[\"population_name\"].map(popcodes)"
   ]
  },
  {
   "cell_type": "code",
   "execution_count": null,
   "metadata": {
    "collapsed": true
   },
   "outputs": [],
   "source": [
    "regions = dict(zip(hgdp_samples[\"population_name\"],\n",
    "                   hgdp_samples[\"Region\"]))\n",
    "continents = dict(zip(hgdp_samples[\"population_name\"],\n",
    "                      hgdp_samples[\"continent\"]))"
   ]
  },
  {
   "cell_type": "code",
   "execution_count": null,
   "metadata": {
    "collapsed": true
   },
   "outputs": [],
   "source": [
    "hgdp_populations_detail[\"continent\"] = \\\n",
    "    hgdp_populations_detail.index.map(lambda x: continents[x])\n",
    "hgdp_populations_detail[\"region\"] = \\\n",
    "    hgdp_populations_detail.index.map(lambda x: regions[x])"
   ]
  },
  {
   "cell_type": "markdown",
   "metadata": {},
   "source": [
    "# HGDP genotypes and populations read"
   ]
  },
  {
   "cell_type": "code",
   "execution_count": null,
   "metadata": {
    "collapsed": true
   },
   "outputs": [],
   "source": [
    "hgdp_genotypes = defaultdict(OrderedDict)"
   ]
  },
  {
   "cell_type": "markdown",
   "metadata": {},
   "source": [
    "## MaxPlank dataset"
   ]
  },
  {
   "cell_type": "code",
   "execution_count": null,
   "metadata": {
    "collapsed": true
   },
   "outputs": [],
   "source": [
    "fn = \"~/tesina/HGDP_data/dataset_4_supp3_MPlank/hgdpceph.affy500k.AT.traw.parsed\"\n",
    "df = pd.read_csv(fn, sep=\"\\s+\")\n",
    "renamed_columns = [s.split(\"_\")[-1] for s in df.columns]\n",
    "df.columns = renamed_columns\n",
    "df.rename(columns={\"SNP\": \"dbsnp_id\"}, inplace=True)\n",
    "df.set_index(\"dbsnp_id\", inplace=True)\n",
    "\n",
    "for panel_name in panels:\n",
    "    indices = galanter_hgdp_indices[\"MaxPlank\"][panel_name]\n",
    "    hgdp_genotypes[\"MaxPlank\"][panel_name] = df.loc[indices]\n",
    "\n",
    "df = None # Hope this cleans the big dataframe from memory?"
   ]
  },
  {
   "cell_type": "code",
   "execution_count": null,
   "metadata": {
    "collapsed": true
   },
   "outputs": [],
   "source": [
    "latinos = ['Colombians', 'Karitiana', 'Maya', 'Surui', 'Pima']\n",
    "europeans = ['Basque', 'Bergamo', 'French']\n",
    "africans = ['BiakaPygmy' 'Bantu', 'Mandenka']\n",
    "middle_eastern = ['Balochi', 'Bedouin', 'Brahui', 'Mongola']\n",
    "oceania = ['Papuan']\n",
    "east_asian = ['Dai']\n",
    "\n",
    "LEA_populations = latinos + africans + europeans\n",
    "world_populations = LEA_populations + middle_eastern + oceania\n",
    "\n",
    "datasets_mplank = OrderedDict()\n",
    "dataset_definitions = {\n",
    "    \"MaxPlank LEA\": LEA_populations,\n",
    "    \"MaxPlank World\": world_populations,\n",
    "}\n",
    "\n",
    "for dataset_label, population_list in dataset_definitions.items():\n",
    "    mask = mplank_populations[\"population\"].isin(population_list)\n",
    "    sample_indices = mplank_populations[mask].index\n",
    "    dataset = hgdp_genotypes[\"MaxPlank\"][\"galT\"].loc[:, sample_indices].transpose()\n",
    "    datasets_mplank[dataset_label] = dataset"
   ]
  },
  {
   "cell_type": "code",
   "execution_count": null,
   "metadata": {
    "collapsed": true
   },
   "outputs": [],
   "source": [
    "% run plot_PCAs.py\n",
    "\n",
    "hgdp_panel_name = \"MaxPlank\"\n",
    "\n",
    "panel_indices = OrderedDict()\n",
    "panel_indices['GAL Total'] = galanter.index\n",
    "panel_indices['GAL Parcial'] = present.index\n",
    "\n",
    "for dataset_label, dataset in datasets_mplank.items():\n",
    "    pca = plot_PCAs(dataset_label, panel_indices, dataset,\n",
    "                    mplank_populations, plot_markers, plot_colors)"
   ]
  },
  {
   "cell_type": "code",
   "execution_count": null,
   "metadata": {
    "collapsed": true
   },
   "outputs": [],
   "source": []
  },
  {
   "cell_type": "code",
   "execution_count": null,
   "metadata": {
    "collapsed": true
   },
   "outputs": [],
   "source": []
  },
  {
   "cell_type": "code",
   "execution_count": null,
   "metadata": {
    "collapsed": true
   },
   "outputs": [],
   "source": []
  }
 ],
 "metadata": {
  "kernelspec": {
   "display_name": "Python 3",
   "language": "python",
   "name": "python3"
  },
  "language_info": {
   "codemirror_mode": {
    "name": "ipython",
    "version": 3
   },
   "file_extension": ".py",
   "mimetype": "text/x-python",
   "name": "python",
   "nbconvert_exporter": "python",
   "pygments_lexer": "ipython3",
   "version": "3.5.1"
  }
 },
 "nbformat": 4,
 "nbformat_minor": 0
}
