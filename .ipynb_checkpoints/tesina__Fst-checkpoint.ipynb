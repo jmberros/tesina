{
 "cells": [
  {
   "cell_type": "markdown",
   "metadata": {},
   "source": [
    "# Bureaucracy"
   ]
  },
  {
   "cell_type": "markdown",
   "metadata": {},
   "source": [
    "* For each dataset, generate two `.fam` files; one includes **population**, the other includes **superpopulation**.\n",
    "* For each dataset/panel combo, generate bedfiles.\n",
    "* Use *PLINK* with the `.fam` files and the dataset/panel bedfiles to compute the `Fst` per dataset/panel/population_level.\n",
    "* Put that in a table here."
   ]
  },
  {
   "cell_type": "code",
   "execution_count": 85,
   "metadata": {
    "collapsed": false
   },
   "outputs": [],
   "source": [
    "%load_ext autoreload\n",
    "%autoreload 2\n",
    "\n",
    "%matplotlib inline"
   ]
  },
  {
   "cell_type": "markdown",
   "metadata": {},
   "source": [
    "# Compute Fst values with *PLINK*"
   ]
  },
  {
   "cell_type": "code",
   "execution_count": null,
   "metadata": {
    "collapsed": true
   },
   "outputs": [],
   "source": [
    "import re\n",
    "import pandas as pd\n",
    "\n",
    "from os.path import expanduser, join, isfile\n",
    "from components.dataset import Dataset\n",
    "from components.panel import Panel\n",
    "from subprocess import call\n",
    "\n",
    "\n",
    "WORKDIR = expanduser(\"~/tesina/1000Genomes/fst_analysis\")\n",
    "# Put the bedfiles of the panels you want to analyse in the WORKDIR.\n",
    "# Then run this cell. Ta-dah!\n",
    "# (The data should come from 1000 Genomes for this to work.)\n",
    "\n",
    "\n",
    "analysis_files = []\n",
    "for dataset in Dataset.all_datasets():\n",
    "\n",
    "    # Write .population.fam, .superpopulation.fam, and .samples files\n",
    "    dataset.write_clusters_files(WORKDIR)\n",
    "    dataset.write_samples_file(WORKDIR)\n",
    "\n",
    "    for panel in Panel.all_panels() + Panel.all_control_panels():\n",
    "        \n",
    "        if not isfile(join(WORKDIR, panel.label + \".bed\")):\n",
    "            continue\n",
    "\n",
    "        # Generate dataset/panel specific bedfiles\n",
    "        new_bfile = join(WORKDIR, \"{}.{}\".format(dataset.label, panel.label))\n",
    "        command = [\"plink\",\n",
    "                   \"--bfile\", join(WORKDIR, panel.label),\n",
    "                   \"--keep-fam\", join(WORKDIR, \"{}.samples\".format(dataset.label)),\n",
    "                   \"--make-bed\", \"--out\", new_bfile]       \n",
    "        call(command)\n",
    "        \n",
    "        # Compute Fst for each dataset/panel/population level combination\n",
    "        for population_level in [\"population\", \"superpopulation\"]:\n",
    "            \n",
    "            clusters_file = join(WORKDIR, \"{}.{}.clusters\".format(dataset.label, population_level))\n",
    "            level_analysis_file = \"{}.{}\".format(new_bfile, population_level)\n",
    "            command = [\"plink\",\n",
    "                       \"--bfile\", new_bfile,\n",
    "                       \"--within\", clusters_file, \"--fst\",\n",
    "                       \"--make-bed\", \"--out\", level_analysis_file]\n",
    "            call(command)\n",
    "            \n",
    "            analysis_files.append(level_analysis_file + \".fst\")"
   ]
  },
  {
   "cell_type": "markdown",
   "metadata": {},
   "source": [
    "# Read the Fst files"
   ]
  },
  {
   "cell_type": "code",
   "execution_count": 172,
   "metadata": {
    "collapsed": false
   },
   "outputs": [
    {
     "name": "stdout",
     "output_type": "stream",
     "text": [
      "[!] No file for L GAL_Affy superpopulation\n",
      "[!] No file for L GAL_Completo superpopulation\n",
      "[!] No file for L GAL_Faltantes superpopulation\n",
      "[!] No file for L CPx1 superpopulation\n",
      "[!] No file for L CPx10 superpopulation\n",
      "[!] No file for L CPx100 superpopulation\n"
     ]
    },
    {
     "data": {
      "text/html": [
       "<div>\n",
       "<table border=\"1\" class=\"dataframe\">\n",
       "  <thead>\n",
       "    <tr style=\"text-align: right;\">\n",
       "      <th></th>\n",
       "      <th>panel</th>\n",
       "      <th>CPx1</th>\n",
       "      <th>CPx10</th>\n",
       "      <th>CPx100</th>\n",
       "      <th>GAL_Affy</th>\n",
       "      <th>GAL_Completo</th>\n",
       "      <th>GAL_Faltantes</th>\n",
       "    </tr>\n",
       "    <tr>\n",
       "      <th>pop_level</th>\n",
       "      <th>dataset</th>\n",
       "      <th></th>\n",
       "      <th></th>\n",
       "      <th></th>\n",
       "      <th></th>\n",
       "      <th></th>\n",
       "      <th></th>\n",
       "    </tr>\n",
       "  </thead>\n",
       "  <tbody>\n",
       "    <tr>\n",
       "      <th rowspan=\"5\" valign=\"top\">population</th>\n",
       "      <th>L</th>\n",
       "      <td>0.02</td>\n",
       "      <td>0.02</td>\n",
       "      <td>0.02</td>\n",
       "      <td>0.10</td>\n",
       "      <td>0.10</td>\n",
       "      <td>0.11</td>\n",
       "    </tr>\n",
       "    <tr>\n",
       "      <th>LE</th>\n",
       "      <td>0.02</td>\n",
       "      <td>0.02</td>\n",
       "      <td>0.02</td>\n",
       "      <td>0.13</td>\n",
       "      <td>0.14</td>\n",
       "      <td>0.14</td>\n",
       "    </tr>\n",
       "    <tr>\n",
       "      <th>LEA</th>\n",
       "      <td>0.06</td>\n",
       "      <td>0.06</td>\n",
       "      <td>0.06</td>\n",
       "      <td>0.36</td>\n",
       "      <td>0.33</td>\n",
       "      <td>0.31</td>\n",
       "    </tr>\n",
       "    <tr>\n",
       "      <th>LEAC</th>\n",
       "      <td>0.07</td>\n",
       "      <td>0.07</td>\n",
       "      <td>0.07</td>\n",
       "      <td>0.34</td>\n",
       "      <td>0.31</td>\n",
       "      <td>0.29</td>\n",
       "    </tr>\n",
       "    <tr>\n",
       "      <th>LEACI</th>\n",
       "      <td>0.07</td>\n",
       "      <td>0.07</td>\n",
       "      <td>0.07</td>\n",
       "      <td>0.32</td>\n",
       "      <td>0.29</td>\n",
       "      <td>0.27</td>\n",
       "    </tr>\n",
       "    <tr>\n",
       "      <th rowspan=\"4\" valign=\"top\">superpopulation</th>\n",
       "      <th>LE</th>\n",
       "      <td>0.02</td>\n",
       "      <td>0.02</td>\n",
       "      <td>0.02</td>\n",
       "      <td>0.11</td>\n",
       "      <td>0.12</td>\n",
       "      <td>0.13</td>\n",
       "    </tr>\n",
       "    <tr>\n",
       "      <th>LEA</th>\n",
       "      <td>0.07</td>\n",
       "      <td>0.07</td>\n",
       "      <td>0.07</td>\n",
       "      <td>0.39</td>\n",
       "      <td>0.35</td>\n",
       "      <td>0.32</td>\n",
       "    </tr>\n",
       "    <tr>\n",
       "      <th>LEAC</th>\n",
       "      <td>0.08</td>\n",
       "      <td>0.08</td>\n",
       "      <td>0.07</td>\n",
       "      <td>0.35</td>\n",
       "      <td>0.32</td>\n",
       "      <td>0.29</td>\n",
       "    </tr>\n",
       "    <tr>\n",
       "      <th>LEACI</th>\n",
       "      <td>0.07</td>\n",
       "      <td>0.07</td>\n",
       "      <td>0.07</td>\n",
       "      <td>0.32</td>\n",
       "      <td>0.29</td>\n",
       "      <td>0.27</td>\n",
       "    </tr>\n",
       "  </tbody>\n",
       "</table>\n",
       "</div>"
      ],
      "text/plain": [
       "panel                    CPx1  CPx10  CPx100  GAL_Affy  GAL_Completo  \\\n",
       "pop_level       dataset                                                \n",
       "population      L        0.02   0.02    0.02      0.10          0.10   \n",
       "                LE       0.02   0.02    0.02      0.13          0.14   \n",
       "                LEA      0.06   0.06    0.06      0.36          0.33   \n",
       "                LEAC     0.07   0.07    0.07      0.34          0.31   \n",
       "                LEACI    0.07   0.07    0.07      0.32          0.29   \n",
       "superpopulation LE       0.02   0.02    0.02      0.11          0.12   \n",
       "                LEA      0.07   0.07    0.07      0.39          0.35   \n",
       "                LEAC     0.08   0.08    0.07      0.35          0.32   \n",
       "                LEACI    0.07   0.07    0.07      0.32          0.29   \n",
       "\n",
       "panel                    GAL_Faltantes  \n",
       "pop_level       dataset                 \n",
       "population      L                 0.11  \n",
       "                LE                0.14  \n",
       "                LEA               0.31  \n",
       "                LEAC              0.29  \n",
       "                LEACI             0.27  \n",
       "superpopulation LE                0.13  \n",
       "                LEA               0.32  \n",
       "                LEAC              0.29  \n",
       "                LEACI             0.27  "
      ]
     },
     "execution_count": 172,
     "metadata": {},
     "output_type": "execute_result"
    }
   ],
   "source": [
    "def fst_format(x):\n",
    "    # return x\n",
    "    return round(x, 2)\n",
    "\n",
    "frames = []\n",
    "\n",
    "for filepath in analysis_files:\n",
    "    dataset_label, panel_label, pop_level = \\\n",
    "        re.search(\"(\\w*)\\.(\\w*).(\\w*).\", filepath).groups()\n",
    "\n",
    "    try:\n",
    "        fst_df = pd.read_table(filepath)\n",
    "    except OSError:\n",
    "        print(\"[!] No file for {} {} {}\".format(dataset_label, panel_label, pop_level))\n",
    "        continue\n",
    "\n",
    "    fst_df[\"panel\"] = panel_label\n",
    "    fst_df[\"dataset\"] = dataset_label\n",
    "    fst_df[\"pop_level\"] = pop_level\n",
    "    mean_fst = fst_df[\"FST\"].mean()\n",
    "    \n",
    "    # print(dataset_label, panel_label, population_level, mean_fst)\n",
    "    frames.append(fst_df)\n",
    "    \n",
    "fst_df = pd.concat(frames).set_index([\"pop_level\", \"dataset\", \"panel\", \"SNP\"])\n",
    "\n",
    "mean_fst = fst_df.groupby(level=[\"dataset\", \"panel\", \"pop_level\"]).mean()[\"FST\"]\n",
    "mean_fst = mean_fst.map(fst_format).to_frame().sort_index()\n",
    "mean_fst = mean_fst.reset_index().pivot_table(index=[\"pop_level\", \"dataset\"],\n",
    "                                              columns=\"panel\", values=\"FST\")\n",
    "mean_fst"
   ]
  },
  {
   "cell_type": "markdown",
   "metadata": {},
   "source": [
    "# Plot a heatmap of the mean Fst per dataset/panel/pop_level"
   ]
  },
  {
   "cell_type": "code",
   "execution_count": 195,
   "metadata": {
    "collapsed": false
   },
   "outputs": [
    {
     "data": {
      "text/plain": [
       "'CPx1'"
      ]
     },
     "execution_count": 195,
     "metadata": {},
     "output_type": "execute_result"
    }
   ],
   "source": [
    "list(ax.get_xticklabels())[0].get_text()"
   ]
  },
  {
   "cell_type": "code",
   "execution_count": 196,
   "metadata": {
    "collapsed": false
   },
   "outputs": [
    {
     "data": {
      "image/png": "[encoded data removed]",
      "text/plain": [
       "<matplotlib.figure.Figure at 0x7fb7d115bac8>"
      ]
     },
     "metadata": {},
     "output_type": "display_data"
    },
    {
     "data": {
      "image/png": "[encoded data removed]",
      "text/plain": [
       "<matplotlib.figure.Figure at 0x7fb7cd65ed30>"
      ]
     },
     "metadata": {},
     "output_type": "display_data"
    }
   ],
   "source": [
    "import seaborn as sns\n",
    "import matplotlib.pyplot as plt\n",
    "\n",
    "sns.set_context(\"notebook\", font_scale=1.3)\n",
    "\n",
    "only_pop_level = mean_fst.loc[\"population\"]\n",
    "\n",
    "for df in [mean_fst, only_pop_level]:\n",
    "\n",
    "    fig = plt.figure()\n",
    "    palette = sns.color_palette(\"Blues\")\n",
    "\n",
    "    ax = sns.heatmap(df, annot=True, linewidths=.5, fmt=\".0%\")\n",
    "\n",
    "    fig = ax.get_figure()\n",
    "    fig.set_figheight(len(df))\n",
    "    fig.set_figwidth((len(df.columns)+1) * 1.3)\n",
    "\n",
    "    ax.set_ylabel(\"Datasets\")\n",
    "    ax.set_xlabel(\"\")\n",
    "    xticklabels = [\"\\n\".join(s.get_text().split(\"_\")) for s in ax.get_xticklabels()]\n",
    "    _ = ax.set_xticklabels(xticklabels,\n",
    "                           rotation=45,\n",
    "                           fontweight=\"bold\")"
   ]
  },
  {
   "cell_type": "code",
   "execution_count": 83,
   "metadata": {
    "collapsed": false
   },
   "outputs": [
    {
     "data": {
      "text/html": [
       "<div>\n",
       "<table border=\"1\" class=\"dataframe\">\n",
       "  <thead>\n",
       "    <tr style=\"text-align: right;\">\n",
       "      <th>year</th>\n",
       "      <th>1949</th>\n",
       "      <th>1950</th>\n",
       "      <th>1951</th>\n",
       "      <th>1952</th>\n",
       "      <th>1953</th>\n",
       "      <th>1954</th>\n",
       "      <th>1955</th>\n",
       "      <th>1956</th>\n",
       "      <th>1957</th>\n",
       "      <th>1958</th>\n",
       "      <th>1959</th>\n",
       "      <th>1960</th>\n",
       "    </tr>\n",
       "    <tr>\n",
       "      <th>month</th>\n",
       "      <th></th>\n",
       "      <th></th>\n",
       "      <th></th>\n",
       "      <th></th>\n",
       "      <th></th>\n",
       "      <th></th>\n",
       "      <th></th>\n",
       "      <th></th>\n",
       "      <th></th>\n",
       "      <th></th>\n",
       "      <th></th>\n",
       "      <th></th>\n",
       "    </tr>\n",
       "  </thead>\n",
       "  <tbody>\n",
       "    <tr>\n",
       "      <th>January</th>\n",
       "      <td>112</td>\n",
       "      <td>115</td>\n",
       "      <td>145</td>\n",
       "      <td>171</td>\n",
       "      <td>196</td>\n",
       "      <td>204</td>\n",
       "      <td>242</td>\n",
       "      <td>284</td>\n",
       "      <td>315</td>\n",
       "      <td>340</td>\n",
       "      <td>360</td>\n",
       "      <td>417</td>\n",
       "    </tr>\n",
       "    <tr>\n",
       "      <th>February</th>\n",
       "      <td>118</td>\n",
       "      <td>126</td>\n",
       "      <td>150</td>\n",
       "      <td>180</td>\n",
       "      <td>196</td>\n",
       "      <td>188</td>\n",
       "      <td>233</td>\n",
       "      <td>277</td>\n",
       "      <td>301</td>\n",
       "      <td>318</td>\n",
       "      <td>342</td>\n",
       "      <td>391</td>\n",
       "    </tr>\n",
       "    <tr>\n",
       "      <th>March</th>\n",
       "      <td>132</td>\n",
       "      <td>141</td>\n",
       "      <td>178</td>\n",
       "      <td>193</td>\n",
       "      <td>236</td>\n",
       "      <td>235</td>\n",
       "      <td>267</td>\n",
       "      <td>317</td>\n",
       "      <td>356</td>\n",
       "      <td>362</td>\n",
       "      <td>406</td>\n",
       "      <td>419</td>\n",
       "    </tr>\n",
       "    <tr>\n",
       "      <th>April</th>\n",
       "      <td>129</td>\n",
       "      <td>135</td>\n",
       "      <td>163</td>\n",
       "      <td>181</td>\n",
       "      <td>235</td>\n",
       "      <td>227</td>\n",
       "      <td>269</td>\n",
       "      <td>313</td>\n",
       "      <td>348</td>\n",
       "      <td>348</td>\n",
       "      <td>396</td>\n",
       "      <td>461</td>\n",
       "    </tr>\n",
       "    <tr>\n",
       "      <th>May</th>\n",
       "      <td>121</td>\n",
       "      <td>125</td>\n",
       "      <td>172</td>\n",
       "      <td>183</td>\n",
       "      <td>229</td>\n",
       "      <td>234</td>\n",
       "      <td>270</td>\n",
       "      <td>318</td>\n",
       "      <td>355</td>\n",
       "      <td>363</td>\n",
       "      <td>420</td>\n",
       "      <td>472</td>\n",
       "    </tr>\n",
       "    <tr>\n",
       "      <th>June</th>\n",
       "      <td>135</td>\n",
       "      <td>149</td>\n",
       "      <td>178</td>\n",
       "      <td>218</td>\n",
       "      <td>243</td>\n",
       "      <td>264</td>\n",
       "      <td>315</td>\n",
       "      <td>374</td>\n",
       "      <td>422</td>\n",
       "      <td>435</td>\n",
       "      <td>472</td>\n",
       "      <td>535</td>\n",
       "    </tr>\n",
       "    <tr>\n",
       "      <th>July</th>\n",
       "      <td>148</td>\n",
       "      <td>170</td>\n",
       "      <td>199</td>\n",
       "      <td>230</td>\n",
       "      <td>264</td>\n",
       "      <td>302</td>\n",
       "      <td>364</td>\n",
       "      <td>413</td>\n",
       "      <td>465</td>\n",
       "      <td>491</td>\n",
       "      <td>548</td>\n",
       "      <td>622</td>\n",
       "    </tr>\n",
       "    <tr>\n",
       "      <th>August</th>\n",
       "      <td>148</td>\n",
       "      <td>170</td>\n",
       "      <td>199</td>\n",
       "      <td>242</td>\n",
       "      <td>272</td>\n",
       "      <td>293</td>\n",
       "      <td>347</td>\n",
       "      <td>405</td>\n",
       "      <td>467</td>\n",
       "      <td>505</td>\n",
       "      <td>559</td>\n",
       "      <td>606</td>\n",
       "    </tr>\n",
       "    <tr>\n",
       "      <th>September</th>\n",
       "      <td>136</td>\n",
       "      <td>158</td>\n",
       "      <td>184</td>\n",
       "      <td>209</td>\n",
       "      <td>237</td>\n",
       "      <td>259</td>\n",
       "      <td>312</td>\n",
       "      <td>355</td>\n",
       "      <td>404</td>\n",
       "      <td>404</td>\n",
       "      <td>463</td>\n",
       "      <td>508</td>\n",
       "    </tr>\n",
       "    <tr>\n",
       "      <th>October</th>\n",
       "      <td>119</td>\n",
       "      <td>133</td>\n",
       "      <td>162</td>\n",
       "      <td>191</td>\n",
       "      <td>211</td>\n",
       "      <td>229</td>\n",
       "      <td>274</td>\n",
       "      <td>306</td>\n",
       "      <td>347</td>\n",
       "      <td>359</td>\n",
       "      <td>407</td>\n",
       "      <td>461</td>\n",
       "    </tr>\n",
       "    <tr>\n",
       "      <th>November</th>\n",
       "      <td>104</td>\n",
       "      <td>114</td>\n",
       "      <td>146</td>\n",
       "      <td>172</td>\n",
       "      <td>180</td>\n",
       "      <td>203</td>\n",
       "      <td>237</td>\n",
       "      <td>271</td>\n",
       "      <td>305</td>\n",
       "      <td>310</td>\n",
       "      <td>362</td>\n",
       "      <td>390</td>\n",
       "    </tr>\n",
       "    <tr>\n",
       "      <th>December</th>\n",
       "      <td>118</td>\n",
       "      <td>140</td>\n",
       "      <td>166</td>\n",
       "      <td>194</td>\n",
       "      <td>201</td>\n",
       "      <td>229</td>\n",
       "      <td>278</td>\n",
       "      <td>306</td>\n",
       "      <td>336</td>\n",
       "      <td>337</td>\n",
       "      <td>405</td>\n",
       "      <td>432</td>\n",
       "    </tr>\n",
       "  </tbody>\n",
       "</table>\n",
       "</div>"
      ],
      "text/plain": [
       "year       1949  1950  1951  1952  1953  1954  1955  1956  1957  1958  1959  \\\n",
       "month                                                                         \n",
       "January     112   115   145   171   196   204   242   284   315   340   360   \n",
       "February    118   126   150   180   196   188   233   277   301   318   342   \n",
       "March       132   141   178   193   236   235   267   317   356   362   406   \n",
       "April       129   135   163   181   235   227   269   313   348   348   396   \n",
       "May         121   125   172   183   229   234   270   318   355   363   420   \n",
       "June        135   149   178   218   243   264   315   374   422   435   472   \n",
       "July        148   170   199   230   264   302   364   413   465   491   548   \n",
       "August      148   170   199   242   272   293   347   405   467   505   559   \n",
       "September   136   158   184   209   237   259   312   355   404   404   463   \n",
       "October     119   133   162   191   211   229   274   306   347   359   407   \n",
       "November    104   114   146   172   180   203   237   271   305   310   362   \n",
       "December    118   140   166   194   201   229   278   306   336   337   405   \n",
       "\n",
       "year       1960  \n",
       "month            \n",
       "January     417  \n",
       "February    391  \n",
       "March       419  \n",
       "April       461  \n",
       "May         472  \n",
       "June        535  \n",
       "July        622  \n",
       "August      606  \n",
       "September   508  \n",
       "October     461  \n",
       "November    390  \n",
       "December    432  "
      ]
     },
     "execution_count": 83,
     "metadata": {},
     "output_type": "execute_result"
    }
   ],
   "source": [
    "sns.load_dataset(\"flights\").pivot(\"month\", \"year\", \"passengers\")"
   ]
  },
  {
   "cell_type": "code",
   "execution_count": null,
   "metadata": {
    "collapsed": true
   },
   "outputs": [],
   "source": []
  },
  {
   "cell_type": "code",
   "execution_count": null,
   "metadata": {
    "collapsed": true
   },
   "outputs": [],
   "source": []
  },
  {
   "cell_type": "code",
   "execution_count": null,
   "metadata": {
    "collapsed": true
   },
   "outputs": [],
   "source": []
  },
  {
   "cell_type": "code",
   "execution_count": null,
   "metadata": {
    "collapsed": true
   },
   "outputs": [],
   "source": []
  },
  {
   "cell_type": "code",
   "execution_count": null,
   "metadata": {
    "collapsed": true
   },
   "outputs": [],
   "source": []
  },
  {
   "cell_type": "code",
   "execution_count": null,
   "metadata": {
    "collapsed": true
   },
   "outputs": [],
   "source": []
  },
  {
   "cell_type": "markdown",
   "metadata": {},
   "source": [
    "# Safety check between my means and Plink ones in the .log files"
   ]
  },
  {
   "cell_type": "code",
   "execution_count": 53,
   "metadata": {
    "collapsed": false
   },
   "outputs": [],
   "source": [
    "%%bash\n",
    "\n",
    "grep Mean ~/tesina/1000Genomes/fst_analysis/*.log | \\\n",
    "ruby -F: -lane 'puts [$F[0].gsub(\"/home/juan/tesina/1000Genomes/fst_analysis/\", \"\").gsub(\".\", \"\\t\"), $F.last].join(\"\\t\")' \\\n",
    "> ~/tesina/1000Genomes/fst_analysis/plink_fst_means"
   ]
  },
  {
   "cell_type": "code",
   "execution_count": 76,
   "metadata": {
    "collapsed": false
   },
   "outputs": [
    {
     "data": {
      "text/html": [
       "<div>\n",
       "<table border=\"1\" class=\"dataframe\">\n",
       "  <thead>\n",
       "    <tr style=\"text-align: right;\">\n",
       "      <th></th>\n",
       "      <th>panel</th>\n",
       "      <th>CPx1</th>\n",
       "      <th>CPx10</th>\n",
       "      <th>CPx100</th>\n",
       "      <th>GAL_Affy</th>\n",
       "      <th>GAL_Completo</th>\n",
       "      <th>GAL_Faltantes</th>\n",
       "    </tr>\n",
       "    <tr>\n",
       "      <th>pop_level</th>\n",
       "      <th>dataset</th>\n",
       "      <th></th>\n",
       "      <th></th>\n",
       "      <th></th>\n",
       "      <th></th>\n",
       "      <th></th>\n",
       "      <th></th>\n",
       "    </tr>\n",
       "  </thead>\n",
       "  <tbody>\n",
       "    <tr>\n",
       "      <th rowspan=\"5\" valign=\"top\">population</th>\n",
       "      <th>L</th>\n",
       "      <td>0</td>\n",
       "      <td>0</td>\n",
       "      <td>0</td>\n",
       "      <td>0</td>\n",
       "      <td>0</td>\n",
       "      <td>0</td>\n",
       "    </tr>\n",
       "    <tr>\n",
       "      <th>LE</th>\n",
       "      <td>0</td>\n",
       "      <td>0</td>\n",
       "      <td>0</td>\n",
       "      <td>0</td>\n",
       "      <td>0</td>\n",
       "      <td>0</td>\n",
       "    </tr>\n",
       "    <tr>\n",
       "      <th>LEA</th>\n",
       "      <td>0</td>\n",
       "      <td>0</td>\n",
       "      <td>0</td>\n",
       "      <td>0</td>\n",
       "      <td>0</td>\n",
       "      <td>0</td>\n",
       "    </tr>\n",
       "    <tr>\n",
       "      <th>LEAC</th>\n",
       "      <td>0</td>\n",
       "      <td>0</td>\n",
       "      <td>0</td>\n",
       "      <td>0</td>\n",
       "      <td>0</td>\n",
       "      <td>0</td>\n",
       "    </tr>\n",
       "    <tr>\n",
       "      <th>LEACI</th>\n",
       "      <td>0</td>\n",
       "      <td>0</td>\n",
       "      <td>0</td>\n",
       "      <td>0</td>\n",
       "      <td>0</td>\n",
       "      <td>0</td>\n",
       "    </tr>\n",
       "    <tr>\n",
       "      <th rowspan=\"4\" valign=\"top\">superpopulation</th>\n",
       "      <th>LE</th>\n",
       "      <td>0</td>\n",
       "      <td>0</td>\n",
       "      <td>0</td>\n",
       "      <td>0</td>\n",
       "      <td>0</td>\n",
       "      <td>0</td>\n",
       "    </tr>\n",
       "    <tr>\n",
       "      <th>LEA</th>\n",
       "      <td>0</td>\n",
       "      <td>0</td>\n",
       "      <td>0</td>\n",
       "      <td>0</td>\n",
       "      <td>0</td>\n",
       "      <td>0</td>\n",
       "    </tr>\n",
       "    <tr>\n",
       "      <th>LEAC</th>\n",
       "      <td>0</td>\n",
       "      <td>0</td>\n",
       "      <td>0</td>\n",
       "      <td>0</td>\n",
       "      <td>0</td>\n",
       "      <td>0</td>\n",
       "    </tr>\n",
       "    <tr>\n",
       "      <th>LEACI</th>\n",
       "      <td>0</td>\n",
       "      <td>0</td>\n",
       "      <td>0</td>\n",
       "      <td>0</td>\n",
       "      <td>0</td>\n",
       "      <td>0</td>\n",
       "    </tr>\n",
       "  </tbody>\n",
       "</table>\n",
       "</div>"
      ],
      "text/plain": [
       "panel                    CPx1  CPx10  CPx100  GAL_Affy  GAL_Completo  \\\n",
       "pop_level       dataset                                                \n",
       "population      L           0      0       0         0             0   \n",
       "                LE          0      0       0         0             0   \n",
       "                LEA         0      0       0         0             0   \n",
       "                LEAC        0      0       0         0             0   \n",
       "                LEACI       0      0       0         0             0   \n",
       "superpopulation LE          0      0       0         0             0   \n",
       "                LEA         0      0       0         0             0   \n",
       "                LEAC        0      0       0         0             0   \n",
       "                LEACI       0      0       0         0             0   \n",
       "\n",
       "panel                    GAL_Faltantes  \n",
       "pop_level       dataset                 \n",
       "population      L                    0  \n",
       "                LE                   0  \n",
       "                LEA                  0  \n",
       "                LEAC                 0  \n",
       "                LEACI                0  \n",
       "superpopulation LE                   0  \n",
       "                LEA                  0  \n",
       "                LEAC                 0  \n",
       "                LEACI                0  "
      ]
     },
     "execution_count": 76,
     "metadata": {},
     "output_type": "execute_result"
    }
   ],
   "source": [
    "columns = [\"dataset\", \"panel\", \"pop_level\", \"dropme\", \"FST\"]\n",
    "plink_fst_means = pd.read_table(join(WORKDIR, \"plink_fst_means\"), header=None, names=columns)\n",
    "plink_fst_means.drop(\"dropme\", inplace=True, axis=1)\n",
    "plink_fst_means[\"FST\"] = plink_fst_means[\"FST\"].astype(float).map(lambda x: round(x, 2))\n",
    "plink_fst_means = plink_fst_means.pivot_table(index=[\"pop_level\", \"dataset\"],\n",
    "                                              columns=\"panel\", values=\"FST\")\n",
    "plink_fst_means - means"
   ]
  },
  {
   "cell_type": "code",
   "execution_count": null,
   "metadata": {
    "collapsed": true
   },
   "outputs": [],
   "source": []
  },
  {
   "cell_type": "code",
   "execution_count": null,
   "metadata": {
    "collapsed": true
   },
   "outputs": [],
   "source": []
  },
  {
   "cell_type": "code",
   "execution_count": null,
   "metadata": {
    "collapsed": true
   },
   "outputs": [],
   "source": []
  },
  {
   "cell_type": "code",
   "execution_count": null,
   "metadata": {
    "collapsed": true
   },
   "outputs": [],
   "source": []
  },
  {
   "cell_type": "code",
   "execution_count": null,
   "metadata": {
    "collapsed": true
   },
   "outputs": [],
   "source": []
  },
  {
   "cell_type": "code",
   "execution_count": null,
   "metadata": {
    "collapsed": true
   },
   "outputs": [],
   "source": []
  },
  {
   "cell_type": "code",
   "execution_count": null,
   "metadata": {
    "collapsed": true
   },
   "outputs": [],
   "source": []
  },
  {
   "cell_type": "code",
   "execution_count": null,
   "metadata": {
    "collapsed": true
   },
   "outputs": [],
   "source": []
  },
  {
   "cell_type": "code",
   "execution_count": null,
   "metadata": {
    "collapsed": true
   },
   "outputs": [],
   "source": []
  },
  {
   "cell_type": "code",
   "execution_count": null,
   "metadata": {
    "collapsed": true
   },
   "outputs": [],
   "source": []
  },
  {
   "cell_type": "code",
   "execution_count": null,
   "metadata": {
    "collapsed": true
   },
   "outputs": [],
   "source": []
  },
  {
   "cell_type": "code",
   "execution_count": null,
   "metadata": {
    "collapsed": true
   },
   "outputs": [],
   "source": []
  },
  {
   "cell_type": "code",
   "execution_count": null,
   "metadata": {
    "collapsed": true
   },
   "outputs": [],
   "source": []
  }
 ],
 "metadata": {
  "kernelspec": {
   "display_name": "Python 3",
   "language": "python",
   "name": "python3"
  },
  "language_info": {
   "codemirror_mode": {
    "name": "ipython",
    "version": 3
   },
   "file_extension": ".py",
   "mimetype": "text/x-python",
   "name": "python",
   "nbconvert_exporter": "python",
   "pygments_lexer": "ipython3",
   "version": "3.5.1"
  }
 },
 "nbformat": 4,
 "nbformat_minor": 0
}
