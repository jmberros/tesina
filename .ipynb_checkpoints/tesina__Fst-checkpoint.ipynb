{
 "cells": [
  {
   "cell_type": "code",
   "execution_count": 6,
   "metadata": {
    "collapsed": false
   },
   "outputs": [],
   "source": [
    "%load_ext autoreload\n",
    "%autoreload 2\n",
    "\n",
    "%matplotlib inline"
   ]
  },
  {
   "cell_type": "markdown",
   "metadata": {},
   "source": [
    "# Compute Fst values with *PLINK*"
   ]
  },
  {
   "cell_type": "code",
   "execution_count": 3,
   "metadata": {
    "collapsed": true
   },
   "outputs": [],
   "source": [
    "import re\n",
    "import pandas as pd\n",
    "\n",
    "from os.path import expanduser, join, isfile\n",
    "from components.dataset import Dataset\n",
    "from components.panel import Panel\n",
    "from subprocess import call\n",
    "\n",
    "\n",
    "WORKDIR = expanduser(\"~/tesina/1000Genomes/fst_analysis\")\n",
    "# Put the bedfiles of the panels you want to analyse in the WORKDIR.\n",
    "# Then run this cell. Ta-dah!\n",
    "# (The data should come from 1000 Genomes for this to work.)\n",
    "\n",
    "\n",
    "analysis_files = []\n",
    "for dataset in Dataset.all_datasets():\n",
    "\n",
    "    # Write .population.fam, .superpopulation.fam, and .samples files\n",
    "    dataset.write_clusters_files(WORKDIR)\n",
    "    dataset.write_samples_file(WORKDIR)\n",
    "\n",
    "    for panel in Panel.all_panels() + Panel.all_control_panels():\n",
    "        \n",
    "        if not isfile(join(WORKDIR, panel.label + \".bed\")):\n",
    "            continue\n",
    "\n",
    "        # Generate dataset/panel specific bedfiles\n",
    "        new_bfile = join(WORKDIR, \"{}.{}\".format(dataset.label, panel.label))\n",
    "        command = [\"plink\",\n",
    "                   \"--bfile\", join(WORKDIR, panel.label),\n",
    "                   \"--keep-fam\", join(WORKDIR, \"{}.samples\".format(dataset.label)),\n",
    "                   \"--make-bed\", \"--out\", new_bfile]       \n",
    "        call(command)\n",
    "        \n",
    "        # Compute Fst for each dataset/panel/population level combination\n",
    "        for population_level in [\"population\", \"superpopulation\"]:\n",
    "            \n",
    "            clusters_file = join(WORKDIR, \"{}.{}.clusters\".format(dataset.label, population_level))\n",
    "            level_analysis_file = \"{}.{}\".format(new_bfile, population_level)\n",
    "            command = [\"plink\",\n",
    "                       \"--bfile\", new_bfile,\n",
    "                       \"--within\", clusters_file, \"--fst\",\n",
    "                       \"--make-bed\", \"--out\", level_analysis_file]\n",
    "            call(command)\n",
    "            \n",
    "            analysis_files.append(level_analysis_file + \".fst\")"
   ]
  },
  {
   "cell_type": "markdown",
   "metadata": {},
   "source": [
    "# Read the Fst files"
   ]
  },
  {
   "cell_type": "code",
   "execution_count": 24,
   "metadata": {
    "collapsed": false
   },
   "outputs": [
    {
     "name": "stdout",
     "output_type": "stream",
     "text": [
      "[!] No file for L GAL_Affy superpopulation\n",
      "[!] No file for L GAL_Completo superpopulation\n",
      "[!] No file for L GAL_Faltantes superpopulation\n",
      "[!] No file for L CPx1 superpopulation\n",
      "[!] No file for L CPx10 superpopulation\n",
      "[!] No file for L CPx100 superpopulation\n"
     ]
    },
    {
     "data": {
      "text/html": [
       "<div>\n",
       "<table border=\"1\" class=\"dataframe\">\n",
       "  <thead>\n",
       "    <tr style=\"text-align: right;\">\n",
       "      <th></th>\n",
       "      <th>panel</th>\n",
       "      <th>CPx1</th>\n",
       "      <th>CPx10</th>\n",
       "      <th>CPx100</th>\n",
       "      <th>GAL_Affy</th>\n",
       "      <th>GAL_Completo</th>\n",
       "      <th>GAL_Faltantes</th>\n",
       "    </tr>\n",
       "    <tr>\n",
       "      <th>pop_level</th>\n",
       "      <th>dataset</th>\n",
       "      <th></th>\n",
       "      <th></th>\n",
       "      <th></th>\n",
       "      <th></th>\n",
       "      <th></th>\n",
       "      <th></th>\n",
       "    </tr>\n",
       "  </thead>\n",
       "  <tbody>\n",
       "    <tr>\n",
       "      <th rowspan=\"5\" valign=\"top\">population</th>\n",
       "      <th>L</th>\n",
       "      <td>0.018</td>\n",
       "      <td>0.019</td>\n",
       "      <td>0.019</td>\n",
       "      <td>0.099</td>\n",
       "      <td>0.104</td>\n",
       "      <td>0.109</td>\n",
       "    </tr>\n",
       "    <tr>\n",
       "      <th>LE</th>\n",
       "      <td>0.022</td>\n",
       "      <td>0.023</td>\n",
       "      <td>0.022</td>\n",
       "      <td>0.127</td>\n",
       "      <td>0.137</td>\n",
       "      <td>0.144</td>\n",
       "    </tr>\n",
       "    <tr>\n",
       "      <th>LEA</th>\n",
       "      <td>0.062</td>\n",
       "      <td>0.060</td>\n",
       "      <td>0.060</td>\n",
       "      <td>0.365</td>\n",
       "      <td>0.333</td>\n",
       "      <td>0.310</td>\n",
       "    </tr>\n",
       "    <tr>\n",
       "      <th>LEAC</th>\n",
       "      <td>0.074</td>\n",
       "      <td>0.071</td>\n",
       "      <td>0.070</td>\n",
       "      <td>0.337</td>\n",
       "      <td>0.309</td>\n",
       "      <td>0.289</td>\n",
       "    </tr>\n",
       "    <tr>\n",
       "      <th>LEACI</th>\n",
       "      <td>0.072</td>\n",
       "      <td>0.069</td>\n",
       "      <td>0.068</td>\n",
       "      <td>0.318</td>\n",
       "      <td>0.290</td>\n",
       "      <td>0.271</td>\n",
       "    </tr>\n",
       "    <tr>\n",
       "      <th rowspan=\"4\" valign=\"top\">superpopulation</th>\n",
       "      <th>LE</th>\n",
       "      <td>0.018</td>\n",
       "      <td>0.019</td>\n",
       "      <td>0.018</td>\n",
       "      <td>0.110</td>\n",
       "      <td>0.121</td>\n",
       "      <td>0.130</td>\n",
       "    </tr>\n",
       "    <tr>\n",
       "      <th>LEA</th>\n",
       "      <td>0.069</td>\n",
       "      <td>0.067</td>\n",
       "      <td>0.066</td>\n",
       "      <td>0.386</td>\n",
       "      <td>0.349</td>\n",
       "      <td>0.322</td>\n",
       "    </tr>\n",
       "    <tr>\n",
       "      <th>LEAC</th>\n",
       "      <td>0.080</td>\n",
       "      <td>0.076</td>\n",
       "      <td>0.074</td>\n",
       "      <td>0.347</td>\n",
       "      <td>0.315</td>\n",
       "      <td>0.292</td>\n",
       "    </tr>\n",
       "    <tr>\n",
       "      <th>LEACI</th>\n",
       "      <td>0.075</td>\n",
       "      <td>0.071</td>\n",
       "      <td>0.070</td>\n",
       "      <td>0.322</td>\n",
       "      <td>0.290</td>\n",
       "      <td>0.268</td>\n",
       "    </tr>\n",
       "  </tbody>\n",
       "</table>\n",
       "</div>"
      ],
      "text/plain": [
       "panel                     CPx1  CPx10  CPx100  GAL_Affy  GAL_Completo  \\\n",
       "pop_level       dataset                                                 \n",
       "population      L        0.018  0.019   0.019     0.099         0.104   \n",
       "                LE       0.022  0.023   0.022     0.127         0.137   \n",
       "                LEA      0.062  0.060   0.060     0.365         0.333   \n",
       "                LEAC     0.074  0.071   0.070     0.337         0.309   \n",
       "                LEACI    0.072  0.069   0.068     0.318         0.290   \n",
       "superpopulation LE       0.018  0.019   0.018     0.110         0.121   \n",
       "                LEA      0.069  0.067   0.066     0.386         0.349   \n",
       "                LEAC     0.080  0.076   0.074     0.347         0.315   \n",
       "                LEACI    0.075  0.071   0.070     0.322         0.290   \n",
       "\n",
       "panel                    GAL_Faltantes  \n",
       "pop_level       dataset                 \n",
       "population      L                0.109  \n",
       "                LE               0.144  \n",
       "                LEA              0.310  \n",
       "                LEAC             0.289  \n",
       "                LEACI            0.271  \n",
       "superpopulation LE               0.130  \n",
       "                LEA              0.322  \n",
       "                LEAC             0.292  \n",
       "                LEACI            0.268  "
      ]
     },
     "execution_count": 24,
     "metadata": {},
     "output_type": "execute_result"
    }
   ],
   "source": [
    "def fst_format(x):\n",
    "    # return x\n",
    "    return round(x, 3)\n",
    "\n",
    "frames = []\n",
    "\n",
    "for filepath in analysis_files:\n",
    "    dataset_label, panel_label, pop_level = \\\n",
    "        re.search(\"(\\w*)\\.(\\w*).(\\w*).\", filepath).groups()\n",
    "\n",
    "    try:\n",
    "        fst_df = pd.read_table(filepath)\n",
    "    except OSError:\n",
    "        print(\"[!] No file for {} {} {}\".format(dataset_label, panel_label, pop_level))\n",
    "        continue\n",
    "\n",
    "    fst_df[\"panel\"] = panel_label\n",
    "    fst_df[\"dataset\"] = dataset_label\n",
    "    fst_df[\"pop_level\"] = pop_level\n",
    "    mean_fst = fst_df[\"FST\"].mean()\n",
    "    \n",
    "    # print(dataset_label, panel_label, population_level, mean_fst)\n",
    "    frames.append(fst_df)\n",
    "    \n",
    "fst_df = pd.concat(frames).set_index([\"pop_level\", \"dataset\", \"panel\", \"SNP\"])\n",
    "\n",
    "mean_fst = fst_df.groupby(level=[\"dataset\", \"panel\", \"pop_level\"]).mean()[\"FST\"]\n",
    "mean_fst = mean_fst.map(fst_format).to_frame().sort_index()\n",
    "mean_fst = mean_fst.reset_index().pivot_table(index=[\"pop_level\", \"dataset\"],\n",
    "                                              columns=\"panel\", values=\"FST\")\n",
    "mean_fst"
   ]
  },
  {
   "cell_type": "markdown",
   "metadata": {},
   "source": [
    "# Plot a heatmap of the mean Fst per dataset/panel/pop_level"
   ]
  },
  {
   "cell_type": "code",
   "execution_count": 58,
   "metadata": {
    "collapsed": false
   },
   "outputs": [
    {
     "name": "stdout",
     "output_type": "stream",
     "text": [
      "Fst promedio por población\n",
      "/home/juan/tesina/charts/panel_analyses/fst_heatmap__per_population\n"
     ]
    },
    {
     "data": {
      "image/png": "[encoded data removed]",
      "text/plain": [
       "<matplotlib.figure.Figure at 0x7f042e4df4e0>"
      ]
     },
     "metadata": {},
     "output_type": "display_data"
    },
    {
     "name": "stdout",
     "output_type": "stream",
     "text": [
      "Fst promedio por población\n",
      "/home/juan/tesina/charts/panel_analyses/fst_barchart__per_population\n"
     ]
    },
    {
     "data": {
      "image/png": "[encoded data removed]",
      "text/plain": [
       "<matplotlib.figure.Figure at 0x7f0422adcac8>"
      ]
     },
     "metadata": {},
     "output_type": "display_data"
    },
    {
     "name": "stdout",
     "output_type": "stream",
     "text": [
      "Fst promedio por continente\n",
      "/home/juan/tesina/charts/panel_analyses/fst_heatmap__per_superpopulation\n"
     ]
    },
    {
     "data": {
      "image/png": "[encoded data removed]",
      "text/plain": [
       "<matplotlib.figure.Figure at 0x7f042ea15b38>"
      ]
     },
     "metadata": {},
     "output_type": "display_data"
    },
    {
     "name": "stdout",
     "output_type": "stream",
     "text": [
      "Fst promedio por continente\n",
      "/home/juan/tesina/charts/panel_analyses/fst_barchart__per_superpopulation\n"
     ]
    },
    {
     "data": {
      "image/png": "[encoded data removed]",
      "text/plain": [
       "<matplotlib.figure.Figure at 0x7f04230af048>"
      ]
     },
     "metadata": {},
     "output_type": "display_data"
    }
   ],
   "source": [
    "import seaborn as sns\n",
    "import matplotlib.pyplot as plt\n",
    "\n",
    "from os.path import expanduser, join\n",
    "\n",
    "\n",
    "fdir = expanduser(\"~/tesina/charts/panel_analyses\")\n",
    "\n",
    "sns.set_context(\"paper\", font_scale=1.5)\n",
    "sns.set_style(\"white\")\n",
    "\n",
    "trans = {\"population\": \"población\", \"superpopulation\": \"continente\"}\n",
    "\n",
    "for level in mean_fst.index.get_level_values(\"pop_level\").unique():\n",
    "    df = mean_fst.loc[level]\n",
    "    columnns = [col for col in df.columns if \"Faltantes\" not in col]\n",
    "    df = df[columnns]\n",
    "    \n",
    "    fig = plt.figure()\n",
    "    palette = sns.color_palette(\"Blues\")\n",
    "\n",
    "    ax = sns.heatmap(df, annot=True, linewidths=.5, fmt=\".3\",\n",
    "                     vmax=1, vmin=0, cmap=\"Oranges\", cbar=False)\n",
    "    \n",
    "    fig = ax.get_figure()\n",
    "    ax.set_ylabel(\"Datasets\", labelpad=15)\n",
    "    ax.set_xlabel(\"\")\n",
    "    xticklabels = [\"\\n\".join(s.get_text().split(\"_\")) for s in ax.get_xticklabels()]\n",
    "    _ = ax.set_xticklabels(xticklabels,\n",
    "                           rotation=0)\n",
    "    caption = \"Fst promedio por {}\".format(trans[level])\n",
    "    filepath = join(fdir, \"fst_heatmap__per_{}\".format(level))\n",
    "    plt.savefig(filepath, bbox_inches=\"tight\")\n",
    "    print(caption)\n",
    "    print(filepath)\n",
    "    plt.show()    \n",
    "    \n",
    "    color = sns.color_palette(\"Set1\", 5)\n",
    "    ax = df.T.plot(kind=\"bar\", figsize=(10, 2.5), rot=0, color=color)    \n",
    "    ax.set_ylabel(\"Fst\")\n",
    "    ax.legend(fancybox=True, loc=\"best\", bbox_to_anchor=(1.01, .75))\n",
    "    ax.set_ylim([0, .5])\n",
    "    ax.set_yticks([0, .5])\n",
    "    sns.despine(left=True)\n",
    "    ax.yaxis.grid()\n",
    "    caption = \"Fst promedio por {}\".format(trans[level])\n",
    "    filepath = join(fdir, \"fst_barchart__per_{}\".format(level))\n",
    "    plt.savefig(filepath, bbox_inches=\"tight\")\n",
    "    print(caption)\n",
    "    print(filepath)\n",
    "    plt.show()"
   ]
  },
  {
   "cell_type": "markdown",
   "metadata": {},
   "source": [
    "# Safety check between my means and Plink ones in the .log files"
   ]
  },
  {
   "cell_type": "code",
   "execution_count": 5,
   "metadata": {
    "collapsed": false
   },
   "outputs": [],
   "source": [
    "%%bash\n",
    "\n",
    "grep Mean ~/tesina/1000Genomes/fst_analysis/*.log | \\\n",
    "ruby -F: -lane 'puts [$F[0].gsub(\"/home/juan/tesina/1000Genomes/fst_analysis/\", \"\").gsub(\".\", \"\\t\"), $F.last].join(\"\\t\")' \\\n",
    "> ~/tesina/1000Genomes/fst_analysis/plink_fst_means"
   ]
  },
  {
   "cell_type": "code",
   "execution_count": 6,
   "metadata": {
    "collapsed": false
   },
   "outputs": [
    {
     "ename": "NameError",
     "evalue": "name 'means' is not defined",
     "output_type": "error",
     "traceback": [
      "\u001b[1;31m---------------------------------------------------------------------------\u001b[0m",
      "\u001b[1;31mNameError\u001b[0m                                 Traceback (most recent call last)",
      "\u001b[1;32m<ipython-input-6-040ea4f188b9>\u001b[0m in \u001b[0;36m<module>\u001b[1;34m()\u001b[0m\n\u001b[0;32m      5\u001b[0m plink_fst_means = plink_fst_means.pivot_table(index=[\"pop_level\", \"dataset\"],\n\u001b[0;32m      6\u001b[0m                                               columns=\"panel\", values=\"FST\")\n\u001b[1;32m----> 7\u001b[1;33m \u001b[0mplink_fst_means\u001b[0m \u001b[1;33m-\u001b[0m \u001b[0mmeans\u001b[0m\u001b[1;33m\u001b[0m\u001b[0m\n\u001b[0m",
      "\u001b[1;31mNameError\u001b[0m: name 'means' is not defined"
     ]
    }
   ],
   "source": [
    "columns = [\"dataset\", \"panel\", \"pop_level\", \"dropme\", \"FST\"]\n",
    "plink_fst_means = pd.read_table(join(WORKDIR, \"plink_fst_means\"), header=None, names=columns)\n",
    "plink_fst_means.drop(\"dropme\", inplace=True, axis=1)\n",
    "plink_fst_means[\"FST\"] = plink_fst_means[\"FST\"].astype(float).map(lambda x: round(x, 2))\n",
    "plink_fst_means = plink_fst_means.pivot_table(index=[\"pop_level\", \"dataset\"],\n",
    "                                              columns=\"panel\", values=\"FST\")\n",
    "plink_fst_means - "
   ]
  }
 ],
 "metadata": {
  "kernelspec": {
   "display_name": "Python 3",
   "language": "python",
   "name": "python3"
  },
  "language_info": {
   "codemirror_mode": {
    "name": "ipython",
    "version": 3
   },
   "file_extension": ".py",
   "mimetype": "text/x-python",
   "name": "python",
   "nbconvert_exporter": "python",
   "pygments_lexer": "ipython3",
   "version": "3.5.1"
  }
 },
 "nbformat": 4,
 "nbformat_minor": 0
}
