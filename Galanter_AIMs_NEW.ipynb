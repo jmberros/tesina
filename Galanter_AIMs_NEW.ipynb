{
 "cells": [
  {
   "cell_type": "markdown",
   "metadata": {},
   "source": [
    "# General settings and loading of files"
   ]
  },
  {
   "cell_type": "code",
   "execution_count": 9,
   "metadata": {
    "collapsed": false
   },
   "outputs": [],
   "source": [
    "import numpy as np\n",
    "import matplotlib as mpl\n",
    "import matplotlib.pyplot as plt\n",
    "import pandas as pd\n",
    "import scipy as sp\n",
    "\n",
    "from IPython.display import display, Math, Latex\n",
    "from matplotlib import cm\n",
    "\n",
    "%matplotlib inline\n",
    "\n",
    "pd.options.display.max_columns = 40  # Affy csv has 30 fields\n",
    "pd.options.display.mpl_style = 'default'\n",
    "\n",
    "mpl.rc('figure', figsize=(13, 7))\n",
    "mpl.rc('axes', titlesize=17, labelsize=14)\n",
    "mpl.rc('xtick', labelsize=11)\n",
    "mpl.rc('ytick', labelsize=11)\n",
    "mpl.rc('font', family='serif')\n",
    "mpl.rc('legend', fontsize=15)"
   ]
  },
  {
   "cell_type": "code",
   "execution_count": 18,
   "metadata": {
    "collapsed": true
   },
   "outputs": [],
   "source": [
    "%run helpers/data_munging_functions.py\n",
    "%run helpers/number_helpers.py"
   ]
  },
  {
   "cell_type": "markdown",
   "metadata": {},
   "source": [
    "# Leer LAT-1 y discriminar Galanter Present vs. Missing"
   ]
  },
  {
   "cell_type": "code",
   "execution_count": 30,
   "metadata": {
    "collapsed": false
   },
   "outputs": [],
   "source": [
    "GALANTER_CSV = '~/tesina/galanter_SNPs.csv'\n",
    "LAT1_CSV = '~/tesina/affy-LAT1/Axiom_GW_LAT.na35.annot.csv'  # 1.1Gb file!\n",
    "# Smaller file for testing:\n",
    "# LAT1_CSV_SMALL = \"affy-LAT1/Axiom_GW_LAT.na35.annot.TRUNCATED.csv\"\n",
    "\n",
    "%run discriminate_present_vs_missing.py\n",
    "\n",
    "galanter, present, missing = discriminate_present_vs_missing(\n",
    "    GALANTER_CSV, LAT1_CSV, dumpdir=\"dumpfiles\")"
   ]
  },
  {
   "cell_type": "code",
   "execution_count": 31,
   "metadata": {
    "collapsed": false
   },
   "outputs": [
    {
     "name": "stdout",
     "output_type": "stream",
     "text": [
      "446 Galanter AIMs\n",
      "180 present in LAT\n",
      "266 missing in LAT\n"
     ]
    }
   ],
   "source": [
    "print(\"{} Galanter AIMs\".format(len(galanter)))\n",
    "print(\"{} present in LAT\".format(len(present)))\n",
    "print(\"{} missing in LAT\".format(len(missing)))"
   ]
  },
  {
   "cell_type": "code",
   "execution_count": 120,
   "metadata": {
    "collapsed": false
   },
   "outputs": [],
   "source": [
    "chr_lengths = pd.read_csv('/home/juan/tesina/chr_len').set_index('chr')\n",
    "chr_lengths = chr_lengths.drop(['X', 'Y'])\n",
    "chr_lengths.index = chr_lengths.index.astype(int)\n",
    "# max_len = chr_lengths.total_length.max()"
   ]
  },
  {
   "cell_type": "markdown",
   "metadata": {},
   "source": [
    "### Distancias entre los AIMs por cromosoma"
   ]
  },
  {
   "cell_type": "code",
   "execution_count": 106,
   "metadata": {
    "collapsed": false
   },
   "outputs": [],
   "source": [
    "from collections import defaultdict\n",
    "\n",
    "def SNP_distances_per_chromosome(df):\n",
    "    \"\"\"Returns the list of distances between markers, per chromosome\"\"\"\n",
    "    distances = defaultdict(list)\n",
    "\n",
    "    for chromosome in df.chr.unique():\n",
    "        positions = df[df.chr == chromosome].position\n",
    "        distances[chromosome] = np.array(distances_between_positions(positions))\n",
    "        \n",
    "#         chromosome_snps = df[df.chr == chromosome]\n",
    "#         last_position_seen = 0\n",
    "        \n",
    "#         for position in chromosome_snps.sort('position').position:\n",
    "#             distance_to_previous = position - last_position_seen\n",
    "#             distances[chromosome].append(distance_to_previous)\n",
    "#             last_position_seen = position\n",
    "    \n",
    "#     for chromosome in distances.keys():\n",
    "#         distances[chromosome] = np.array(distances[chromosome])\n",
    "\n",
    "    return distances\n",
    "\n",
    "def distances_between_positions(positions, chromosome):\n",
    "    distances = []\n",
    "    last_position_seen = 0\n",
    "    \n",
    "    for position in sorted(positions):\n",
    "        distances.append(position - last_position_seen)\n",
    "        last_position_seen = position\n",
    "    \n",
    "    chromosome_lenght = chr_len()\n",
    "    distances.append()\n",
    "    return distances\n",
    "\n",
    "def mean_SNP_distance_per_chromosome(df):\n",
    "    \"\"\"Returns the mean distance between markers, per chromosome\"\"\"\n",
    "    distances = SNP_distances_per_chromosome(df)\n",
    "    mean_distances = {}\n",
    "\n",
    "    for chromosome, distance_list in distances.items():\n",
    "        if len(distance_list) > 1:\n",
    "            mean_distances[chromosome] = np.array(distance_list).mean()\n",
    "        else:\n",
    "            mean_distances[chromosome] = None\n",
    "\n",
    "    return pd.Series(mean_distances).round(decimals=0)\n",
    "\n",
    "# TODO: DRY up these two methods\n",
    "def std_SNP_distance_per_chromosome(df):\n",
    "    \"\"\"Returns the std of the distance between markers, per chromosome\"\"\"\n",
    "    distances = SNP_distances_per_chromosome(df)\n",
    "    median_distances = {}\n",
    "\n",
    "    for chromosome, distance_list in distances.items():\n",
    "        if len(distance_list) > 1:\n",
    "            median_distances[chromosome] = np.array(distance_list).std()\n",
    "        else:\n",
    "            median_distances[chromosome] = None\n",
    "\n",
    "    return pd.Series(median_distances).round(decimals=0)\n",
    "\n",
    "# TODO: DRY up this\n",
    "def median_SNP_distance_per_chromosome(df):\n",
    "    \"\"\"Returns the median of the distance between markers, per chromosome\"\"\"\n",
    "    distances = SNP_distances_per_chromosome(df)\n",
    "    median_distances = {}\n",
    "\n",
    "    for chromosome, distance_list in distances.items():\n",
    "        if len(distance_list) > 1:\n",
    "            median_distances[chromosome] = np.median(distance_list)\n",
    "        else:\n",
    "            median_distances[chromosome] = None\n",
    "\n",
    "    return pd.Series(median_distances).round(decimals=0)\n"
   ]
  },
  {
   "cell_type": "code",
   "execution_count": 107,
   "metadata": {
    "collapsed": false
   },
   "outputs": [
    {
     "data": {
      "text/html": [
       "<div>\n",
       "<table border=\"1\" class=\"dataframe\">\n",
       "  <thead>\n",
       "    <tr style=\"text-align: right;\">\n",
       "      <th></th>\n",
       "      <th>mean_distance_galanter</th>\n",
       "      <th>mean_distance_present</th>\n",
       "      <th>median_distance_galanter</th>\n",
       "      <th>median_distance_present</th>\n",
       "      <th>std_distance_galanter</th>\n",
       "      <th>std_distance_present</th>\n",
       "    </tr>\n",
       "  </thead>\n",
       "  <tbody>\n",
       "    <tr>\n",
       "      <th>1</th>\n",
       "      <td>9,121,993</td>\n",
       "      <td>22,100,495</td>\n",
       "      <td>5,341,883</td>\n",
       "      <td>7,484,411</td>\n",
       "      <td>10,768,749</td>\n",
       "      <td>37,766,330</td>\n",
       "    </tr>\n",
       "    <tr>\n",
       "      <th>2</th>\n",
       "      <td>4,916,524</td>\n",
       "      <td>10,816,353</td>\n",
       "      <td>3,155,778</td>\n",
       "      <td>9,848,871</td>\n",
       "      <td>4,882,039</td>\n",
       "      <td>9,662,242</td>\n",
       "    </tr>\n",
       "    <tr>\n",
       "      <th>3</th>\n",
       "      <td>5,692,246</td>\n",
       "      <td>18,948,967</td>\n",
       "      <td>3,106,222</td>\n",
       "      <td>9,931,337</td>\n",
       "      <td>5,938,510</td>\n",
       "      <td>17,278,582</td>\n",
       "    </tr>\n",
       "    <tr>\n",
       "      <th>4</th>\n",
       "      <td>6,692,932</td>\n",
       "      <td>15,059,097</td>\n",
       "      <td>3,980,892</td>\n",
       "      <td>6,842,084</td>\n",
       "      <td>7,513,674</td>\n",
       "      <td>15,105,611</td>\n",
       "    </tr>\n",
       "    <tr>\n",
       "      <th>5</th>\n",
       "      <td>7,110,566</td>\n",
       "      <td>21,886,407</td>\n",
       "      <td>4,463,816</td>\n",
       "      <td>8,303,160</td>\n",
       "      <td>11,447,335</td>\n",
       "      <td>29,230,407</td>\n",
       "    </tr>\n",
       "  </tbody>\n",
       "</table>\n",
       "</div>"
      ],
      "text/plain": [
       "  mean_distance_galanter mean_distance_present median_distance_galanter  \\\n",
       "1              9,121,993            22,100,495                5,341,883   \n",
       "2              4,916,524            10,816,353                3,155,778   \n",
       "3              5,692,246            18,948,967                3,106,222   \n",
       "4              6,692,932            15,059,097                3,980,892   \n",
       "5              7,110,566            21,886,407                4,463,816   \n",
       "\n",
       "  median_distance_present std_distance_galanter std_distance_present  \n",
       "1               7,484,411            10,768,749           37,766,330  \n",
       "2               9,848,871             4,882,039            9,662,242  \n",
       "3               9,931,337             5,938,510           17,278,582  \n",
       "4               6,842,084             7,513,674           15,105,611  \n",
       "5               8,303,160            11,447,335           29,230,407  "
      ]
     },
     "execution_count": 107,
     "metadata": {},
     "output_type": "execute_result"
    }
   ],
   "source": [
    "snp_distances = pd.DataFrame({\n",
    "    'mean_distance_galanter': mean_SNP_distance_per_chromosome(galanter),\n",
    "    'mean_distance_present': mean_SNP_distance_per_chromosome(present),\n",
    "    'std_distance_galanter': std_SNP_distance_per_chromosome(galanter),\n",
    "    'std_distance_present': std_SNP_distance_per_chromosome(present),\n",
    "    'median_distance_galanter': median_SNP_distance_per_chromosome(galanter),\n",
    "    'median_distance_present': median_SNP_distance_per_chromosome(present),    \n",
    "})\n",
    "\n",
    "format_numbers(snp_distances).head()"
   ]
  },
  {
   "cell_type": "code",
   "execution_count": 15,
   "metadata": {
    "collapsed": false
   },
   "outputs": [
    {
     "data": {
      "image/png": "[encoded data removed]",
      "text/plain": [
       "<matplotlib.figure.Figure at 0x7f636ca58da0>"
      ]
     },
     "metadata": {},
     "output_type": "display_data"
    }
   ],
   "source": [
    "md = snp_distances[['mean_distance_galanter', 'mean_distance_present']]\n",
    "\n",
    "ax = md.plot(kind='bar', rot=0, width=0.75, colormap=cm.coolwarm_r, alpha=0.65)\n",
    "\n",
    "ax.set_title(r\"Distancia media entre AIMs en $Galanter_{LAT}$ vs. $Galanter_{all}$\", y=1.05)\n",
    "ax.set_ylabel(\"Distancia (Mb)\")\n",
    "ax.set_xlabel(\"Cromosoma\")\n",
    "\n",
    "annotate_bars(ax, base=10**6, decimals=1)\n",
    "\n",
    "yrange = range(0, 30, 2) \n",
    "millions = np.array(yrange) * 10**6\n",
    "ax.set_yticks(millions)\n",
    "ax.set_yticklabels(yrange)  # Display as Mbp\n",
    "\n",
    "mdn_galanter = snp_distances.median_distance_galanter\n",
    "mdn_present = snp_distances.median_distance_present\n",
    "\n",
    "ax.legend([r\"$Galanter_{all}$\", r\"$Galanter_{LAT}$\", ])\n",
    "\n",
    "plt.show()"
   ]
  },
  {
   "cell_type": "markdown",
   "metadata": {},
   "source": [
    "#### Discusión\n",
    "\n",
    "* Las distancias medias son mucho mayores en $Galanter_{LAT}$ que en $Galanter_{all}$. En casos extremos, llega a más de 20 Mpb promedio entre AIMs, cuando esas distancias promedio no superan los 8 Mpb en el panel original."
   ]
  },
  {
   "cell_type": "code",
   "execution_count": 16,
   "metadata": {
    "collapsed": false
   },
   "outputs": [
    {
     "data": {
      "image/png": "[encoded data removed]",
      "text/plain": [
       "<matplotlib.figure.Figure at 0x7f63481b3ac8>"
      ]
     },
     "metadata": {},
     "output_type": "display_data"
    }
   ],
   "source": [
    "df = snp_distances[['median_distance_galanter', 'median_distance_present']]\n",
    "ax = df.plot(kind=\"bar\", rot=0, colormap=cm.coolwarm_r, alpha=0.65, width=0.75)\n",
    "\n",
    "ax.set_title(r\"Mediana de las distancias entre AIMs en $Galanter_{LAT}$ y $Galanter_{all}$\", y=1.05)\n",
    "ax.set_ylabel(\"Distancia (Mb)\")\n",
    "ax.set_xlabel(\"Cromosoma\")\n",
    "\n",
    "annotate_bars(ax, base=10**6, decimals=1, fontsize=10)\n",
    "\n",
    "yrange = range(0, 30, 2) \n",
    "millions = np.array(yrange) * 10**6\n",
    "ax.set_yticks(millions)\n",
    "ax.set_yticklabels(yrange)  # Display as Mbp\n",
    "ax.legend([r\"Mediana de las distancias en $Galanter_{all}$\",\n",
    "           r\"Mediana de las distancias en $Galanter_{LAT}$\"],\n",
    "          loc='best')\n",
    "\n",
    "plt.show()"
   ]
  },
  {
   "cell_type": "markdown",
   "metadata": {},
   "source": [
    "### Boxplot"
   ]
  },
  {
   "cell_type": "code",
   "execution_count": 17,
   "metadata": {
    "collapsed": false
   },
   "outputs": [],
   "source": [
    "d2 = {}\n",
    "\n",
    "for chrom, distances in SNP_distances_per_chromosome(galanter).items():\n",
    "    if len(distances) > 1:\n",
    "        d2[chrom] = np.median(distances)\n",
    "    else:\n",
    "        d2[chrom] = None"
   ]
  },
  {
   "cell_type": "code",
   "execution_count": 108,
   "metadata": {
    "collapsed": false
   },
   "outputs": [
    {
     "data": {
      "image/png": "[encoded data removed]",
      "text/plain": [
       "<matplotlib.figure.Figure at 0x7f633b9a2898>"
      ]
     },
     "metadata": {},
     "output_type": "display_data"
    }
   ],
   "source": [
    "df = SNP_distances_per_chromosome(present)\n",
    "plt.figure(figsize=(15,10))\n",
    "ax = plt.subplot(111)\n",
    "\n",
    "boxes = ax.boxplot(list(df.values()), positions=list(df.keys()),\n",
    "                   showfliers=True, flierprops={'markersize': 8, 'marker': 'x'},\n",
    "                   showmeans=True)\n",
    "\n",
    "y_range = np.arange(0, 110, 5)\n",
    "millions = [n * 10**6 for n in y_range]\n",
    "ax.set_yticks(millions)\n",
    "ax.set_yticklabels(y_range)\n",
    "ax.set_ylim([millions[0], millions[-1]])\n",
    "\n",
    "ax.set_title(r\"Distancia entre AIMs en $Galanter_{LAT}$\")\n",
    "ax.set_ylabel(\"Distancia (Mpb)\")\n",
    "ax.set_xlabel(\"Cromosoma\")\n",
    "ax.set_axis_bgcolor('white')\n",
    "ax.legend(prop={'size':15})\n",
    "\n",
    "plt.show()"
   ]
  },
  {
   "cell_type": "markdown",
   "metadata": {},
   "source": [
    "### Discusión\n",
    "\n",
    "__Nota__: hay un solo AIM en Galanter para el cromosoma 19, de modo que no se grafican distancias.\n",
    "\n",
    "* En algunos casos extremos, hay hasta 1.4 Mpb (cromosoma 1) y 1 Mpb (cromosoma 8) de distancia entre dos AIMs contiguos."
   ]
  },
  {
   "cell_type": "code",
   "execution_count": 19,
   "metadata": {
    "collapsed": false
   },
   "outputs": [
    {
     "data": {
      "image/png": "[encoded data removed]",
      "text/plain": [
       "<matplotlib.figure.Figure at 0x7f63483e7e48>"
      ]
     },
     "metadata": {},
     "output_type": "display_data"
    }
   ],
   "source": [
    "df = SNP_distances_per_chromosome(galanter)\n",
    "plt.figure(figsize=(15,10))\n",
    "ax = plt.subplot(111)\n",
    "\n",
    "boxes = ax.boxplot(list(df.values()), positions=list(df.keys()),\n",
    "                   showfliers=True, flierprops={'markersize': 8, 'marker': 'x'})\n",
    "\n",
    "y_range = np.arange(0, 70, 2)\n",
    "millions = [n * 10**6 for n in y_range]\n",
    "ax.set_yticks(millions)\n",
    "ax.set_yticklabels(y_range)\n",
    "ax.set_ylim([millions[0], millions[-1]])\n",
    "\n",
    "ax.set_title(r\"Distancia entre AIMs en $Galanter_{all}$\")\n",
    "ax.set_ylabel(\"Distancia (Mpb)\")\n",
    "ax.set_xlabel(\"Cromosoma\")\n",
    "ax.set_axis_bgcolor('white')\n",
    "ax.legend(prop={'size':15})\n",
    "\n",
    "plt.show()"
   ]
  },
  {
   "cell_type": "code",
   "execution_count": 20,
   "metadata": {
    "collapsed": false
   },
   "outputs": [
    {
     "data": {
      "image/png": "[encoded data removed]",
      "text/plain": [
       "<matplotlib.figure.Figure at 0x7f6348357d30>"
      ]
     },
     "metadata": {},
     "output_type": "display_data"
    }
   ],
   "source": [
    "df = SNP_distances_per_chromosome(present)\n",
    "plt.figure(figsize=(15,10))\n",
    "ax1 = plt.subplot(121)\n",
    "\n",
    "boxes = ax1.boxplot(list(df.values()), positions=list(df.keys()),\n",
    "                   showfliers=False, flierprops={'markersize': 8, 'marker': 'x'})\n",
    "\n",
    "y_range = np.arange(0, 111, 5)\n",
    "millions = [n * 10**6 for n in y_range]\n",
    "ax1.set_yticks(millions)\n",
    "ax1.set_yticklabels(y_range)\n",
    "ax1.set_ylim([millions[0], millions[-1]])\n",
    "\n",
    "ax1.set_title(r\"Distancia entre AIMs en $Galanter_{LAT}$\")\n",
    "ax1.set_ylabel(\"Distancia (Mpb)\")\n",
    "ax1.set_xlabel(\"Cromosoma\")\n",
    "ax1.set_axis_bgcolor('white')\n",
    "ax1.legend(prop={'size':15})\n",
    "\n",
    "df = SNP_distances_per_chromosome(galanter)\n",
    "ax2 = plt.subplot(122, sharey=ax1)\n",
    "\n",
    "boxes = ax2.boxplot(list(df.values()), positions=list(df.keys()),\n",
    "                   showfliers=True, flierprops={'markersize': 8, 'marker': 'x'})\n",
    "\n",
    "ax2.set_title(r\"Distancia entre AIMs en $Galanter_{todos}$\")\n",
    "ax2.set_ylabel(\"Distancia (Mpb)\")\n",
    "ax2.set_xlabel(\"Cromosoma\")\n",
    "ax2.set_axis_bgcolor('white')\n",
    "# ax2.legend(prop={'size':15})\n",
    "\n",
    "plt.show()"
   ]
  },
  {
   "cell_type": "code",
   "execution_count": 67,
   "metadata": {
    "collapsed": false
   },
   "outputs": [
    {
     "name": "stdout",
     "output_type": "stream",
     "text": [
      "21\n",
      "22\n"
     ]
    }
   ],
   "source": [
    "l1 = [list(v) for v in dict(df).values()]\n",
    "l2 = [list(v) for v in dict(df2).values()]\n",
    "print(len(l1))\n",
    "print(len(l2))"
   ]
  },
  {
   "cell_type": "code",
   "execution_count": 97,
   "metadata": {
    "collapsed": false
   },
   "outputs": [
    {
     "data": {
      "text/plain": [
       "[(1, 10), (2, 20)]"
      ]
     },
     "execution_count": 97,
     "metadata": {},
     "output_type": "execute_result"
    }
   ],
   "source": [
    "[n for n in zip([1,2],[10,20])]"
   ]
  },
  {
   "cell_type": "code",
   "execution_count": 116,
   "metadata": {
    "collapsed": false
   },
   "outputs": [
    {
     "name": "stdout",
     "output_type": "stream",
     "text": [
      "SNP rsID\n",
      "rs6685064       1201155\n",
      "rs12085319     10952065\n",
      "rs4920310      18436476\n",
      "rs2984915      59026283\n",
      "rs6681578      64786174\n",
      "rs12727814     71786781\n",
      "rs12022561     80008407\n",
      "rs10779334    217173027\n",
      "rs12142968    232760664\n",
      "rs7525142     238809528\n",
      "rs9725312     243105441\n",
      "Name: position, dtype: int64\n"
     ]
    },
    {
     "data": {
      "text/plain": [
       "[1201155,\n",
       " 9750910,\n",
       " 7484411,\n",
       " 40589807,\n",
       " 5759891,\n",
       " 7000607,\n",
       " 8221626,\n",
       " 137164620,\n",
       " 15587637,\n",
       " 6048864,\n",
       " 4295913]"
      ]
     },
     "execution_count": 116,
     "metadata": {},
     "output_type": "execute_result"
    }
   ],
   "source": [
    "chromosome = 1\n",
    "positions = present[present.chr == chromosome].position\n",
    "print(positions)\n",
    "distances_between_positions(positions)"
   ]
  },
  {
   "cell_type": "code",
   "execution_count": 101,
   "metadata": {
    "collapsed": false
   },
   "outputs": [
    {
     "data": {
      "image/png": "[encoded data removed]",
      "text/plain": [
       "<matplotlib.figure.Figure at 0x7f6342725c18>"
      ]
     },
     "metadata": {},
     "output_type": "display_data"
    }
   ],
   "source": [
    "\n",
    "\n",
    "ax = plt.subplot(111)\n",
    "\n",
    "# ax.boxplot([[1,1,1,1,1,2,25], [10,20,30,40], [5,9,15]])  # Example that works\n",
    "ax.boxplot(galanter_list + present_list)\n",
    "\n",
    "plt.show()"
   ]
  },
  {
   "cell_type": "markdown",
   "metadata": {},
   "source": [
    "\n",
    "### Test para ver si es significativa la diferencia en distribuciones"
   ]
  },
  {
   "cell_type": "code",
   "execution_count": null,
   "metadata": {
    "collapsed": true
   },
   "outputs": [],
   "source": [
    "from scipy import stats"
   ]
  },
  {
   "cell_type": "code",
   "execution_count": null,
   "metadata": {
    "collapsed": false
   },
   "outputs": [],
   "source": [
    "# Remove annoying NaN for the test\n",
    "df = snp_distances.dropna(axis=0, how='any')"
   ]
  },
  {
   "cell_type": "code",
   "execution_count": null,
   "metadata": {
    "collapsed": false
   },
   "outputs": [],
   "source": [
    "# t_critical, p_value = \n",
    "stats.ttest_ind(\n",
    "    df['mean_distance_galanter'].values,\n",
    "    df['mean_distance_present'].values, \n",
    ")"
   ]
  },
  {
   "cell_type": "markdown",
   "metadata": {},
   "source": [
    "### Graficar los cromosomas"
   ]
  },
  {
   "cell_type": "code",
   "execution_count": null,
   "metadata": {
    "collapsed": false
   },
   "outputs": [],
   "source": [
    "galanter_positions = galanter[['chr', 'position']]\n",
    "present_positions = present[['chr', 'position']]"
   ]
  },
  {
   "cell_type": "code",
   "execution_count": null,
   "metadata": {
    "collapsed": false
   },
   "outputs": [],
   "source": [
    "# Chromosomes\n",
    "ax = chr_lengths.plot(kind=\"barh\", width=0.50, figsize=(16, 20),\n",
    "                      color=\"b\", edgecolor=\"lightgray\", facecolor=\"snow\",\n",
    "                      linewidth=3, zorder=0, label=\"Cromosomas\")\n",
    "\n",
    "# Present AIMs\n",
    "ax.scatter(y=present.chr.values - 1, x=present.position.values, zorder=1,\n",
    "           marker=\"|\", color=\"seagreen\", linewidth=2, s=600,\n",
    "           label=\"Galanter AIMs presentes en LAT\")\n",
    "\n",
    "# Missing AIMs\n",
    "ax.scatter(y=missing.chr.values - 1, x=missing.position.values, \n",
    "           marker=\"s\", color=\"salmon\", alpha=1, linewidth=2, s=7,\n",
    "           label=\"Galanter AIMs ausentes en LAT\")\n",
    "\n",
    "ax.set_xlim([0, max_len * 1.05])\n",
    "\n",
    "ax.set_xlabel(\"Posición (Mb)\")\n",
    "ax.set_ylabel(\"Cromosoma\")\n",
    "\n",
    "yinterval = 10**7\n",
    "ax.set_xticks(np.arange(0, max_len + yinterval, yinterval) // 1)\n",
    "ax.set_xticklabels(np.arange(0, max_len + yinterval, yinterval) // 10**6)\n",
    "\n",
    "ax.legend()\n",
    "plt.show()\n",
    "\n",
    "# FIXME: bars legend"
   ]
  },
  {
   "cell_type": "markdown",
   "metadata": {},
   "source": [
    "### Diferenciar por población"
   ]
  },
  {
   "cell_type": "code",
   "execution_count": null,
   "metadata": {
    "collapsed": false
   },
   "outputs": [],
   "source": [
    "missing_AFR = missing[missing.population == \"AFR\"]\n",
    "missing_EUR = missing[missing.population == \"EUR\"]\n",
    "missing_NAM = missing[missing.population == \"NAM\"]\n",
    "print('{} AFR missing'.format(len(missing_AFR)))\n",
    "print('{} NAM missing'.format(len(missing_NAM)))\n",
    "print('{} EUR missing'.format(len(missing_EUR)))"
   ]
  },
  {
   "cell_type": "code",
   "execution_count": null,
   "metadata": {
    "collapsed": false
   },
   "outputs": [],
   "source": [
    "present_AFR = present[present.population == \"AFR\"]\n",
    "present_EUR = present[present.population == \"EUR\"]\n",
    "present_NAM = present[present.population == \"NAM\"]\n",
    "print('{} AFR present'.format(len(present_AFR)))\n",
    "print('{} NAM present'.format(len(present_NAM)))\n",
    "print('{} EUR present'.format(len(present_EUR)))"
   ]
  },
  {
   "cell_type": "code",
   "execution_count": null,
   "metadata": {
    "collapsed": false
   },
   "outputs": [],
   "source": [
    "# Chromosomes\n",
    "ax = chr_lengths.plot(kind=\"barh\", width=0.50, figsize=(16, 20),\n",
    "                      color=\"b\", edgecolor=\"lightgray\", facecolor=\"snow\",\n",
    "                      linewidth=3, zorder=0, label=\"Cromosomas\")\n",
    "\n",
    "# Present AIMs\n",
    "ax.scatter(y=present_AFR.chr.values - 1, x=present_AFR.position.values, zorder=1,\n",
    "           marker=\"|\", color=\"black\", linewidth=2, s=600,\n",
    "           label=\"Galanter AIMs presentes en LAT\")\n",
    "ax.scatter(y=present_EUR.chr.values - 1, x=present_EUR.position.values, zorder=1,\n",
    "           marker=\"|\", color=\"steelblue\", linewidth=2, s=600,\n",
    "           label=\"Galanter AIMs presentes en LAT\")\n",
    "ax.scatter(y=present_NAM.chr.values - 1, x=present_NAM.position.values, zorder=1,\n",
    "           marker=\"|\", color=\"chocolate\", linewidth=2, s=600,\n",
    "           label=\"Galanter AIMs presentes en LAT\")\n",
    "\n",
    "# Missing AIMs\n",
    "ax.scatter(y=missing.chr.values - 1, x=missing.position.values, \n",
    "           marker=\"s\", color=\"salmon\", alpha=1, linewidth=2, s=7,\n",
    "           label=\"Galanter AIMs ausentes en LAT\")\n",
    "\n",
    "ax.set_xlim([0, max_len * 1.05])\n",
    "\n",
    "ax.set_xlabel(\"Posición (Mb)\")\n",
    "ax.set_ylabel(\"Cromosoma\")\n",
    "\n",
    "yinterval = 10**7\n",
    "ax.set_xticks(np.arange(0, max_len + yinterval, yinterval) // 1)\n",
    "ax.set_xticklabels(np.arange(0, max_len + yinterval, yinterval) // 10**6)\n",
    "\n",
    "ax.invert_yaxis()\n",
    "ax.tick_params(labeltop=\"on\")\n",
    "\n",
    "ax.legend(prop={'size': 17}, loc=\"center right\")\n",
    "plt.show()\n",
    "\n",
    "# FIXME: bars legend"
   ]
  },
  {
   "cell_type": "markdown",
   "metadata": {},
   "source": [
    "**TODO**: Conseguir las longitudes cromosomales exactas, el #3 parece estar mal"
   ]
  },
  {
   "cell_type": "code",
   "execution_count": null,
   "metadata": {
    "collapsed": false
   },
   "outputs": [],
   "source": [
    "num_format(missing[missing.chr == 3].position.max())"
   ]
  },
  {
   "cell_type": "code",
   "execution_count": null,
   "metadata": {
    "collapsed": false
   },
   "outputs": [],
   "source": [
    "num_format(chr_lengths.loc[3, 'total_length'])"
   ]
  },
  {
   "cell_type": "markdown",
   "metadata": {},
   "source": [
    "**TODO**: Visualize with special software, tipo http://visualization.ritchielab.psu.edu/phenograms/examples"
   ]
  },
  {
   "cell_type": "markdown",
   "metadata": {},
   "source": [
    "## Diferenciar por población de referencia, present vs galanter"
   ]
  },
  {
   "cell_type": "code",
   "execution_count": null,
   "metadata": {
    "collapsed": false
   },
   "outputs": [],
   "source": [
    "galanter_population_ratios = galanter.population.value_counts() / \\\n",
    "                             galanter.population.count()\n",
    "galanter_population_ratios"
   ]
  },
  {
   "cell_type": "code",
   "execution_count": null,
   "metadata": {
    "collapsed": false
   },
   "outputs": [],
   "source": [
    "present_population_ratios = present.population.value_counts() / \\\n",
    "                            present.population.count()\n",
    "present_population_ratios    "
   ]
  },
  {
   "cell_type": "code",
   "execution_count": null,
   "metadata": {
    "collapsed": false
   },
   "outputs": [],
   "source": [
    "figure, axes = plt.subplots(1, 2)\n",
    "\n",
    "# RATIOS\n",
    "pop_ratios = pd.DataFrame({\n",
    "    'present_population_ratios': present_population_ratios,\n",
    "    'galanter_population_ratios': galanter_population_ratios\n",
    "})\n",
    "\n",
    "ax1 = pop_ratios.plot(ax=axes[0], kind=\"bar\", color=['steelblue', 'lightgreen'], rot=0)\n",
    "ax1.set_ylabel(\"Proporción\")\n",
    "ax1.set_xlabel(\"Población\")\n",
    "ax1.set_title(\"Proporción de AIMs de cada población\\nen $Galanter_{todos}$ vs. $Galanter_{LAT-1}$\",\n",
    "             y=1.025)\n",
    "ax1.set_ylim([0, 1])\n",
    "ax1.legend([\"$Galanter_{todos}$\", \"$Galanter_{LAT-1}$\"])\n",
    "\n",
    "annotations = annotate_bars(ax1, decimals=2, fontsize=12)\n",
    "\n",
    "# COUNTS\n",
    "pop_count = pd.DataFrame({\n",
    "    'present_by_population': present.population.value_counts(),\n",
    "    'missing_by_population': missing.population.value_counts(),\n",
    "#     'galanter_by_population': galanter.population.value_counts()\n",
    "})\n",
    "\n",
    "ax2 = pop_count.plot(ax=axes[1], kind=\"bar\", color=['tomato', 'lightgreen'], rot=0)\n",
    "ax2.set_ylabel(\"% de AIMs en cada panel\")\n",
    "ax2.set_xlabel(\"Población\")\n",
    "ax2.set_ylim([0, 150])\n",
    "ax2.set_title(\"Galanter AIMs presentes vs. ausentes\\nen LAT-1, por población\", y=1.025)\n",
    "ax2.legend([\"$Galanter_{\\sim LAT-1}$\", \"$Galanter_{LAT-1}$\"])\n",
    "\n",
    "annotations = annotate_bars(ax2, decimals=0)\n",
    "\n",
    "plt.show()"
   ]
  },
  {
   "cell_type": "markdown",
   "metadata": {},
   "source": [
    "### Discusión\n",
    "\n",
    "* Los AIMs de Galaner presentes en LAT-1 tienen proporciones poblacionales diferentes a las proporciones del total del panel. En $Galanter_{LAT-1}$\n",
    "    - la proporción de AFR es .08 mayor\n",
    "    - la proporción de EUR es .06 menor\n",
    "    - la proporción de NAM es .03 menor\n",
    "* Problema: El hecho de que nos quedemos con más AFR en proporción y menos EUR afectará la predición?"
   ]
  },
  {
   "cell_type": "markdown",
   "metadata": {},
   "source": [
    "**TODO**: mergear estos dos últimos gráficos o al menos ponerlos lado a lado en la misma figure"
   ]
  },
  {
   "cell_type": "markdown",
   "metadata": {
    "collapsed": true
   },
   "source": [
    "# Frecuencias poblacionales"
   ]
  },
  {
   "cell_type": "markdown",
   "metadata": {},
   "source": [
    "Download script:"
   ]
  },
  {
   "cell_type": "code",
   "execution_count": null,
   "metadata": {
    "collapsed": true
   },
   "outputs": [],
   "source": [
    "# %load /home/juan/tesina/1000genomes/ftp_download_1000_genomes.py"
   ]
  },
  {
   "cell_type": "markdown",
   "metadata": {},
   "source": [
    "Descomprimir cada \\*.vcf.gz con **`bgzip -d <vcf.gz file>`**"
   ]
  },
  {
   "cell_type": "markdown",
   "metadata": {},
   "source": [
    "### Extraer los AIMs de interés de los \\*.vcf de cromosomas completos"
   ]
  },
  {
   "cell_type": "code",
   "execution_count": null,
   "metadata": {
    "collapsed": false
   },
   "outputs": [],
   "source": [
    "from glob import glob\n",
    "import os\n",
    "\n",
    "def chr_file(chr):\n",
    "    return (\"ALL.chr{}.phase3_shapeit2_mvncall_integrated_v5a\"\n",
    "            \".20130502.genotypes.vcf.gz\".format(chr))\n",
    "\n",
    "def vcf_extract_command(chromosome):\n",
    "    command = (\"vcftools --gzvcf {chr_file} --snps {snps_file} \"\n",
    "               \"--recode --keep-INFO-all --out chr_{chr}_SNPs\")\n",
    "    return command.format(**{\n",
    "        'chr_file': chr_file(chromosome),\n",
    "#         'snps_file': \"galanter_snps_in_chr{}\".format(chromosome),\n",
    "        'snps_file': \"galanter_snps\",\n",
    "        'chr': chromosome\n",
    "    })\n",
    "\n",
    "os.chdir(\"/home/juan/tesina/1000genomes\")\n",
    "\n",
    "rs_IDs = galanter.index.values\n",
    "filename = \"galanter_snps\"\n",
    "with open(filename, \"w\") as f:\n",
    "    [f.write(rs + \"\\n\") for rs in rs_IDs]\n",
    "\n",
    "commands = []    \n",
    "for chromosome in galanter.chr.unique():\n",
    "#     filename = \"galanter_snps_in_chr{}\".format(chromosome)\n",
    "#     rs_IDs = galanter[galanter.chr == chromosome].index.values\n",
    "    commands.append(vcf_extract_command(chromosome))"
   ]
  },
  {
   "cell_type": "code",
   "execution_count": null,
   "metadata": {
    "collapsed": false
   },
   "outputs": [],
   "source": [
    "commands[0].split()"
   ]
  },
  {
   "cell_type": "code",
   "execution_count": null,
   "metadata": {
    "collapsed": false
   },
   "outputs": [],
   "source": [
    "print(\"\"\"\n",
    "    I used this cell to extract all Galanter SNPs from the huge compressed\n",
    "    *.vcf.gz files from 1000genomes. It was a one time run, unnecessary now.\n",
    "    The *.recode.* files are generated and then you use those.\n",
    "    Just keeping the code in case I need it again.\n",
    "\"\"\")\n",
    "\n",
    "# import subprocess\n",
    "\n",
    "# for command in commands:\n",
    "#     print(command)\n",
    "#     subprocess.call(command.split())  # WARNING: This takes a while"
   ]
  },
  {
   "cell_type": "markdown",
   "metadata": {},
   "source": [
    "## Leer el .vcf de cada AIM y obtener sus frecuencias"
   ]
  },
  {
   "cell_type": "markdown",
   "metadata": {},
   "source": [
    "### Población de cada muestra\n",
    "\n",
    "Ejemplo de la data de subpoblaciones que busco, para rs2585897:\n",
    "\n",
    "http://browser.1000genomes.org/Homo_sapiens/Variation/Population?db=core;r=13:21398479-21399479;v=rs2585897;vdb=variation;vf=2188197"
   ]
  },
  {
   "cell_type": "code",
   "execution_count": null,
   "metadata": {
    "collapsed": false
   },
   "outputs": [],
   "source": [
    "fn = \"/home/juan/tesina/1000genomes/integrated_call_samples_v3.20130502.ALL.panel\"\n",
    "samples = pd.read_table(fn)\n",
    "samples = samples.dropna(axis=1, how='all')\n",
    "samples = samples.rename(columns={'pop': 'population', 'super_pop': 'super_population'})\n",
    "samples = samples.set_index('sample')\n",
    "samples.head(1)"
   ]
  },
  {
   "cell_type": "markdown",
   "metadata": {},
   "source": [
    "### Leer los .vcf de 1000 genomas (filtrados por Galanter) "
   ]
  },
  {
   "cell_type": "code",
   "execution_count": null,
   "metadata": {
    "collapsed": false
   },
   "outputs": [],
   "source": [
    "# TODO: get this in a .py script!\n",
    "# https://pyvcf.readthedocs.org/en/latest/API.html#vcf-model-record\n",
    "\n",
    "import vcf\n",
    "import itertools\n",
    "\n",
    "\n",
    "def vcf_record_to_dict(record):\n",
    "    data = {}\n",
    "    attributes = ['ID', 'CHROM', 'POS', 'REF', 'ALT', 'QUAL',\n",
    "                  'FILTER', 'FORMAT', 'alleles', 'nucl_diversity',\n",
    "                  'call_rate', 'heterozygosity', 'is_transition',\n",
    "                  'var_subtype', 'var_type', 'samples']\n",
    "    data = dict([(key, getattr(record, key)) for key in attributes])\n",
    "    data['samples_genotypes'] = [(s.sample, s.gt_type) for s in data['samples']]\n",
    "    del(data['samples'])\n",
    "    data.update(record.INFO)  # record.INFO is already a dict\n",
    "    return data\n",
    "\n",
    "def vcf_to_dataframe(filename):\n",
    "    vcf_reader = vcf.Reader(open(filename, 'r'))\n",
    "    records = [vcf_record_to_dict(r) for r in vcf_reader]\n",
    "    df = pd.DataFrame(records)\n",
    "    df = df.set_index('ID')\n",
    "    return df\n",
    "\n",
    "def vcf_records(vcf_filename):\n",
    "    \"\"\"Returns a list of records read from a vcf filename\"\"\"\n",
    "    return list(vcf.Reader(open(vcf_filename, 'r')))\n",
    "\n",
    "# Gather all the .vcf Records from the files\n",
    "vcf_filenames = glob(\"chr_*recode*\")\n",
    "records = [vcf_records(vcf) for vcf in vcf_filenames]\n",
    "records = itertools.chain.from_iterable(records)  # Flattens the list of lists\n",
    "records_as_dictionaries = [vcf_record_to_dict(r) for r in records]\n",
    "\n",
    "df_1000genomes = pd.DataFrame(records_as_dictionaries).set_index('ID')\n",
    "df_1000genomes = df_1000genomes.dropna(axis=1)\n",
    "df_1000genomes = df_1000genomes.drop('FILTER', axis=1)\n",
    "\n",
    "# Remove unnecessary lists of one element\n",
    "for field_name, s in df_1000genomes.iteritems():\n",
    "    if not s.map(lambda e: type(e) == list).all():\n",
    "        continue\n",
    "    if all([len(e) == 0 for e in s]):\n",
    "#     if s.map(lambda e: len(e) == 0).all():\n",
    "        df_1000genomes.drop(field_name, axis=1)\n",
    "#     if s.map(lambda e: str(e).startswith('[')).all():\n",
    "    if all([type(e) == 'list' for e in s]):\n",
    "        df_1000genomes[field_name] = s.map(lambda e: e[0])\n",
    "\n",
    "df_1000genomes"
   ]
  },
  {
   "cell_type": "markdown",
   "metadata": {
    "collapsed": true
   },
   "source": [
    "### Convertir 'samples_genotypes' en frecuencias poblacionales!"
   ]
  },
  {
   "cell_type": "code",
   "execution_count": null,
   "metadata": {
    "collapsed": false
   },
   "outputs": [],
   "source": [
    "genotypes = df_1000genomes['samples_genotypes']\n",
    "genotypes.head(2)"
   ]
  },
  {
   "cell_type": "code",
   "execution_count": null,
   "metadata": {
    "collapsed": true
   },
   "outputs": [],
   "source": [
    "from collections import defaultdict, OrderedDict\n",
    "\n",
    "def snp_genotypes_to_allele_freqs(snp_genotypes):\n",
    "    \"\"\"Returns a dict with { population_1 : ref_allele_frequency,\n",
    "    population_2: ... }\"\"\"\n",
    "    \n",
    "    allele_count = defaultdict(lambda: [0, 0])\n",
    "    codes = {0: 'ref_homocygote', 1: 'heterocygote', 2: 'alt_homocygote'}\n",
    "    for sample_name, genotype_code in snp_genotypes:\n",
    "        population = samples.loc[sample_name].population\n",
    "        if codes[genotype_code] == 'ref_homocygote':\n",
    "            allele_count[population][0] += 2\n",
    "        elif codes[genotype_code] == 'heterocygote':\n",
    "            allele_count[population][0] += 1\n",
    "            allele_count[population][1] += 1\n",
    "        elif codes[genotype_code] == 'alt_homocygote':\n",
    "            allele_count[population][1] += 2\n",
    "\n",
    "    freq = {}\n",
    "    for population, (ref_allele_count, alt_allele_count) in allele_count.items():\n",
    "        total_alleles = ref_allele_count + alt_allele_count\n",
    "        freq[population] = round(ref_allele_count / total_alleles, 2)\n",
    "\n",
    "    return freq"
   ]
  },
  {
   "cell_type": "code",
   "execution_count": null,
   "metadata": {
    "collapsed": false
   },
   "outputs": [],
   "source": [
    "dump_filename = \"galanter_snps_frequencies_in_1000genomes.csv\"\n",
    "\n",
    "if os.path.isfile(dump_filename):\n",
    "    subpopulation_freqs = pd.read_csv(dump_filename, index_col='ID')\n",
    "else:\n",
    "    # This takes a while\n",
    "    freqs_as_dicts = genotypes.apply(snp_genotypes_to_allele_freqs)\n",
    "    subpopulation_freqs = pd.DataFrame(freqs_as_dicts.values.tolist(),\n",
    "                                       index=freqs_as_dicts.index)\n",
    "    subpopulation_freqs.to_csv(dump_filename)"
   ]
  },
  {
   "cell_type": "code",
   "execution_count": null,
   "metadata": {
    "collapsed": false
   },
   "outputs": [],
   "source": [
    "superpopulation_freqs = df_1000genomes.filter(regex=\"AF\")\n",
    "for field in superpopulation_freqs:\n",
    "    float_series = superpopulation_freqs[field].apply(lambda x: round(x[0],2))\n",
    "    superpopulation_freqs[field] = float_series"
   ]
  },
  {
   "cell_type": "code",
   "execution_count": null,
   "metadata": {
    "collapsed": false
   },
   "outputs": [],
   "source": [
    "frequencies_1000g = pd.concat([subpopulation_freqs, superpopulation_freqs], axis=1)\n",
    "frequencies_1000g = frequencies_1000g.rename(columns={\n",
    "    'AFR_AF': 'AFR', 'AMR_AF': 'AMR', 'EAS_AF': 'EAS',\n",
    "    'EUR_AF': 'EUR', 'SAS_AF': 'SAS'})"
   ]
  },
  {
   "cell_type": "markdown",
   "metadata": {},
   "source": [
    "# Comparar los dos dataframes: Galanter y 1000Genomes"
   ]
  },
  {
   "cell_type": "markdown",
   "metadata": {},
   "source": [
    "### Comparar SNPs"
   ]
  },
  {
   "cell_type": "code",
   "execution_count": null,
   "metadata": {
    "collapsed": false
   },
   "outputs": [],
   "source": [
    "print(len(df_1000genomes))\n",
    "print(len(galanter))"
   ]
  },
  {
   "cell_type": "markdown",
   "metadata": {},
   "source": [
    "TODO: Quién falta?"
   ]
  },
  {
   "cell_type": "markdown",
   "metadata": {},
   "source": [
    "### Chequear AF"
   ]
  },
  {
   "cell_type": "markdown",
   "metadata": {
    "collapsed": true
   },
   "source": [
    "### Ver qué subpoblaciones se van en $Galanter_{missing}$ y cuáles quedan"
   ]
  },
  {
   "cell_type": "code",
   "execution_count": null,
   "metadata": {
    "collapsed": false
   },
   "outputs": [],
   "source": [
    "dumpfile = \"population_names.csv\"\n",
    "\n",
    "if os.path.isfile(dumpfile):\n",
    "    population_names = pd.read_csv(dumpfile, index_col='Population Code')\n",
    "else:\n",
    "    url = \"http://www.1000genomes.org/category/frequently-asked-questions/population\"\n",
    "    df = pd.read_html(url)[0]  # First table in the page\n",
    "    df.columns = df.iloc[0]\n",
    "    df = df.iloc[1:, :3].set_index('Population Code')\n",
    "    df.to_csv(dumpfile)\n",
    "    population_names = df\n",
    "\n",
    "population_names.head(1)"
   ]
  },
  {
   "cell_type": "code",
   "execution_count": null,
   "metadata": {
    "collapsed": false
   },
   "outputs": [],
   "source": [
    "def whois(pop_code):\n",
    "    return population_names.loc[pop_code]['Population Description']"
   ]
  },
  {
   "cell_type": "code",
   "execution_count": null,
   "metadata": {
    "collapsed": false
   },
   "outputs": [],
   "source": [
    "whois('ACB')"
   ]
  },
  {
   "cell_type": "code",
   "execution_count": null,
   "metadata": {
    "collapsed": true
   },
   "outputs": [],
   "source": [
    "def plot_mean_freqs(df, title=\"\"):\n",
    "    df = df.join(frequencies_1000g).iloc[:, 4:].drop(['LSBL(Fst)', 'LSBL(In)'], axis=1)\n",
    "    ax = df.mean().plot(kind='bar', color='cornflowerblue', figsize=(18,6), width=0.75)\n",
    "    for bar in ax.patches[:3]:\n",
    "        bar.set_color('coral')\n",
    "    for bar in ax.patches[-6:]:\n",
    "        bar.set_color('coral')\n",
    "    ax.set_ylim(0,1)\n",
    "    ax.set_title(title)\n",
    "    ax.axhline(0.5, color='k', linestyle='--')\n",
    "    annotate_bars(ax, decimals=2, fontsize=10)\n",
    "    plt.show()"
   ]
  },
  {
   "cell_type": "code",
   "execution_count": null,
   "metadata": {
    "collapsed": false
   },
   "outputs": [],
   "source": [
    "plot_mean_freqs(missing, 'Promedio de frecuencias alélicas en $Galanter_{OUT}$, por población')"
   ]
  },
  {
   "cell_type": "code",
   "execution_count": null,
   "metadata": {
    "collapsed": false
   },
   "outputs": [],
   "source": [
    "plot_mean_freqs(galanter, 'Promedio de frecuencias alélicas en $Galanter_{total}$, por población')"
   ]
  },
  {
   "cell_type": "code",
   "execution_count": null,
   "metadata": {
    "collapsed": false
   },
   "outputs": [],
   "source": [
    "plot_mean_freqs(present, 'Promedio de frecuencias alélicas en $Galanter_{LAT-1}$, por población')"
   ]
  },
  {
   "cell_type": "markdown",
   "metadata": {},
   "source": [
    "#### t test para comparar las dos series"
   ]
  },
  {
   "cell_type": "code",
   "execution_count": null,
   "metadata": {
    "collapsed": false
   },
   "outputs": [],
   "source": [
    "extract_mean_freqs = lambda df: df.join(frequencies_1000g).iloc[:, 11:-6].mean()\n",
    "\n",
    "galanter_mean_frequencies = extract_mean_freqs(galanter)\n",
    "missing_mean_frequencies = extract_mean_freqs(missing)\n",
    "present_mean_frequencies = extract_mean_freqs(present)\n",
    "\n",
    "# t-test assumes equal variances between the two sets?\n",
    "\n",
    "print(galanter_mean_frequencies.var())\n",
    "print(missing_mean_frequencies.var())"
   ]
  },
  {
   "cell_type": "code",
   "execution_count": null,
   "metadata": {
    "collapsed": false
   },
   "outputs": [],
   "source": [
    "import scipy\n",
    "\n",
    "ntest, p_val = scipy.stats.mstats.normaltest(present_mean_frequencies)\n",
    "print(\"Galanter missing:\")\n",
    "m(\"$p = {}$\".format(round(p_val,3)))\n",
    "\n",
    "ntest, p_val = scipy.stats.mstats.normaltest(galanter_mean_frequencies)\n",
    "print(\"Galanter_total:\")\n",
    "m(\"$p = {}$\".format(round(p_val, 3)))"
   ]
  },
  {
   "cell_type": "markdown",
   "metadata": {},
   "source": [
    ">the farther away the observed or measured sample mean is from the hypothesized mean, the lower the probability (i.e., the p-value) that the null hypothesis is true.\n",
    "\n",
    "* $Galanter_{total}$ tiene un p-value bajo (0.01), de modo que la $H_0$ no parece verdadera. Es decir, $Galanter_{total}$ no estaría normalmente distribuido.\n",
    "* $Galanter_{missing}$, por otro lado, tiene un p-value más alto (0.10), pero no tanto, de modo que al menos con una confianza del 90% podemos decir que no está normalmente distribuido.\n",
    "* Lo que no entiendo del todo es qué implicaría que sí (o que no) esté normalmente distribuido para el panel de Galanter. La selección de SNPs no es azarosa, por qué habríamos de esperar eso?"
   ]
  },
  {
   "cell_type": "code",
   "execution_count": null,
   "metadata": {
    "collapsed": false
   },
   "outputs": [],
   "source": [
    "mu, sigma = 0, 1\n",
    "s = np.random.normal(mu, sigma, 10000)\n",
    "ntest, p_val = scipy.stats.mstats.normaltest(s)\n",
    "print(ntest, p_val)"
   ]
  },
  {
   "cell_type": "code",
   "execution_count": null,
   "metadata": {
    "collapsed": false
   },
   "outputs": [],
   "source": [
    "from scipy.stats import ttest_ind\n",
    "\n",
    "t_stat, p_val = ttest_ind(galanter_mean_frequencies, present_mean_frequencies)\n",
    "print(\"t = {}\".format(round(t_stat, 2)))\n",
    "print(\"p_value = {}\".format(round(p_val, 2)))"
   ]
  },
  {
   "cell_type": "code",
   "execution_count": null,
   "metadata": {
    "collapsed": false
   },
   "outputs": [],
   "source": [
    "ax = plt.subplot(111)\n",
    "ax.hist(galanter_mean_frequencies, 10, alpha=.6)\n",
    "ax.hist(missing_mean_frequencies, 20, alpha=.6)\n",
    "ax.legend([\"$Galanter_{total}$\", \"$Galanter_{LAT-1}$\"])\n",
    "plt.show()"
   ]
  },
  {
   "cell_type": "markdown",
   "metadata": {
    "collapsed": true
   },
   "source": [
    "### Discusión\n",
    "\n",
    "* El panel completo $Galanter_{total}$ está balanceado en cuanto a frecuencias alélicas por población: la mayoría se ubica en un promedio de alrededor de 0.57, para cada subpoblación, con un desvío muy bajo: 0.013.\n",
    "* Ninguna subpoblación parece haber sido afectada en particular por la subselección de SNPs. Todas las frecuencias alélicas se mantienen entre 0.5 y 0.6, rango que incluye también a todas las frecuencias por subpoblación del panel original.\n",
    "* El t-test ? Si la $H_0$ es que ambas medias son estadíticamente iguales, entonces se confirmó?"
   ]
  },
  {
   "cell_type": "markdown",
   "metadata": {},
   "source": [
    "### Comparar posiciones (Galanter las tiene diferentes?)"
   ]
  },
  {
   "cell_type": "code",
   "execution_count": null,
   "metadata": {
    "collapsed": false
   },
   "outputs": [],
   "source": [
    "positions = galanter[['chr', 'position']].join(df_1000genomes[['CHROM', 'POS']])\n",
    "positions.columns = ['chr_galanter', 'pos_galanter', 'chr_1000g', 'pos_1000g']\n",
    "positions.head(1)"
   ]
  },
  {
   "cell_type": "code",
   "execution_count": null,
   "metadata": {
    "collapsed": true
   },
   "outputs": [],
   "source": [
    "positions['pos_diff'] = positions['pos_galanter'] - positions['pos_1000g']"
   ]
  },
  {
   "cell_type": "code",
   "execution_count": null,
   "metadata": {
    "collapsed": false
   },
   "outputs": [],
   "source": [
    "positions.head()"
   ]
  },
  {
   "cell_type": "code",
   "execution_count": null,
   "metadata": {
    "collapsed": false
   },
   "outputs": [],
   "source": [
    "galanter_heter = galanter.join(df_1000genomes, rsuffix='_').heterozygosity\n",
    "missing_heter = missing.join(df_1000genomes, rsuffix='_').heterozygosity\n",
    "\n",
    "ax = plt.subplot(111)\n",
    "ax.boxplot([galanter_heter, missing_heter])\n",
    "ax.set_xticklabels([\n",
    "    '$Galanter_{total}$',\n",
    "    '$Galanetr_{LAT-1}$',\n",
    "])\n",
    "plt.show()"
   ]
  },
  {
   "cell_type": "code",
   "execution_count": null,
   "metadata": {
    "collapsed": true
   },
   "outputs": [],
   "source": []
  },
  {
   "cell_type": "code",
   "execution_count": null,
   "metadata": {
    "collapsed": true
   },
   "outputs": [],
   "source": []
  },
  {
   "cell_type": "code",
   "execution_count": null,
   "metadata": {
    "collapsed": true
   },
   "outputs": [],
   "source": []
  },
  {
   "cell_type": "code",
   "execution_count": null,
   "metadata": {
    "collapsed": true
   },
   "outputs": [],
   "source": []
  },
  {
   "cell_type": "code",
   "execution_count": null,
   "metadata": {
    "collapsed": true
   },
   "outputs": [],
   "source": []
  },
  {
   "cell_type": "code",
   "execution_count": null,
   "metadata": {
    "collapsed": true
   },
   "outputs": [],
   "source": []
  },
  {
   "cell_type": "code",
   "execution_count": null,
   "metadata": {
    "collapsed": true
   },
   "outputs": [],
   "source": []
  },
  {
   "cell_type": "code",
   "execution_count": null,
   "metadata": {
    "collapsed": true
   },
   "outputs": [],
   "source": []
  },
  {
   "cell_type": "code",
   "execution_count": null,
   "metadata": {
    "collapsed": true
   },
   "outputs": [],
   "source": []
  },
  {
   "cell_type": "code",
   "execution_count": null,
   "metadata": {
    "collapsed": true
   },
   "outputs": [],
   "source": []
  },
  {
   "cell_type": "code",
   "execution_count": null,
   "metadata": {
    "collapsed": true
   },
   "outputs": [],
   "source": []
  },
  {
   "cell_type": "code",
   "execution_count": null,
   "metadata": {
    "collapsed": true
   },
   "outputs": [],
   "source": []
  },
  {
   "cell_type": "code",
   "execution_count": null,
   "metadata": {
    "collapsed": true
   },
   "outputs": [],
   "source": []
  },
  {
   "cell_type": "code",
   "execution_count": null,
   "metadata": {
    "collapsed": true
   },
   "outputs": [],
   "source": []
  },
  {
   "cell_type": "code",
   "execution_count": null,
   "metadata": {
    "collapsed": true
   },
   "outputs": [],
   "source": []
  },
  {
   "cell_type": "code",
   "execution_count": null,
   "metadata": {
    "collapsed": true
   },
   "outputs": [],
   "source": []
  },
  {
   "cell_type": "code",
   "execution_count": null,
   "metadata": {
    "collapsed": true
   },
   "outputs": [],
   "source": []
  },
  {
   "cell_type": "code",
   "execution_count": null,
   "metadata": {
    "collapsed": true
   },
   "outputs": [],
   "source": []
  },
  {
   "cell_type": "code",
   "execution_count": null,
   "metadata": {
    "collapsed": true
   },
   "outputs": [],
   "source": []
  },
  {
   "cell_type": "code",
   "execution_count": null,
   "metadata": {
    "collapsed": true
   },
   "outputs": [],
   "source": []
  },
  {
   "cell_type": "code",
   "execution_count": null,
   "metadata": {
    "collapsed": true
   },
   "outputs": [],
   "source": []
  },
  {
   "cell_type": "code",
   "execution_count": null,
   "metadata": {
    "collapsed": true
   },
   "outputs": [],
   "source": []
  }
 ],
 "metadata": {
  "kernelspec": {
   "display_name": "Python 3",
   "language": "python",
   "name": "python3"
  },
  "language_info": {
   "codemirror_mode": {
    "name": "ipython",
    "version": 3
   },
   "file_extension": ".py",
   "mimetype": "text/x-python",
   "name": "python",
   "nbconvert_exporter": "python",
   "pygments_lexer": "ipython3",
   "version": "3.4.0"
  }
 },
 "nbformat": 4,
 "nbformat_minor": 0
}
