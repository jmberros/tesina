{
 "cells": [
  {
   "cell_type": "markdown",
   "metadata": {},
   "source": [
    "# General settings and loading of files"
   ]
  },
  {
   "cell_type": "code",
   "execution_count": 72,
   "metadata": {
    "collapsed": false
   },
   "outputs": [],
   "source": [
    "import numpy as np\n",
    "import matplotlib as mpl\n",
    "import matplotlib.pyplot as plt\n",
    "import pandas as pd\n",
    "import scipy as sp\n",
    "\n",
    "from IPython.display import display, Math, Latex\n",
    "from matplotlib import cm\n",
    "\n",
    "%matplotlib inline\n",
    "\n",
    "pd.options.display.max_columns = 40  # Affy csv has 30 fields\n",
    "pd.options.display.mpl_style = 'default'\n",
    "\n",
    "mpl.rc('figure', figsize=(13, 7))\n",
    "mpl.rc('axes', titlesize=17, labelsize=14)\n",
    "mpl.rc('xtick', labelsize=11)\n",
    "mpl.rc('ytick', labelsize=11)\n",
    "mpl.rc('font', family='serif')\n",
    "mpl.rc('legend', fontsize=15)"
   ]
  },
  {
   "cell_type": "code",
   "execution_count": 73,
   "metadata": {
    "collapsed": true
   },
   "outputs": [],
   "source": [
    "%run helpers/data_munging_functions.py\n",
    "%run helpers/number_helpers.py"
   ]
  },
  {
   "cell_type": "markdown",
   "metadata": {},
   "source": [
    "# Leer LAT-1 y discriminar Galanter Present vs. Missing"
   ]
  },
  {
   "cell_type": "code",
   "execution_count": 74,
   "metadata": {
    "collapsed": true
   },
   "outputs": [],
   "source": [
    "GALANTER_CSV = '~/tesina/galanter_SNPs.csv'\n",
    "\n",
    "LAT1_CSV = '~/tesina/affy-LAT1/Axiom_GW_LAT.na35.annot.csv'  # 1.1Gb file!\n",
    "\n",
    "# Smaller file for testing:\n",
    "# LAT1_CSV_SMALL = \"affy-LAT1/Axiom_GW_LAT.na35.annot.TRUNCATED.csv\"\n",
    "\n",
    "CHR_LENGTHS = '~/tesina/chr_len.csv'"
   ]
  },
  {
   "cell_type": "code",
   "execution_count": 75,
   "metadata": {
    "collapsed": false
   },
   "outputs": [],
   "source": [
    "%run discriminate_present_vs_missing.py\n",
    "\n",
    "galanter, present, missing = discriminate_present_vs_missing(\n",
    "    GALANTER_CSV, LAT1_CSV, dumpdir=\"dumpfiles\")"
   ]
  },
  {
   "cell_type": "code",
   "execution_count": 76,
   "metadata": {
    "collapsed": false
   },
   "outputs": [
    {
     "name": "stdout",
     "output_type": "stream",
     "text": [
      "446 Galanter AIMs\n",
      "180 present in LAT\n",
      "266 missing in LAT\n"
     ]
    }
   ],
   "source": [
    "print(\"{} Galanter AIMs\".format(len(galanter)))\n",
    "print(\"{} present in LAT\".format(len(present)))\n",
    "print(\"{} missing in LAT\".format(len(missing)))"
   ]
  },
  {
   "cell_type": "code",
   "execution_count": 77,
   "metadata": {
    "collapsed": false
   },
   "outputs": [
    {
     "data": {
      "text/plain": [
       "chr                   3\n",
       "position      199228595\n",
       "A1                    G\n",
       "A2                    A\n",
       "NAM_AF            0.011\n",
       "EUR_AF             0.23\n",
       "AFR_AF            0.922\n",
       "population          AFR\n",
       "LSBL(Fst)         0.606\n",
       "LSBL(In)          0.365\n",
       "Name: rs13327370, dtype: object"
      ]
     },
     "execution_count": 77,
     "metadata": {},
     "output_type": "execute_result"
    }
   ],
   "source": [
    "galanter.loc['rs13327370']"
   ]
  },
  {
   "cell_type": "code",
   "execution_count": 78,
   "metadata": {
    "collapsed": false
   },
   "outputs": [],
   "source": [
    "%run chromosome_lenghts.py\n",
    "\n",
    "chr_lengths = read_chr_lengths(CHR_LENGTHS)\n",
    "max_len = chr_lengths.total_length.max()"
   ]
  },
  {
   "cell_type": "markdown",
   "metadata": {},
   "source": [
    "### Distancias entre los AIMs por cromosoma"
   ]
  },
  {
   "cell_type": "code",
   "execution_count": 79,
   "metadata": {
    "collapsed": false
   },
   "outputs": [
    {
     "data": {
      "text/plain": [
       "total_length    198295559\n",
       "Name: 3, dtype: int64"
      ]
     },
     "execution_count": 79,
     "metadata": {},
     "output_type": "execute_result"
    }
   ],
   "source": [
    "chr_lengths.loc[3]"
   ]
  },
  {
   "cell_type": "code",
   "execution_count": 80,
   "metadata": {
    "collapsed": false
   },
   "outputs": [
    {
     "data": {
      "text/html": [
       "<div>\n",
       "<table border=\"1\" class=\"dataframe\">\n",
       "  <thead>\n",
       "    <tr style=\"text-align: right;\">\n",
       "      <th></th>\n",
       "      <th>chr</th>\n",
       "      <th>position</th>\n",
       "      <th>A1</th>\n",
       "      <th>A2</th>\n",
       "      <th>NAM_AF</th>\n",
       "      <th>EUR_AF</th>\n",
       "      <th>AFR_AF</th>\n",
       "      <th>population</th>\n",
       "      <th>LSBL(Fst)</th>\n",
       "      <th>LSBL(In)</th>\n",
       "    </tr>\n",
       "    <tr>\n",
       "      <th>SNP rsID</th>\n",
       "      <th></th>\n",
       "      <th></th>\n",
       "      <th></th>\n",
       "      <th></th>\n",
       "      <th></th>\n",
       "      <th></th>\n",
       "      <th></th>\n",
       "      <th></th>\n",
       "      <th></th>\n",
       "      <th></th>\n",
       "    </tr>\n",
       "  </thead>\n",
       "  <tbody>\n",
       "    <tr>\n",
       "      <th>rs13327370</th>\n",
       "      <td>3</td>\n",
       "      <td>199228595</td>\n",
       "      <td>G</td>\n",
       "      <td>A</td>\n",
       "      <td>0.011</td>\n",
       "      <td>0.23</td>\n",
       "      <td>0.922</td>\n",
       "      <td>AFR</td>\n",
       "      <td>0.606</td>\n",
       "      <td>0.365</td>\n",
       "    </tr>\n",
       "  </tbody>\n",
       "</table>\n",
       "</div>"
      ],
      "text/plain": [
       "            chr   position A1 A2  NAM_AF  EUR_AF  AFR_AF population  \\\n",
       "SNP rsID                                                              \n",
       "rs13327370    3  199228595  G  A   0.011    0.23   0.922        AFR   \n",
       "\n",
       "            LSBL(Fst)  LSBL(In)  \n",
       "SNP rsID                         \n",
       "rs13327370      0.606     0.365  "
      ]
     },
     "execution_count": 80,
     "metadata": {},
     "output_type": "execute_result"
    }
   ],
   "source": [
    "galanter[galanter.chr == 3][galanter.position > chr_lengths.loc[3].total_length]"
   ]
  },
  {
   "cell_type": "code",
   "execution_count": 99,
   "metadata": {
    "collapsed": false
   },
   "outputs": [
    {
     "data": {
      "image/png": "[encoded data removed]",
      "text/plain": [
       "<matplotlib.figure.Figure at 0x7f13482d6128>"
      ]
     },
     "metadata": {},
     "output_type": "display_data"
    }
   ],
   "source": [
    "% run data_munging/distances_between_AIMs.py\n",
    "% run SNP_distances_plots.py\n",
    "\n",
    "galanter_vs_present_mean_distance_plot(galanter, present)\n",
    "plt.show()"
   ]
  },
  {
   "cell_type": "markdown",
   "metadata": {},
   "source": [
    "#### Discusión\n",
    "\n",
    "* Las distancias medias son mucho mayores en $Galanter_{LAT}$ que en $Galanter_{all}$. En casos extremos, llega a más de 20 Mpb promedio entre AIMs, cuando esas distancias promedio no superan los 8 Mpb en el panel original."
   ]
  },
  {
   "cell_type": "code",
   "execution_count": 115,
   "metadata": {
    "collapsed": false
   },
   "outputs": [
    {
     "data": {
      "image/png": "[encoded data removed]",
      "text/plain": [
       "<matplotlib.figure.Figure at 0x7f134259a940>"
      ]
     },
     "metadata": {},
     "output_type": "display_data"
    }
   ],
   "source": [
    "% run data_munging/distances_between_AIMs.py\n",
    "% run SNP_distances_plots.py\n",
    "\n",
    "galanter_vs_present_median_distance_plot(galanter, present)\n",
    "plt.show()"
   ]
  },
  {
   "cell_type": "markdown",
   "metadata": {},
   "source": [
    "### Discusión\n",
    "\n",
    "__Nota__: hay un solo AIM en Galanter para el cromosoma 19, de modo que no se grafican distancias.\n",
    "\n",
    "* En algunos casos extremos, hay hasta 1.4 Mpb (cromosoma 1) y 1 Mpb (cromosoma 8) de distancia entre dos AIMs contiguos."
   ]
  },
  {
   "cell_type": "code",
   "execution_count": 157,
   "metadata": {
    "collapsed": false
   },
   "outputs": [
    {
     "data": {
      "image/png": "[encoded data removed]",
      "text/plain": [
       "<matplotlib.figure.Figure at 0x7f1341aaa160>"
      ]
     },
     "metadata": {},
     "output_type": "display_data"
    }
   ],
   "source": [
    "% run data_munging/distances_between_AIMs.py\n",
    "% run SNP_distances_plots.py\n",
    "\n",
    "ax1 = plt.subplot(211)\n",
    "ax1 = distances_boxplot(present, ax=ax1, showfliers=False, showmeans=False,\n",
    "                        title=r\"Distancia entre AIMs en $Galanter_{LAT}$\")\n",
    "\n",
    "ax2 = plt.subplot(212, sharey=ax1)\n",
    "ax2 = distances_boxplot(galanter, ax=ax2, showfliers=False, showmeans=False,\n",
    "                        title=r\"Distancia entre AIMs en $Galanter_{total}$\")\n",
    "\n",
    "f = ax2.figure\n",
    "f.set_figheight(17)\n",
    "f.set_figwidth(16)\n",
    "\n",
    "plt.show()"
   ]
  },
  {
   "cell_type": "markdown",
   "metadata": {},
   "source": [
    "**NOTA**: Con los outliers (`showfliers=True`) la diferencia se agranda aún más."
   ]
  },
  {
   "cell_type": "markdown",
   "metadata": {},
   "source": [
    "\n",
    "### Test para ver si es significativa la diferencia en distribuciones"
   ]
  },
  {
   "cell_type": "code",
   "execution_count": null,
   "metadata": {
    "collapsed": true
   },
   "outputs": [],
   "source": [
    "from scipy import stats"
   ]
  },
  {
   "cell_type": "code",
   "execution_count": null,
   "metadata": {
    "collapsed": false
   },
   "outputs": [],
   "source": [
    "# Remove annoying NaN for the test\n",
    "df = snp_distances.dropna(axis=0, how='any')"
   ]
  },
  {
   "cell_type": "code",
   "execution_count": null,
   "metadata": {
    "collapsed": false
   },
   "outputs": [],
   "source": [
    "# t_critical, p_value = \n",
    "stats.ttest_ind(\n",
    "    df['mean_distance_galanter'].values,\n",
    "    df['mean_distance_present'].values, \n",
    ")"
   ]
  },
  {
   "cell_type": "markdown",
   "metadata": {},
   "source": [
    "### Graficar los cromosomas"
   ]
  },
  {
   "cell_type": "code",
   "execution_count": null,
   "metadata": {
    "collapsed": false
   },
   "outputs": [],
   "source": [
    "galanter_positions = galanter[['chr', 'position']]\n",
    "present_positions = present[['chr', 'position']]"
   ]
  },
  {
   "cell_type": "code",
   "execution_count": null,
   "metadata": {
    "collapsed": false
   },
   "outputs": [],
   "source": [
    "# Chromosomes\n",
    "ax = chr_lengths.plot(kind=\"barh\", width=0.50, figsize=(16, 20),\n",
    "                      color=\"b\", edgecolor=\"lightgray\", facecolor=\"snow\",\n",
    "                      linewidth=3, zorder=0, label=\"Cromosomas\")\n",
    "\n",
    "# Present AIMs\n",
    "ax.scatter(y=present.chr.values - 1, x=present.position.values, zorder=1,\n",
    "           marker=\"|\", color=\"seagreen\", linewidth=2, s=600,\n",
    "           label=\"Galanter AIMs presentes en LAT\")\n",
    "\n",
    "# Missing AIMs\n",
    "ax.scatter(y=missing.chr.values - 1, x=missing.position.values, \n",
    "           marker=\"s\", color=\"salmon\", alpha=1, linewidth=2, s=7,\n",
    "           label=\"Galanter AIMs ausentes en LAT\")\n",
    "\n",
    "ax.set_xlim([0, max_len * 1.05])\n",
    "\n",
    "ax.set_xlabel(\"Posición (Mb)\")\n",
    "ax.set_ylabel(\"Cromosoma\")\n",
    "\n",
    "yinterval = 10**7\n",
    "ax.set_xticks(np.arange(0, max_len + yinterval, yinterval) // 1)\n",
    "ax.set_xticklabels(np.arange(0, max_len + yinterval, yinterval) // 10**6)\n",
    "\n",
    "ax.legend()\n",
    "plt.show()\n",
    "\n",
    "# FIXME: bars legend"
   ]
  },
  {
   "cell_type": "markdown",
   "metadata": {},
   "source": [
    "### Diferenciar por población"
   ]
  },
  {
   "cell_type": "code",
   "execution_count": null,
   "metadata": {
    "collapsed": false
   },
   "outputs": [],
   "source": [
    "missing_AFR = missing[missing.population == \"AFR\"]\n",
    "missing_EUR = missing[missing.population == \"EUR\"]\n",
    "missing_NAM = missing[missing.population == \"NAM\"]\n",
    "print('{} AFR missing'.format(len(missing_AFR)))\n",
    "print('{} NAM missing'.format(len(missing_NAM)))\n",
    "print('{} EUR missing'.format(len(missing_EUR)))"
   ]
  },
  {
   "cell_type": "code",
   "execution_count": null,
   "metadata": {
    "collapsed": false
   },
   "outputs": [],
   "source": [
    "present_AFR = present[present.population == \"AFR\"]\n",
    "present_EUR = present[present.population == \"EUR\"]\n",
    "present_NAM = present[present.population == \"NAM\"]\n",
    "print('{} AFR present'.format(len(present_AFR)))\n",
    "print('{} NAM present'.format(len(present_NAM)))\n",
    "print('{} EUR present'.format(len(present_EUR)))"
   ]
  },
  {
   "cell_type": "code",
   "execution_count": null,
   "metadata": {
    "collapsed": false
   },
   "outputs": [],
   "source": [
    "# Chromosomes\n",
    "ax = chr_lengths.plot(kind=\"barh\", width=0.50, figsize=(16, 20),\n",
    "                      color=\"b\", edgecolor=\"lightgray\", facecolor=\"snow\",\n",
    "                      linewidth=3, zorder=0, label=\"Cromosomas\")\n",
    "\n",
    "# Present AIMs\n",
    "ax.scatter(y=present_AFR.chr.values - 1, x=present_AFR.position.values, zorder=1,\n",
    "           marker=\"|\", color=\"black\", linewidth=2, s=600,\n",
    "           label=\"Galanter AIMs presentes en LAT\")\n",
    "ax.scatter(y=present_EUR.chr.values - 1, x=present_EUR.position.values, zorder=1,\n",
    "           marker=\"|\", color=\"steelblue\", linewidth=2, s=600,\n",
    "           label=\"Galanter AIMs presentes en LAT\")\n",
    "ax.scatter(y=present_NAM.chr.values - 1, x=present_NAM.position.values, zorder=1,\n",
    "           marker=\"|\", color=\"chocolate\", linewidth=2, s=600,\n",
    "           label=\"Galanter AIMs presentes en LAT\")\n",
    "\n",
    "# Missing AIMs\n",
    "ax.scatter(y=missing.chr.values - 1, x=missing.position.values, \n",
    "           marker=\"s\", color=\"salmon\", alpha=1, linewidth=2, s=7,\n",
    "           label=\"Galanter AIMs ausentes en LAT\")\n",
    "\n",
    "ax.set_xlim([0, max_len * 1.05])\n",
    "\n",
    "ax.set_xlabel(\"Posición (Mb)\")\n",
    "ax.set_ylabel(\"Cromosoma\")\n",
    "\n",
    "yinterval = 10**7\n",
    "ax.set_xticks(np.arange(0, max_len + yinterval, yinterval) // 1)\n",
    "ax.set_xticklabels(np.arange(0, max_len + yinterval, yinterval) // 10**6)\n",
    "\n",
    "ax.invert_yaxis()\n",
    "ax.tick_params(labeltop=\"on\")\n",
    "\n",
    "ax.legend(prop={'size': 17}, loc=\"center right\")\n",
    "plt.show()\n",
    "\n",
    "# FIXME: bars legend"
   ]
  },
  {
   "cell_type": "markdown",
   "metadata": {},
   "source": [
    "**TODO**: Conseguir las longitudes cromosomales exactas, el #3 parece estar mal"
   ]
  },
  {
   "cell_type": "code",
   "execution_count": null,
   "metadata": {
    "collapsed": false
   },
   "outputs": [],
   "source": [
    "num_format(missing[missing.chr == 3].position.max())"
   ]
  },
  {
   "cell_type": "code",
   "execution_count": null,
   "metadata": {
    "collapsed": false
   },
   "outputs": [],
   "source": [
    "num_format(chr_lengths.loc[3, 'total_length'])"
   ]
  },
  {
   "cell_type": "markdown",
   "metadata": {},
   "source": [
    "**TODO**: Visualize with special software, tipo http://visualization.ritchielab.psu.edu/phenograms/examples"
   ]
  },
  {
   "cell_type": "markdown",
   "metadata": {},
   "source": [
    "## Diferenciar por población de referencia, present vs galanter"
   ]
  },
  {
   "cell_type": "code",
   "execution_count": null,
   "metadata": {
    "collapsed": false
   },
   "outputs": [],
   "source": [
    "galanter_population_ratios = galanter.population.value_counts() / \\\n",
    "                             galanter.population.count()\n",
    "galanter_population_ratios"
   ]
  },
  {
   "cell_type": "code",
   "execution_count": null,
   "metadata": {
    "collapsed": false
   },
   "outputs": [],
   "source": [
    "present_population_ratios = present.population.value_counts() / \\\n",
    "                            present.population.count()\n",
    "present_population_ratios    "
   ]
  },
  {
   "cell_type": "code",
   "execution_count": null,
   "metadata": {
    "collapsed": false
   },
   "outputs": [],
   "source": [
    "figure, axes = plt.subplots(1, 2)\n",
    "\n",
    "# RATIOS\n",
    "pop_ratios = pd.DataFrame({\n",
    "    'present_population_ratios': present_population_ratios,\n",
    "    'galanter_population_ratios': galanter_population_ratios\n",
    "})\n",
    "\n",
    "ax1 = pop_ratios.plot(ax=axes[0], kind=\"bar\", color=['steelblue', 'lightgreen'], rot=0)\n",
    "ax1.set_ylabel(\"Proporción\")\n",
    "ax1.set_xlabel(\"Población\")\n",
    "ax1.set_title(\"Proporción de AIMs de cada población\\nen $Galanter_{todos}$ vs. $Galanter_{LAT-1}$\",\n",
    "             y=1.025)\n",
    "ax1.set_ylim([0, 1])\n",
    "ax1.legend([\"$Galanter_{todos}$\", \"$Galanter_{LAT-1}$\"])\n",
    "\n",
    "annotations = annotate_bars(ax1, decimals=2, fontsize=12)\n",
    "\n",
    "# COUNTS\n",
    "pop_count = pd.DataFrame({\n",
    "    'present_by_population': present.population.value_counts(),\n",
    "    'missing_by_population': missing.population.value_counts(),\n",
    "#     'galanter_by_population': galanter.population.value_counts()\n",
    "})\n",
    "\n",
    "ax2 = pop_count.plot(ax=axes[1], kind=\"bar\", color=['tomato', 'lightgreen'], rot=0)\n",
    "ax2.set_ylabel(\"% de AIMs en cada panel\")\n",
    "ax2.set_xlabel(\"Población\")\n",
    "ax2.set_ylim([0, 150])\n",
    "ax2.set_title(\"Galanter AIMs presentes vs. ausentes\\nen LAT-1, por población\", y=1.025)\n",
    "ax2.legend([\"$Galanter_{\\sim LAT-1}$\", \"$Galanter_{LAT-1}$\"])\n",
    "\n",
    "annotations = annotate_bars(ax2, decimals=0)\n",
    "\n",
    "plt.show()"
   ]
  },
  {
   "cell_type": "markdown",
   "metadata": {},
   "source": [
    "### Discusión\n",
    "\n",
    "* Los AIMs de Galaner presentes en LAT-1 tienen proporciones poblacionales diferentes a las proporciones del total del panel. En $Galanter_{LAT-1}$\n",
    "    - la proporción de AFR es .08 mayor\n",
    "    - la proporción de EUR es .06 menor\n",
    "    - la proporción de NAM es .03 menor\n",
    "* Problema: El hecho de que nos quedemos con más AFR en proporción y menos EUR afectará la predición?"
   ]
  },
  {
   "cell_type": "markdown",
   "metadata": {},
   "source": [
    "**TODO**: mergear estos dos últimos gráficos o al menos ponerlos lado a lado en la misma figure"
   ]
  },
  {
   "cell_type": "markdown",
   "metadata": {
    "collapsed": true
   },
   "source": [
    "# Datos de 1000 genomas"
   ]
  },
  {
   "cell_type": "markdown",
   "metadata": {},
   "source": [
    "Download script:"
   ]
  },
  {
   "cell_type": "code",
   "execution_count": null,
   "metadata": {
    "collapsed": true
   },
   "outputs": [],
   "source": [
    "# %load /home/juan/tesina/1000genomes/ftp_download_1000_genomes.py"
   ]
  },
  {
   "cell_type": "markdown",
   "metadata": {},
   "source": [
    "Descomprimir cada \\*.vcf.gz con **`bgzip -d <vcf.gz file>`**"
   ]
  },
  {
   "cell_type": "markdown",
   "metadata": {},
   "source": [
    "### Extraer los AIMs de interés de los \\*.vcf de cromosomas completos"
   ]
  },
  {
   "cell_type": "code",
   "execution_count": null,
   "metadata": {
    "collapsed": false
   },
   "outputs": [],
   "source": [
    "from glob import glob\n",
    "import os\n",
    "\n",
    "def chr_file(chr):\n",
    "    return (\"ALL.chr{}.phase3_shapeit2_mvncall_integrated_v5a\"\n",
    "            \".20130502.genotypes.vcf.gz\".format(chr))\n",
    "\n",
    "def vcf_extract_command(chromosome):\n",
    "    command = (\"vcftools --gzvcf {chr_file} --snps {snps_file} \"\n",
    "               \"--recode --keep-INFO-all --out chr_{chr}_SNPs\")\n",
    "    return command.format(**{\n",
    "        'chr_file': chr_file(chromosome),\n",
    "#         'snps_file': \"galanter_snps_in_chr{}\".format(chromosome),\n",
    "        'snps_file': \"galanter_snps\",\n",
    "        'chr': chromosome\n",
    "    })\n",
    "\n",
    "os.chdir(\"/home/juan/tesina/1000genomes\")\n",
    "\n",
    "rs_IDs = galanter.index.values\n",
    "filename = \"galanter_snps\"\n",
    "with open(filename, \"w\") as f:\n",
    "    [f.write(rs + \"\\n\") for rs in rs_IDs]\n",
    "\n",
    "commands = []    \n",
    "for chromosome in galanter.chr.unique():\n",
    "#     filename = \"galanter_snps_in_chr{}\".format(chromosome)\n",
    "#     rs_IDs = galanter[galanter.chr == chromosome].index.values\n",
    "    commands.append(vcf_extract_command(chromosome))"
   ]
  },
  {
   "cell_type": "code",
   "execution_count": null,
   "metadata": {
    "collapsed": false
   },
   "outputs": [],
   "source": [
    "commands[0].split()"
   ]
  },
  {
   "cell_type": "code",
   "execution_count": null,
   "metadata": {
    "collapsed": false
   },
   "outputs": [],
   "source": [
    "print(\"\"\"\n",
    "    I used this cell to extract all Galanter SNPs from the huge compressed\n",
    "    *.vcf.gz files from 1000genomes. It was a one time run, unnecessary now.\n",
    "    The *.recode.* files are generated and then you use those.\n",
    "    Just keeping the code in case I need it again.\n",
    "\"\"\")\n",
    "\n",
    "# import subprocess\n",
    "\n",
    "# for command in commands:\n",
    "#     print(command)\n",
    "#     subprocess.call(command.split())  # WARNING: This takes a while"
   ]
  },
  {
   "cell_type": "markdown",
   "metadata": {},
   "source": [
    "## Leer el .vcf de cada AIM y obtener sus frecuencias"
   ]
  },
  {
   "cell_type": "markdown",
   "metadata": {},
   "source": [
    "### Población de cada muestra\n",
    "\n",
    "Ejemplo de la data de subpoblaciones que busco, para rs2585897:\n",
    "\n",
    "http://browser.1000genomes.org/Homo_sapiens/Variation/Population?db=core;r=13:21398479-21399479;v=rs2585897;vdb=variation;vf=2188197"
   ]
  },
  {
   "cell_type": "code",
   "execution_count": 134,
   "metadata": {
    "collapsed": false
   },
   "outputs": [],
   "source": [
    "fn = \"/home/juan/tesina/1000genomes/integrated_call_samples_v3.20130502.ALL.panel\"\n",
    "\n",
    "%run 1000genomes_data.py\n",
    "samples = create_populations_df(fn)"
   ]
  },
  {
   "cell_type": "markdown",
   "metadata": {},
   "source": [
    "### Leer los .vcf de 1000 genomas (filtrados por Galanter) "
   ]
  },
  {
   "cell_type": "code",
   "execution_count": 153,
   "metadata": {
    "collapsed": false
   },
   "outputs": [
    {
     "data": {
      "text/html": [
       "<div>\n",
       "<table border=\"1\" class=\"dataframe\">\n",
       "  <thead>\n",
       "    <tr style=\"text-align: right;\">\n",
       "      <th></th>\n",
       "      <th>AA</th>\n",
       "      <th>AC</th>\n",
       "      <th>AF</th>\n",
       "      <th>AFR_AF</th>\n",
       "      <th>ALT</th>\n",
       "      <th>AMR_AF</th>\n",
       "      <th>AN</th>\n",
       "      <th>CHROM</th>\n",
       "      <th>DP</th>\n",
       "      <th>EAS_AF</th>\n",
       "      <th>EUR_AF</th>\n",
       "      <th>FORMAT</th>\n",
       "      <th>NS</th>\n",
       "      <th>POS</th>\n",
       "      <th>QUAL</th>\n",
       "      <th>REF</th>\n",
       "      <th>SAS_AF</th>\n",
       "      <th>VT</th>\n",
       "      <th>alleles</th>\n",
       "      <th>call_rate</th>\n",
       "      <th>heterozygosity</th>\n",
       "      <th>is_transition</th>\n",
       "      <th>nucl_diversity</th>\n",
       "      <th>samples_genotypes</th>\n",
       "      <th>var_subtype</th>\n",
       "      <th>var_type</th>\n",
       "    </tr>\n",
       "    <tr>\n",
       "      <th>ID</th>\n",
       "      <th></th>\n",
       "      <th></th>\n",
       "      <th></th>\n",
       "      <th></th>\n",
       "      <th></th>\n",
       "      <th></th>\n",
       "      <th></th>\n",
       "      <th></th>\n",
       "      <th></th>\n",
       "      <th></th>\n",
       "      <th></th>\n",
       "      <th></th>\n",
       "      <th></th>\n",
       "      <th></th>\n",
       "      <th></th>\n",
       "      <th></th>\n",
       "      <th></th>\n",
       "      <th></th>\n",
       "      <th></th>\n",
       "      <th></th>\n",
       "      <th></th>\n",
       "      <th></th>\n",
       "      <th></th>\n",
       "      <th></th>\n",
       "      <th></th>\n",
       "      <th></th>\n",
       "    </tr>\n",
       "  </thead>\n",
       "  <tbody>\n",
       "    <tr>\n",
       "      <th>rs5748014</th>\n",
       "      <td>A|||</td>\n",
       "      <td>2680</td>\n",
       "      <td>0.535144</td>\n",
       "      <td>0.7504</td>\n",
       "      <td>A</td>\n",
       "      <td>0.5735</td>\n",
       "      <td>5008</td>\n",
       "      <td>22</td>\n",
       "      <td>14304</td>\n",
       "      <td>0.7123</td>\n",
       "      <td>0.2684</td>\n",
       "      <td>GT</td>\n",
       "      <td>2504</td>\n",
       "      <td>19148721</td>\n",
       "      <td>100</td>\n",
       "      <td>C</td>\n",
       "      <td>0.3088</td>\n",
       "      <td>SNP</td>\n",
       "      <td>[C, A]</td>\n",
       "      <td>1</td>\n",
       "      <td>0.497530</td>\n",
       "      <td>False</td>\n",
       "      <td>0.497629</td>\n",
       "      <td>[(HG00096, 1), (HG00097, 0), (HG00099, 2), (HG...</td>\n",
       "      <td>tv</td>\n",
       "      <td>snp</td>\n",
       "    </tr>\n",
       "    <tr>\n",
       "      <th>rs5754506</th>\n",
       "      <td>C|||</td>\n",
       "      <td>1388</td>\n",
       "      <td>0.277157</td>\n",
       "      <td>0.7935</td>\n",
       "      <td>C</td>\n",
       "      <td>0.1354</td>\n",
       "      <td>5008</td>\n",
       "      <td>22</td>\n",
       "      <td>20504</td>\n",
       "      <td>0.0308</td>\n",
       "      <td>0.1233</td>\n",
       "      <td>GT</td>\n",
       "      <td>2504</td>\n",
       "      <td>33683735</td>\n",
       "      <td>100</td>\n",
       "      <td>T</td>\n",
       "      <td>0.0920</td>\n",
       "      <td>SNP</td>\n",
       "      <td>[T, C]</td>\n",
       "      <td>1</td>\n",
       "      <td>0.400682</td>\n",
       "      <td>True</td>\n",
       "      <td>0.400762</td>\n",
       "      <td>[(HG00096, 0), (HG00097, 0), (HG00099, 0), (HG...</td>\n",
       "      <td>ts</td>\n",
       "      <td>snp</td>\n",
       "    </tr>\n",
       "    <tr>\n",
       "      <th>rs132663</th>\n",
       "      <td>A|||</td>\n",
       "      <td>2239</td>\n",
       "      <td>0.447085</td>\n",
       "      <td>0.1044</td>\n",
       "      <td>T</td>\n",
       "      <td>0.5764</td>\n",
       "      <td>5008</td>\n",
       "      <td>22</td>\n",
       "      <td>18180</td>\n",
       "      <td>0.8085</td>\n",
       "      <td>0.3579</td>\n",
       "      <td>GT</td>\n",
       "      <td>2504</td>\n",
       "      <td>36563024</td>\n",
       "      <td>100</td>\n",
       "      <td>A</td>\n",
       "      <td>0.5378</td>\n",
       "      <td>SNP</td>\n",
       "      <td>[A, T]</td>\n",
       "      <td>1</td>\n",
       "      <td>0.494400</td>\n",
       "      <td>False</td>\n",
       "      <td>0.494499</td>\n",
       "      <td>[(HG00096, 2), (HG00097, 1), (HG00099, 1), (HG...</td>\n",
       "      <td>tv</td>\n",
       "      <td>snp</td>\n",
       "    </tr>\n",
       "    <tr>\n",
       "      <th>rs5757362</th>\n",
       "      <td>C|||</td>\n",
       "      <td>3632</td>\n",
       "      <td>0.725240</td>\n",
       "      <td>0.9523</td>\n",
       "      <td>C</td>\n",
       "      <td>0.4164</td>\n",
       "      <td>5008</td>\n",
       "      <td>22</td>\n",
       "      <td>19141</td>\n",
       "      <td>0.8125</td>\n",
       "      <td>0.6243</td>\n",
       "      <td>GT</td>\n",
       "      <td>2504</td>\n",
       "      <td>39306080</td>\n",
       "      <td>100</td>\n",
       "      <td>T</td>\n",
       "      <td>0.6513</td>\n",
       "      <td>SNP</td>\n",
       "      <td>[T, C]</td>\n",
       "      <td>1</td>\n",
       "      <td>0.398534</td>\n",
       "      <td>True</td>\n",
       "      <td>0.398614</td>\n",
       "      <td>[(HG00096, 2), (HG00097, 2), (HG00099, 2), (HG...</td>\n",
       "      <td>ts</td>\n",
       "      <td>snp</td>\n",
       "    </tr>\n",
       "    <tr>\n",
       "      <th>rs470113</th>\n",
       "      <td>G|||</td>\n",
       "      <td>1047</td>\n",
       "      <td>0.209065</td>\n",
       "      <td>0.1248</td>\n",
       "      <td>G</td>\n",
       "      <td>0.4597</td>\n",
       "      <td>5008</td>\n",
       "      <td>22</td>\n",
       "      <td>22002</td>\n",
       "      <td>0.2679</td>\n",
       "      <td>0.1561</td>\n",
       "      <td>GT</td>\n",
       "      <td>2504</td>\n",
       "      <td>40729614</td>\n",
       "      <td>100</td>\n",
       "      <td>A</td>\n",
       "      <td>0.1391</td>\n",
       "      <td>SNP</td>\n",
       "      <td>[A, G]</td>\n",
       "      <td>1</td>\n",
       "      <td>0.330714</td>\n",
       "      <td>True</td>\n",
       "      <td>0.330780</td>\n",
       "      <td>[(HG00096, 0), (HG00097, 0), (HG00099, 0), (HG...</td>\n",
       "      <td>ts</td>\n",
       "      <td>snp</td>\n",
       "    </tr>\n",
       "    <tr>\n",
       "      <th>rs9611566</th>\n",
       "      <td>c|||</td>\n",
       "      <td>1122</td>\n",
       "      <td>0.224042</td>\n",
       "      <td>0.0530</td>\n",
       "      <td>T</td>\n",
       "      <td>0.5130</td>\n",
       "      <td>5008</td>\n",
       "      <td>22</td>\n",
       "      <td>18234</td>\n",
       "      <td>0.0754</td>\n",
       "      <td>0.2425</td>\n",
       "      <td>GT</td>\n",
       "      <td>2504</td>\n",
       "      <td>41768625</td>\n",
       "      <td>100</td>\n",
       "      <td>C</td>\n",
       "      <td>0.3845</td>\n",
       "      <td>SNP</td>\n",
       "      <td>[C, T]</td>\n",
       "      <td>1</td>\n",
       "      <td>0.347694</td>\n",
       "      <td>True</td>\n",
       "      <td>0.347763</td>\n",
       "      <td>[(HG00096, 1), (HG00097, 1), (HG00099, 0), (HG...</td>\n",
       "      <td>ts</td>\n",
       "      <td>snp</td>\n",
       "    </tr>\n",
       "    <tr>\n",
       "      <th>rs16990991</th>\n",
       "      <td>G|||</td>\n",
       "      <td>1427</td>\n",
       "      <td>0.284944</td>\n",
       "      <td>0.0439</td>\n",
       "      <td>A</td>\n",
       "      <td>0.4712</td>\n",
       "      <td>5008</td>\n",
       "      <td>22</td>\n",
       "      <td>17737</td>\n",
       "      <td>0.5744</td>\n",
       "      <td>0.2266</td>\n",
       "      <td>GT</td>\n",
       "      <td>2504</td>\n",
       "      <td>44167684</td>\n",
       "      <td>100</td>\n",
       "      <td>G</td>\n",
       "      <td>0.2403</td>\n",
       "      <td>SNP</td>\n",
       "      <td>[G, A]</td>\n",
       "      <td>1</td>\n",
       "      <td>0.407502</td>\n",
       "      <td>True</td>\n",
       "      <td>0.407583</td>\n",
       "      <td>[(HG00096, 1), (HG00097, 1), (HG00099, 0), (HG...</td>\n",
       "      <td>ts</td>\n",
       "      <td>snp</td>\n",
       "    </tr>\n",
       "    <tr>\n",
       "      <th>rs1557553</th>\n",
       "      <td>c|||</td>\n",
       "      <td>916</td>\n",
       "      <td>0.182907</td>\n",
       "      <td>0.0749</td>\n",
       "      <td>T</td>\n",
       "      <td>0.4280</td>\n",
       "      <td>5008</td>\n",
       "      <td>22</td>\n",
       "      <td>19211</td>\n",
       "      <td>0.2659</td>\n",
       "      <td>0.0924</td>\n",
       "      <td>GT</td>\n",
       "      <td>2504</td>\n",
       "      <td>44760984</td>\n",
       "      <td>100</td>\n",
       "      <td>C</td>\n",
       "      <td>0.1626</td>\n",
       "      <td>SNP</td>\n",
       "      <td>[C, T]</td>\n",
       "      <td>1</td>\n",
       "      <td>0.298905</td>\n",
       "      <td>True</td>\n",
       "      <td>0.298964</td>\n",
       "      <td>[(HG00096, 0), (HG00097, 0), (HG00099, 0), (HG...</td>\n",
       "      <td>ts</td>\n",
       "      <td>snp</td>\n",
       "    </tr>\n",
       "    <tr>\n",
       "      <th>rs801712</th>\n",
       "      <td>G|||</td>\n",
       "      <td>2061</td>\n",
       "      <td>0.411542</td>\n",
       "      <td>0.7489</td>\n",
       "      <td>G</td>\n",
       "      <td>0.5231</td>\n",
       "      <td>5008</td>\n",
       "      <td>22</td>\n",
       "      <td>19937</td>\n",
       "      <td>0.2619</td>\n",
       "      <td>0.2048</td>\n",
       "      <td>GT</td>\n",
       "      <td>2504</td>\n",
       "      <td>47090243</td>\n",
       "      <td>100</td>\n",
       "      <td>C</td>\n",
       "      <td>0.2434</td>\n",
       "      <td>SNP</td>\n",
       "      <td>[C, G]</td>\n",
       "      <td>1</td>\n",
       "      <td>0.484350</td>\n",
       "      <td>False</td>\n",
       "      <td>0.484447</td>\n",
       "      <td>[(HG00096, 0), (HG00097, 0), (HG00099, 1), (HG...</td>\n",
       "      <td>tv</td>\n",
       "      <td>snp</td>\n",
       "    </tr>\n",
       "  </tbody>\n",
       "</table>\n",
       "</div>"
      ],
      "text/plain": [
       "              AA    AC        AF  AFR_AF ALT  AMR_AF    AN CHROM     DP  \\\n",
       "ID                                                                        \n",
       "rs5748014   A|||  2680  0.535144  0.7504   A  0.5735  5008    22  14304   \n",
       "rs5754506   C|||  1388  0.277157  0.7935   C  0.1354  5008    22  20504   \n",
       "rs132663    A|||  2239  0.447085  0.1044   T  0.5764  5008    22  18180   \n",
       "rs5757362   C|||  3632  0.725240  0.9523   C  0.4164  5008    22  19141   \n",
       "rs470113    G|||  1047  0.209065  0.1248   G  0.4597  5008    22  22002   \n",
       "rs9611566   c|||  1122  0.224042  0.0530   T  0.5130  5008    22  18234   \n",
       "rs16990991  G|||  1427  0.284944  0.0439   A  0.4712  5008    22  17737   \n",
       "rs1557553   c|||   916  0.182907  0.0749   T  0.4280  5008    22  19211   \n",
       "rs801712    G|||  2061  0.411542  0.7489   G  0.5231  5008    22  19937   \n",
       "\n",
       "            EAS_AF  EUR_AF FORMAT    NS       POS  QUAL REF  SAS_AF   VT  \\\n",
       "ID                                                                         \n",
       "rs5748014   0.7123  0.2684     GT  2504  19148721   100   C  0.3088  SNP   \n",
       "rs5754506   0.0308  0.1233     GT  2504  33683735   100   T  0.0920  SNP   \n",
       "rs132663    0.8085  0.3579     GT  2504  36563024   100   A  0.5378  SNP   \n",
       "rs5757362   0.8125  0.6243     GT  2504  39306080   100   T  0.6513  SNP   \n",
       "rs470113    0.2679  0.1561     GT  2504  40729614   100   A  0.1391  SNP   \n",
       "rs9611566   0.0754  0.2425     GT  2504  41768625   100   C  0.3845  SNP   \n",
       "rs16990991  0.5744  0.2266     GT  2504  44167684   100   G  0.2403  SNP   \n",
       "rs1557553   0.2659  0.0924     GT  2504  44760984   100   C  0.1626  SNP   \n",
       "rs801712    0.2619  0.2048     GT  2504  47090243   100   C  0.2434  SNP   \n",
       "\n",
       "           alleles  call_rate  heterozygosity is_transition  nucl_diversity  \\\n",
       "ID                                                                            \n",
       "rs5748014   [C, A]          1        0.497530         False        0.497629   \n",
       "rs5754506   [T, C]          1        0.400682          True        0.400762   \n",
       "rs132663    [A, T]          1        0.494400         False        0.494499   \n",
       "rs5757362   [T, C]          1        0.398534          True        0.398614   \n",
       "rs470113    [A, G]          1        0.330714          True        0.330780   \n",
       "rs9611566   [C, T]          1        0.347694          True        0.347763   \n",
       "rs16990991  [G, A]          1        0.407502          True        0.407583   \n",
       "rs1557553   [C, T]          1        0.298905          True        0.298964   \n",
       "rs801712    [C, G]          1        0.484350         False        0.484447   \n",
       "\n",
       "                                            samples_genotypes var_subtype  \\\n",
       "ID                                                                          \n",
       "rs5748014   [(HG00096, 1), (HG00097, 0), (HG00099, 2), (HG...          tv   \n",
       "rs5754506   [(HG00096, 0), (HG00097, 0), (HG00099, 0), (HG...          ts   \n",
       "rs132663    [(HG00096, 2), (HG00097, 1), (HG00099, 1), (HG...          tv   \n",
       "rs5757362   [(HG00096, 2), (HG00097, 2), (HG00099, 2), (HG...          ts   \n",
       "rs470113    [(HG00096, 0), (HG00097, 0), (HG00099, 0), (HG...          ts   \n",
       "rs9611566   [(HG00096, 1), (HG00097, 1), (HG00099, 0), (HG...          ts   \n",
       "rs16990991  [(HG00096, 1), (HG00097, 1), (HG00099, 0), (HG...          ts   \n",
       "rs1557553   [(HG00096, 0), (HG00097, 0), (HG00099, 0), (HG...          ts   \n",
       "rs801712    [(HG00096, 0), (HG00097, 0), (HG00099, 1), (HG...          tv   \n",
       "\n",
       "           var_type  \n",
       "ID                   \n",
       "rs5748014       snp  \n",
       "rs5754506       snp  \n",
       "rs132663        snp  \n",
       "rs5757362       snp  \n",
       "rs470113        snp  \n",
       "rs9611566       snp  \n",
       "rs16990991      snp  \n",
       "rs1557553       snp  \n",
       "rs801712        snp  "
      ]
     },
     "execution_count": 153,
     "metadata": {},
     "output_type": "execute_result"
    }
   ],
   "source": [
    "# TODO: get this in a .py script!\n",
    "# https://pyvcf.readthedocs.org/en/latest/API.html#vcf-model-record\n",
    "\n",
    "\n",
    "%run 1000genomes_data.py\n",
    "vcf_filenames = glob(\"/home/juan/tesina/1000genomes/chr_22*recode*\")  # remove the 21\n",
    "df_1000genomes = create_1000genomes_df_from_vcf(vcf_filenames)\n",
    "df_1000genomes"
   ]
  },
  {
   "cell_type": "markdown",
   "metadata": {
    "collapsed": true
   },
   "source": [
    "### Convertir 'samples_genotypes' en frecuencias poblacionales!"
   ]
  },
  {
   "cell_type": "code",
   "execution_count": null,
   "metadata": {
    "collapsed": false
   },
   "outputs": [],
   "source": [
    "genotypes = df_1000genomes['samples_genotypes']\n",
    "genotypes.head(2)"
   ]
  },
  {
   "cell_type": "code",
   "execution_count": null,
   "metadata": {
    "collapsed": true
   },
   "outputs": [],
   "source": [
    "from collections import defaultdict, OrderedDict\n",
    "\n",
    "def snp_genotypes_to_allele_freqs(snp_genotypes):\n",
    "    \"\"\"Returns a dict with { population_1 : ref_allele_frequency,\n",
    "    population_2: ... }\"\"\"\n",
    "    \n",
    "    allele_count = defaultdict(lambda: [0, 0])\n",
    "    codes = {0: 'ref_homocygote', 1: 'heterocygote', 2: 'alt_homocygote'}\n",
    "    for sample_name, genotype_code in snp_genotypes:\n",
    "        population = samples.loc[sample_name].population\n",
    "        if codes[genotype_code] == 'ref_homocygote':\n",
    "            allele_count[population][0] += 2\n",
    "        elif codes[genotype_code] == 'heterocygote':\n",
    "            allele_count[population][0] += 1\n",
    "            allele_count[population][1] += 1\n",
    "        elif codes[genotype_code] == 'alt_homocygote':\n",
    "            allele_count[population][1] += 2\n",
    "\n",
    "    freq = {}\n",
    "    for population, (ref_allele_count, alt_allele_count) in allele_count.items():\n",
    "        total_alleles = ref_allele_count + alt_allele_count\n",
    "        freq[population] = round(ref_allele_count / total_alleles, 2)\n",
    "\n",
    "    return freq"
   ]
  },
  {
   "cell_type": "code",
   "execution_count": null,
   "metadata": {
    "collapsed": false
   },
   "outputs": [],
   "source": [
    "dump_filename = \"galanter_snps_frequencies_in_1000genomes.csv\"\n",
    "\n",
    "if os.path.isfile(dump_filename):\n",
    "    subpopulation_freqs = pd.read_csv(dump_filename, index_col='ID')\n",
    "else:\n",
    "    # This takes a while\n",
    "    freqs_as_dicts = genotypes.apply(snp_genotypes_to_allele_freqs)\n",
    "    subpopulation_freqs = pd.DataFrame(freqs_as_dicts.values.tolist(),\n",
    "                                       index=freqs_as_dicts.index)\n",
    "    subpopulation_freqs.to_csv(dump_filename)"
   ]
  },
  {
   "cell_type": "code",
   "execution_count": null,
   "metadata": {
    "collapsed": false
   },
   "outputs": [],
   "source": [
    "superpopulation_freqs = df_1000genomes.filter(regex=\"AF\")\n",
    "for field in superpopulation_freqs:\n",
    "    float_series = superpopulation_freqs[field].apply(lambda x: round(x[0],2))\n",
    "    superpopulation_freqs[field] = float_series"
   ]
  },
  {
   "cell_type": "code",
   "execution_count": null,
   "metadata": {
    "collapsed": false
   },
   "outputs": [],
   "source": [
    "frequencies_1000g = pd.concat([subpopulation_freqs, superpopulation_freqs], axis=1)\n",
    "frequencies_1000g = frequencies_1000g.rename(columns={\n",
    "    'AFR_AF': 'AFR', 'AMR_AF': 'AMR', 'EAS_AF': 'EAS',\n",
    "    'EUR_AF': 'EUR', 'SAS_AF': 'SAS'})"
   ]
  },
  {
   "cell_type": "markdown",
   "metadata": {},
   "source": [
    "# Comparar los dos dataframes: Galanter y 1000Genomes"
   ]
  },
  {
   "cell_type": "markdown",
   "metadata": {},
   "source": [
    "### Comparar SNPs"
   ]
  },
  {
   "cell_type": "code",
   "execution_count": null,
   "metadata": {
    "collapsed": false
   },
   "outputs": [],
   "source": [
    "print(len(df_1000genomes))\n",
    "print(len(galanter))"
   ]
  },
  {
   "cell_type": "markdown",
   "metadata": {},
   "source": [
    "TODO: Quién falta?"
   ]
  },
  {
   "cell_type": "markdown",
   "metadata": {},
   "source": [
    "### Chequear AF"
   ]
  },
  {
   "cell_type": "markdown",
   "metadata": {
    "collapsed": true
   },
   "source": [
    "### Ver qué subpoblaciones se van en $Galanter_{missing}$ y cuáles quedan"
   ]
  },
  {
   "cell_type": "code",
   "execution_count": null,
   "metadata": {
    "collapsed": false
   },
   "outputs": [],
   "source": [
    "dumpfile = \"population_names.csv\"\n",
    "\n",
    "if os.path.isfile(dumpfile):\n",
    "    population_names = pd.read_csv(dumpfile, index_col='Population Code')\n",
    "else:\n",
    "    url = \"http://www.1000genomes.org/category/frequently-asked-questions/population\"\n",
    "    df = pd.read_html(url)[0]  # First table in the page\n",
    "    df.columns = df.iloc[0]\n",
    "    df = df.iloc[1:, :3].set_index('Population Code')\n",
    "    df.to_csv(dumpfile)\n",
    "    population_names = df\n",
    "\n",
    "population_names.head(1)"
   ]
  },
  {
   "cell_type": "code",
   "execution_count": null,
   "metadata": {
    "collapsed": false
   },
   "outputs": [],
   "source": [
    "def whois(pop_code):\n",
    "    return population_names.loc[pop_code]['Population Description']"
   ]
  },
  {
   "cell_type": "code",
   "execution_count": null,
   "metadata": {
    "collapsed": false
   },
   "outputs": [],
   "source": [
    "whois('ACB')"
   ]
  },
  {
   "cell_type": "code",
   "execution_count": null,
   "metadata": {
    "collapsed": true
   },
   "outputs": [],
   "source": [
    "def plot_mean_freqs(df, title=\"\"):\n",
    "    df = df.join(frequencies_1000g).iloc[:, 4:].drop(['LSBL(Fst)', 'LSBL(In)'], axis=1)\n",
    "    ax = df.mean().plot(kind='bar', color='cornflowerblue', figsize=(18,6), width=0.75)\n",
    "    for bar in ax.patches[:3]:\n",
    "        bar.set_color('coral')\n",
    "    for bar in ax.patches[-6:]:\n",
    "        bar.set_color('coral')\n",
    "    ax.set_ylim(0,1)\n",
    "    ax.set_title(title)\n",
    "    ax.axhline(0.5, color='k', linestyle='--')\n",
    "    annotate_bars(ax, decimals=2, fontsize=10)\n",
    "    plt.show()"
   ]
  },
  {
   "cell_type": "code",
   "execution_count": null,
   "metadata": {
    "collapsed": false
   },
   "outputs": [],
   "source": [
    "plot_mean_freqs(missing, 'Promedio de frecuencias alélicas en $Galanter_{OUT}$, por población')"
   ]
  },
  {
   "cell_type": "code",
   "execution_count": null,
   "metadata": {
    "collapsed": false
   },
   "outputs": [],
   "source": [
    "plot_mean_freqs(galanter, 'Promedio de frecuencias alélicas en $Galanter_{total}$, por población')"
   ]
  },
  {
   "cell_type": "code",
   "execution_count": null,
   "metadata": {
    "collapsed": false
   },
   "outputs": [],
   "source": [
    "plot_mean_freqs(present, 'Promedio de frecuencias alélicas en $Galanter_{LAT-1}$, por población')"
   ]
  },
  {
   "cell_type": "markdown",
   "metadata": {},
   "source": [
    "#### t test para comparar las dos series"
   ]
  },
  {
   "cell_type": "code",
   "execution_count": null,
   "metadata": {
    "collapsed": false
   },
   "outputs": [],
   "source": [
    "extract_mean_freqs = lambda df: df.join(frequencies_1000g).iloc[:, 11:-6].mean()\n",
    "\n",
    "galanter_mean_frequencies = extract_mean_freqs(galanter)\n",
    "missing_mean_frequencies = extract_mean_freqs(missing)\n",
    "present_mean_frequencies = extract_mean_freqs(present)\n",
    "\n",
    "# t-test assumes equal variances between the two sets?\n",
    "\n",
    "print(galanter_mean_frequencies.var())\n",
    "print(missing_mean_frequencies.var())"
   ]
  },
  {
   "cell_type": "code",
   "execution_count": null,
   "metadata": {
    "collapsed": false
   },
   "outputs": [],
   "source": [
    "import scipy\n",
    "\n",
    "ntest, p_val = scipy.stats.mstats.normaltest(present_mean_frequencies)\n",
    "print(\"Galanter missing:\")\n",
    "m(\"$p = {}$\".format(round(p_val,3)))\n",
    "\n",
    "ntest, p_val = scipy.stats.mstats.normaltest(galanter_mean_frequencies)\n",
    "print(\"Galanter_total:\")\n",
    "m(\"$p = {}$\".format(round(p_val, 3)))"
   ]
  },
  {
   "cell_type": "markdown",
   "metadata": {},
   "source": [
    ">the farther away the observed or measured sample mean is from the hypothesized mean, the lower the probability (i.e., the p-value) that the null hypothesis is true.\n",
    "\n",
    "* $Galanter_{total}$ tiene un p-value bajo (0.01), de modo que la $H_0$ no parece verdadera. Es decir, $Galanter_{total}$ no estaría normalmente distribuido.\n",
    "* $Galanter_{missing}$, por otro lado, tiene un p-value más alto (0.10), pero no tanto, de modo que al menos con una confianza del 90% podemos decir que no está normalmente distribuido.\n",
    "* Lo que no entiendo del todo es qué implicaría que sí (o que no) esté normalmente distribuido para el panel de Galanter. La selección de SNPs no es azarosa, por qué habríamos de esperar eso?"
   ]
  },
  {
   "cell_type": "code",
   "execution_count": null,
   "metadata": {
    "collapsed": false
   },
   "outputs": [],
   "source": [
    "mu, sigma = 0, 1\n",
    "s = np.random.normal(mu, sigma, 10000)\n",
    "ntest, p_val = scipy.stats.mstats.normaltest(s)\n",
    "print(ntest, p_val)"
   ]
  },
  {
   "cell_type": "code",
   "execution_count": null,
   "metadata": {
    "collapsed": false
   },
   "outputs": [],
   "source": [
    "from scipy.stats import ttest_ind\n",
    "\n",
    "t_stat, p_val = ttest_ind(galanter_mean_frequencies, present_mean_frequencies)\n",
    "print(\"t = {}\".format(round(t_stat, 2)))\n",
    "print(\"p_value = {}\".format(round(p_val, 2)))"
   ]
  },
  {
   "cell_type": "code",
   "execution_count": null,
   "metadata": {
    "collapsed": false
   },
   "outputs": [],
   "source": [
    "ax = plt.subplot(111)\n",
    "ax.hist(galanter_mean_frequencies, 10, alpha=.6)\n",
    "ax.hist(missing_mean_frequencies, 20, alpha=.6)\n",
    "ax.legend([\"$Galanter_{total}$\", \"$Galanter_{LAT-1}$\"])\n",
    "plt.show()"
   ]
  },
  {
   "cell_type": "markdown",
   "metadata": {
    "collapsed": true
   },
   "source": [
    "### Discusión\n",
    "\n",
    "* El panel completo $Galanter_{total}$ está balanceado en cuanto a frecuencias alélicas por población: la mayoría se ubica en un promedio de alrededor de 0.57, para cada subpoblación, con un desvío muy bajo: 0.013.\n",
    "* Ninguna subpoblación parece haber sido afectada en particular por la subselección de SNPs. Todas las frecuencias alélicas se mantienen entre 0.5 y 0.6, rango que incluye también a todas las frecuencias por subpoblación del panel original.\n",
    "* El t-test ? Si la $H_0$ es que ambas medias son estadíticamente iguales, entonces se confirmó?"
   ]
  },
  {
   "cell_type": "markdown",
   "metadata": {},
   "source": [
    "### Comparar posiciones (Galanter las tiene diferentes?)"
   ]
  },
  {
   "cell_type": "code",
   "execution_count": null,
   "metadata": {
    "collapsed": false
   },
   "outputs": [],
   "source": [
    "positions = galanter[['chr', 'position']].join(df_1000genomes[['CHROM', 'POS']])\n",
    "positions.columns = ['chr_galanter', 'pos_galanter', 'chr_1000g', 'pos_1000g']\n",
    "positions.head(1)"
   ]
  },
  {
   "cell_type": "code",
   "execution_count": null,
   "metadata": {
    "collapsed": true
   },
   "outputs": [],
   "source": [
    "positions['pos_diff'] = positions['pos_galanter'] - positions['pos_1000g']"
   ]
  },
  {
   "cell_type": "code",
   "execution_count": null,
   "metadata": {
    "collapsed": false
   },
   "outputs": [],
   "source": [
    "positions.head()"
   ]
  },
  {
   "cell_type": "code",
   "execution_count": null,
   "metadata": {
    "collapsed": false
   },
   "outputs": [],
   "source": [
    "galanter_heter = galanter.join(df_1000genomes, rsuffix='_').heterozygosity\n",
    "missing_heter = missing.join(df_1000genomes, rsuffix='_').heterozygosity\n",
    "\n",
    "ax = plt.subplot(111)\n",
    "ax.boxplot([galanter_heter, missing_heter])\n",
    "ax.set_xticklabels([\n",
    "    '$Galanter_{total}$',\n",
    "    '$Galanetr_{LAT-1}$',\n",
    "])\n",
    "plt.show()"
   ]
  },
  {
   "cell_type": "code",
   "execution_count": null,
   "metadata": {
    "collapsed": true
   },
   "outputs": [],
   "source": []
  },
  {
   "cell_type": "code",
   "execution_count": null,
   "metadata": {
    "collapsed": true
   },
   "outputs": [],
   "source": []
  },
  {
   "cell_type": "code",
   "execution_count": null,
   "metadata": {
    "collapsed": true
   },
   "outputs": [],
   "source": []
  },
  {
   "cell_type": "code",
   "execution_count": null,
   "metadata": {
    "collapsed": true
   },
   "outputs": [],
   "source": []
  },
  {
   "cell_type": "code",
   "execution_count": null,
   "metadata": {
    "collapsed": true
   },
   "outputs": [],
   "source": []
  },
  {
   "cell_type": "code",
   "execution_count": null,
   "metadata": {
    "collapsed": true
   },
   "outputs": [],
   "source": []
  },
  {
   "cell_type": "code",
   "execution_count": null,
   "metadata": {
    "collapsed": true
   },
   "outputs": [],
   "source": []
  },
  {
   "cell_type": "code",
   "execution_count": null,
   "metadata": {
    "collapsed": true
   },
   "outputs": [],
   "source": []
  },
  {
   "cell_type": "code",
   "execution_count": null,
   "metadata": {
    "collapsed": true
   },
   "outputs": [],
   "source": []
  },
  {
   "cell_type": "code",
   "execution_count": null,
   "metadata": {
    "collapsed": true
   },
   "outputs": [],
   "source": []
  },
  {
   "cell_type": "code",
   "execution_count": null,
   "metadata": {
    "collapsed": true
   },
   "outputs": [],
   "source": []
  },
  {
   "cell_type": "code",
   "execution_count": null,
   "metadata": {
    "collapsed": true
   },
   "outputs": [],
   "source": []
  },
  {
   "cell_type": "code",
   "execution_count": null,
   "metadata": {
    "collapsed": true
   },
   "outputs": [],
   "source": []
  },
  {
   "cell_type": "code",
   "execution_count": null,
   "metadata": {
    "collapsed": true
   },
   "outputs": [],
   "source": []
  },
  {
   "cell_type": "code",
   "execution_count": null,
   "metadata": {
    "collapsed": true
   },
   "outputs": [],
   "source": []
  },
  {
   "cell_type": "code",
   "execution_count": null,
   "metadata": {
    "collapsed": true
   },
   "outputs": [],
   "source": []
  },
  {
   "cell_type": "code",
   "execution_count": null,
   "metadata": {
    "collapsed": true
   },
   "outputs": [],
   "source": []
  },
  {
   "cell_type": "code",
   "execution_count": null,
   "metadata": {
    "collapsed": true
   },
   "outputs": [],
   "source": []
  },
  {
   "cell_type": "code",
   "execution_count": null,
   "metadata": {
    "collapsed": true
   },
   "outputs": [],
   "source": []
  },
  {
   "cell_type": "code",
   "execution_count": null,
   "metadata": {
    "collapsed": true
   },
   "outputs": [],
   "source": []
  },
  {
   "cell_type": "code",
   "execution_count": null,
   "metadata": {
    "collapsed": true
   },
   "outputs": [],
   "source": []
  },
  {
   "cell_type": "code",
   "execution_count": null,
   "metadata": {
    "collapsed": true
   },
   "outputs": [],
   "source": []
  }
 ],
 "metadata": {
  "kernelspec": {
   "display_name": "Python 3",
   "language": "python",
   "name": "python3"
  },
  "language_info": {
   "codemirror_mode": {
    "name": "ipython",
    "version": 3
   },
   "file_extension": ".py",
   "mimetype": "text/x-python",
   "name": "python",
   "nbconvert_exporter": "python",
   "pygments_lexer": "ipython3",
   "version": "3.4.0"
  }
 },
 "nbformat": 4,
 "nbformat_minor": 0
}
